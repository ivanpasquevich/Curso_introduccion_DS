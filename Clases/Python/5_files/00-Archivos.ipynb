{
 "cells": [
  {
   "cell_type": "markdown",
   "metadata": {},
   "source": [
    "# Trabajemos con archivos (files)\n",
    "\n",
    "Python usa el objeto de tipo `file` para interactuar con archivos de la computadora.\n",
    "\n",
    "Estos objetos pueden hacer referencia a practicamente cualquier tipo de archivo que tengamos en el computador, ya sea un archivo de audio, video, texto, excel, etc.\n",
    "\n",
    "Para trabajar con estos archivos vamos a necesitar el uso de modulos (librerias) especializadas para cada caso, pero ya vamos a ver como podemos descargarlas y ademas son gratuitas !!\n",
    "\n",
    "Python tiene una funcion incorporada para interactuar con archivos de texto basicos, por lo que vamos a cubrir su uso en este notebook."
   ]
  },
  {
   "cell_type": "markdown",
   "metadata": {},
   "source": [
    "****"
   ]
  },
  {
   "cell_type": "markdown",
   "metadata": {},
   "source": [
    "### Escribir un archivo desde el notebook\n",
    "###### Esta funcion es propia de jupyter notebook. Ustedes pueden crear un archivo del modo convencional.\n"
   ]
  },
  {
   "cell_type": "code",
   "execution_count": null,
   "metadata": {},
   "outputs": [],
   "source": [
    "%%writefile prueba.txt\n",
    "Hola, vamos a escribir en nuestro block de notas"
   ]
  },
  {
   "cell_type": "markdown",
   "metadata": {},
   "source": [
    "******"
   ]
  },
  {
   "cell_type": "code",
   "execution_count": null,
   "metadata": {},
   "outputs": [],
   "source": []
  },
  {
   "cell_type": "markdown",
   "metadata": {},
   "source": [
    "## Abrindo un archivo\n",
    "\n",
    "Empecemos abriendo el archivo prueba.txt que acabamos de crear y que esta **en la misma direccion que este notebook**.\n",
    "\n",
    "Veamos que pasa si nos confundimos de nombre (o de ruta) del archivo"
   ]
  },
  {
   "cell_type": "code",
   "execution_count": 1,
   "metadata": {},
   "outputs": [
    {
     "ename": "FileNotFoundError",
     "evalue": "[Errno 2] No such file or directory: 'no_existe.txt'",
     "output_type": "error",
     "traceback": [
      "\u001b[1;31m---------------------------------------------------------------------------\u001b[0m",
      "\u001b[1;31mFileNotFoundError\u001b[0m                         Traceback (most recent call last)",
      "\u001b[1;32m<ipython-input-1-15df27b71ea1>\u001b[0m in \u001b[0;36m<module>\u001b[1;34m\u001b[0m\n\u001b[1;32m----> 1\u001b[1;33m \u001b[0mopen\u001b[0m\u001b[1;33m(\u001b[0m\u001b[1;34m\"no_existe.txt\"\u001b[0m\u001b[1;33m)\u001b[0m\u001b[1;33m\u001b[0m\u001b[0m\n\u001b[0m",
      "\u001b[1;31mFileNotFoundError\u001b[0m: [Errno 2] No such file or directory: 'no_existe.txt'"
     ]
    }
   ],
   "source": [
    "open(\"no_existe.txt\")"
   ]
  },
  {
   "cell_type": "markdown",
   "metadata": {},
   "source": [
    "Para evitar este error hay que asegurarse que nuestro archivo .txt este guardado en la misma direccion (en la misma carpeta) que en la que esta nuestro notebook.\n",
    "\n",
    "Para ver donde estamos parados podemos tipear **pwd**\n"
   ]
  },
  {
   "cell_type": "code",
   "execution_count": 2,
   "metadata": {},
   "outputs": [
    {
     "data": {
      "text/plain": [
       "'C:\\\\Users\\\\Lenovo\\\\IVAN\\\\Clases\\\\ICARO\\\\Clases\\\\Python\\\\5_files'"
      ]
     },
     "execution_count": 2,
     "metadata": {},
     "output_type": "execute_result"
    }
   ],
   "source": [
    "pwd"
   ]
  },
  {
   "cell_type": "markdown",
   "metadata": {},
   "source": [
    "**"
   ]
  },
  {
   "cell_type": "markdown",
   "metadata": {},
   "source": [
    "**IMPORTANTE, para agarrar archivos ubicados en otra direccion, simplemente pasar la ruta al archivo**\n",
    "\n",
    "Para quienes tengan Windows hay que usar doble `\\` para que Python no trate a la `\\` como un caracter de escape, entonces la linea queda de la forma:\n",
    "\n",
    "    myfile = open(\"C:\\\\Users\\\\TuUsuario\\\\Carpeta\\\\myfile.txt\")\n",
    "\n",
    "Para quienes usen MacOS o Linux se usa la barra en la otra direccion `/`\n",
    "\n",
    "    myfile = open(\"/Users/TuUsuario/Carpeta/myfile.txt\")"
   ]
  },
  {
   "cell_type": "markdown",
   "metadata": {},
   "source": [
    "**"
   ]
  },
  {
   "cell_type": "markdown",
   "metadata": {},
   "source": [
    "A los fines practicos vamos a trabajar con un archivo ubicado en la misma direccion del notebook."
   ]
  },
  {
   "cell_type": "code",
   "execution_count": 3,
   "metadata": {},
   "outputs": [],
   "source": [
    "# Abrimos el archivo que creamos en un principio\n",
    "my_file = open('prueba.txt')"
   ]
  },
  {
   "cell_type": "code",
   "execution_count": 4,
   "metadata": {},
   "outputs": [
    {
     "data": {
      "text/plain": [
       "_io.TextIOWrapper"
      ]
     },
     "execution_count": 4,
     "metadata": {},
     "output_type": "execute_result"
    }
   ],
   "source": [
    "# Tipo de dato\n",
    "type(my_file)"
   ]
  },
  {
   "cell_type": "code",
   "execution_count": 5,
   "metadata": {},
   "outputs": [
    {
     "data": {
      "text/plain": [
       "'\"Hola, vamos a escribir en nuestro block de notas\"\\n'"
      ]
     },
     "execution_count": 5,
     "metadata": {},
     "output_type": "execute_result"
    }
   ],
   "source": [
    "# Ahora podemos leer nuestro archivo con el metodo .read()\n",
    "my_file.read()"
   ]
  },
  {
   "cell_type": "code",
   "execution_count": 6,
   "metadata": {},
   "outputs": [
    {
     "data": {
      "text/plain": [
       "''"
      ]
     },
     "execution_count": 6,
     "metadata": {},
     "output_type": "execute_result"
    }
   ],
   "source": [
    "# Pero que pasa si lo volvemos a leer?\n",
    "my_file.read()"
   ]
  },
  {
   "cell_type": "markdown",
   "metadata": {},
   "source": [
    "Imaginemos que una vez que leemos el archivo, nuestro 'cursor' esta ubicado al final del archivo, entonces si volvemos a leerlo, no vamos a leer nada, porque no cambiamos el cursor de lugar.\n",
    "\n",
    "Entonces simplemente hay que resetear el cursor a la posicion inicial.\n"
   ]
  },
  {
   "cell_type": "code",
   "execution_count": 7,
   "metadata": {},
   "outputs": [
    {
     "data": {
      "text/plain": [
       "0"
      ]
     },
     "execution_count": 7,
     "metadata": {},
     "output_type": "execute_result"
    }
   ],
   "source": [
    "# Seteamos el cursor al inicio del archivo (index 0)\n",
    "my_file.seek(0)"
   ]
  },
  {
   "cell_type": "code",
   "execution_count": 8,
   "metadata": {},
   "outputs": [
    {
     "data": {
      "text/plain": [
       "'\"Hola, vamos a escribir en nuestro block de notas\"\\n'"
      ]
     },
     "execution_count": 8,
     "metadata": {},
     "output_type": "execute_result"
    }
   ],
   "source": [
    "# Ahora volvemos a leer\n",
    "my_file.read()"
   ]
  },
  {
   "cell_type": "markdown",
   "metadata": {},
   "source": [
    "Podemos leer linea por linea usando el metodo `.readlines()`. Hay que tener cuidado con archivos muy grandes porque estos metodos guardan toda la info en memoria.\n",
    "\n",
    "Ya vamos a ver como iterar linea por linea para solucionar este tema de performance.\n"
   ]
  },
  {
   "cell_type": "code",
   "execution_count": 9,
   "metadata": {},
   "outputs": [
    {
     "data": {
      "text/plain": [
       "['\"Hola, vamos a escribir en nuestro block de notas\"\\n']"
      ]
     },
     "execution_count": 9,
     "metadata": {},
     "output_type": "execute_result"
    }
   ],
   "source": [
    "# Readlines nos devuelve una lista con todas las lineas del  archivo\n",
    "my_file.seek(0)\n",
    "my_file.readlines()\n"
   ]
  },
  {
   "cell_type": "markdown",
   "metadata": {},
   "source": [
    "Cuando terminamos de trabajar con un archivo, es muy buena practica cerrarlo.\n"
   ]
  },
  {
   "cell_type": "code",
   "execution_count": 10,
   "metadata": {},
   "outputs": [],
   "source": [
    "my_file.close()"
   ]
  },
  {
   "cell_type": "code",
   "execution_count": 11,
   "metadata": {},
   "outputs": [
    {
     "ename": "ValueError",
     "evalue": "I/O operation on closed file.",
     "output_type": "error",
     "traceback": [
      "\u001b[1;31m---------------------------------------------------------------------------\u001b[0m",
      "\u001b[1;31mValueError\u001b[0m                                Traceback (most recent call last)",
      "\u001b[1;32m<ipython-input-11-473c62008295>\u001b[0m in \u001b[0;36m<module>\u001b[1;34m\u001b[0m\n\u001b[0;32m      1\u001b[0m \u001b[1;31m# que pasa si el archivo esta cerrado?\u001b[0m\u001b[1;33m\u001b[0m\u001b[1;33m\u001b[0m\u001b[0m\n\u001b[1;32m----> 2\u001b[1;33m \u001b[0mmy_file\u001b[0m\u001b[1;33m.\u001b[0m\u001b[0mreadlines\u001b[0m\u001b[1;33m(\u001b[0m\u001b[1;33m)\u001b[0m\u001b[1;33m\u001b[0m\u001b[0m\n\u001b[0m",
      "\u001b[1;31mValueError\u001b[0m: I/O operation on closed file."
     ]
    }
   ],
   "source": [
    "# que pasa si el archivo esta cerrado?\n",
    "my_file.readlines()"
   ]
  },
  {
   "cell_type": "markdown",
   "metadata": {},
   "source": [
    "### Para no olvidarnos de cerrar el archivo"
   ]
  },
  {
   "cell_type": "code",
   "execution_count": 12,
   "metadata": {},
   "outputs": [],
   "source": [
    "with open(\"prueba.txt\") as archivo:\n",
    "    # trabajamos con el archivo\n",
    "    texto = archivo.read()"
   ]
  },
  {
   "cell_type": "code",
   "execution_count": 13,
   "metadata": {},
   "outputs": [
    {
     "name": "stdout",
     "output_type": "stream",
     "text": [
      "\"Hola, vamos a escribir en nuestro block de notas\"\n",
      "\n"
     ]
    }
   ],
   "source": [
    "print(texto)"
   ]
  },
  {
   "cell_type": "code",
   "execution_count": 14,
   "metadata": {},
   "outputs": [
    {
     "ename": "ValueError",
     "evalue": "I/O operation on closed file.",
     "output_type": "error",
     "traceback": [
      "\u001b[1;31m---------------------------------------------------------------------------\u001b[0m",
      "\u001b[1;31mValueError\u001b[0m                                Traceback (most recent call last)",
      "\u001b[1;32m<ipython-input-14-7deba463e10e>\u001b[0m in \u001b[0;36m<module>\u001b[1;34m\u001b[0m\n\u001b[1;32m----> 1\u001b[1;33m \u001b[0marchivo\u001b[0m\u001b[1;33m.\u001b[0m\u001b[0mread\u001b[0m\u001b[1;33m(\u001b[0m\u001b[1;33m)\u001b[0m\u001b[1;33m\u001b[0m\u001b[0m\n\u001b[0m",
      "\u001b[1;31mValueError\u001b[0m: I/O operation on closed file."
     ]
    }
   ],
   "source": [
    "archivo.read()"
   ]
  },
  {
   "cell_type": "markdown",
   "metadata": {},
   "source": [
    "## Escribiendo archivos\n",
    "\n",
    "La funcion `open()` por defecto nos permite solo leer el archivo. Si nosotros necesitamos escribir sobre el mismo tenemos que pasar el argumento mode=\"w\"\n"
   ]
  },
  {
   "cell_type": "code",
   "execution_count": null,
   "metadata": {},
   "outputs": [],
   "source": [
    "open()"
   ]
  },
  {
   "cell_type": "code",
   "execution_count": 15,
   "metadata": {},
   "outputs": [],
   "source": [
    "my_file = open('escritura.txt',\"w+\")"
   ]
  },
  {
   "cell_type": "code",
   "execution_count": 16,
   "metadata": {},
   "outputs": [
    {
     "data": {
      "text/plain": [
       "42"
      ]
     },
     "execution_count": 16,
     "metadata": {},
     "output_type": "execute_result"
    }
   ],
   "source": [
    "texto = \"Quiero escribir esta oracion en mi archivo\"\n",
    "my_file.write(texto)"
   ]
  },
  {
   "cell_type": "code",
   "execution_count": 17,
   "metadata": {},
   "outputs": [
    {
     "data": {
      "text/plain": [
       "'Quiero escribir esta oracion en mi archivo'"
      ]
     },
     "execution_count": 17,
     "metadata": {},
     "output_type": "execute_result"
    }
   ],
   "source": [
    "my_file.seek(0)\n",
    "my_file.read()"
   ]
  },
  {
   "cell_type": "code",
   "execution_count": 18,
   "metadata": {},
   "outputs": [],
   "source": [
    "my_file.close()"
   ]
  },
  {
   "cell_type": "markdown",
   "metadata": {},
   "source": [
    "### <strong><font color='red'>Cuidado!</font></strong> \n",
    "\n",
    "Cuando abrimos un archivo con el modo `'w'` o `'w+'` **va a eliminar todo el contenido** del mismo para poder escribir sobre el."
   ]
  },
  {
   "cell_type": "code",
   "execution_count": 19,
   "metadata": {},
   "outputs": [],
   "source": [
    "with open('prueba.txt',\"w+\") as archivo:\n",
    "    pass"
   ]
  },
  {
   "cell_type": "code",
   "execution_count": null,
   "metadata": {},
   "outputs": [],
   "source": []
  },
  {
   "cell_type": "markdown",
   "metadata": {},
   "source": [
    "## Agregando texto a un archivo\n",
    "\n",
    "El argumento mode=`'a'` abre el archivo y pone el cursor al final del mismo, entonces todo lo que escribamos va a agregarse al final sin sobrescribir el contenido.\n",
    "\n",
    "Al igual que `'w+'`, `'a+'` nos permite leer el archivo.\n",
    "\n",
    "Tambien comparten de que si el archivo no existe, se crea.\n"
   ]
  },
  {
   "cell_type": "code",
   "execution_count": 22,
   "metadata": {},
   "outputs": [
    {
     "data": {
      "text/plain": [
       "22"
      ]
     },
     "execution_count": 22,
     "metadata": {},
     "output_type": "execute_result"
    }
   ],
   "source": [
    "my_file = open(\"prueba2.txt\",'a+')\n",
    "my_file.write('\\nAgregamos otra cosa')\n",
    "my_file.write('\\nY por aca otra linea.')"
   ]
  },
  {
   "cell_type": "code",
   "execution_count": 23,
   "metadata": {},
   "outputs": [],
   "source": [
    "my_file.close()"
   ]
  },
  {
   "cell_type": "markdown",
   "metadata": {},
   "source": [
    "## Iterando a traves de un archivo\n",
    "\n",
    "Podemos iterar a traves de un archivo para ir leyendo linea por linea.\n"
   ]
  },
  {
   "cell_type": "code",
   "execution_count": 24,
   "metadata": {},
   "outputs": [
    {
     "name": "stdout",
     "output_type": "stream",
     "text": [
      "\n",
      "\n",
      "VAMOS A AGREGAR ESTA LINEA DE TEXTO AL ARCHIVO\n",
      "\n",
      "Y POR ACA OTRA LINEA.\n",
      "\n",
      "AGREGAMOS OTRA COSA\n",
      "\n",
      "Y POR ACA OTRA LINEA.\n"
     ]
    }
   ],
   "source": [
    "for linea in open(\"prueba2.txt\"):\n",
    "    print(linea.upper())"
   ]
  },
  {
   "cell_type": "markdown",
   "metadata": {},
   "source": [
    "# MANOS A LA OBRA"
   ]
  },
  {
   "cell_type": "markdown",
   "metadata": {},
   "source": [
    "#### Ejercicio 1\n",
    "Leer un archivo llamado ejercicio.txt bajo las siguientes condiciones:\n",
    "1. Leerlo linea por linea (iterar sobre el archivo).\n",
    "2. Agregar a otro archivo llamado ejercicio1_resuelto.txt aquella lineas que contengan la palabra \"python\",\"Python\",\"PYTHON\" (y cualquiera de sus variaciones) o que tengan una cantidad par de palabras."
   ]
  },
  {
   "cell_type": "code",
   "execution_count": 25,
   "metadata": {},
   "outputs": [
    {
     "name": "stdout",
     "output_type": "stream",
     "text": [
      "Python tiene una serie de caracteristicas que lo hacen muy particular y que, sin duda, le aportan muchas ventajas y estan en la raiz de su uso tan extendido.\n",
      "\n",
      "Python es un lenguaje multiparadigma,esto significa que combina propiedades de diferentes paradigmas de programacion.\n",
      "todo en Python es un objeto,\n",
      "\n",
      "Una de las caracteristicas importantes de Python es que es un lenguaje interpretado,\n",
      "\n"
     ]
    }
   ],
   "source": [
    "with open(\"ejercicio.txt\") as ejercicio:\n",
    "    with open(\"ejercicio1_resuelto.txt\",'w+') as resultado:\n",
    "        for linea in ejercicio:\n",
    "            if \"python\" in linea.lower() or len(linea.split())%2==0:\n",
    "                resultado.write(linea)\n",
    "                \n",
    "        resultado.seek(0)\n",
    "        print(resultado.read())\n",
    "        "
   ]
  },
  {
   "cell_type": "markdown",
   "metadata": {},
   "source": [
    "#### Ejercicio 2\n",
    "Leer un archivo llamado ejercicio.txt bajo las siguientes condiciones:\n",
    "1. Leerlo linea por linea (iterar sobre el archivo).\n",
    "2. Agregar a otro archivo llamado ejercicio2_resuelto.txt aquella lineas que contengan una cantidad par de caracteres (sin contar espacios en blanco)"
   ]
  },
  {
   "cell_type": "code",
   "execution_count": null,
   "metadata": {},
   "outputs": [],
   "source": []
  },
  {
   "cell_type": "code",
   "execution_count": null,
   "metadata": {},
   "outputs": [],
   "source": []
  },
  {
   "cell_type": "markdown",
   "metadata": {},
   "source": [
    "Aca les dejo uno articulos mas detallados sobre el trabajo con archivos\n",
    "\n",
    "[trabajando con archivos](https://uniwebsidad.com/libros/python/capitulo-9)"
   ]
  }
 ],
 "metadata": {
  "kernelspec": {
   "display_name": "Python 3",
   "language": "python",
   "name": "python3"
  },
  "language_info": {
   "codemirror_mode": {
    "name": "ipython",
    "version": 3
   },
   "file_extension": ".py",
   "mimetype": "text/x-python",
   "name": "python",
   "nbconvert_exporter": "python",
   "pygments_lexer": "ipython3",
   "version": "3.7.0"
  }
 },
 "nbformat": 4,
 "nbformat_minor": 1
}
