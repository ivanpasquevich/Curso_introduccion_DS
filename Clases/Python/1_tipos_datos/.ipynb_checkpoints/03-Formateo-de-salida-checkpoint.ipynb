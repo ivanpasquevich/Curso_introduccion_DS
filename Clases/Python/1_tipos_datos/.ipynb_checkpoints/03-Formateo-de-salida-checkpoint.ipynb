{
 "cells": [
  {
   "cell_type": "markdown",
   "metadata": {},
   "source": [
    "# Formateo de Strings\n",
    "\n",
    "El formateo de strings nos permite injectar objetos dentro de un string en vez de estar sumandolos o separandolos por coma en el print.\n",
    "\n",
    "Veamos un ejemplo:"
   ]
  },
  {
   "cell_type": "code",
   "execution_count": 1,
   "metadata": {},
   "outputs": [
    {
     "name": "stdout",
     "output_type": "stream",
     "text": [
      "Mi nombre es ivan y vivo en cordoba\n"
     ]
    }
   ],
   "source": [
    "nombre = 'ivan'\n",
    "ciudad = 'cordoba'\n",
    "\n",
    "print(\"Mi nombre es \" + nombre + ' y vivo en ' + ciudad)"
   ]
  },
  {
   "cell_type": "code",
   "execution_count": 2,
   "metadata": {},
   "outputs": [
    {
     "name": "stdout",
     "output_type": "stream",
     "text": [
      "Mi nombre es  ivan  y vivo en  cordoba\n"
     ]
    }
   ],
   "source": [
    "print(\"Mi nombre es \" , nombre , ' y vivo en ' , ciudad)"
   ]
  },
  {
   "cell_type": "code",
   "execution_count": 3,
   "metadata": {},
   "outputs": [
    {
     "name": "stdout",
     "output_type": "stream",
     "text": [
      "Mi nombre es ivan y vivo en cordoba \n"
     ]
    }
   ],
   "source": [
    "print(f\"Mi nombre es {nombre} y vivo en {ciudad} \")"
   ]
  },
  {
   "cell_type": "code",
   "execution_count": null,
   "metadata": {},
   "outputs": [],
   "source": []
  },
  {
   "cell_type": "markdown",
   "metadata": {},
   "source": [
    " \n",
    " "
   ]
  },
  {
   "cell_type": "markdown",
   "metadata": {},
   "source": [
    "Hay 3 formas de hacer este formateo de strings\n",
    "\n",
    "* El metodo mas antiguo (Python 2) implica el uso del operador de modulo`%`.\n",
    "* Un metodo mejorado implica el uso del metodo `.format()`.\n",
    "* El metodo mas nuevo, introducido con Python 3.6, usa lo conocido como *f-strings*.\n"
   ]
  },
  {
   "cell_type": "markdown",
   "metadata": {},
   "source": [
    " \n",
    " "
   ]
  },
  {
   "cell_type": "markdown",
   "metadata": {},
   "source": [
    "## Formateo con % (placeholders)\n",
    "Se usa el operador <code>%</code> para insertar los elementos dentro del string.\n",
    "\n",
    "Podemos usarlo como <code>%s</code>, <code>%d</code> o <code>%f</code> dependiendo del tipo de dato que queramos insertar.\n",
    "\n",
    "**Sintaxis**\n",
    "\n",
    "    'Un string por aqui %s y otro por aqui %s' % ('string_1','string_2')"
   ]
  },
  {
   "cell_type": "code",
   "execution_count": 4,
   "metadata": {},
   "outputs": [
    {
     "name": "stdout",
     "output_type": "stream",
     "text": [
      "Mi nombre es ivan\n"
     ]
    }
   ],
   "source": [
    "# %s va a convertir todos los valores que se inserten en strings\n",
    "print(\"Mi nombre es %s\" % 'ivan')"
   ]
  },
  {
   "cell_type": "markdown",
   "metadata": {},
   "source": [
    "Se pueden pasar varios items, solo tenemos que ponerlos entre parentesis separados por coma."
   ]
  },
  {
   "cell_type": "code",
   "execution_count": 5,
   "metadata": {},
   "outputs": [
    {
     "name": "stdout",
     "output_type": "stream",
     "text": [
      "Mi nombre es julian y su nombre es ivan\n"
     ]
    }
   ],
   "source": [
    "print(\"Mi nombre es %s y su nombre es %s\" %('julian',nombre))"
   ]
  },
  {
   "cell_type": "code",
   "execution_count": 6,
   "metadata": {},
   "outputs": [
    {
     "name": "stdout",
     "output_type": "stream",
     "text": [
      "El numero 17 es primo\n"
     ]
    }
   ],
   "source": [
    "print(\"El numero %s es primo\" % 17)"
   ]
  },
  {
   "cell_type": "code",
   "execution_count": 7,
   "metadata": {},
   "outputs": [
    {
     "name": "stdout",
     "output_type": "stream",
     "text": [
      "El numero 17 es primo\n"
     ]
    }
   ],
   "source": [
    "print(\"El numero %d es primo\" % 17)"
   ]
  },
  {
   "cell_type": "code",
   "execution_count": 8,
   "metadata": {
    "scrolled": false
   },
   "outputs": [
    {
     "name": "stdout",
     "output_type": "stream",
     "text": [
      "Hoy escribi 3.75 oraciones.\n",
      "Hoy escribi 3 oraciones.\n",
      "Hoy escribi 3.750000 oraciones.\n"
     ]
    }
   ],
   "source": [
    "# el operador %d va a convertir los valores numericos en entero\n",
    "# el operador %f va a convertir los valores numericos en flotante\n",
    "\n",
    "print('Hoy escribi %s oraciones.' %3.75)\n",
    "print('Hoy escribi %d oraciones.' %3.75)\n",
    "print('Hoy escribi %f oraciones.' %3.75)\n"
   ]
  },
  {
   "cell_type": "code",
   "execution_count": null,
   "metadata": {},
   "outputs": [],
   "source": []
  },
  {
   "cell_type": "markdown",
   "metadata": {},
   "source": [
    "Para mas informacion de formateo de strings con placeholders visitar la pagina\n",
    "\n",
    "https://docs.python.org/3/library/stdtypes.html#old-string-formatting"
   ]
  },
  {
   "cell_type": "code",
   "execution_count": null,
   "metadata": {},
   "outputs": [],
   "source": []
  },
  {
   "cell_type": "code",
   "execution_count": null,
   "metadata": {},
   "outputs": [],
   "source": []
  },
  {
   "cell_type": "markdown",
   "metadata": {},
   "source": [
    "## Fomateo con el metodo `.format()`\n",
    "La sintaxis es la siguiente\n",
    "\n",
    "Una mejor manera de formateo de strings es utilizar el metodo `.format()`\n",
    "\n",
    "**Sintaxis**\n",
    "\n",
    "    'Un string por aqui {} y otro por aqui {}'.format('string_1','string_2')\n",
    "    \n",
    "Por ejemplo:"
   ]
  },
  {
   "cell_type": "code",
   "execution_count": 9,
   "metadata": {},
   "outputs": [
    {
     "name": "stdout",
     "output_type": "stream",
     "text": [
      "Mi nombre es ivan y vivo en la ciudad de cordoba\n"
     ]
    }
   ],
   "source": [
    "print('Mi nombre es {} y vivo en la ciudad de {}'.format(nombre,ciudad))"
   ]
  },
  {
   "cell_type": "markdown",
   "metadata": {},
   "source": [
    "### El metodo .format() tiene varias ventajas sobre el anterior"
   ]
  },
  {
   "cell_type": "markdown",
   "metadata": {},
   "source": [
    "#### 1. Los objetos a insertar pueden ser llamados por su posicion"
   ]
  },
  {
   "cell_type": "code",
   "execution_count": 10,
   "metadata": {},
   "outputs": [
    {
     "name": "stdout",
     "output_type": "stream",
     "text": [
      "El oso negro gran\n"
     ]
    }
   ],
   "source": [
    "print('El {} {} {}'.format('oso','negro','gran'))"
   ]
  },
  {
   "cell_type": "code",
   "execution_count": 11,
   "metadata": {},
   "outputs": [
    {
     "name": "stdout",
     "output_type": "stream",
     "text": [
      "El gran oso negro\n"
     ]
    }
   ],
   "source": [
    "print('El {2} {0} {1}'.format('oso','negro','gran'))"
   ]
  },
  {
   "cell_type": "markdown",
   "metadata": {},
   "source": [
    "#### 2. Los objetos a insertar pueden ser asignados a variables dentro del .format"
   ]
  },
  {
   "cell_type": "code",
   "execution_count": 12,
   "metadata": {},
   "outputs": [
    {
     "name": "stdout",
     "output_type": "stream",
     "text": [
      "Primer Objecto: 1, Segundo Objecto: Dos, Tercer Objecto: 12.3\n"
     ]
    }
   ],
   "source": [
    "print('Primer Objecto: {a}, Segundo Objecto: {b}, Tercer Objecto: {c}'.format(a=1,b='Dos',c=12.3))"
   ]
  },
  {
   "cell_type": "code",
   "execution_count": 13,
   "metadata": {},
   "outputs": [
    {
     "name": "stdout",
     "output_type": "stream",
     "text": [
      "Primer Objecto: Dos, Segundo Objecto: Dos, Tercer Objecto: 12.3\n"
     ]
    }
   ],
   "source": [
    "print('Primer Objecto: {b}, Segundo Objecto: {b}, Tercer Objecto: {c}'.format(a=1,b='Dos',c=12.3))"
   ]
  },
  {
   "cell_type": "markdown",
   "metadata": {},
   "source": [
    "#### 3. Los objetos pueden ser reutilizados, evitando repeticion."
   ]
  },
  {
   "cell_type": "code",
   "execution_count": 14,
   "metadata": {},
   "outputs": [
    {
     "name": "stdout",
     "output_type": "stream",
     "text": [
      "Mi casa es tu casa.\n",
      "Mi casa es tu casa.\n"
     ]
    }
   ],
   "source": [
    "print('Mi %s es tu %s.' %('casa','casa'))\n",
    "# vs.\n",
    "print('Mi {c} es tu {c}.'.format(c='casa'))"
   ]
  },
  {
   "cell_type": "markdown",
   "metadata": {},
   "source": [
    "Para mas informacion sobre el metodo `.format()` visitar la pagina \n",
    "\n",
    "https://docs.python.org/3/library/string.html#formatstrings"
   ]
  },
  {
   "cell_type": "markdown",
   "metadata": {},
   "source": [
    "## Formatted String Literals (f-strings)"
   ]
  },
  {
   "cell_type": "markdown",
   "metadata": {},
   "source": [
    "Este metodo fue introducido con Python 3.6. Ofrece la ventaja de que podemos insertar variables exteriores de manera inmediata.\n",
    "\n",
    "La **sintaxis** es:\n",
    "\n",
    "      f'Inserte el string aqui {\"elemento_insertado\"}'\n",
    "\n",
    "Veamos un ejemplo"
   ]
  },
  {
   "cell_type": "code",
   "execution_count": 15,
   "metadata": {},
   "outputs": [
    {
     "name": "stdout",
     "output_type": "stream",
     "text": [
      "Su nombre es Valentina.\n"
     ]
    }
   ],
   "source": [
    "nombre = 'Valentina'\n",
    "\n",
    "print(f\"Su nombre es {nombre}.\")"
   ]
  },
  {
   "cell_type": "code",
   "execution_count": 17,
   "metadata": {},
   "outputs": [
    {
     "name": "stdout",
     "output_type": "stream",
     "text": [
      "La ciudad es cordoba.\n"
     ]
    }
   ],
   "source": [
    "print(f\"La ciudad es {ciudad}.\")"
   ]
  },
  {
   "cell_type": "markdown",
   "metadata": {},
   "source": [
    "Para mas informacion visitar\n",
    "\n",
    "https://docs.python.org/3/reference/lexical_analysis.html#f-strings"
   ]
  },
  {
   "cell_type": "code",
   "execution_count": null,
   "metadata": {},
   "outputs": [],
   "source": []
  },
  {
   "cell_type": "code",
   "execution_count": null,
   "metadata": {},
   "outputs": [],
   "source": []
  }
 ],
 "metadata": {
  "kernelspec": {
   "display_name": "Python 3",
   "language": "python",
   "name": "python3"
  },
  "language_info": {
   "codemirror_mode": {
    "name": "ipython",
    "version": 3
   },
   "file_extension": ".py",
   "mimetype": "text/x-python",
   "name": "python",
   "nbconvert_exporter": "python",
   "pygments_lexer": "ipython3",
   "version": "3.7.0"
  }
 },
 "nbformat": 4,
 "nbformat_minor": 1
}
