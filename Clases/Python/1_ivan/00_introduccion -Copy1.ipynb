{
 "cells": [
  {
   "cell_type": "markdown",
   "metadata": {},
   "source": [
    "# Bienvenidos al curso de CIENCIA DE DATOS con Python"
   ]
  },
  {
   "cell_type": "markdown",
   "metadata": {},
   "source": [
    "##### JUPYTER NOTEBOOK\n",
    "\n",
    "Es la herramienta que vamos a usar para el dictado del curso.\n",
    "\n",
    "Para la primera parte del curso donde vemos Python cualquier editor de texto va a funcionar bien, pero para la segunda donde ya estramos en ciencia de datos, la herramienta por excelencia es Jupyter Notebook debido a sus capacidades de introducir titulos, imagenes, graficos y \"vender\" los resultados obtenidos.\n",
    "\n",
    "Sin embargo sientanse libres de usar otros editores de texto (sublime text, atom, visual studio code) o IDEs (Pycharm, Spyder)"
   ]
  },
  {
   "cell_type": "code",
   "execution_count": null,
   "metadata": {},
   "outputs": [],
   "source": [
    "# breve muestra del editor"
   ]
  },
  {
   "cell_type": "code",
   "execution_count": 1,
   "metadata": {},
   "outputs": [],
   "source": [
    "# como crear celdas abajo y arriba\n",
    "# como correr una celda\n",
    "# como borrar celda\n",
    "# como ver los shortcuts\n",
    "\n",
    "# otras opciones para este editor (google colab)\n"
   ]
  },
  {
   "cell_type": "code",
   "execution_count": null,
   "metadata": {},
   "outputs": [],
   "source": []
  },
  {
   "cell_type": "code",
   "execution_count": null,
   "metadata": {},
   "outputs": [],
   "source": []
  },
  {
   "cell_type": "markdown",
   "metadata": {},
   "source": [
    "## Lenguage Python"
   ]
  },
  {
   "cell_type": "markdown",
   "metadata": {},
   "source": [
    "Python es un lenguaje de programación interpretado cuya filosofía hace hincapié en la legibilidad de su código, creado por Python fue creado a finales de los ochenta por Guido van Rossum en Holanda."
   ]
  },
  {
   "cell_type": "markdown",
   "metadata": {},
   "source": [
    "En programacion se define como objeto a un ente abstracto que permite separar los diferentes componentes de un programa.\n",
    "\n",
    "**En python todo es un objeto**, y a ese objeto le corresponde a un tipo de dato, vamos a ver los tipos de datos mas comunes de Python\n",
    "\n"
   ]
  },
  {
   "cell_type": "markdown",
   "metadata": {},
   "source": [
    "<h3> Tipos de datos mas comunes en Python <h3>\n",
    "\n",
    "<table class=\"table table-bordered\" >\n",
    "<tr>\n",
    "    <th style=\"width:20%\">NOMBRE </th>\n",
    "    <th>EN PYTHON</th> \n",
    "    <th>DESCRIPCION</th>\n",
    "    <th>EJEMPLOS</th>\n",
    "</tr>\n",
    "\n",
    "<tr>\n",
    "    <td>Enteros</td> \n",
    "    <td>int</td>\n",
    "    <td>Numeros enteros</td>\n",
    "    <td>300   2   0   110000</td>\n",
    "</tr>\n",
    "\n",
    "<tr>\n",
    "    <td>Flotantes</td> \n",
    "    <td>float</td>\n",
    "    <td>Numeros con decimales</td>\n",
    "    <td>30.0   2.24   0.12</td>\n",
    "</tr>\n",
    "\n",
    "<tr>\n",
    "    <td>Cadenas o strings</td> \n",
    "    <td>str</td>\n",
    "    <td>Secuencia ordenada de caracteres</td>\n",
    "    <td>'hola'   'ciencia de datos'   \"200\"</td>\n",
    "</tr>\n",
    "    \n",
    "<tr>\n",
    "    <td>Listas</td> \n",
    "    <td>list</td>\n",
    "    <td>Secuencia ordenada de objetos</td>\n",
    "    <td>[10, 'hola', 12.2]</td>\n",
    "</tr>\n",
    "    \n",
    "<tr>\n",
    "    <td>Diccionarios</td> \n",
    "    <td>dict</td>\n",
    "    <td>Pares de clave:valor sin un orden</td>\n",
    "    <td>{'clave':'valor', 'nombre':'pepe', 'num':12}</td>\n",
    "</tr>\n",
    "    \n",
    "<tr>\n",
    "    <td>Tuplas</td> \n",
    "    <td>tuple</td>\n",
    "    <td>Secuencia ordenada e inmutable de objetos</td>\n",
    "    <td>(10, 'hola',12.2 )</td>\n",
    "</tr>\n",
    "    \n",
    "<tr>\n",
    "    <td>Conjuntos o sets</td> \n",
    "    <td>set</td>\n",
    "    <td>Coleccion desordenada de objetos unicos</td>\n",
    "    <td>{1,2,'a','b'}</td>\n",
    "</tr>\n",
    "    \n",
    "<tr>\n",
    "    <td>Booleanos</td> \n",
    "    <td>bool</td>\n",
    "    <td>Valores logicos indicando True o False</td>\n",
    "    <td>True False</td>\n",
    "</tr>\n",
    " </table>"
   ]
  },
  {
   "cell_type": "code",
   "execution_count": null,
   "metadata": {},
   "outputs": [],
   "source": []
  }
 ],
 "metadata": {
  "kernelspec": {
   "display_name": "Python 3",
   "language": "python",
   "name": "python3"
  },
  "language_info": {
   "codemirror_mode": {
    "name": "ipython",
    "version": 3
   },
   "file_extension": ".py",
   "mimetype": "text/x-python",
   "name": "python",
   "nbconvert_exporter": "python",
   "pygments_lexer": "ipython3",
   "version": "3.7.0"
  }
 },
 "nbformat": 4,
 "nbformat_minor": 4
}
