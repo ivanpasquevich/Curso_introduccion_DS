{
 "cells": [
  {
   "cell_type": "markdown",
   "metadata": {},
   "source": [
    "# Booleanos\n",
    "\n",
    "Los booleanos son un tipo de datos que puede tener dos posibles valores `True` o `False`, que basicamente son 1 y 0.\n",
    "\n",
    "Tambien nos encontramos con un objeto que actua como placeholder determinado `None`"
   ]
  },
  {
   "cell_type": "code",
   "execution_count": 2,
   "metadata": {},
   "outputs": [],
   "source": [
    "# Set object to be a boolean\n",
    "a = True"
   ]
  },
  {
   "cell_type": "code",
   "execution_count": 11,
   "metadata": {
    "scrolled": true
   },
   "outputs": [
    {
     "data": {
      "text/plain": [
       "True"
      ]
     },
     "execution_count": 11,
     "metadata": {},
     "output_type": "execute_result"
    }
   ],
   "source": [
    "#Show\n",
    "a"
   ]
  },
  {
   "cell_type": "code",
   "execution_count": 3,
   "metadata": {},
   "outputs": [
    {
     "data": {
      "text/plain": [
       "False"
      ]
     },
     "execution_count": 3,
     "metadata": {},
     "output_type": "execute_result"
    }
   ],
   "source": [
    "b = False\n",
    "b"
   ]
  },
  {
   "cell_type": "markdown",
   "metadata": {},
   "source": [
    "Podemos usar None como placeholder para una variable que no todavia no queremos asignarle un valor pero quermos que exista.\n"
   ]
  },
  {
   "cell_type": "code",
   "execution_count": 13,
   "metadata": {
    "collapsed": true
   },
   "outputs": [],
   "source": [
    "# None placeholder\n",
    "b = None"
   ]
  },
  {
   "cell_type": "code",
   "execution_count": 14,
   "metadata": {},
   "outputs": [
    {
     "name": "stdout",
     "output_type": "stream",
     "text": [
      "None\n"
     ]
    }
   ],
   "source": [
    "# Show\n",
    "print(b)"
   ]
  },
  {
   "cell_type": "markdown",
   "metadata": {},
   "source": [
    "##### Importante\n",
    "\n",
    "En Python todos los elementos son verdaderos a excepcion de:\n",
    "* el Cero\n",
    "* None\n",
    "* Un string vacio\n",
    "* Un contenedor vacio (lista,diccionario,set,tupla,etc)\n",
    "\n",
    "Para determinar el booleano de un objeto usamos la funcion `bool()`"
   ]
  },
  {
   "cell_type": "code",
   "execution_count": null,
   "metadata": {},
   "outputs": [],
   "source": []
  },
  {
   "cell_type": "code",
   "execution_count": null,
   "metadata": {},
   "outputs": [],
   "source": []
  },
  {
   "cell_type": "markdown",
   "metadata": {},
   "source": [
    "Podemos crear booleanos con operadores de comparacion.\n"
   ]
  },
  {
   "cell_type": "code",
   "execution_count": 12,
   "metadata": {
    "scrolled": true
   },
   "outputs": [
    {
     "data": {
      "text/plain": [
       "False"
      ]
     },
     "execution_count": 12,
     "metadata": {},
     "output_type": "execute_result"
    }
   ],
   "source": [
    "# Output is boolean\n",
    "1 > 2"
   ]
  },
  {
   "cell_type": "code",
   "execution_count": null,
   "metadata": {},
   "outputs": [],
   "source": []
  },
  {
   "cell_type": "markdown",
   "metadata": {},
   "source": [
    "## Operadores de comparacion\n",
    "\n",
    "Estos comparadores nos van a permitir comparar objetos o variables y nos van a devolver un Booleano (`True` o `False`)\n",
    "\n",
    "Veamos la siguiente tabla para entender mejor\n",
    "\n",
    "<h4> Tabla de operadores de comparacion </h4><p>  Supongamos que, a=3 and b=4.</p>\n",
    "\n",
    "<table class=\"table table-bordered\">\n",
    "<tr>\n",
    "<th style=\"width:10%\">Operador</th><th style=\"width:60%\">Descripcion</th><th>Ejemplo</th>\n",
    "</tr>\n",
    "<tr>\n",
    "<td>==</td>\n",
    "<td>Si los valores comparados son iguales entonces la condicion es verdadera.</td>\n",
    "<td> (a == b) --> False</td>\n",
    "</tr>\n",
    "<tr>\n",
    "<td>!=</td>\n",
    "<td>Si los valores comparados son distintos entonces la condicion es verdadera.</td>\n",
    "<td>(a != b) --> True</td>\n",
    "</tr>\n",
    "<tr>\n",
    "<td>&gt;</td>\n",
    "<td>Si el valor a la izquierda es mayor que el de la derecha, entonces la condicion es verdadera.</td>\n",
    "<td> (a &gt; b) --> False</td>\n",
    "</tr>\n",
    "<tr>\n",
    "<td>&lt;</td>\n",
    "<td>Si el valor a la izquierda es menor que el de la derecha, entonces la condicion es verdadera.</td>\n",
    "<td> (a &lt; b) --> True</td>\n",
    "</tr>\n",
    "<tr>\n",
    "<td>&gt;=</td>\n",
    "<td>Si el valor a la izquierda es mayor o igual que el de la derecha, entonces la condicion es verdadera.</td>\n",
    "<td> (a &gt;= b) --> False </td>\n",
    "</tr>\n",
    "<tr>\n",
    "<td>&lt;=</td>\n",
    "<td>Si el valor a la izquierda es menor o igual que el de la derecha, entonces la condicion es verdadera.</td>\n",
    "<td> (a &lt;= b) --> True </td>\n",
    "</tr>\n",
    "</table>"
   ]
  },
  {
   "cell_type": "code",
   "execution_count": 7,
   "metadata": {},
   "outputs": [
    {
     "data": {
      "text/plain": [
       "False"
      ]
     },
     "execution_count": 7,
     "metadata": {},
     "output_type": "execute_result"
    }
   ],
   "source": [
    "# veamos un par ejemplos\n",
    "\n",
    "1 == 2"
   ]
  },
  {
   "cell_type": "code",
   "execution_count": 8,
   "metadata": {},
   "outputs": [
    {
     "data": {
      "text/plain": [
       "True"
      ]
     },
     "execution_count": 8,
     "metadata": {},
     "output_type": "execute_result"
    }
   ],
   "source": [
    "1 == 1"
   ]
  },
  {
   "cell_type": "code",
   "execution_count": 9,
   "metadata": {},
   "outputs": [
    {
     "data": {
      "text/plain": [
       "True"
      ]
     },
     "execution_count": 9,
     "metadata": {},
     "output_type": "execute_result"
    }
   ],
   "source": [
    "3 > 2"
   ]
  },
  {
   "cell_type": "code",
   "execution_count": 10,
   "metadata": {},
   "outputs": [
    {
     "data": {
      "text/plain": [
       "False"
      ]
     },
     "execution_count": 10,
     "metadata": {},
     "output_type": "execute_result"
    }
   ],
   "source": [
    "3 < 2"
   ]
  },
  {
   "cell_type": "code",
   "execution_count": null,
   "metadata": {},
   "outputs": [],
   "source": []
  },
  {
   "cell_type": "code",
   "execution_count": null,
   "metadata": {},
   "outputs": [],
   "source": []
  },
  {
   "cell_type": "markdown",
   "metadata": {},
   "source": [
    " # Aca los quiero atentos !!\n",
    " \n",
    " ### Encadenando comparadores\n",
    " \n",
    " Una aplicacion muy muy comun en Python es la de poder encadenar multiples condiciones para realizar evaluaciones mas complejas.\n",
    " \n",
    " "
   ]
  },
  {
   "cell_type": "markdown",
   "metadata": {},
   "source": [
    " Supongamos el siguiente caso:"
   ]
  },
  {
   "cell_type": "code",
   "execution_count": 11,
   "metadata": {},
   "outputs": [
    {
     "data": {
      "text/plain": [
       "True"
      ]
     },
     "execution_count": 11,
     "metadata": {},
     "output_type": "execute_result"
    }
   ],
   "source": [
    "1 < 2 < 3"
   ]
  },
  {
   "cell_type": "code",
   "execution_count": 13,
   "metadata": {},
   "outputs": [
    {
     "data": {
      "text/plain": [
       "True"
      ]
     },
     "execution_count": 13,
     "metadata": {},
     "output_type": "execute_result"
    }
   ],
   "source": [
    "# que pasa en este caso? No es muy intuitivo verdad\n",
    "1 < 3 > 2"
   ]
  },
  {
   "cell_type": "code",
   "execution_count": 14,
   "metadata": {},
   "outputs": [
    {
     "data": {
      "text/plain": [
       "True"
      ]
     },
     "execution_count": 14,
     "metadata": {},
     "output_type": "execute_result"
    }
   ],
   "source": [
    "# aparece el operador and\n",
    "1 < 3 and 3 > 2"
   ]
  },
  {
   "cell_type": "markdown",
   "metadata": {},
   "source": [
    "## and\n",
    "\n",
    "Para que la evaluacion entre dos condiciones con un **and** nos de verdadera, **ambas** condiciones deben ser verdaderas.\n",
    "\n",
    "Supongamos que A y B son dos condiciones\n",
    "<table >\n",
    "<tr>\n",
    "    <th style=\"width:12%\">A </th>\n",
    "    <th>B</th> \n",
    "    <th>A and B</th>\n",
    "</tr>\n",
    "\n",
    "<tr>\n",
    "    <td>True</td> \n",
    "    <td>True</td>\n",
    "    <td>True</td>\n",
    "</tr>\n",
    "\n",
    "<tr>\n",
    "    <td>True</td> \n",
    "    <td>False</td>\n",
    "    <td>False</td>\n",
    "</tr>\n",
    "    \n",
    "<tr>\n",
    "    <td>False</td> \n",
    "    <td>True</td>\n",
    "    <td>False</td>\n",
    "</tr>\n",
    "    \n",
    "<tr>\n",
    "    <td>False</td> \n",
    "    <td>False</td>\n",
    "    <td>False</td>\n",
    "</tr>\n",
    " </table>"
   ]
  },
  {
   "cell_type": "code",
   "execution_count": 19,
   "metadata": {},
   "outputs": [
    {
     "data": {
      "text/plain": [
       "False"
      ]
     },
     "execution_count": 19,
     "metadata": {},
     "output_type": "execute_result"
    }
   ],
   "source": [
    "# ejemplo\n",
    "\n",
    "5==5 and (12-4)>10"
   ]
  },
  {
   "cell_type": "code",
   "execution_count": 20,
   "metadata": {},
   "outputs": [
    {
     "data": {
      "text/plain": [
       "True"
      ]
     },
     "execution_count": 20,
     "metadata": {},
     "output_type": "execute_result"
    }
   ],
   "source": [
    "# incluso con variables obvio\n",
    "\n",
    "var1 = 10\n",
    "var2 = 20\n",
    "\n",
    "var1<var2 and var1*2==var2"
   ]
  },
  {
   "cell_type": "code",
   "execution_count": null,
   "metadata": {},
   "outputs": [],
   "source": []
  },
  {
   "cell_type": "markdown",
   "metadata": {},
   "source": [
    "## or\n",
    "\n",
    "Para que la evaluacion entre dos condiciones con un **or** nos de verdadera,al menos **alguna** de las condiciones debe ser verdadera.\n",
    "\n",
    "Supongamos que A y B son dos condiciones\n",
    "<table >\n",
    "<tr>\n",
    "    <th style=\"width:12%\">A </th>\n",
    "    <th>B</th> \n",
    "    <th>A or B</th>\n",
    "</tr>\n",
    "\n",
    "<tr>\n",
    "    <td>True</td> \n",
    "    <td>True</td>\n",
    "    <td>True</td>\n",
    "</tr>\n",
    "\n",
    "<tr>\n",
    "    <td>True</td> \n",
    "    <td>False</td>\n",
    "    <td>True</td>\n",
    "</tr>\n",
    "    \n",
    "<tr>\n",
    "    <td>False</td> \n",
    "    <td>True</td>\n",
    "    <td>True</td>\n",
    "</tr>\n",
    "    \n",
    "<tr>\n",
    "    <td>False</td> \n",
    "    <td>False</td>\n",
    "    <td>False</td>\n",
    "</tr>\n",
    " </table>"
   ]
  },
  {
   "cell_type": "code",
   "execution_count": 21,
   "metadata": {},
   "outputs": [
    {
     "data": {
      "text/plain": [
       "True"
      ]
     },
     "execution_count": 21,
     "metadata": {},
     "output_type": "execute_result"
    }
   ],
   "source": [
    "# incluso con variables obvio\n",
    "\n",
    "var1 = 10\n",
    "var2 = 20\n",
    "\n",
    "var1>var2 or var1*2==var2"
   ]
  },
  {
   "cell_type": "code",
   "execution_count": null,
   "metadata": {},
   "outputs": [],
   "source": []
  },
  {
   "cell_type": "markdown",
   "metadata": {},
   "source": [
    "## not\n",
    "\n",
    "El operador **not** va a negar o invertir el booleano de la condicion, es decir si es True lo hara False y viceversa."
   ]
  },
  {
   "cell_type": "code",
   "execution_count": 41,
   "metadata": {},
   "outputs": [
    {
     "data": {
      "text/plain": [
       "True"
      ]
     },
     "execution_count": 41,
     "metadata": {},
     "output_type": "execute_result"
    }
   ],
   "source": [
    "not False"
   ]
  },
  {
   "cell_type": "code",
   "execution_count": 40,
   "metadata": {
    "scrolled": true
   },
   "outputs": [
    {
     "data": {
      "text/plain": [
       "False"
      ]
     },
     "execution_count": 40,
     "metadata": {},
     "output_type": "execute_result"
    }
   ],
   "source": [
    "not 3>2"
   ]
  },
  {
   "cell_type": "markdown",
   "metadata": {},
   "source": [
    "### Prioridad de los operadores\n",
    "\n",
    "Asi como en matematica, python tiene prioridad en sus operadores a la hora de resolver evaluaciones, aqui una lista de mayor a menor prioridad de los operadores que vimos:\n",
    "\n",
    "<table >\n",
    "<tr>\n",
    "    <th style=\"width:20%\"> Operador</th>\n",
    "    <th>Descripcion</th> \n",
    "</tr>\n",
    "\n",
    "<tr>\n",
    "    <td>()</td> \n",
    "    <td>Parentesis</td>\n",
    "</tr>\n",
    "\n",
    "<tr>\n",
    "    <td>**</td> \n",
    "    <td>Exponente</td>\n",
    "</tr>\n",
    "    \n",
    "<tr>\n",
    "    <td>*, /, //, %</td> \n",
    "    <td>Multiplicacion, division, floor division, modulo</td>\n",
    "</tr>\n",
    "    \n",
    "<tr>\n",
    "    <td>+ -</td> \n",
    "    <td>Suma y resta</td>\n",
    "</tr>\n",
    "    \n",
    "<tr>\n",
    "    <td>==, !=, >, >=, <, <= </td> \n",
    "    <td>Operadores de comparacion</td>\n",
    "</tr>\n",
    "    \n",
    "<tr>\n",
    "    <td>not</td> \n",
    "    <td>NO logico</td>\n",
    "</tr>\n",
    "    \n",
    "<tr>\n",
    "    <td>and</td> \n",
    "    <td> Y logico</td>\n",
    "</tr>\n",
    "    \n",
    "<tr>\n",
    "    <td>or</td> \n",
    "    <td>O logico</td>\n",
    "</tr>\n",
    "    \n",
    " </table>"
   ]
  },
  {
   "cell_type": "markdown",
   "metadata": {},
   "source": [
    "Para una tabla mas completa -->\n",
    "[tabla prioridades](https://www.programiz.com/python-programming/precedence-associativity)"
   ]
  },
  {
   "cell_type": "code",
   "execution_count": 45,
   "metadata": {},
   "outputs": [
    {
     "data": {
      "text/plain": [
       "True"
      ]
     },
     "execution_count": 45,
     "metadata": {},
     "output_type": "execute_result"
    }
   ],
   "source": [
    "# entonces veamos que podemos tener varias condiciones encadenadas con distintos operadores\n",
    "\n",
    "5+2>3 and 2==2 or 1==1 and 5!=5\n",
    "#7>3 and 2==2 or 2==1 and 5!=5\n",
    "#True and True or False and False\n",
    "#True or False\n",
    "#True"
   ]
  },
  {
   "cell_type": "code",
   "execution_count": 46,
   "metadata": {},
   "outputs": [
    {
     "data": {
      "text/plain": [
       "False"
      ]
     },
     "execution_count": 46,
     "metadata": {},
     "output_type": "execute_result"
    }
   ],
   "source": [
    "5+2>3 and (2==2 or 1==1) and 5!=5\n",
    "#5+2>3 and (True or True) and 5!=5\n",
    "#5+2>3 and True and 5!=5\n",
    "#7>3 and True and 5!=5\n",
    "#True and True and False\n",
    "#True and False\n",
    "#False"
   ]
  },
  {
   "cell_type": "code",
   "execution_count": null,
   "metadata": {},
   "outputs": [],
   "source": []
  }
 ],
 "metadata": {
  "kernelspec": {
   "display_name": "Python 3",
   "language": "python",
   "name": "python3"
  },
  "language_info": {
   "codemirror_mode": {
    "name": "ipython",
    "version": 3
   },
   "file_extension": ".py",
   "mimetype": "text/x-python",
   "name": "python",
   "nbconvert_exporter": "python",
   "pygments_lexer": "ipython3",
   "version": "3.7.0"
  }
 },
 "nbformat": 4,
 "nbformat_minor": 1
}
