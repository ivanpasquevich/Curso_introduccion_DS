{
 "cells": [
  {
   "cell_type": "markdown",
   "metadata": {},
   "source": [
    "# MODULO RANDOM"
   ]
  },
  {
   "cell_type": "markdown",
   "metadata": {},
   "source": [
    "El módulo random de la librería estándar de Python incluye un conjunto de funciones que permiten obtener de distintos modos números aleatorios"
   ]
  },
  {
   "cell_type": "code",
   "execution_count": 1,
   "metadata": {},
   "outputs": [],
   "source": [
    "import random"
   ]
  },
  {
   "cell_type": "code",
   "execution_count": 3,
   "metadata": {},
   "outputs": [
    {
     "data": {
      "text/plain": [
       "0.3377821537598491"
      ]
     },
     "execution_count": 3,
     "metadata": {},
     "output_type": "execute_result"
    }
   ],
   "source": [
    "# genera un numero flotante aleatorio entre 0 y 1\n",
    "random.random()"
   ]
  },
  {
   "cell_type": "code",
   "execution_count": 4,
   "metadata": {},
   "outputs": [
    {
     "data": {
      "text/plain": [
       "15"
      ]
     },
     "execution_count": 4,
     "metadata": {},
     "output_type": "execute_result"
    }
   ],
   "source": [
    "# genera un numero entero aleatorio entre un start y un stop (no incluye el stop)\n",
    "# ademas podemos poner step\n",
    "random.randrange(1,20)"
   ]
  },
  {
   "cell_type": "code",
   "execution_count": null,
   "metadata": {},
   "outputs": [],
   "source": [
    "# genera un numero entero aleatorio entre un start y un stop (incluye el stop)\n",
    "random.randint(1,20)"
   ]
  },
  {
   "cell_type": "code",
   "execution_count": 5,
   "metadata": {},
   "outputs": [
    {
     "data": {
      "text/plain": [
       "'nn'"
      ]
     },
     "execution_count": 5,
     "metadata": {},
     "output_type": "execute_result"
    }
   ],
   "source": [
    "# agarra un elemento aleatorio del iterable\n",
    "lista = [letra*2 for letra in \"analfabeta\"]\n",
    "random.choice(lista)"
   ]
  },
  {
   "cell_type": "code",
   "execution_count": 6,
   "metadata": {},
   "outputs": [
    {
     "data": {
      "text/plain": [
       "['aa', 'ee', 'tt']"
      ]
     },
     "execution_count": 6,
     "metadata": {},
     "output_type": "execute_result"
    }
   ],
   "source": [
    "# agarra un elemento aleatorio del iterable (con reposicion)\n",
    "lista = [letra*2 for letra in \"analfabeta\"]\n",
    "random.choices(lista,k=3)"
   ]
  },
  {
   "cell_type": "code",
   "execution_count": 7,
   "metadata": {},
   "outputs": [
    {
     "data": {
      "text/plain": [
       "['aa', 'ff', 'aa']"
      ]
     },
     "execution_count": 7,
     "metadata": {},
     "output_type": "execute_result"
    }
   ],
   "source": [
    "# agarra un elemento aleatorio del iterable (con reposicion)\n",
    "lista = [letra*2 for letra in \"analfabeta\"]\n",
    "random.sample(lista,k=3)"
   ]
  },
  {
   "cell_type": "code",
   "execution_count": 8,
   "metadata": {},
   "outputs": [
    {
     "data": {
      "text/plain": [
       "['22', '44', '11', '33']"
      ]
     },
     "execution_count": 8,
     "metadata": {},
     "output_type": "execute_result"
    }
   ],
   "source": [
    "# mezclar una lista en el lugar\n",
    "lista = [letra*2 for letra in \"1234\"]\n",
    "random.shuffle(lista)\n",
    "lista"
   ]
  },
  {
   "cell_type": "code",
   "execution_count": null,
   "metadata": {},
   "outputs": [],
   "source": []
  },
  {
   "cell_type": "markdown",
   "metadata": {},
   "source": [
    "## Usemos lo recien aprendido en algo que aprendimos antes\n",
    "\n",
    "Vamos a mejorar nuestro juego de tateti con funciones, ciclo while y el modulo random"
   ]
  },
  {
   "cell_type": "code",
   "execution_count": 9,
   "metadata": {},
   "outputs": [
    {
     "name": "stdout",
     "output_type": "stream",
     "text": [
      "Ingrese piedra papel o tijerapapel\n",
      "Empate\n",
      "Quiere volver a jugar\n",
      "si o nono\n"
     ]
    }
   ],
   "source": [
    "import random\n",
    "\n",
    "def juego(jugador1,jugador2):\n",
    "    if jugador1==jugador2:\n",
    "        print(\"Empate\")\n",
    "    elif jugador1=='tijera':\n",
    "        if jugador2=='piedra':\n",
    "            print('gana jugador 2')\n",
    "        else:\n",
    "            print('gana jugador 1')\n",
    "    elif jugador1=='piedra':\n",
    "        if jugador2=='papel':\n",
    "            print('gana jugador 2')\n",
    "        else:\n",
    "            print('gana jugador 1')\n",
    "    elif jugador1=='papel':\n",
    "        if jugador2=='tijera':\n",
    "            print('gana jugador 2')\n",
    "        else:\n",
    "            print('gana jugador 1')\n",
    "    else:\n",
    "        print(\"el jugador 1 hizo trampa\")\n",
    "\n",
    "\n",
    "lista = \"piedra papel tijera\".split()\n",
    "\n",
    "jugar = True\n",
    "\n",
    "while jugar:\n",
    "    \n",
    "    #bloque para validar\n",
    "    while True:\n",
    "        jugador1 = input(\"Ingrese piedra papel o tijera\").lower()\n",
    "        if jugador1 in lista:\n",
    "            break\n",
    "    \n",
    "    jugador2 = random.choice(lista)\n",
    "    \n",
    "    juego(jugador1,jugador2)\n",
    "    \n",
    "    print(\"Quiere volver a jugar\")\n",
    "    de_nuevo = input(\"si o no\").lower()\n",
    "    if de_nuevo == \"no\":\n",
    "        break"
   ]
  },
  {
   "cell_type": "code",
   "execution_count": null,
   "metadata": {},
   "outputs": [],
   "source": []
  }
 ],
 "metadata": {
  "kernelspec": {
   "display_name": "Python 3",
   "language": "python",
   "name": "python3"
  },
  "language_info": {
   "codemirror_mode": {
    "name": "ipython",
    "version": 3
   },
   "file_extension": ".py",
   "mimetype": "text/x-python",
   "name": "python",
   "nbconvert_exporter": "python",
   "pygments_lexer": "ipython3",
   "version": "3.7.0"
  }
 },
 "nbformat": 4,
 "nbformat_minor": 4
}
