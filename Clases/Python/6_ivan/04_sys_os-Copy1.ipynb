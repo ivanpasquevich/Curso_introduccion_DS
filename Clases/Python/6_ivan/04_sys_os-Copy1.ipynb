{
 "cells": [
  {
   "cell_type": "markdown",
   "metadata": {},
   "source": [
    "## Modulos sys, os y shutil\n",
    "\n",
    "Son modulos de la libreria estandar de Python que nos permiten interactuar con el sistema, para por ejemplo manipular la estructura de los directorios."
   ]
  },
  {
   "cell_type": "code",
   "execution_count": 1,
   "metadata": {},
   "outputs": [],
   "source": [
    "import sys, os, shutil"
   ]
  },
  {
   "cell_type": "code",
   "execution_count": 2,
   "metadata": {},
   "outputs": [],
   "source": [
    "# creamos un directorio usando ruta relativa\n",
    "os.mkdir(\"nuevo_directorio\")"
   ]
  },
  {
   "cell_type": "code",
   "execution_count": 3,
   "metadata": {},
   "outputs": [
    {
     "data": {
      "text/plain": [
       "'C:\\\\Users\\\\Lenovo\\\\IVAN\\\\Clases\\\\ICARO\\\\Clases\\\\Python\\\\6_modulos'"
      ]
     },
     "execution_count": 3,
     "metadata": {},
     "output_type": "execute_result"
    }
   ],
   "source": [
    "pwd"
   ]
  },
  {
   "cell_type": "code",
   "execution_count": 4,
   "metadata": {},
   "outputs": [],
   "source": [
    "# creamos un directorio usando ruta absoluta\n",
    "os.mkdir('C:\\\\Users\\\\Lenovo\\\\IVAN\\\\Clases\\\\ICARO\\\\Clases\\\\Python\\\\6_modulos\\\\carpeta_absoluta')"
   ]
  },
  {
   "cell_type": "code",
   "execution_count": 5,
   "metadata": {},
   "outputs": [],
   "source": [
    "# creamos directorios recursivamente\n",
    "os.makedirs(\"nuevo_directorio\\\\nuevo_subdirectorio\\\\carpeta_prueba\")"
   ]
  },
  {
   "cell_type": "code",
   "execution_count": 6,
   "metadata": {},
   "outputs": [],
   "source": [
    "# creamos 3 archivos en el directorio carpeta prueba\n",
    "for i in range(3):\n",
    "    with open(f'nuevo_directorio\\\\nuevo_subdirectorio\\\\carpeta_prueba\\\\archivo_{i}','w') as file:\n",
    "        file.write(f\"creamos el archivo {i}\")"
   ]
  },
  {
   "cell_type": "code",
   "execution_count": 7,
   "metadata": {},
   "outputs": [
    {
     "data": {
      "text/plain": [
       "['archivo_0', 'archivo_1', 'archivo_2']"
      ]
     },
     "execution_count": 7,
     "metadata": {},
     "output_type": "execute_result"
    }
   ],
   "source": [
    "# listamos lo que encontramos dentro de ese directorio\n",
    "os.listdir(\"nuevo_directorio\\\\nuevo_subdirectorio\\\\carpeta_prueba\")"
   ]
  },
  {
   "cell_type": "code",
   "execution_count": 8,
   "metadata": {},
   "outputs": [
    {
     "name": "stdout",
     "output_type": "stream",
     "text": [
      "El archivo 'archivo_0' tiene de contenido: creamos el archivo 0\n",
      "El archivo 'archivo_1' tiene de contenido: creamos el archivo 1\n",
      "El archivo 'archivo_2' tiene de contenido: creamos el archivo 2\n"
     ]
    }
   ],
   "source": [
    "# leemos cada uno de los archivos creados en este directorio\n",
    "\n",
    "lista_archivos = os.listdir(\"nuevo_directorio\\\\nuevo_subdirectorio\\\\carpeta_prueba\")\n",
    "\n",
    "for elem in lista_archivos:\n",
    "    with open(f\"nuevo_directorio\\\\nuevo_subdirectorio\\\\carpeta_prueba\\\\{elem}\") as file:\n",
    "        print(f\"El archivo '{elem}' tiene de contenido: {file.read()}\")\n",
    "              "
   ]
  },
  {
   "cell_type": "code",
   "execution_count": 9,
   "metadata": {},
   "outputs": [
    {
     "data": {
      "text/plain": [
       "['archivo_0', 'archivo_2', 'nombre_cambiado']"
      ]
     },
     "execution_count": 9,
     "metadata": {},
     "output_type": "execute_result"
    }
   ],
   "source": [
    "# renombrar un archivo\n",
    "# los parametros son (nombre_actual, nombre_nuevo)\n",
    "\n",
    "os.rename(\"nuevo_directorio\\\\nuevo_subdirectorio\\\\carpeta_prueba\\\\archivo_1\",\n",
    "          \"nuevo_directorio\\\\nuevo_subdirectorio\\\\carpeta_prueba\\\\nombre_cambiado\")\n",
    "\n",
    "os.listdir(\"nuevo_directorio\\\\nuevo_subdirectorio\\\\carpeta_prueba\")"
   ]
  },
  {
   "cell_type": "code",
   "execution_count": 10,
   "metadata": {},
   "outputs": [
    {
     "data": {
      "text/plain": [
       "['archivo_2', 'nombre_cambiado']"
      ]
     },
     "execution_count": 10,
     "metadata": {},
     "output_type": "execute_result"
    }
   ],
   "source": [
    "# eliminar un archivo\n",
    "os.remove(\"nuevo_directorio\\\\nuevo_subdirectorio\\\\carpeta_prueba\\\\archivo_0\")\n",
    "\n",
    "os.listdir(\"nuevo_directorio\\\\nuevo_subdirectorio\\\\carpeta_prueba\")"
   ]
  },
  {
   "cell_type": "code",
   "execution_count": 11,
   "metadata": {},
   "outputs": [
    {
     "data": {
      "text/plain": [
       "'.\\\\archivo_2'"
      ]
     },
     "execution_count": 11,
     "metadata": {},
     "output_type": "execute_result"
    }
   ],
   "source": [
    "# mover un archivo\n",
    "# shutil.move(file, destino)\n",
    "\n",
    "shutil.move('nuevo_directorio\\\\nuevo_subdirectorio\\\\carpeta_prueba\\\\archivo_2', '.')"
   ]
  },
  {
   "cell_type": "code",
   "execution_count": 12,
   "metadata": {
    "scrolled": true
   },
   "outputs": [],
   "source": [
    "# eliminar un directorio\n",
    "os.rmdir(\"carpeta_absoluta\")\n"
   ]
  },
  {
   "cell_type": "code",
   "execution_count": 13,
   "metadata": {},
   "outputs": [
    {
     "ename": "OSError",
     "evalue": "[WinError 145] The directory is not empty: 'nuevo_directorio'",
     "output_type": "error",
     "traceback": [
      "\u001b[1;31m---------------------------------------------------------------------------\u001b[0m",
      "\u001b[1;31mOSError\u001b[0m                                   Traceback (most recent call last)",
      "\u001b[1;32m<ipython-input-13-640c4f1ef98b>\u001b[0m in \u001b[0;36m<module>\u001b[1;34m\u001b[0m\n\u001b[1;32m----> 1\u001b[1;33m \u001b[0mos\u001b[0m\u001b[1;33m.\u001b[0m\u001b[0mrmdir\u001b[0m\u001b[1;33m(\u001b[0m\u001b[1;34m\"nuevo_directorio\"\u001b[0m\u001b[1;33m)\u001b[0m\u001b[1;33m\u001b[0m\u001b[0m\n\u001b[0m",
      "\u001b[1;31mOSError\u001b[0m: [WinError 145] The directory is not empty: 'nuevo_directorio'"
     ]
    }
   ],
   "source": [
    "os.rmdir(\"nuevo_directorio\")"
   ]
  },
  {
   "cell_type": "code",
   "execution_count": 14,
   "metadata": {},
   "outputs": [],
   "source": [
    "# eliminar directorios recursivamente\n",
    "shutil.rmtree('nuevo_directorio')\n"
   ]
  },
  {
   "cell_type": "markdown",
   "metadata": {},
   "source": [
    "Para mas informacion de todo lo que podemos hacer con estos modulos consultar el siguiente articulo\n",
    "\n",
    "[modulos de sistema](https://uniwebsidad.com/libros/python/capitulo-10/modulos-de-sistema)\n",
    "\n",
    "[modulo shutil](https://docs.python.org/es/3/library/shutil.html)"
   ]
  }
 ],
 "metadata": {
  "kernelspec": {
   "display_name": "Python 3",
   "language": "python",
   "name": "python3"
  },
  "language_info": {
   "codemirror_mode": {
    "name": "ipython",
    "version": 3
   },
   "file_extension": ".py",
   "mimetype": "text/x-python",
   "name": "python",
   "nbconvert_exporter": "python",
   "pygments_lexer": "ipython3",
   "version": "3.7.0"
  }
 },
 "nbformat": 4,
 "nbformat_minor": 4
}
