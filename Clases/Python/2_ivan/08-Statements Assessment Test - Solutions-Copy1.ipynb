{
 "cells": [
  {
   "cell_type": "markdown",
   "metadata": {
    "collapsed": true
   },
   "source": [
    "# Ejercicios sobre lo aprendido"
   ]
  },
  {
   "cell_type": "markdown",
   "metadata": {},
   "source": [
    "_____\n",
    "**Usar <code>for</code>, .split(), e <code>if</code> para imprimir todas las palabras que empiecen con 's':**"
   ]
  },
  {
   "cell_type": "code",
   "execution_count": 1,
   "metadata": {},
   "outputs": [],
   "source": [
    "st = 'Solo vas a imprimir la palabras que simplemente empiecen con s'"
   ]
  },
  {
   "cell_type": "code",
   "execution_count": 2,
   "metadata": {},
   "outputs": [
    {
     "name": "stdout",
     "output_type": "stream",
     "text": [
      "start\n",
      "s\n",
      "sentence\n"
     ]
    }
   ],
   "source": [
    "for word in st.split():\n",
    "    if word[0] == 's':\n",
    "        print(word)"
   ]
  },
  {
   "cell_type": "code",
   "execution_count": null,
   "metadata": {},
   "outputs": [],
   "source": []
  },
  {
   "cell_type": "markdown",
   "metadata": {},
   "source": [
    "____\n",
    "**Recorrer el string e imprimir las palabras que tengan una cantidad par de caracteres**"
   ]
  },
  {
   "cell_type": "code",
   "execution_count": 1,
   "metadata": {},
   "outputs": [],
   "source": [
    "st = 'Vamos a imprimir solo aquellas palabras con cant de letras pares'"
   ]
  },
  {
   "cell_type": "code",
   "execution_count": 2,
   "metadata": {},
   "outputs": [
    {
     "name": "stdout",
     "output_type": "stream",
     "text": [
      "imprimir\n",
      "solo\n",
      "aquellas\n",
      "palabras\n",
      "cant\n",
      "de\n",
      "letras\n"
     ]
    }
   ],
   "source": [
    "for word in st.split():\n",
    "    if len(word)%2 == 0:\n",
    "        print(word)"
   ]
  },
  {
   "cell_type": "markdown",
   "metadata": {},
   "source": [
    "____\n",
    "**Escribir un programa que imprima los enteros del 1 al 100, pero para los multiplos de 3 va a imprimir \"Fizz\" en lugar del numero y para los multiplos de 5 va a imprimir \"Buzz\". Para aquellos numeros que son multiplos de 3 y 5 simultaneamente, vamos a imprimir \"FizzBuzz\".**"
   ]
  },
  {
   "cell_type": "code",
   "execution_count": 1,
   "metadata": {},
   "outputs": [
    {
     "name": "stdout",
     "output_type": "stream",
     "text": [
      "1\n",
      "2\n",
      "Fizz\n",
      "4\n",
      "Buzz\n",
      "Fizz\n",
      "7\n",
      "8\n",
      "Fizz\n",
      "Buzz\n",
      "11\n",
      "Fizz\n",
      "13\n",
      "14\n",
      "FizzBuzz\n",
      "16\n",
      "17\n",
      "Fizz\n",
      "19\n",
      "Buzz\n",
      "Fizz\n",
      "22\n",
      "23\n",
      "Fizz\n",
      "Buzz\n",
      "26\n",
      "Fizz\n",
      "28\n",
      "29\n",
      "FizzBuzz\n",
      "31\n",
      "32\n",
      "Fizz\n",
      "34\n",
      "Buzz\n",
      "Fizz\n",
      "37\n",
      "38\n",
      "Fizz\n",
      "Buzz\n",
      "41\n",
      "Fizz\n",
      "43\n",
      "44\n",
      "FizzBuzz\n",
      "46\n",
      "47\n",
      "Fizz\n",
      "49\n",
      "Buzz\n",
      "Fizz\n",
      "52\n",
      "53\n",
      "Fizz\n",
      "Buzz\n",
      "56\n",
      "Fizz\n",
      "58\n",
      "59\n",
      "FizzBuzz\n",
      "61\n",
      "62\n",
      "Fizz\n",
      "64\n",
      "Buzz\n",
      "Fizz\n",
      "67\n",
      "68\n",
      "Fizz\n",
      "Buzz\n",
      "71\n",
      "Fizz\n",
      "73\n",
      "74\n",
      "FizzBuzz\n",
      "76\n",
      "77\n",
      "Fizz\n",
      "79\n",
      "Buzz\n",
      "Fizz\n",
      "82\n",
      "83\n",
      "Fizz\n",
      "Buzz\n",
      "86\n",
      "Fizz\n",
      "88\n",
      "89\n",
      "FizzBuzz\n",
      "91\n",
      "92\n",
      "Fizz\n",
      "94\n",
      "Buzz\n",
      "Fizz\n",
      "97\n",
      "98\n",
      "Fizz\n",
      "Buzz\n"
     ]
    }
   ],
   "source": [
    "for num in range(1,101):\n",
    "    if num % 3 == 0 and num % 5 == 0:\n",
    "        print(\"FizzBuzz\")\n",
    "    elif num % 3 == 0:\n",
    "        print(\"Fizz\")\n",
    "    elif num % 5 == 0:\n",
    "        print(\"Buzz\")\n",
    "    else:\n",
    "        print(num)"
   ]
  },
  {
   "cell_type": "code",
   "execution_count": null,
   "metadata": {},
   "outputs": [],
   "source": []
  },
  {
   "cell_type": "markdown",
   "metadata": {},
   "source": [
    "**Supongamos que tenemos una lista con distintos datos de distintas personas, vamos a tener el nombre, apellido, provincia de origen y fecha de nacimiento.**\n",
    "\n",
    " 1. Visualizar los datos de la lista de manera ordenada.\n",
    " 2. Estandarizar los nombres, apellidos y provincias para que empiecen con mayuscula.\n",
    " 3. Calcular la edad de cada persona al dia de hoy y agregar esa edad a nuestro conjunto de datos.\n",
    " 4. Mostrar los datos de todas aquellas personas mayores a 55 años.\n",
    " 5. Mostrar los datos de todas aquellas personas que tienen un nombre que empieza con 'J'."
   ]
  },
  {
   "cell_type": "code",
   "execution_count": 2,
   "metadata": {},
   "outputs": [],
   "source": [
    "personas = [['NOMBRE', 'APELLIDO', 'PROVINCIA', \"NACIMIENTO\"],\n",
    " ['Joaquin', 'Gorina', 'Chubut', '1967'],\n",
    " ['jose', 'Olmedo', 'misiones', '1988'],\n",
    " ['Julian', 'sosa', 'misiones', '2005'],\n",
    " ['florencia', 'lopez', 'neuquen', '2000'],\n",
    " ['sol', 'sanchez', 'salta', '1997'],\n",
    " ['xiMena', 'asturiAS', 'chubut', '1999'],\n",
    " ['sol', 'sanchez', 'chubut', '1993'],\n",
    " ['manuel', 'Olmedo', 'chaco', '1980'],\n",
    " ['jaVIer', 'montoya', 'tucuman', '1969'],\n",
    " ['rosa', 'montoya', 'tucuman', '1927'],\n",
    " ['miguel', 'montoya', 'tucuman', '1934'],\n",
    " ['jose', 'olmos', 'salta', '1977']] "
   ]
  },
  {
   "cell_type": "code",
   "execution_count": null,
   "metadata": {},
   "outputs": [],
   "source": []
  },
  {
   "cell_type": "code",
   "execution_count": 7,
   "metadata": {
    "scrolled": true
   },
   "outputs": [
    {
     "name": "stdout",
     "output_type": "stream",
     "text": [
      "NOMBRE         APELLIDO       PROVINCIA      NACIMIENTO     \n",
      "Joaquin        Gorina         Chubut         1967           \n",
      "Jose           Olmedo         Misiones       1988           \n",
      "Julian         Sosa           Misiones       2005           \n",
      "Florencia      Lopez          Neuquen        2000           \n",
      "Sol            Sanchez        Salta          1997           \n",
      "Ximena         Asturias       Chubut         1999           \n",
      "Sol            Sanchez        Chubut         1993           \n",
      "Manuel         Olmedo         Chaco          1980           \n",
      "Javier         Montoya        Tucuman        1969           \n",
      "Rosa           Montoya        Tucuman        1927           \n",
      "Miguel         Montoya        Tucuman        1934           \n",
      "Jose           Olmos          Salta          1977           \n"
     ]
    }
   ],
   "source": [
    "# para visualizar la lista\n",
    "for i in range(len(personas)):\n",
    "    for j in range(len(personas[i])):\n",
    "        print(f'{personas[i][j]:{15}}',end='')\n",
    "    print('')"
   ]
  },
  {
   "cell_type": "code",
   "execution_count": null,
   "metadata": {},
   "outputs": [],
   "source": []
  },
  {
   "cell_type": "code",
   "execution_count": 6,
   "metadata": {},
   "outputs": [],
   "source": [
    "# para limpiar los datos\n",
    "for i in range(1,len(personas)):\n",
    "    for j in range(len(personas[i])):\n",
    "        personas[i][j] = personas[i][j].capitalize()"
   ]
  },
  {
   "cell_type": "code",
   "execution_count": null,
   "metadata": {},
   "outputs": [],
   "source": []
  },
  {
   "cell_type": "code",
   "execution_count": null,
   "metadata": {},
   "outputs": [],
   "source": []
  },
  {
   "cell_type": "code",
   "execution_count": null,
   "metadata": {},
   "outputs": [],
   "source": []
  }
 ],
 "metadata": {
  "kernelspec": {
   "display_name": "Python 3",
   "language": "python",
   "name": "python3"
  },
  "language_info": {
   "codemirror_mode": {
    "name": "ipython",
    "version": 3
   },
   "file_extension": ".py",
   "mimetype": "text/x-python",
   "name": "python",
   "nbconvert_exporter": "python",
   "pygments_lexer": "ipython3",
   "version": "3.7.0"
  }
 },
 "nbformat": 4,
 "nbformat_minor": 1
}
