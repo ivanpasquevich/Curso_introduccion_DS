{
 "cells": [
  {
   "cell_type": "markdown",
   "metadata": {},
   "source": [
    "# Ciclos en Python\n",
    "\n",
    "Hasta el momento nosotros corriamos los bloques de codigo una y otra vez si queriamos repetir esa operacion, afortunadamente en programacion existe la definicion de ciclos o loops, lo que nos permitira ejecutar una accion una y otra vez de manera automatica.\n",
    "\n",
    "Para ello es que se utilizan las sentencias **`for`** y **`while`**\n",
    "\n"
   ]
  },
  {
   "cell_type": "code",
   "execution_count": 8,
   "metadata": {},
   "outputs": [
    {
     "name": "stdout",
     "output_type": "stream",
     "text": [
      "10\n",
      "20\n",
      "40\n",
      "80\n",
      "160\n"
     ]
    }
   ],
   "source": [
    "# de manera convencional, HASTA AHORA\n",
    "\n",
    "a = 10\n",
    "print(a)\n",
    "\n",
    "a = a + a \n",
    "print(a)\n",
    "\n",
    "a = a + a \n",
    "print(a)\n",
    "\n",
    "a = a + a \n",
    "print(a)\n",
    "\n",
    "a = a + a \n",
    "print(a)\n"
   ]
  },
  {
   "cell_type": "code",
   "execution_count": 6,
   "metadata": {},
   "outputs": [
    {
     "name": "stdout",
     "output_type": "stream",
     "text": [
      "10\n",
      "20\n",
      "40\n",
      "80\n",
      "160\n"
     ]
    }
   ],
   "source": [
    "# COMO DEBE SER\n",
    "a = 10\n",
    "for i in range(5):\n",
    "    print(a)\n",
    "    a = a + a "
   ]
  },
  {
   "cell_type": "markdown",
   "metadata": {},
   "source": [
    "Empecemos viendo los ciclos for."
   ]
  },
  {
   "cell_type": "markdown",
   "metadata": {},
   "source": [
    "************"
   ]
  },
  {
   "cell_type": "markdown",
   "metadata": {},
   "source": [
    "*************"
   ]
  },
  {
   "cell_type": "markdown",
   "metadata": {},
   "source": [
    "# Ciclos FOR\n",
    "\n",
    "Un ciclo <code>for</code> actua como un iterador en Python; va a recorrer elemento por elemento a aquellos objetos que esten en una secuencia o en que permitan la iteracion.\n",
    "\n",
    "Dentro de los objetos que conocemos podemos iterar sobre strings, listas, tuplas e incluso diccionarios.\n",
    "\n"
   ]
  },
  {
   "cell_type": "markdown",
   "metadata": {},
   "source": [
    "\n",
    "Aqui la sintaxis convencional de un ciclo <code>for</code> en Python:\n",
    "\n",
    "    for item in objeto:\n",
    "        acciones a realizar\n",
    "    "
   ]
  },
  {
   "cell_type": "markdown",
   "metadata": {},
   "source": [
    "Las palabras `for` e `in` son por defecto\n",
    "\n",
    "El nombre de la variable usada para determinar el `item` es elegida por el programador, por lo que lo ideal es usar un nombre que haga sentido sobre lo que esta haciendo referencia esa variable.\n",
    "\n",
    "Esta variable puede ser referenciada dentro del bloque del ciclo for para poder hacer operaciones, comparaciones, etc.\n",
    "\n",
    "El `objeto` es aquel sobre el cual vamos a realizar las iteraciones, sobre el cual vamos a recorrer los elementos."
   ]
  },
  {
   "cell_type": "markdown",
   "metadata": {},
   "source": [
    "###  Ejemplo 1\n",
    "Iteremos sobre listas"
   ]
  },
  {
   "cell_type": "code",
   "execution_count": 9,
   "metadata": {},
   "outputs": [],
   "source": [
    "lista1 = [1,2,3,4,5,6,7,8,9,10]"
   ]
  },
  {
   "cell_type": "code",
   "execution_count": 10,
   "metadata": {},
   "outputs": [
    {
     "name": "stdout",
     "output_type": "stream",
     "text": [
      "1\n",
      "2\n",
      "3\n",
      "4\n",
      "5\n",
      "6\n",
      "7\n",
      "8\n",
      "9\n",
      "10\n"
     ]
    }
   ],
   "source": [
    "for num in lista1:\n",
    "    print(num)"
   ]
  },
  {
   "cell_type": "markdown",
   "metadata": {},
   "source": [
    "### Ejemplo 2\n",
    "Imprimamos solamente los numeros pares de la lista"
   ]
  },
  {
   "cell_type": "code",
   "execution_count": 12,
   "metadata": {},
   "outputs": [
    {
     "name": "stdout",
     "output_type": "stream",
     "text": [
      "2\n",
      "4\n",
      "6\n",
      "8\n",
      "10\n"
     ]
    }
   ],
   "source": [
    "for num in lista1:\n",
    "    if num % 2 == 0:\n",
    "        print(num)"
   ]
  },
  {
   "cell_type": "markdown",
   "metadata": {},
   "source": [
    "Podemos usar la sentencia <code>else</code>:"
   ]
  },
  {
   "cell_type": "code",
   "execution_count": 13,
   "metadata": {},
   "outputs": [
    {
     "name": "stdout",
     "output_type": "stream",
     "text": [
      "Odd number\n",
      "2\n",
      "Odd number\n",
      "4\n",
      "Odd number\n",
      "6\n",
      "Odd number\n",
      "8\n",
      "Odd number\n",
      "10\n"
     ]
    }
   ],
   "source": [
    "for num in lista1:\n",
    "    if num % 2 == 0:\n",
    "        print(num)\n",
    "    else:\n",
    "        print('Odd number')"
   ]
  },
  {
   "cell_type": "markdown",
   "metadata": {},
   "source": [
    "### Ejemplo 3\n",
    "\n",
    "Otra aplicacion de los ciclos <code>for</code> es la de llevar registro de algun tipo de acumulador en cada iteracion, por ejemplo, supongamos que queremos sumar todos los elementos de la lista.\n"
   ]
  },
  {
   "cell_type": "code",
   "execution_count": 9,
   "metadata": {
    "scrolled": true
   },
   "outputs": [
    {
     "name": "stdout",
     "output_type": "stream",
     "text": [
      "55\n"
     ]
    }
   ],
   "source": [
    "# Start sum at zero\n",
    "list_sum = 0 \n",
    "\n",
    "for num in list1:\n",
    "    list_sum = list_sum + num\n",
    "\n",
    "print(list_sum)"
   ]
  },
  {
   "cell_type": "markdown",
   "metadata": {},
   "source": [
    "### Ejemplo 4\n",
    "\n",
    "Hasta ahora usamos los ciclos <code>for</code> con listas, ahora veamos con strings.\n",
    "\n",
    "Acuerdense que los strings son una **secuencia de caracteres** de modo que cuando iteremos sobre ellos cada `item` va a ser un caracter del string.\n"
   ]
  },
  {
   "cell_type": "code",
   "execution_count": 1,
   "metadata": {},
   "outputs": [
    {
     "name": "stdout",
     "output_type": "stream",
     "text": [
      "E\n",
      "s\n",
      "t\n",
      "o\n",
      " \n",
      "e\n",
      "s\n",
      " \n",
      "u\n",
      "n\n",
      " \n",
      "s\n",
      "t\n",
      "r\n",
      "i\n",
      "n\n",
      "g\n",
      ".\n"
     ]
    }
   ],
   "source": [
    "for letra in 'Esto es un string.':\n",
    "    print(letra)"
   ]
  },
  {
   "cell_type": "markdown",
   "metadata": {},
   "source": [
    "### Ejemplo 5\n",
    "Tambien podemos usar el ciclo <code>for</code> sobre una tupla."
   ]
  },
  {
   "cell_type": "code",
   "execution_count": 12,
   "metadata": {},
   "outputs": [
    {
     "name": "stdout",
     "output_type": "stream",
     "text": [
      "1\n",
      "2\n",
      "3\n",
      "4\n",
      "5\n"
     ]
    }
   ],
   "source": [
    "tup = (1,2,3,4,5)\n",
    "\n",
    "for t in tup:\n",
    "    print(t)"
   ]
  },
  {
   "cell_type": "markdown",
   "metadata": {},
   "source": [
    "### Ejemplo 6\n",
    "\n",
    "Las tuplas tienen una cualidad especial, esto es que permiten una operacion conocida como \"desenpaquetado\" (unpacking), en donde podemos asignar los distintos elementos de la tupla a distintas variables.\n",
    "\n",
    "Si estamos iterando sobre una secuencia que contiene tuplas, cada item va a ser una tupla, pero mediante el unpacking vamos a poder obtener cada elemento de la tupla.\n"
   ]
  },
  {
   "cell_type": "code",
   "execution_count": 2,
   "metadata": {},
   "outputs": [
    {
     "name": "stdout",
     "output_type": "stream",
     "text": [
      "12\n",
      "15\n"
     ]
    }
   ],
   "source": [
    "tupla = (12,15)\n",
    "var_1,var_2 = tupla\n",
    "print(var_1)\n",
    "print(var_2)"
   ]
  },
  {
   "cell_type": "code",
   "execution_count": 3,
   "metadata": {},
   "outputs": [],
   "source": [
    "list2 = [(2,4),(6,8),(10,12)]"
   ]
  },
  {
   "cell_type": "code",
   "execution_count": 4,
   "metadata": {},
   "outputs": [
    {
     "name": "stdout",
     "output_type": "stream",
     "text": [
      "(2, 4)\n",
      "(6, 8)\n",
      "(10, 12)\n"
     ]
    }
   ],
   "source": [
    "for tup in list2:\n",
    "    print(tup)"
   ]
  },
  {
   "cell_type": "code",
   "execution_count": 5,
   "metadata": {},
   "outputs": [
    {
     "name": "stdout",
     "output_type": "stream",
     "text": [
      "2\n",
      "6\n",
      "10\n"
     ]
    }
   ],
   "source": [
    "# Ahora con unpacking\n",
    "for (t1,t2) in list2:\n",
    "    print(t1)"
   ]
  },
  {
   "cell_type": "code",
   "execution_count": 6,
   "metadata": {},
   "outputs": [
    {
     "name": "stdout",
     "output_type": "stream",
     "text": [
      "6\n",
      "14\n",
      "22\n"
     ]
    }
   ],
   "source": [
    "# Ahora con unpacking\n",
    "for (t1,t2) in list2:\n",
    "    print(t1 + t2)"
   ]
  },
  {
   "cell_type": "markdown",
   "metadata": {},
   "source": [
    "Este tema es importante porque hay varios objetos que nos van a suministrar sus elementos a traves de iterables con tuplas dentro, un ejemplo claro de esto son los diccionarios.\n"
   ]
  },
  {
   "cell_type": "markdown",
   "metadata": {},
   "source": [
    "### Ejemplo 7\n",
    "\n",
    "Exploremos los diccionarios"
   ]
  },
  {
   "cell_type": "code",
   "execution_count": 8,
   "metadata": {},
   "outputs": [],
   "source": [
    "d = {'k1':1,'k2':2,'k3':3}"
   ]
  },
  {
   "cell_type": "code",
   "execution_count": 17,
   "metadata": {
    "scrolled": true
   },
   "outputs": [
    {
     "name": "stdout",
     "output_type": "stream",
     "text": [
      "k1\n",
      "k2\n",
      "k3\n"
     ]
    }
   ],
   "source": [
    "for item in d:\n",
    "    print(item)"
   ]
  },
  {
   "cell_type": "markdown",
   "metadata": {},
   "source": [
    "Veamos que iterando asi sobre el diccionario solo obtenemos las claves, pero como conseguimos los valores? O los pares clave:valor ?\n",
    "\n",
    "Recuerdan los metodos del diccionario: **.keys()**, **.values()** and **.items()**\n",
    "\n",
    "En Python cada uno de estos metodos nos devuelve un objeto *dictionary view object*, el cual soporta operaciones como iteracion.\n",
    "\n",
    "Veamos a lo que nos referimos\n"
   ]
  },
  {
   "cell_type": "code",
   "execution_count": 9,
   "metadata": {},
   "outputs": [
    {
     "data": {
      "text/plain": [
       "dict_items([('k1', 1), ('k2', 2), ('k3', 3)])"
      ]
     },
     "execution_count": 9,
     "metadata": {},
     "output_type": "execute_result"
    }
   ],
   "source": [
    "# Create a dictionary view object\n",
    "d.items()"
   ]
  },
  {
   "cell_type": "code",
   "execution_count": 19,
   "metadata": {},
   "outputs": [
    {
     "name": "stdout",
     "output_type": "stream",
     "text": [
      "k1\n",
      "1\n",
      "k2\n",
      "2\n",
      "k3\n",
      "3\n"
     ]
    }
   ],
   "source": [
    "# Dictionary unpacking\n",
    "for k,v in d.items():\n",
    "    print(k)\n",
    "    print(v) "
   ]
  },
  {
   "cell_type": "markdown",
   "metadata": {},
   "source": [
    "Este objeto devuelto por el metodo no nos es familiar, por lo que podemos transformarlo en una lista y aplicar las operaciones y metodos que ya conocemos."
   ]
  },
  {
   "cell_type": "code",
   "execution_count": 12,
   "metadata": {},
   "outputs": [
    {
     "data": {
      "text/plain": [
       "['k1', 'k2', 'k3']"
      ]
     },
     "execution_count": 12,
     "metadata": {},
     "output_type": "execute_result"
    }
   ],
   "source": [
    "list(d.keys())"
   ]
  },
  {
   "cell_type": "markdown",
   "metadata": {},
   "source": [
    "Recuerden que los diccionarios no estan ordenados, las claves y valores vienen en un orden arbitrario.\n",
    "\n",
    "Sin embargo, podemos obtener una lista ordenada usando la funcion `sorted()`\n",
    "\n"
   ]
  },
  {
   "cell_type": "code",
   "execution_count": 15,
   "metadata": {},
   "outputs": [
    {
     "data": {
      "text/plain": [
       "[1, 2, 3]"
      ]
     },
     "execution_count": 15,
     "metadata": {},
     "output_type": "execute_result"
    }
   ],
   "source": [
    "sorted(d.values())"
   ]
  },
  {
   "cell_type": "code",
   "execution_count": null,
   "metadata": {},
   "outputs": [],
   "source": []
  },
  {
   "cell_type": "markdown",
   "metadata": {},
   "source": [
    "## For + range\n",
    "\n",
    "Es una de las formas mas comunes de usar el ciclo `for`, pudiendo determinar exactamente cuantas veces queremos que se realice una tarea (que se ejecute un bloque de codigo).\n",
    "\n",
    "Para esto primero debemos introducir a la funcion `range()`"
   ]
  },
  {
   "cell_type": "markdown",
   "metadata": {},
   "source": [
    "La funcion `range()` nos permite generar de manera rapida una lista de enteros, esto es muy util, asique **presten atencion a como se usa**.\n",
    "\n",
    "La funcion permite el paso de tres paramentros, `start`, `stop` y `step` (los mismos parametros que vimos para el slicing)\n"
   ]
  },
  {
   "cell_type": "code",
   "execution_count": 16,
   "metadata": {},
   "outputs": [
    {
     "data": {
      "text/plain": [
       "range(0, 11)"
      ]
     },
     "execution_count": 16,
     "metadata": {},
     "output_type": "execute_result"
    }
   ],
   "source": [
    "range(0,11)"
   ]
  },
  {
   "cell_type": "markdown",
   "metadata": {},
   "source": [
    "Veamos que la funcion `range()` por si sola nos devuelve un generador, que adivinen, es otro objeto de Python.\n",
    "\n",
    "Un generador es un tipo especial de funcion que va a ir generando informacion cuando se la solicite, sin guardarla en la memoria.\n",
    "**Lo importante** de esto es que nosotros podemos convertirlo en una lista, para obtener los valores que genera."
   ]
  },
  {
   "cell_type": "code",
   "execution_count": 18,
   "metadata": {},
   "outputs": [
    {
     "data": {
      "text/plain": [
       "[0, 1, 2, 3, 4, 5, 6, 7, 8, 9, 10]"
      ]
     },
     "execution_count": 18,
     "metadata": {},
     "output_type": "execute_result"
    }
   ],
   "source": [
    "list(range(0, 11))"
   ]
  },
  {
   "cell_type": "code",
   "execution_count": 22,
   "metadata": {},
   "outputs": [
    {
     "data": {
      "text/plain": [
       "[0, 1, 2, 3, 4, 5, 6, 7, 8, 9, 10]"
      ]
     },
     "execution_count": 22,
     "metadata": {},
     "output_type": "execute_result"
    }
   ],
   "source": [
    "list(range(11))"
   ]
  },
  {
   "cell_type": "markdown",
   "metadata": {},
   "source": [
    "##### Y ahora la posta: for + range\n",
    "Esta combinacion es indispensable para hacer un ciclo que se repita una **cantidad de veces definida**, veamos de que estamos hablando.\n"
   ]
  },
  {
   "cell_type": "code",
   "execution_count": 25,
   "metadata": {},
   "outputs": [
    {
     "name": "stdout",
     "output_type": "stream",
     "text": [
      "Hola\n",
      "Hola\n",
      "Hola\n",
      "Hola\n",
      "Hola\n"
     ]
    }
   ],
   "source": [
    "# supongamos que queremos imprimir la palabra \"hola\" solo 5 veces\n",
    "\n",
    "len(list(range(5)))\n",
    "\n",
    "for rep in range(5):\n",
    "    print(\"Hola\")"
   ]
  },
  {
   "cell_type": "code",
   "execution_count": 27,
   "metadata": {},
   "outputs": [
    {
     "name": "stdout",
     "output_type": "stream",
     "text": [
      "Hola 0\n",
      "Hola 1\n",
      "Hola 2\n",
      "Hola 3\n",
      "Hola 4\n"
     ]
    }
   ],
   "source": [
    "for rep in range(5):\n",
    "    print(\"Hola\", rep)\n",
    "    "
   ]
  },
  {
   "cell_type": "markdown",
   "metadata": {},
   "source": [
    "## Recorriendo una secuencia, ATENCION A ESTE TEMA !!\n",
    "\n",
    "Ya vimos como recorrer una lista elemento a elemento y como funciona la funcion `range()`, dependiendo del problema vamos a tener que usar una aproximacion u otra a la hora de recorrer una lista.\n",
    "\n",
    "Es de suma importancia poder diferenciar en cada caso que sucede y que enfoque debemos optar para resolver el problema.\n",
    "\n",
    "Veamos a que nos referimos con este enfoque."
   ]
  },
  {
   "cell_type": "code",
   "execution_count": 10,
   "metadata": {},
   "outputs": [],
   "source": [
    " # supongamos que tenemos la lista de numeros\n",
    "    \n",
    "lista = [20,11,15,12,13,15,20,50]\n",
    "\n"
   ]
  },
  {
   "cell_type": "code",
   "execution_count": 29,
   "metadata": {},
   "outputs": [
    {
     "name": "stdout",
     "output_type": "stream",
     "text": [
      "20\n",
      "12\n",
      "20\n",
      "50\n"
     ]
    }
   ],
   "source": [
    "# recorrer la lista e imprimir aquellos numero que sean pares\n",
    "\n",
    "for num in lista:\n",
    "    if num%2==0:\n",
    "        print(num)"
   ]
  },
  {
   "cell_type": "code",
   "execution_count": 30,
   "metadata": {},
   "outputs": [
    {
     "data": {
      "text/plain": [
       "[0, 1, 2, 3, 4, 5, 6, 7]"
      ]
     },
     "execution_count": 30,
     "metadata": {},
     "output_type": "execute_result"
    }
   ],
   "source": [
    "# recorrer la lista e imprimir aquellos numero que TENGAN UN INDICE PAR, es decir, que ocupen una posicion\n",
    "# par, independientemente de su valor.\n",
    "\n",
    "list(range(len(lista)))"
   ]
  },
  {
   "cell_type": "code",
   "execution_count": 31,
   "metadata": {},
   "outputs": [
    {
     "name": "stdout",
     "output_type": "stream",
     "text": [
      "20\n",
      "15\n",
      "13\n",
      "20\n"
     ]
    }
   ],
   "source": [
    "for i in range(len(lista)):\n",
    "    if i%2==0:\n",
    "        print(lista[i])"
   ]
  },
  {
   "cell_type": "code",
   "execution_count": null,
   "metadata": {},
   "outputs": [],
   "source": [
    "# Este segundo caso es de suma utilidad cuando querramos hacer una reasignacion de ciertos elementos de una lista\n",
    "# Supongamos que queremos dada la lista, queremos reemplazar a todos los multiplos de 5 por el numero 99"
   ]
  },
  {
   "cell_type": "code",
   "execution_count": 11,
   "metadata": {},
   "outputs": [
    {
     "data": {
      "text/plain": [
       "[99, 11, 99, 12, 13, 99, 99, 99]"
      ]
     },
     "execution_count": 11,
     "metadata": {},
     "output_type": "execute_result"
    }
   ],
   "source": [
    "for i in range(len(lista)):\n",
    "    if lista[i]%5==0:\n",
    "        lista[i] = 99\n",
    "        \n",
    "lista"
   ]
  },
  {
   "cell_type": "code",
   "execution_count": null,
   "metadata": {},
   "outputs": [],
   "source": []
  },
  {
   "cell_type": "code",
   "execution_count": null,
   "metadata": {},
   "outputs": [],
   "source": []
  },
  {
   "cell_type": "markdown",
   "metadata": {},
   "source": [
    "### Ciclos for anidados\n",
    "\n",
    "En ocasiones queremos recorrer elementos que se encuentran dentro de elementos (listas dentro de listas por ejemplo), para ello necesitamos de un ciclo dentro de otro.\n",
    "\n",
    "Veamos a que nos referimos:"
   ]
  },
  {
   "cell_type": "code",
   "execution_count": 2,
   "metadata": {},
   "outputs": [],
   "source": [
    "# supongamos la siguiente lista de listas\n",
    "matriz = [[10,222,3],[4,59,6],[70,809,999]]\n",
    "\n",
    "# queremos recorrer todos los elementos de la matriz e imprimir aquellos numeros pares"
   ]
  },
  {
   "cell_type": "code",
   "execution_count": 3,
   "metadata": {
    "scrolled": true
   },
   "outputs": [
    {
     "name": "stdout",
     "output_type": "stream",
     "text": [
      "[10, 222, 3]\n",
      "[4, 59, 6]\n",
      "[70, 809, 999]\n"
     ]
    }
   ],
   "source": [
    "for elem in matriz:\n",
    "    print(elem)"
   ]
  },
  {
   "cell_type": "code",
   "execution_count": 4,
   "metadata": {
    "scrolled": true
   },
   "outputs": [
    {
     "name": "stdout",
     "output_type": "stream",
     "text": [
      "10\n",
      "222\n",
      "3\n",
      "4\n",
      "59\n",
      "6\n",
      "70\n",
      "809\n",
      "999\n"
     ]
    }
   ],
   "source": [
    "for elem in matriz:\n",
    "    for inner_elem in elem:\n",
    "        print(inner_elem)"
   ]
  },
  {
   "cell_type": "code",
   "execution_count": 5,
   "metadata": {},
   "outputs": [
    {
     "name": "stdout",
     "output_type": "stream",
     "text": [
      "10\n",
      "222\n",
      "4\n",
      "6\n",
      "70\n"
     ]
    }
   ],
   "source": [
    "for elem in matriz:\n",
    "    for inner_elem in elem:\n",
    "        if inner_elem%2 == 0:\n",
    "            print(inner_elem)"
   ]
  },
  {
   "cell_type": "code",
   "execution_count": null,
   "metadata": {},
   "outputs": [],
   "source": []
  },
  {
   "cell_type": "code",
   "execution_count": 12,
   "metadata": {},
   "outputs": [],
   "source": [
    "# lo mismo podemos hacer utilizando los indices,\n",
    "# dependiendo el nivel ver si dar este tema o no"
   ]
  },
  {
   "cell_type": "code",
   "execution_count": null,
   "metadata": {},
   "outputs": [],
   "source": [
    "for i in range(len(matriz)):\n",
    "    print(matriz[i])"
   ]
  },
  {
   "cell_type": "code",
   "execution_count": null,
   "metadata": {},
   "outputs": [],
   "source": [
    "for i in range(len(matriz)):\n",
    "    for j in range(len(matriz[i])):\n",
    "        print(matriz[i][j])"
   ]
  },
  {
   "cell_type": "code",
   "execution_count": null,
   "metadata": {},
   "outputs": [],
   "source": [
    "for i in range(len(matriz)):\n",
    "    for j in range(len(matriz[i])):\n",
    "        if matriz[i][j]%2 == 0:\n",
    "            print(matriz[i][j])"
   ]
  },
  {
   "cell_type": "code",
   "execution_count": null,
   "metadata": {},
   "outputs": [],
   "source": []
  },
  {
   "cell_type": "markdown",
   "metadata": {},
   "source": [
    "# MANOS A LA OBRA"
   ]
  },
  {
   "cell_type": "markdown",
   "metadata": {},
   "source": [
    "1- Dado el string `'Buenas tardes Sr. Gonzales'` imprimir la cantidad de veces que se repite la letra 's' (mayuscula y minuscula)"
   ]
  },
  {
   "cell_type": "code",
   "execution_count": 35,
   "metadata": {},
   "outputs": [
    {
     "name": "stdout",
     "output_type": "stream",
     "text": [
      "La cantidad es 4\n"
     ]
    }
   ],
   "source": [
    "string = 'Buenas tardes Sr. Gonzales'\n",
    "cont = 0\n",
    "for letra in string:\n",
    "    if letra.lower()=='s':\n",
    "        cont +=1\n",
    "print(\"La cantidad es {}\".format(cont))"
   ]
  },
  {
   "cell_type": "markdown",
   "metadata": {},
   "source": [
    "2- Dado el string `'bhieecnh oh ebciheon'` imprimir un nuevo string formado por la concatenacion de los caracteres que ocupan una posicion par (indice par)."
   ]
  },
  {
   "cell_type": "code",
   "execution_count": 45,
   "metadata": {},
   "outputs": [
    {
     "name": "stdout",
     "output_type": "stream",
     "text": [
      "bien hecho\n"
     ]
    }
   ],
   "source": [
    "string = 'bhieecnh oh ebciheon'\n",
    "new_string = ''\n",
    "for i in range(len(string)):\n",
    "    if i%2==0:\n",
    "        new_string += string[i]\n",
    "print(new_string)"
   ]
  },
  {
   "cell_type": "code",
   "execution_count": 46,
   "metadata": {},
   "outputs": [
    {
     "name": "stdout",
     "output_type": "stream",
     "text": [
      "hecho bien\n"
     ]
    }
   ],
   "source": [
    "# otra forma de hacerlo pero con las posiciones impares\n",
    "string = 'bhieecnh oh ebciheon'\n",
    "new_string = ''\n",
    "for i in range(1,len(string),2):\n",
    "    new_string += string[i]\n",
    "print(new_string)\n"
   ]
  },
  {
   "cell_type": "code",
   "execution_count": null,
   "metadata": {},
   "outputs": [],
   "source": []
  },
  {
   "cell_type": "code",
   "execution_count": null,
   "metadata": {},
   "outputs": [],
   "source": []
  },
  {
   "cell_type": "code",
   "execution_count": null,
   "metadata": {},
   "outputs": [],
   "source": []
  },
  {
   "cell_type": "markdown",
   "metadata": {},
   "source": [
    "# VEAMOS UN EJEMPLO AUN MAS INTERESANTE"
   ]
  },
  {
   "cell_type": "markdown",
   "metadata": {},
   "source": [
    "Supongamos que tenemos una lista con distintos datos de distintas personas, vamos a tener el nombre, apellido y provincia de origen.\n",
    "\n",
    "Dentro de la lista, vamos a tener varias listas, cada una representa a una persona en particular.\n",
    "\n",
    "Hagamos un analisis de ello."
   ]
  },
  {
   "cell_type": "code",
   "execution_count": 15,
   "metadata": {},
   "outputs": [],
   "source": [
    "lista = [['NOMBRE', 'APELLIDO', 'PROVINCIA'],\n",
    " ['Joaquin', 'Gorina', 'Chubut'],\n",
    " ['jose', 'Olmedo', 'misiones'],\n",
    " ['Julian', 'sosa', 'misiones'],\n",
    " ['florencia', 'lopez', 'neuquen'],\n",
    " ['sol', 'sanchez', 'salta'],\n",
    " ['xiMena', 'asturiAS', 'chubut'],\n",
    " ['sol', 'sanchez', 'chubut'],\n",
    " ['manuel', 'Olmedo', 'chaco'],\n",
    " ['jaVIer', 'montoya', 'tucuman'],\n",
    " ['rosa', 'montoya', 'tucuman'],\n",
    " ['miguel', 'montoya', 'tucuman'],\n",
    " ['jose', 'olmos', 'salta']]"
   ]
  },
  {
   "cell_type": "markdown",
   "metadata": {},
   "source": [
    "Lo primero que queremos hacer es visualizar un poco mejor esta lista, entonces vamos a imprimir los 3 datos de cada persona uno al lado del otro.\n",
    "\n",
    "Para ello recorramos cada elemento de la lista"
   ]
  },
  {
   "cell_type": "code",
   "execution_count": null,
   "metadata": {},
   "outputs": [],
   "source": [
    "for i in range(len(lista)):\n",
    "    for j in range(len(lista[i])):\n",
    "        print(lista[i][j])"
   ]
  },
  {
   "cell_type": "code",
   "execution_count": 20,
   "metadata": {},
   "outputs": [
    {
     "name": "stdout",
     "output_type": "stream",
     "text": [
      "NOMBRE APELLIDO PROVINCIA Joaquin Gorina Chubut jose Olmedo misiones Julian sosa misiones florencia lopez neuquen sol sanchez salta xiMena asturiAS chubut sol sanchez chubut manuel Olmedo chaco jaVIer montoya tucuman rosa montoya tucuman miguel montoya tucuman jose olmos salta "
     ]
    }
   ],
   "source": [
    "for i in range(len(lista)):\n",
    "    for j in range(len(lista[i])):\n",
    "        print(lista[i][j],end=' ')"
   ]
  },
  {
   "cell_type": "code",
   "execution_count": 19,
   "metadata": {},
   "outputs": [
    {
     "name": "stdout",
     "output_type": "stream",
     "text": [
      "NOMBRE APELLIDO PROVINCIA \n",
      "Joaquin Gorina Chubut \n",
      "jose Olmedo misiones \n",
      "Julian sosa misiones \n",
      "florencia lopez neuquen \n",
      "sol sanchez salta \n",
      "xiMena asturiAS chubut \n",
      "sol sanchez chubut \n",
      "manuel Olmedo chaco \n",
      "jaVIer montoya tucuman \n",
      "rosa montoya tucuman \n",
      "miguel montoya tucuman \n",
      "jose olmos salta \n"
     ]
    }
   ],
   "source": [
    "for i in range(len(lista)):\n",
    "    for j in range(len(lista[i])):\n",
    "        print(lista[i][j],end=' ')\n",
    "    print('')"
   ]
  },
  {
   "cell_type": "code",
   "execution_count": 16,
   "metadata": {
    "scrolled": true
   },
   "outputs": [
    {
     "name": "stdout",
     "output_type": "stream",
     "text": [
      "NOMBRE         APELLIDO       PROVINCIA      \n",
      "Joaquin        Gorina         Chubut         \n",
      "jose           Olmedo         misiones       \n",
      "Julian         sosa           misiones       \n",
      "florencia      lopez          neuquen        \n",
      "sol            sanchez        salta          \n",
      "xiMena         asturiAS       chubut         \n",
      "sol            sanchez        chubut         \n",
      "manuel         Olmedo         chaco          \n",
      "jaVIer         montoya        tucuman        \n",
      "rosa           montoya        tucuman        \n",
      "miguel         montoya        tucuman        \n",
      "jose           olmos          salta          \n"
     ]
    }
   ],
   "source": [
    "for i in range(len(lista)):\n",
    "    for j in range(len(lista[i])):\n",
    "        print(f'{lista[i][j]:{15}}',end='')\n",
    "    print('')"
   ]
  },
  {
   "cell_type": "markdown",
   "metadata": {},
   "source": [
    "Que vemos en estos datos?"
   ]
  },
  {
   "cell_type": "code",
   "execution_count": 21,
   "metadata": {},
   "outputs": [],
   "source": [
    "for i in range(1,len(lista)):\n",
    "    for j in range(len(lista[i])):\n",
    "        lista[i][j] = lista[i][j].capitalize()"
   ]
  },
  {
   "cell_type": "code",
   "execution_count": 22,
   "metadata": {
    "scrolled": true
   },
   "outputs": [
    {
     "name": "stdout",
     "output_type": "stream",
     "text": [
      "NOMBRE         APELLIDO       PROVINCIA      \n",
      "Joaquin        Gorina         Chubut         \n",
      "Jose           Olmedo         Misiones       \n",
      "Julian         Sosa           Misiones       \n",
      "Florencia      Lopez          Neuquen        \n",
      "Sol            Sanchez        Salta          \n",
      "Ximena         Asturias       Chubut         \n",
      "Sol            Sanchez        Chubut         \n",
      "Manuel         Olmedo         Chaco          \n",
      "Javier         Montoya        Tucuman        \n",
      "Rosa           Montoya        Tucuman        \n",
      "Miguel         Montoya        Tucuman        \n",
      "Jose           Olmos          Salta          \n"
     ]
    }
   ],
   "source": [
    "for i in range(len(lista)):\n",
    "    for j in range(len(lista[i])):\n",
    "        print(f'{lista[i][j]:{15}}',end='')\n",
    "    print('')"
   ]
  },
  {
   "cell_type": "code",
   "execution_count": 2,
   "metadata": {},
   "outputs": [],
   "source": [
    "lista_aux = [\"Joaquin Gorina Chubut\", 'jose Olmedo misiones', 'Julian sosa misiones', 'florencia lopez neuquen'\n",
    "            , 'sol sanchez salta', 'xiMena asturiAS chubut', 'sol sanchez chubut' ,'manuel Olmedo chaco'\n",
    "            , 'jaVIer montoya tucuman', 'rosa montoya tucuman', 'miguel montoya tucuman', 'jose olmos salta']"
   ]
  },
  {
   "cell_type": "code",
   "execution_count": 5,
   "metadata": {},
   "outputs": [
    {
     "data": {
      "text/plain": [
       "[['Joaquin', 'Gorina', 'Chubut'],\n",
       " ['jose', 'Olmedo', 'misiones'],\n",
       " ['Julian', 'sosa', 'misiones'],\n",
       " ['florencia', 'lopez', 'neuquen'],\n",
       " ['sol', 'sanchez', 'salta'],\n",
       " ['xiMena', 'asturiAS', 'chubut'],\n",
       " ['sol', 'sanchez', 'chubut'],\n",
       " ['manuel', 'Olmedo', 'chaco'],\n",
       " ['jaVIer', 'montoya', 'tucuman'],\n",
       " ['rosa', 'montoya', 'tucuman'],\n",
       " ['miguel', 'montoya', 'tucuman'],\n",
       " ['jose', 'olmos', 'salta']]"
      ]
     },
     "execution_count": 5,
     "metadata": {},
     "output_type": "execute_result"
    }
   ],
   "source": [
    "lista = [x.split() for x in lista_aux]\n",
    "lista"
   ]
  },
  {
   "cell_type": "code",
   "execution_count": null,
   "metadata": {},
   "outputs": [],
   "source": []
  }
 ],
 "metadata": {
  "kernelspec": {
   "display_name": "Python 3",
   "language": "python",
   "name": "python3"
  },
  "language_info": {
   "codemirror_mode": {
    "name": "ipython",
    "version": 3
   },
   "file_extension": ".py",
   "mimetype": "text/x-python",
   "name": "python",
   "nbconvert_exporter": "python",
   "pygments_lexer": "ipython3",
   "version": "3.7.0"
  }
 },
 "nbformat": 4,
 "nbformat_minor": 1
}
