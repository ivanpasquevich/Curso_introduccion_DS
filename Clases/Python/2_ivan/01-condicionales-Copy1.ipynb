{
 "cells": [
  {
   "cell_type": "markdown",
   "metadata": {},
   "source": [
    "# Condicionales\n",
    "\n",
    "Hasta el momento venimos corriendo codigo de manera lineal, una instruccion detras de la otra, pero que pasa si queremos empezar a tomar distintos caminos o acciones dentro del codigo en base a ciertas condiciones ?\n",
    "\n",
    "A este cambio en el flujo del programa se lo denomina control de flujo y se hace por medio de condicionales.\n",
    "\n",
    "A nivel de programacion, una sentencia condicional simple consiste básicamente en las siguientes partes principales:\n",
    "* 1- una prueba o **condicion** que evalúa a verdadero o falso.\n",
    "* 2- un bloque de código que se ejecuta si la prueba es verdadero.\n",
    "* 3- un bloque opcional de código si la prueba es falsa."
   ]
  },
  {
   "cell_type": "markdown",
   "metadata": {},
   "source": [
    "Veamos como se refleja esto en **Python** \n",
    "\n",
    "<code>if</code> Nos permite decirle al programa que ejecute ciertas acciones basadas en ciertas evaluaciones (la condicion).\n",
    "\n",
    "Podriamos decir que realmente le estamos diciendo a la computadora:\n",
    "\n",
    "\"Ei si esto se cumple, realiza esta accion\""
   ]
  },
  {
   "cell_type": "markdown",
   "metadata": {},
   "source": [
    "**Sintaxis :**\n",
    "\n",
    "    if condicion:\n",
    "        realizar esta accion\n",
    "\n",
    "\n",
    "Veamos unos ejemplos:"
   ]
  },
  {
   "cell_type": "code",
   "execution_count": 1,
   "metadata": {},
   "outputs": [
    {
     "name": "stdout",
     "output_type": "stream",
     "text": [
      "It was true!\n"
     ]
    }
   ],
   "source": [
    "if True:\n",
    "    print('Es verdad')"
   ]
  },
  {
   "cell_type": "code",
   "execution_count": 2,
   "metadata": {},
   "outputs": [
    {
     "name": "stdout",
     "output_type": "stream",
     "text": [
      "Es to se ejecuta porque 7 es igual a 7\n"
     ]
    }
   ],
   "source": [
    "if 5+2==7:\n",
    "    print(\"Es to se ejecuta porque {} es igual a {}\".format(5+2,7))"
   ]
  },
  {
   "cell_type": "code",
   "execution_count": null,
   "metadata": {},
   "outputs": [],
   "source": []
  },
  {
   "cell_type": "markdown",
   "metadata": {},
   "source": [
    "###### La indentacion\n",
    "\n",
    "Para indicarle a Python que instrucciones debe realizar si se cumple la condicion es necesario que el bloque a ejecutar este indentado, es decir, tenga una sangria adelante.\n",
    "\n",
    "Veamos a que nos referimos"
   ]
  },
  {
   "cell_type": "code",
   "execution_count": 8,
   "metadata": {},
   "outputs": [
    {
     "name": "stdout",
     "output_type": "stream",
     "text": [
      "Aca viene corriendo nuestro programa\n",
      "\n",
      "Es to se ejecuta porque 7 es igual a 7\n",
      "Eso se ejecuta porque sigue indentado\n",
      "Y esto tambien\n",
      "\n",
      "Esto ya esta fuera de la condicion, se va a ejecutar SIEMPRE\n",
      "Continuamos con nuestro programa\n"
     ]
    }
   ],
   "source": [
    "print(\"Aca viene corriendo nuestro programa\\n\")\n",
    "\n",
    "if 5+2==7:\n",
    "    print(\"Es to se ejecuta porque {} es igual a {}\".format(5+2,7))\n",
    "    print(\"Eso se ejecuta porque sigue indentado\")\n",
    "    print(\"Y esto tambien\\n\")\n",
    "    \n",
    "print(\"Esto ya esta fuera de la condicion, se va a ejecutar SIEMPRE\")\n",
    "print(\"Continuamos con nuestro programa\")"
   ]
  },
  {
   "cell_type": "code",
   "execution_count": null,
   "metadata": {},
   "outputs": [],
   "source": []
  },
  {
   "cell_type": "markdown",
   "metadata": {},
   "source": [
    "Podemos ampliar esta idea de los condicionales con la instruccion <code>else</code>, que nos va a permitir decirle a la computadora:\n",
    "\n",
    "\" Ei si esto se cumple, realiza esta accion. **Pero** si no se cumple, realiza esta otra accion\""
   ]
  },
  {
   "cell_type": "markdown",
   "metadata": {},
   "source": [
    "**Sintaxis**\n",
    "\n",
    "    if condicion:\n",
    "        realizar esta accion\n",
    "    else: \n",
    "        realizar esta otra accion\n",
    "        \n",
    "        \n",
    "Veamos algunos ejemplos:"
   ]
  },
  {
   "cell_type": "code",
   "execution_count": 3,
   "metadata": {
    "scrolled": true
   },
   "outputs": [
    {
     "name": "stdout",
     "output_type": "stream",
     "text": [
      "Esto se imprime en caso de que x no es True\n"
     ]
    }
   ],
   "source": [
    "x = False\n",
    "\n",
    "if x:\n",
    "    print('x es True!')\n",
    "else:\n",
    "    print('Esto se imprime en caso de que x no es True')"
   ]
  },
  {
   "cell_type": "code",
   "execution_count": 4,
   "metadata": {},
   "outputs": [
    {
     "name": "stdout",
     "output_type": "stream",
     "text": [
      "no tenemos elementos suficientes\n"
     ]
    }
   ],
   "source": [
    "lista = [1,2,3,4]\n",
    "\n",
    "if len(lista)>5:\n",
    "    print('Tenemos mas de 5 elementos en la lista')\n",
    "else:\n",
    "    print('No tenemos elementos suficientes')"
   ]
  },
  {
   "cell_type": "code",
   "execution_count": null,
   "metadata": {},
   "outputs": [],
   "source": []
  },
  {
   "cell_type": "markdown",
   "metadata": {},
   "source": [
    "Podemos ampliar aun mas la idea con la instruccion <code>elif</code> para el caso en el que queramos evaluar multiples condiciones y solo ejecutar una accion cuando se cumpla alguna de ellas (o absolutamente ninguna)\n",
    "\n",
    "**Sintaxis**\n",
    "\n",
    "    if condicion1:\n",
    "        realizar la primer accion\n",
    "    elif condicion2:\n",
    "        realizar la segunda accion\n",
    "    elif condicion3: \n",
    "        ...\n",
    "        .\n",
    "        .\n",
    "    else: \n",
    "        realizar esta otra accion\n",
    "        \n",
    "\"Ei si la condicion 1 se cumple realiza la primer accion, si no se cumple ahora fijate si se cumple la condicion dos, si se cumple realiza la segunda accion, sino evalua la condicion3 y asi sucesivamente. Si no se cumplio ninguna de las condiciones vas a tener que realizar la otra accion.\"\n",
    "\n"
   ]
  },
  {
   "cell_type": "code",
   "execution_count": null,
   "metadata": {},
   "outputs": [],
   "source": []
  },
  {
   "cell_type": "code",
   "execution_count": 11,
   "metadata": {},
   "outputs": [
    {
     "name": "stdout",
     "output_type": "stream",
     "text": [
      "Dale cualquier alimento\n"
     ]
    }
   ],
   "source": [
    "# ejemplo de que querramos ofrecer comida por la alimentacion del animal\n",
    "\n",
    "animal = \"Carnivoro\"\n",
    "\n",
    "if animal == \"Carnivoro\":\n",
    "    print(\"Dale carne\")\n",
    "elif animal == \"Herbivoro\":\n",
    "    print(\"Dale fruta\")\n",
    "else:\n",
    "    print(\"Dale cualquier alimento\")"
   ]
  },
  {
   "cell_type": "markdown",
   "metadata": {},
   "source": [
    "### Condicionales anidados\n",
    "\n",
    "Efectivamente Rick! los condicionales pueden anidarse, es decir, pueden existir condicionales dentro de condicionales.\n",
    "\n",
    "Veamos un ejemplo"
   ]
  },
  {
   "cell_type": "code",
   "execution_count": 15,
   "metadata": {},
   "outputs": [
    {
     "name": "stdout",
     "output_type": "stream",
     "text": [
      "b es el mayor\n"
     ]
    }
   ],
   "source": [
    "# supongamos que queremos encontrar el mayor de tres numeros distintos\n",
    "\n",
    "a = 4\n",
    "b = 6\n",
    "c = 2\n",
    "\n",
    "if a > b:\n",
    "    if a > c:\n",
    "        print('a es el mayor')\n",
    "    else:\n",
    "        print('c es el mayor')\n",
    "else:\n",
    "    if b > c:\n",
    "        print(\"b es el mayor\")\n",
    "    else:\n",
    "        print(\"c es el mayor\")\n",
    "        "
   ]
  },
  {
   "cell_type": "code",
   "execution_count": null,
   "metadata": {},
   "outputs": [],
   "source": []
  },
  {
   "cell_type": "markdown",
   "metadata": {},
   "source": [
    "# Manos a la obra"
   ]
  },
  {
   "cell_type": "markdown",
   "metadata": {},
   "source": [
    "Simular un juego de piedra papel o tijera, las variables jugador1 y jugador2 van a tener el valor del movimiento. Indicar que sucede en una ronda de la partida."
   ]
  },
  {
   "cell_type": "code",
   "execution_count": 16,
   "metadata": {},
   "outputs": [
    {
     "name": "stdout",
     "output_type": "stream",
     "text": [
      "gana jugador 2\n"
     ]
    }
   ],
   "source": [
    "jugador1 = 'piedra'\n",
    "jugador2 = 'papel'\n",
    "\n",
    "if jugador1 == jugador2:\n",
    "    print(\"Empate\")\n",
    "elif jugador1==\"tijera\":\n",
    "    if jugador2==\"piedra\":\n",
    "        print(\"gana jugador 2\")\n",
    "    else:\n",
    "        print(\"gana jugador 1\")\n",
    "elif jugador1==\"piedra\":\n",
    "    if jugador2==\"papel\":\n",
    "        print(\"gana jugador 2\")\n",
    "    else:\n",
    "        print(\"gana jugador 1\")\n",
    "elif jugador1==\"papel\":\n",
    "    if jugador2==\"tijera\":\n",
    "        print(\"gana jugador 2\")\n",
    "    else:\n",
    "        print(\"gana jugador 1\")\n",
    "else:\n",
    "    print(\"No hicieron un movimiento valido, juego anulado\")"
   ]
  },
  {
   "cell_type": "code",
   "execution_count": null,
   "metadata": {},
   "outputs": [],
   "source": []
  }
 ],
 "metadata": {
  "kernelspec": {
   "display_name": "Python 3",
   "language": "python",
   "name": "python3"
  },
  "language_info": {
   "codemirror_mode": {
    "name": "ipython",
    "version": 3
   },
   "file_extension": ".py",
   "mimetype": "text/x-python",
   "name": "python",
   "nbconvert_exporter": "python",
   "pygments_lexer": "ipython3",
   "version": "3.7.0"
  }
 },
 "nbformat": 4,
 "nbformat_minor": 1
}
