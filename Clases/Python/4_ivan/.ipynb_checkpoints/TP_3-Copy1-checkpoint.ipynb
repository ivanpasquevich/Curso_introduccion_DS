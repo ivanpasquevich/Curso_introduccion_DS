{
 "cells": [
  {
   "cell_type": "markdown",
   "metadata": {},
   "source": [
    "# Ejercicios sobre lo aprendido"
   ]
  },
  {
   "cell_type": "markdown",
   "metadata": {},
   "source": [
    "## Suban este notebook resuelto al drive con la nomenclatura nombre_apellido_TP_3"
   ]
  },
  {
   "cell_type": "code",
   "execution_count": null,
   "metadata": {},
   "outputs": [],
   "source": []
  },
  {
   "cell_type": "code",
   "execution_count": null,
   "metadata": {},
   "outputs": [],
   "source": []
  },
  {
   "cell_type": "markdown",
   "metadata": {},
   "source": [
    "## Funciones"
   ]
  },
  {
   "cell_type": "markdown",
   "metadata": {},
   "source": [
    "Vamos abordar el ejercicio del tp_2 pero ahora con el uso de funciones, veamos como cambia el orden y la legibilidad del codigo con el uso de funciones."
   ]
  },
  {
   "cell_type": "markdown",
   "metadata": {},
   "source": [
    "**Supongamos que tenemos una lista con distintos datos de distintas personas, vamos a tener el nombre, apellido, provincia de origen y fecha de nacimiento.**\n",
    "\n",
    " 1. Crear una funcion llamada **`visualizar`** que tenga como parametro una lista y muestre los datos de la misma de manera ordenada.\n",
    " 2. Crear una funcion llamada **`estandarizar`** que tenga como parametro una lista y se va a encargar de Estandarizar los nombres, apellidos y provincias para que empiecen con mayuscula.\n",
    " 3. Crear una funcion llamada **`calculo_edad`** que tenga como parametro una lista y va a Calcular la edad de cada persona al dia de hoy y agregar esa edad a nuestro conjunto de datos.\n",
    " 4. Crear una funcion llamada **`gente_mayor`** que tenga como parametro una lista y va a **devolver otra lista** con el encabezado y los datos de todas aquellas personas mayores a 55 años.\n",
    " 5. Crear una funcion llamada **`los_J`** que tenga como parametro una lista y va a **devolver otra lista** con el encabezado y con los datos de todas aquellas personas que tienen  nombre o apellido que empieza con 'J'."
   ]
  },
  {
   "cell_type": "code",
   "execution_count": null,
   "metadata": {},
   "outputs": [],
   "source": [
    "personas = [['NOMBRE', 'APELLIDO', 'PROVINCIA', \"NACIMIENTO\"],\n",
    " ['Joaquin', 'Gorina', 'Chubut', '1967'],\n",
    " ['jose', 'Olmedo', 'misiones', '1988'],\n",
    " ['Julian', 'sosa', 'misiones', '2005'],\n",
    " ['florencia', 'lopez', 'neuquen', '2000'],\n",
    " ['sol', 'jerva', 'salta', '1997'],\n",
    " ['xiMena', 'asturiAS', 'chubut', '1999'],\n",
    " ['sol', 'sanchez', 'chubut', '1993'],\n",
    " ['manuel', 'joaquin', 'chaco', '1980'],\n",
    " ['jaVIer', 'montoya', 'tucuman', '1969'],\n",
    " ['rosa', 'montoya', 'tucuman', '1927'],\n",
    " ['miguel', 'montoya', 'tucuman', '1934'],\n",
    " ['jose', 'olmos', 'salta', '1977']] "
   ]
  },
  {
   "cell_type": "markdown",
   "metadata": {},
   "source": [
    "Una vez definidas las funciones llamarlas en este orden todas en la misma celda:\n",
    "\n",
    "**Nota:** ojo con las funciones que devuelven elementos, no se olviden de asignarlos a variables para poder utilizarlos para la visualizacion"
   ]
  },
  {
   "cell_type": "code",
   "execution_count": 1,
   "metadata": {},
   "outputs": [],
   "source": [
    "#visualizar\n",
    "\n",
    "#estandarizar\n",
    "#visualizar\n",
    "\n",
    "#calculo_edad\n",
    "#visualizar\n",
    "\n",
    "#gente_mayor\n",
    "#visualizar (a la gente mayor)\n",
    "\n",
    "#los_J\n",
    "#visualizar (a los j)"
   ]
  },
  {
   "cell_type": "code",
   "execution_count": null,
   "metadata": {},
   "outputs": [],
   "source": []
  },
  {
   "cell_type": "code",
   "execution_count": null,
   "metadata": {},
   "outputs": [],
   "source": []
  },
  {
   "cell_type": "markdown",
   "metadata": {},
   "source": [
    "## El ahorcado"
   ]
  },
  {
   "cell_type": "markdown",
   "metadata": {},
   "source": [
    "En esta ocasion vamos a generar un juego muy sencillo, el ahorcado, la idea es comenzar a pensar como podemos ir combinando las herramientas vistas hasta el momento.\n",
    "\n",
    "Vamos a usar manejo de archivos, modulo random, ciclos for y while, funciones, entre otros..\n",
    "\n",
    "Manos a la obra !!"
   ]
  },
  {
   "cell_type": "markdown",
   "metadata": {},
   "source": [
    "--"
   ]
  },
  {
   "cell_type": "markdown",
   "metadata": {},
   "source": [
    "#### Paso 1\n",
    "Primero lo primero, necesitamos las palabras, las mismas estan en el archivo \"palabras_ahorcado.txt\", a los fines practicos se han eliminado los simbolos de acentuacion de todas las palabras.\n",
    "\n",
    "Para ello debemos:\n",
    "1. Leer el archivo\n",
    "2. Incluir en una lista llamada `lista_palabras` todas las palabras que hay en este archivo"
   ]
  },
  {
   "cell_type": "code",
   "execution_count": 15,
   "metadata": {},
   "outputs": [],
   "source": [
    "with open(\"palabras_ahorcado.txt\") as file:\n",
    "    texto = file.read()\n",
    "    \n",
    "lista_palabras = texto.split(\",\")"
   ]
  },
  {
   "cell_type": "markdown",
   "metadata": {},
   "source": [
    "#### Paso 2"
   ]
  },
  {
   "cell_type": "markdown",
   "metadata": {},
   "source": [
    "Crear una funcion llamada **eleccion** que recibe como argumento la lista_palabras, y utilizando el modulo random va a elegir y devolver una palabra aleatoria de la lista.\n"
   ]
  },
  {
   "cell_type": "code",
   "execution_count": 40,
   "metadata": {},
   "outputs": [],
   "source": [
    "import random\n",
    "\n",
    "def eleccion(lista):\n",
    "    return random.choice(lista)\n",
    "\n",
    "#eleccion(lista_palabras)"
   ]
  },
  {
   "cell_type": "markdown",
   "metadata": {},
   "source": [
    "#### Paso 3\n",
    "\n",
    "Crear una funcion llamada **espacios** que que recibe como argumento la palabra a adivinar y devuelve una lista con tantos elementos como caracteres tenga la palabra. Dichos elementos van a ser \"_\""
   ]
  },
  {
   "cell_type": "code",
   "execution_count": null,
   "metadata": {},
   "outputs": [],
   "source": [
    "#Ejemplo:\n",
    "\n",
    "#palabra = \"casa\"  entonces lista = [\"_\",\"_\",\"_\",\"_\"]\n",
    "\n",
    "#palabra = \"oso\"  entonces lista = [\"_\",\"_\",\"_\"]"
   ]
  },
  {
   "cell_type": "code",
   "execution_count": 34,
   "metadata": {},
   "outputs": [],
   "source": [
    "def  espacios(palabra):\n",
    "    return [\"_\"]*len(palabra)"
   ]
  },
  {
   "cell_type": "markdown",
   "metadata": {},
   "source": [
    "#### Paso 4\n",
    "\n",
    "Crear una funcion llamada **mostrar** que que reciba como argumento una lista (lista de \"_\") y nos imprima un string con los elementos de esta lista separados por un espacio en blanco.\n"
   ]
  },
  {
   "cell_type": "code",
   "execution_count": 42,
   "metadata": {},
   "outputs": [],
   "source": [
    "def  mostrar(lista):\n",
    "    print(\" \".join(lista))"
   ]
  },
  {
   "cell_type": "code",
   "execution_count": null,
   "metadata": {},
   "outputs": [],
   "source": []
  },
  {
   "cell_type": "markdown",
   "metadata": {},
   "source": [
    "#### Paso 5\n",
    "\n",
    "Crear una funcion llamada **adivinar** que va a tener 2 argumentos:\n",
    "1. La palabra a adivinar\n",
    "2. La lista de \"_\"\n",
    "\n",
    "En dicha funcion se le pedira al usuario que ingrese una letra, luego se convierte esta letra a minuscula y se verifica si la letra esta en la palabra a adivinar. De ser esto verdadero reemplazar en la lista el \"_\" por la letra, obviamente en las/la posicion que ocupa esa letra en la palabra."
   ]
  },
  {
   "cell_type": "code",
   "execution_count": 43,
   "metadata": {},
   "outputs": [],
   "source": [
    "def adivinar(palabra,lista):\n",
    "    letra = input(\"ingrese una letra: \").lower()\n",
    "    if letra in palabra:\n",
    "        for i in range(len(palabra)):\n",
    "            if palabra[i]==letra:\n",
    "                lista[i] = letra"
   ]
  },
  {
   "cell_type": "code",
   "execution_count": null,
   "metadata": {},
   "outputs": [],
   "source": []
  },
  {
   "cell_type": "markdown",
   "metadata": {},
   "source": [
    "#### Paso 6\n",
    "\n",
    "Crear una funcion llamada **verificar_continuidad** que va a tener como argumento la lista de \"_\" y va a verificar si la palabra fue adivinada o no (fijarse si existe algun _ dentro de la lista).\n",
    "\n",
    "En caso de que la palabra este completa debe devolver False, caso contrario True."
   ]
  },
  {
   "cell_type": "code",
   "execution_count": 44,
   "metadata": {},
   "outputs": [],
   "source": [
    "def verificar_continuidad(lista):\n",
    "    return \"_\" in lista"
   ]
  },
  {
   "cell_type": "code",
   "execution_count": null,
   "metadata": {},
   "outputs": [],
   "source": []
  },
  {
   "cell_type": "markdown",
   "metadata": {},
   "source": [
    "#### Paso 7 \n",
    "\n",
    "Ya tenemos las funciones necesarias para el desarrollo del programa ahora hay que armar el esqueleto para ir llamando a las funciones.\n",
    "\n",
    "Les dejo el esquema semiarmado, donde esten los comentarios tienen que completar con el llamado a las funciones\n",
    "\n"
   ]
  },
  {
   "cell_type": "code",
   "execution_count": null,
   "metadata": {},
   "outputs": [],
   "source": [
    "\n",
    "# Paso 2, guardar la palabra en alguna variable !\n",
    "\n",
    "# Paso 3, guardar la lista en alguna variable !\n",
    "\n",
    "print (\" Hora de jugar, esta es su palabra:\")\n",
    "# Paso 4\n",
    "\n",
    "while #Paso 6:\n",
    "    #Paso 5\n",
    "    # Paso 4\n",
    "        \n",
    "print(f\"Felicidades ha ganado la palabra es {palabra}\")\n",
    "\n",
    "\n"
   ]
  },
  {
   "cell_type": "code",
   "execution_count": 45,
   "metadata": {},
   "outputs": [
    {
     "name": "stdout",
     "output_type": "stream",
     "text": [
      " Hora de jugar, esta es su palabra:\n",
      "_ _ _ _ _ _ _ _\n",
      "ingrese una letra: a\n",
      "_ _ _ _ _ _ a _\n",
      "ingrese una letra: v\n",
      "_ _ _ _ _ _ a _\n",
      "ingrese una letra: u\n",
      "_ _ _ _ _ _ a _\n",
      "ingrese una letra: i\n",
      "_ _ _ _ _ _ a _\n",
      "ingrese una letra: o\n",
      "_ _ _ _ _ _ a _\n",
      "ingrese una letra: e\n",
      "_ e _ e _ _ a _\n",
      "ingrese una letra: p\n",
      "p e _ e _ _ a _\n",
      "ingrese una letra: s\n",
      "p e _ e s _ a _\n",
      "ingrese una letra: t\n",
      "p e _ e s t a _\n",
      "ingrese una letra: d\n",
      "p e d e s t a _\n",
      "ingrese una letra: l\n",
      "p e d e s t a l\n",
      "Felicidades ha ganado la palabra es pedestal\n"
     ]
    }
   ],
   "source": [
    "palabra = eleccion(lista_palabras)\n",
    "\n",
    "lista_ = espacios(palabra)\n",
    "\n",
    "print (\" Hora de jugar, esta es su palabra:\")\n",
    "mostrar(lista_)\n",
    "\n",
    "while verificar_continuidad(lista_):\n",
    "    adivinar(palabra,lista_)\n",
    "    mostrar(lista_)\n",
    "        \n",
    "print(f\"Felicidades ha ganado la palabra es {palabra}\")"
   ]
  },
  {
   "cell_type": "markdown",
   "metadata": {},
   "source": [
    "#### Paso 8\n",
    "\n",
    "Incluir todo el codigo en una sola celda, asi corremos solo esta cada vez que querramos jugar al ahorcado"
   ]
  },
  {
   "cell_type": "code",
   "execution_count": 3,
   "metadata": {},
   "outputs": [
    {
     "name": "stdout",
     "output_type": "stream",
     "text": [
      " Hora de jugar, esta es su palabra:\n",
      "_ _ _ _ _ _\n",
      "ingrese una letra: m\n",
      "_ _ _ _ _ _\n",
      "ingrese una letra: a\n",
      "_ _ a _ _ _\n",
      "ingrese una letra: n\n",
      "_ _ a n _ _\n",
      "ingrese una letra: r\n",
      "_ _ a n _ _\n",
      "ingrese una letra: e\n",
      "_ _ a n _ _\n",
      "ingrese una letra: s\n",
      "_ _ a n _ _\n",
      "ingrese una letra: o\n",
      "_ _ a n _ o\n",
      "ingrese una letra: t\n",
      "_ _ a n _ o\n",
      "ingrese una letra: c\n",
      "_ _ a n c o\n",
      "ingrese una letra: f\n",
      "_ _ a n c o\n",
      "ingrese una letra: b\n",
      "b _ a n c o\n",
      "ingrese una letra: l\n",
      "b l a n c o\n",
      "Felicidades ha ganado la palabra es blanco\n"
     ]
    }
   ],
   "source": [
    "import random\n",
    "\n",
    "def eleccion(lista):\n",
    "    return random.choice(lista)\n",
    "\n",
    "def  espacios(palabra):\n",
    "    return [\"_\"]*len(palabra)\n",
    "\n",
    "def  mostrar(lista):\n",
    "    print(\" \".join(lista))\n",
    "    \n",
    "def adivinar(palabra,lista):\n",
    "    letra = input(\"ingrese una letra: \").lower()\n",
    "    if letra in palabra:\n",
    "        for i in range(len(palabra)):\n",
    "            if palabra[i]==letra:\n",
    "                lista[i] = letra\n",
    "                \n",
    "def verificar_continuidad(lista):\n",
    "    return \"_\" in lista\n",
    "\n",
    "def main():\n",
    "\n",
    "    with open(\"palabras_ahorcado.txt\") as file:\n",
    "        texto = file.read()\n",
    "\n",
    "    lista_palabras = texto.split(\",\")\n",
    "\n",
    "    palabra = eleccion(lista_palabras)\n",
    "\n",
    "    lista_ = espacios(palabra)\n",
    "\n",
    "    print (\" Hora de jugar, esta es su palabra:\")\n",
    "    mostrar(lista_)\n",
    "\n",
    "    while verificar_continuidad(lista_):\n",
    "        adivinar(palabra,lista_)\n",
    "        mostrar(lista_)\n",
    "\n",
    "    print(f\"Felicidades ha ganado la palabra es {palabra}\")\n",
    "    \n",
    "    \n",
    "main()"
   ]
  },
  {
   "cell_type": "code",
   "execution_count": null,
   "metadata": {},
   "outputs": [
    {
     "name": "stdout",
     "output_type": "stream",
     "text": [
      " Hora de jugar, esta es su palabra:\n",
      "_ _ _ _ _ _ _ _ _\n"
     ]
    }
   ],
   "source": [
    "# hacer que la celda corra el .py donde esta el juego asi vemos como se ve\n",
    "%run ahorcado.py"
   ]
  },
  {
   "cell_type": "code",
   "execution_count": null,
   "metadata": {},
   "outputs": [],
   "source": []
  },
  {
   "cell_type": "markdown",
   "metadata": {},
   "source": [
    "### Parte opcional\n",
    "\n",
    "**Esta seccion NO es requisito para presentar el TP**\n",
    "\n",
    "Para quienes quieran jugar un rato mas pueden hacerle mejoras al juego como las siguientes:\n",
    "1. Mostrar en cuantos turnos se adivino la palabra.\n",
    "2. Agregar una cantidad finita de intentos.\n",
    "3. Dar la opcion de insertar una letra o la palabra completa.\n",
    "4. Hacer el juego de dos jugadores con dos palabras distintas y el que adivina primero gana.\n",
    "5. Las que a ustedes se les ocurra, es prueba y error !!"
   ]
  },
  {
   "cell_type": "code",
   "execution_count": null,
   "metadata": {},
   "outputs": [],
   "source": []
  },
  {
   "cell_type": "code",
   "execution_count": null,
   "metadata": {},
   "outputs": [],
   "source": []
  },
  {
   "cell_type": "code",
   "execution_count": null,
   "metadata": {},
   "outputs": [],
   "source": []
  },
  {
   "cell_type": "code",
   "execution_count": null,
   "metadata": {},
   "outputs": [],
   "source": []
  },
  {
   "cell_type": "markdown",
   "metadata": {},
   "source": [
    "## Suban este notebook resuelto al drive con la nomenclatura nombre_apellido_TP_3"
   ]
  }
 ],
 "metadata": {
  "kernelspec": {
   "display_name": "Python 3",
   "language": "python",
   "name": "python3"
  },
  "language_info": {
   "codemirror_mode": {
    "name": "ipython",
    "version": 3
   },
   "file_extension": ".py",
   "mimetype": "text/x-python",
   "name": "python",
   "nbconvert_exporter": "python",
   "pygments_lexer": "ipython3",
   "version": "3.7.0"
  }
 },
 "nbformat": 4,
 "nbformat_minor": 4
}
