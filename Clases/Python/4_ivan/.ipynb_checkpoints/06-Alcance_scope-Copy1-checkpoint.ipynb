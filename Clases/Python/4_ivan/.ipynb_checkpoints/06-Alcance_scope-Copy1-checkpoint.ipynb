{
 "cells": [
  {
   "cell_type": "markdown",
   "metadata": {},
   "source": [
    "# Alcance de las funciones\n",
    "\n",
    "Ahora que ya sabemos como crear funciones, es importante saber como se maneja Python con los nombres de las variables que utilizamos.\n",
    "\n",
    "Cada variable tiene un **alcance** (scope en ingles) que nos va a determinar la visibilidad de la variable en las distintas partes del codigo.\n",
    "\n",
    "Supongamos el siguiente ejemplo:"
   ]
  },
  {
   "cell_type": "code",
   "execution_count": 16,
   "metadata": {},
   "outputs": [],
   "source": [
    "x = 25\n",
    "\n",
    "def printer():\n",
    "    x = 50\n",
    "    return x\n",
    "\n",
    "# print(x)\n",
    "# print(printer())"
   ]
  },
  {
   "cell_type": "markdown",
   "metadata": {},
   "source": [
    "Cual sera la salida de estos prints ??"
   ]
  },
  {
   "cell_type": "code",
   "execution_count": 2,
   "metadata": {},
   "outputs": [
    {
     "name": "stdout",
     "output_type": "stream",
     "text": [
      "25\n"
     ]
    }
   ],
   "source": [
    "print(x)"
   ]
  },
  {
   "cell_type": "code",
   "execution_count": 3,
   "metadata": {},
   "outputs": [
    {
     "name": "stdout",
     "output_type": "stream",
     "text": [
      "50\n"
     ]
    }
   ],
   "source": [
    "print(printer())"
   ]
  },
  {
   "cell_type": "markdown",
   "metadata": {},
   "source": [
    "Como se da cuenta Python a que **x** nos estamos refiriendo en el codigo?\n",
    "\n",
    "Aca es cuando la idea del alcance de las variables entra en juego, PYTHON tiene una serie de reglas para decidir a que variable nos estamos refiriendo en el codigo.\n",
    "\n",
    "\n"
   ]
  },
  {
   "cell_type": "markdown",
   "metadata": {
    "collapsed": true
   },
   "source": [
    "\n",
    "### Regla LEGB :\n",
    "\n",
    "**L: Local** — Nombres asignados dentro de una funcion (def or lambda), y que no sean declarados globales en esa funcion.\n",
    "\n",
    "**E: Enclosing function locals** — Nombres en el alcance local de cualquiera de las funciones anidadas (de adentro hacia afuera) y que no sean declarados globales en esa funcion.\n",
    "\n",
    "**G: Global** — Nombres asignados a nivel global del codigo (sin indentacion) o declarados como globales en alguna funcion.\n",
    "\n",
    "**B: Built-in** — Nombres propios de Python como len,range,int "
   ]
  },
  {
   "cell_type": "markdown",
   "metadata": {},
   "source": [
    "En base a esta regla Python va a ir buscando la variable en este orden"
   ]
  },
  {
   "cell_type": "markdown",
   "metadata": {},
   "source": [
    "## Ejemplos de LEGB\n",
    "\n",
    "### Local"
   ]
  },
  {
   "cell_type": "code",
   "execution_count": 8,
   "metadata": {},
   "outputs": [],
   "source": [
    "# x is local here:\n",
    "f = lambda x:x**2"
   ]
  },
  {
   "cell_type": "markdown",
   "metadata": {},
   "source": [
    "### Enclosing function locals\n",
    "Ocurre cuando tenemos funciones dentro de funciones\n"
   ]
  },
  {
   "cell_type": "code",
   "execution_count": 9,
   "metadata": {},
   "outputs": [
    {
     "name": "stdout",
     "output_type": "stream",
     "text": [
      "Nos vemos Hugo\n"
     ]
    }
   ],
   "source": [
    "nombre = 'nombre global'\n",
    "\n",
    "def saludo():\n",
    "    #Enclosing function\n",
    "    nombre = 'Hugo'\n",
    "    \n",
    "    def chau():\n",
    "        print('Nos vemos '+ nombre)\n",
    "    \n",
    "    chau()\n",
    "\n",
    "saludo()"
   ]
  },
  {
   "cell_type": "markdown",
   "metadata": {},
   "source": [
    "### Global\n",
    "Podemos chequear por una variable global en otra celda del notebook"
   ]
  },
  {
   "cell_type": "code",
   "execution_count": 10,
   "metadata": {},
   "outputs": [
    {
     "name": "stdout",
     "output_type": "stream",
     "text": [
      "nombre global\n"
     ]
    }
   ],
   "source": [
    "print(nombre)"
   ]
  },
  {
   "cell_type": "markdown",
   "metadata": {},
   "source": [
    "### Built-in\n",
    "Nombres propios de Python, **ya vimos que no los debemos usar como nombres de variables !**"
   ]
  },
  {
   "cell_type": "code",
   "execution_count": 7,
   "metadata": {},
   "outputs": [
    {
     "data": {
      "text/plain": [
       "<function len>"
      ]
     },
     "execution_count": 7,
     "metadata": {},
     "output_type": "execute_result"
    }
   ],
   "source": [
    "len"
   ]
  },
  {
   "cell_type": "markdown",
   "metadata": {},
   "source": [
    "##  Variables locales\n",
    "\n",
    "Cuando declaramos variables dentro de la definicion de una funcion, no estan relacionadas de ninguna manera con variables con el mismo nombre fuera de la funcion.\n",
    "\n",
    "Ejemplo:\n"
   ]
  },
  {
   "cell_type": "code",
   "execution_count": 25,
   "metadata": {
    "scrolled": true
   },
   "outputs": [
    {
     "name": "stdout",
     "output_type": "stream",
     "text": [
      "x vale 50\n",
      "Cambiamos x localmente a  2\n",
      "{'x': 2}\n",
      "x sigue valiendo  50\n"
     ]
    }
   ],
   "source": [
    "x = 50\n",
    "print(\"x vale\",x)\n",
    "\n",
    "def func():\n",
    "    x = 2\n",
    "    print('Cambiamos x localmente a ', x)\n",
    "\n",
    "func()\n",
    "print('x sigue valiendo ', x)"
   ]
  },
  {
   "cell_type": "markdown",
   "metadata": {},
   "source": [
    "\n",
    "\n",
    "## La sentencia <code>global</code> \n",
    "\n",
    "Si queremos asignar un valor a una variable definita a nivel global del programa (sin indentacion), entonces le tenemos que decir a Python que esa variable es global, y no local.\n",
    "\n",
    "Esto se hace usando la sentencia <code>global</code>.\n",
    "\n",
    "Ejemplo:"
   ]
  },
  {
   "cell_type": "code",
   "execution_count": 23,
   "metadata": {},
   "outputs": [
    {
     "name": "stdout",
     "output_type": "stream",
     "text": [
      "x vale 50\n",
      "Cambiamos x a  2\n",
      "{}\n",
      "x vale  2\n"
     ]
    }
   ],
   "source": [
    "x = 50\n",
    "print(\"x vale\",x)\n",
    "\n",
    "def func():\n",
    "    global x\n",
    "    x = 2\n",
    "    print('Cambiamos x a ', x)\n",
    "   \n",
    "\n",
    "func()\n",
    "print('x vale ', x)\n"
   ]
  },
  {
   "cell_type": "markdown",
   "metadata": {
    "collapsed": true
   },
   "source": [
    "Podemos especificar mas de una variable global usando la misma sentencia, por ejemplo <code>global x, y, z</code>.\n"
   ]
  },
  {
   "cell_type": "code",
   "execution_count": null,
   "metadata": {},
   "outputs": [],
   "source": []
  },
  {
   "cell_type": "code",
   "execution_count": null,
   "metadata": {},
   "outputs": [],
   "source": []
  },
  {
   "cell_type": "markdown",
   "metadata": {
    "collapsed": true
   },
   "source": [
    "## Tip\n",
    "Podemos usar las funciones **globals()** y **locals()** para ver que variables tenemos a nivel global y local respectivamente.\n",
    "\n",
    "Dichas funciones nos devuelven un diccionario conteniendo las variables y su valor.\n",
    "\n"
   ]
  }
 ],
 "metadata": {
  "kernelspec": {
   "display_name": "Python 3",
   "language": "python",
   "name": "python3"
  },
  "language_info": {
   "codemirror_mode": {
    "name": "ipython",
    "version": 3
   },
   "file_extension": ".py",
   "mimetype": "text/x-python",
   "name": "python",
   "nbconvert_exporter": "python",
   "pygments_lexer": "ipython3",
   "version": "3.7.0"
  }
 },
 "nbformat": 4,
 "nbformat_minor": 1
}
