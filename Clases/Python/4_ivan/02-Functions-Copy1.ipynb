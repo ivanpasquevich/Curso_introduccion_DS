{
 "cells": [
  {
   "cell_type": "markdown",
   "metadata": {},
   "source": [
    "# Funciones\n",
    "\n",
    "**Que es una funcion?**\n",
    "\n",
    "Una funcion, se presenta como un subalgoritmo que forma parte del algoritmo principal, el cual permite resolver una tarea específica.\n",
    "\n",
    "Una funcion es un objeto que agrupa un conjunto de instrucciones para resolver una tarea especifica, y al usarla (llamarla) vamos a ejecutar ese conjunto de instrucciones que la conforman.\n",
    "\n",
    "Cuando hablamos de funciones es importante diferenciar los terminos de **definir** una funcion y **llamar** a una funcion."
   ]
  },
  {
   "cell_type": "markdown",
   "metadata": {},
   "source": [
    "**Por que es tan importante su uso?**\n",
    "\n",
    "Las funciones nos van a permitir que no repitamos un conjunto de instrucciones una y otra vez dentro del codigo, sino que definimos estas intrucciones en la creacion de la funcion y luego las reutilizamos con solo llamar a la funcion."
   ]
  },
  {
   "cell_type": "markdown",
   "metadata": {},
   "source": [
    "## Sentencia def \n",
    "\n",
    "Veamos como **definir** (crear) una funcion en Python, a continuacion su sintaxis"
   ]
  },
  {
   "cell_type": "code",
   "execution_count": 1,
   "metadata": {},
   "outputs": [],
   "source": [
    "def nombre_funcion(arg1,arg2):\n",
    "    '''\n",
    "    Aca va la documentacion de la funcion (docstring), explica lo que hace la funcion.\n",
    "    '''\n",
    "    # Hacer cosas\n",
    "    # Devolver algo (o no)"
   ]
  },
  {
   "cell_type": "markdown",
   "metadata": {},
   "source": [
    "- Comenzamos con la sentencia <code>def</code> un espacio y luego el nombre de la funcion (reglas nombres variables). Es importante que los nombres de las funciones sean representativos de las tareas que realizan.\n",
    "\n",
    "- Luego viene un par de parentesis con una cantidad  x de argumentos separados por comas. Estos argumentos van a ser las entradas de la funcion, uno puede usar estas entradas dentro de la funcion para hacer distintas operaciones, comparaciones, etc. \n",
    "\n",
    "- Luego vienen los famosos `:` que nos van a dar lugar a la indentacion. **Es indispensable que a partir de aca todo lo que se escriba en la funcion este indentado**\n",
    "\n",
    "- Luego vamos a ver el docstring, esto es opcional pero es buena practica incluirlo, sirve para dar un entendimiento basico de lo que hace la funcion a personas que no la crearon pero quieren usarla. Nosotros venimos consultando por esto bastantes seguido cuando usamos la funcion `help()`.\n",
    "\n",
    "- Despues de todo esto recien empezamos a escribir el codigo que queramos que se ejecute cuando llamemos a nuestra funcion.\n",
    "\n",
    "- Por ultimo las funciones suelen devolvernos algo, el resultado de alguna cuenta, un estado de condicion o cualquier objeto incluso otra funcion. De todos modos existen funciones que no devuelven nada, solo realizan instrucciones."
   ]
  },
  {
   "cell_type": "markdown",
   "metadata": {},
   "source": [
    "Ahora veamos como **llamar** a la funcion que acabamos de definir"
   ]
  },
  {
   "cell_type": "code",
   "execution_count": null,
   "metadata": {},
   "outputs": [],
   "source": [
    "nombre_funcion(arg1,arg2)"
   ]
  },
  {
   "cell_type": "code",
   "execution_count": null,
   "metadata": {},
   "outputs": [],
   "source": []
  },
  {
   "cell_type": "markdown",
   "metadata": {},
   "source": [
    "### Ahora entendamos con ejemplos"
   ]
  },
  {
   "cell_type": "markdown",
   "metadata": {},
   "source": [
    "#### Ej 1"
   ]
  },
  {
   "cell_type": "markdown",
   "metadata": {},
   "source": [
    "Definimos"
   ]
  },
  {
   "cell_type": "code",
   "execution_count": 1,
   "metadata": {},
   "outputs": [],
   "source": [
    "def decir_hola():\n",
    "    print('hola')"
   ]
  },
  {
   "cell_type": "markdown",
   "metadata": {},
   "source": [
    "Llamamos"
   ]
  },
  {
   "cell_type": "code",
   "execution_count": 3,
   "metadata": {},
   "outputs": [
    {
     "name": "stdout",
     "output_type": "stream",
     "text": [
      "hola\n"
     ]
    }
   ],
   "source": [
    "decir_hola()"
   ]
  },
  {
   "cell_type": "markdown",
   "metadata": {},
   "source": [
    "##### Ej 2\n"
   ]
  },
  {
   "cell_type": "code",
   "execution_count": 5,
   "metadata": {},
   "outputs": [],
   "source": [
    "def presentacion(nombre):\n",
    "    print(f'Hola mi nombre es {nombre}')"
   ]
  },
  {
   "cell_type": "code",
   "execution_count": 6,
   "metadata": {},
   "outputs": [
    {
     "name": "stdout",
     "output_type": "stream",
     "text": [
      "Hola mi nombre es Ivan\n"
     ]
    }
   ],
   "source": [
    "presentacion('Ivan')"
   ]
  },
  {
   "cell_type": "code",
   "execution_count": 7,
   "metadata": {},
   "outputs": [
    {
     "name": "stdout",
     "output_type": "stream",
     "text": [
      "Hola mi nombre es Florencia\n"
     ]
    }
   ],
   "source": [
    "presentacion('Florencia')"
   ]
  },
  {
   "cell_type": "code",
   "execution_count": null,
   "metadata": {},
   "outputs": [],
   "source": []
  },
  {
   "cell_type": "markdown",
   "metadata": {},
   "source": [
    "#### Ej 3"
   ]
  },
  {
   "cell_type": "code",
   "execution_count": 12,
   "metadata": {},
   "outputs": [],
   "source": [
    "def presentacion(nombre1,nombre2):\n",
    "    print(f'Hola mi nombre es {nombre1} y su nombre es {nombre2}')"
   ]
  },
  {
   "cell_type": "code",
   "execution_count": 13,
   "metadata": {},
   "outputs": [
    {
     "name": "stdout",
     "output_type": "stream",
     "text": [
      "Hola mi nombre es ivan y su nombre es florencia\n"
     ]
    }
   ],
   "source": [
    "presentacion('ivan',\"florencia\")"
   ]
  },
  {
   "cell_type": "code",
   "execution_count": 14,
   "metadata": {},
   "outputs": [],
   "source": [
    "def presentacion(nombre1,nombre2):\n",
    "    print(f'Hola mi nombre es {nombre1.capitalize()} y su nombre es {nombre2.capitalize()}')"
   ]
  },
  {
   "cell_type": "code",
   "execution_count": 15,
   "metadata": {},
   "outputs": [
    {
     "name": "stdout",
     "output_type": "stream",
     "text": [
      "Hola mi nombre es Ivan y su nombre es Florencia\n"
     ]
    }
   ],
   "source": [
    "presentacion('ivan',\"florencia\")"
   ]
  },
  {
   "cell_type": "code",
   "execution_count": null,
   "metadata": {},
   "outputs": [],
   "source": []
  },
  {
   "cell_type": "code",
   "execution_count": 4,
   "metadata": {},
   "outputs": [],
   "source": [
    "# usando la documentacion (docstring)\n",
    "\n",
    "def presentacion(nombre1,nombre2):\n",
    "    '''\n",
    "    Esta funcion nos va a devolver una frase con los nombres como deben escribirse\n",
    "    '''\n",
    "    print(f'Hola mi nombre es {nombre1.capitalize()} y su nombre es {nombre2.capitalize()}')"
   ]
  },
  {
   "cell_type": "code",
   "execution_count": 5,
   "metadata": {
    "scrolled": true
   },
   "outputs": [
    {
     "name": "stdout",
     "output_type": "stream",
     "text": [
      "Help on function presentacion in module __main__:\n",
      "\n",
      "presentacion(nombre1, nombre2)\n",
      "    Esta funcion nos va a devolver una frase con los nombres como deben escribirse\n",
      "\n"
     ]
    }
   ],
   "source": [
    "help(presentacion)"
   ]
  },
  {
   "cell_type": "code",
   "execution_count": null,
   "metadata": {},
   "outputs": [],
   "source": []
  },
  {
   "cell_type": "markdown",
   "metadata": {},
   "source": [
    "## Usando return\n",
    "\n",
    "Hasta ahora estas funciones solo imprimen cosas, pero no nos devuelven nada.\n",
    "\n",
    "Para que una funcion nos devuelva un objeto necesitamos usar la sentencia <code>return</code>, este objeto devuelto podra ser asignado a una variable o usado de la manera que se desee.\n",
    "\n",
    "#### Ej 4"
   ]
  },
  {
   "cell_type": "code",
   "execution_count": 1,
   "metadata": {},
   "outputs": [],
   "source": [
    "def suma(num1,num2):\n",
    "    return num1+num2"
   ]
  },
  {
   "cell_type": "code",
   "execution_count": 2,
   "metadata": {},
   "outputs": [
    {
     "data": {
      "text/plain": [
       "9"
      ]
     },
     "execution_count": 2,
     "metadata": {},
     "output_type": "execute_result"
    }
   ],
   "source": [
    "suma(4,5)"
   ]
  },
  {
   "cell_type": "code",
   "execution_count": 8,
   "metadata": {},
   "outputs": [],
   "source": [
    "# Podemos guardar lo que devuelve la funcion en una variable\n",
    "resultado = suma(4,5)"
   ]
  },
  {
   "cell_type": "code",
   "execution_count": 9,
   "metadata": {},
   "outputs": [
    {
     "name": "stdout",
     "output_type": "stream",
     "text": [
      "9\n"
     ]
    }
   ],
   "source": [
    "print(result)"
   ]
  },
  {
   "cell_type": "markdown",
   "metadata": {},
   "source": [
    "Que pasa si ponemos dos strings como entrada?"
   ]
  },
  {
   "cell_type": "code",
   "execution_count": 10,
   "metadata": {},
   "outputs": [
    {
     "data": {
      "text/plain": [
       "'onetwo'"
      ]
     },
     "execution_count": 10,
     "metadata": {},
     "output_type": "execute_result"
    }
   ],
   "source": [
    "suma('one','two')"
   ]
  },
  {
   "cell_type": "markdown",
   "metadata": {},
   "source": [
    "Como en Python no es necesario que declaremos el tipo de variables podemos sumar strings o incluso listas.\n",
    "\n",
    "Incluso podemos usar las sentencias  <code>break</code>, <code>continue</code>, and <code>pass</code> que vimos en los ciclos while."
   ]
  },
  {
   "cell_type": "markdown",
   "metadata": {
    "collapsed": true
   },
   "source": [
    "#### Ej 5\n",
    "\n",
    "Creamos una funcion para decir si cierto numero es primo o no"
   ]
  },
  {
   "cell_type": "code",
   "execution_count": 3,
   "metadata": {},
   "outputs": [],
   "source": [
    "def es_primo(num):\n",
    "    '''\n",
    "    Metodo basico para ver si un numero es primo o no \n",
    "    '''\n",
    "    for n in range(2,num):\n",
    "        if num % n == 0:\n",
    "            print(num,'is not prime')\n",
    "            break\n",
    "    else: # se ejecuta si se recorrio todo el ciclo for\n",
    "        print(num,'is prime!')"
   ]
  },
  {
   "cell_type": "code",
   "execution_count": 4,
   "metadata": {},
   "outputs": [
    {
     "name": "stdout",
     "output_type": "stream",
     "text": [
      "16 is not prime\n"
     ]
    }
   ],
   "source": [
    "es_primo(16)"
   ]
  },
  {
   "cell_type": "code",
   "execution_count": 5,
   "metadata": {},
   "outputs": [
    {
     "name": "stdout",
     "output_type": "stream",
     "text": [
      "17 is prime!\n"
     ]
    }
   ],
   "source": [
    "es_primo(17)"
   ]
  },
  {
   "cell_type": "markdown",
   "metadata": {},
   "source": [
    "**Que pasa si reemplazamos el <code>break</code> por el <code>return</code> ?**"
   ]
  },
  {
   "cell_type": "code",
   "execution_count": null,
   "metadata": {},
   "outputs": [],
   "source": [
    "def es_primo(num):\n",
    "    '''\n",
    "    Metodo basico para ver si un numero es primo o no \n",
    "    '''\n",
    "    for n in range(2,num):\n",
    "        if num % n == 0:\n",
    "            print(num,'is not prime')\n",
    "            return False\n",
    "    else: # se ejecuta si se recorrio todo el ciclo for\n",
    "        print(num,'is prime!')\n",
    "        return True"
   ]
  },
  {
   "cell_type": "code",
   "execution_count": null,
   "metadata": {},
   "outputs": [],
   "source": []
  },
  {
   "cell_type": "markdown",
   "metadata": {},
   "source": [
    "## Parametros"
   ]
  },
  {
   "cell_type": "markdown",
   "metadata": {},
   "source": [
    "\n",
    "#### Posicionales\n",
    "\n",
    "Son los que venimos viendo hasta ahora, se identifican por la posicion que ocupan dentro de los argumentos.\n",
    "\n",
    "#### Con asignacion\n",
    "\n",
    "Podemos usar asignacion de variables dentro del parentesis a la hora de definir la funcion para crear parametros por defecto.\n",
    "\n",
    "Esto es sumamente utilizado en la mayoria de las funciones."
   ]
  },
  {
   "cell_type": "code",
   "execution_count": 6,
   "metadata": {},
   "outputs": [],
   "source": [
    "def presentacion(nombre = 'Joaquin'):\n",
    "    print(f'Hola mi nombre es {nombre}')"
   ]
  },
  {
   "cell_type": "code",
   "execution_count": 7,
   "metadata": {
    "scrolled": false
   },
   "outputs": [
    {
     "name": "stdout",
     "output_type": "stream",
     "text": [
      "Hola mi nombre es Joaquin\n"
     ]
    }
   ],
   "source": [
    "presentacion()"
   ]
  },
  {
   "cell_type": "code",
   "execution_count": 8,
   "metadata": {},
   "outputs": [
    {
     "name": "stdout",
     "output_type": "stream",
     "text": [
      "Hola mi nombre es Lorena\n"
     ]
    }
   ],
   "source": [
    "presentacion(\"Lorena\")"
   ]
  },
  {
   "cell_type": "code",
   "execution_count": 9,
   "metadata": {},
   "outputs": [
    {
     "name": "stdout",
     "output_type": "stream",
     "text": [
      "Hola mi nombre es Ximena\n"
     ]
    }
   ],
   "source": [
    "presentacion(nombre = \"Ximena\")"
   ]
  },
  {
   "cell_type": "code",
   "execution_count": null,
   "metadata": {},
   "outputs": [],
   "source": []
  },
  {
   "cell_type": "markdown",
   "metadata": {},
   "source": [
    "Veamos ahora que pasa cuando tenemos mas de un parametro."
   ]
  },
  {
   "cell_type": "code",
   "execution_count": 15,
   "metadata": {},
   "outputs": [
    {
     "ename": "SyntaxError",
     "evalue": "non-default argument follows default argument (<ipython-input-15-8529533c1643>, line 1)",
     "output_type": "error",
     "traceback": [
      "\u001b[1;36m  File \u001b[1;32m\"<ipython-input-15-8529533c1643>\"\u001b[1;36m, line \u001b[1;32m1\u001b[0m\n\u001b[1;33m    def presentacion_formal(nombre='Joaquin', apellido=\"Perez\", ciudad):\u001b[0m\n\u001b[1;37m                           ^\u001b[0m\n\u001b[1;31mSyntaxError\u001b[0m\u001b[1;31m:\u001b[0m non-default argument follows default argument\n"
     ]
    }
   ],
   "source": [
    "def presentacion_formal(nombre='Joaquin', apellido=\"Perez\", ciudad='Alta Gracia'):\n",
    "    print(f'Hola mi nombre es {nombre} y mi apellido {apellido} y vivo en {ciudad}')"
   ]
  },
  {
   "cell_type": "code",
   "execution_count": 11,
   "metadata": {},
   "outputs": [
    {
     "name": "stdout",
     "output_type": "stream",
     "text": [
      "Hola mi nombre es ivan y mi apellido Perez y vivo en Alta Gracia\n"
     ]
    }
   ],
   "source": [
    "presentacion_formal(\"ivan\")"
   ]
  },
  {
   "cell_type": "code",
   "execution_count": 12,
   "metadata": {},
   "outputs": [
    {
     "name": "stdout",
     "output_type": "stream",
     "text": [
      "Hola mi nombre es ivan y mi apellido lopez y vivo en Alta Gracia\n"
     ]
    }
   ],
   "source": [
    "presentacion_formal(\"ivan\",\"lopez\")"
   ]
  },
  {
   "cell_type": "code",
   "execution_count": 13,
   "metadata": {},
   "outputs": [
    {
     "name": "stdout",
     "output_type": "stream",
     "text": [
      "Hola mi nombre es ivan y mi apellido Perez y vivo en lopez\n"
     ]
    }
   ],
   "source": [
    "presentacion_formal(\"ivan\",ciudad = \"lopez\")"
   ]
  },
  {
   "cell_type": "markdown",
   "metadata": {},
   "source": [
    "**Importante**\n",
    "\n",
    "Hay que respetar el orden de los parametros, podemos combinar parametros posicionales y con asignacion, pero **el orden es siempre los parametros posicionales y luego los demas**"
   ]
  },
  {
   "cell_type": "code",
   "execution_count": 14,
   "metadata": {},
   "outputs": [
    {
     "ename": "SyntaxError",
     "evalue": "positional argument follows keyword argument (<ipython-input-14-dbc78d09a92e>, line 1)",
     "output_type": "error",
     "traceback": [
      "\u001b[1;36m  File \u001b[1;32m\"<ipython-input-14-dbc78d09a92e>\"\u001b[1;36m, line \u001b[1;32m1\u001b[0m\n\u001b[1;33m    presentacion_formal(ciudad = \"lopez\",\"ivan\")\u001b[0m\n\u001b[1;37m                                        ^\u001b[0m\n\u001b[1;31mSyntaxError\u001b[0m\u001b[1;31m:\u001b[0m positional argument follows keyword argument\n"
     ]
    }
   ],
   "source": [
    "presentacion_formal(ciudad = \"lopez\",\"ivan\")"
   ]
  },
  {
   "cell_type": "markdown",
   "metadata": {},
   "source": [
    "**Para quienes quieran profundizar un poco**\n",
    "\n",
    "[args y kwargs](https://recursospython.com/guias-y-manuales/argumentos-args-kwargs/)"
   ]
  },
  {
   "cell_type": "code",
   "execution_count": null,
   "metadata": {},
   "outputs": [],
   "source": []
  },
  {
   "cell_type": "markdown",
   "metadata": {},
   "source": [
    "# MANOS A LA OBRA"
   ]
  },
  {
   "cell_type": "markdown",
   "metadata": {},
   "source": [
    " Crear una funcion llamada encontrar_palabra a la que se le pasaran 2 parametros:\n",
    " \n",
    " una lista con distintos strings como elementos y una palabra a encontrar ('algo' por defecto).\n",
    " \n",
    " La funcion debe procesar dichos datos y quedarnos con todas las frases que contengan la palabra\n",
    " 'algo' por lo menos una vez.\n",
    " \n",
    " Devolver una lista tuplas (frase,posicion en la lista).\n",
    "\n"
   ]
  },
  {
   "cell_type": "code",
   "execution_count": 9,
   "metadata": {},
   "outputs": [],
   "source": [
    "def encontrar_palabra(lista,palabra='algo'):\n",
    "    lista_aux = []\n",
    "    for i in range(len(lista)):\n",
    "        if palabra in lista[i]:\n",
    "            lista_aux.append((lista[i],i))\n",
    "    return lista_aux"
   ]
  },
  {
   "cell_type": "code",
   "execution_count": 10,
   "metadata": {},
   "outputs": [],
   "source": [
    "lista_palabras = ['Un dia como hoy', 'La manzana es roja', 'Oraciones sin sentido como estas',\n",
    "                 'Medialunas con jamon y queso', 'Como hacer una torta?', 'Como decir que no']"
   ]
  },
  {
   "cell_type": "code",
   "execution_count": 11,
   "metadata": {},
   "outputs": [
    {
     "data": {
      "text/plain": [
       "[]"
      ]
     },
     "execution_count": 11,
     "metadata": {},
     "output_type": "execute_result"
    }
   ],
   "source": [
    "encontrar_palabra(lista_palabras)"
   ]
  },
  {
   "cell_type": "code",
   "execution_count": 12,
   "metadata": {},
   "outputs": [
    {
     "data": {
      "text/plain": [
       "[('Un dia como hoy', 0), ('oraciones sin sentido como estas', 2)]"
      ]
     },
     "execution_count": 12,
     "metadata": {},
     "output_type": "execute_result"
    }
   ],
   "source": [
    "encontrar_palabra(lista_palabras,'como')"
   ]
  },
  {
   "cell_type": "code",
   "execution_count": null,
   "metadata": {},
   "outputs": [],
   "source": []
  },
  {
   "cell_type": "code",
   "execution_count": 13,
   "metadata": {},
   "outputs": [],
   "source": [
    "# pero que pasa en el siguiente ejemplo\n",
    "\n",
    "lista_palabras = ['Un dia como hoy', 'La manzana es roja por comodidad', 'Oraciones sin sentido como estas']"
   ]
  },
  {
   "cell_type": "code",
   "execution_count": 14,
   "metadata": {
    "scrolled": false
   },
   "outputs": [
    {
     "data": {
      "text/plain": [
       "[('Un dia como hoy', 0),\n",
       " ('La manzana es roja por comodidad', 1),\n",
       " ('Oraciones sin sentido como estas', 2)]"
      ]
     },
     "execution_count": 14,
     "metadata": {},
     "output_type": "execute_result"
    }
   ],
   "source": [
    "encontrar_palabra(lista_palabras,'como')"
   ]
  },
  {
   "cell_type": "code",
   "execution_count": null,
   "metadata": {},
   "outputs": [],
   "source": [
    "# a esto ya lo vamos a resolver cuando veamos expresiones regulares"
   ]
  },
  {
   "cell_type": "code",
   "execution_count": null,
   "metadata": {},
   "outputs": [],
   "source": []
  },
  {
   "cell_type": "markdown",
   "metadata": {},
   "source": [
    "#### Otro ejemplo\n",
    "\n",
    "Crear una funcion llamada `sumador` que reciba como parametro una lista de listas de numeros, dicha funcion debera transformar los elementos de la matriz a numeros a enteros y luego tiene que devolvernos una tupla con 2 elementos:\n",
    " 1. una lista con la suma de cada fila como elementos\n",
    " 2. la suma de todos los elementos"
   ]
  },
  {
   "cell_type": "code",
   "execution_count": 7,
   "metadata": {},
   "outputs": [],
   "source": [
    "numeros = [[23.4,12.45,13.56],\n",
    "          [223.4,1332.445,1334.56,223.4,1332.445],\n",
    "          [2343.4,1542.45,1543.56],\n",
    "         [2893.4,112.45,123.56,2333.4,1672.45,1883.56]]"
   ]
  },
  {
   "cell_type": "code",
   "execution_count": 8,
   "metadata": {},
   "outputs": [],
   "source": [
    "def sumador(m):\n",
    "    \n",
    "    for i in range(len(m)):\n",
    "        for j in range(len(m[i])):\n",
    "            m[i][j] = int(m[i][j])\n",
    "            \n",
    "    lista_aux = [sum(x) for x in m]\n",
    "    total = sum(lista_aux)\n",
    "    \n",
    "    return (lista_aux,total)"
   ]
  },
  {
   "cell_type": "code",
   "execution_count": 9,
   "metadata": {},
   "outputs": [
    {
     "data": {
      "text/plain": [
       "([48, 4444, 5428, 9016], 18936)"
      ]
     },
     "execution_count": 9,
     "metadata": {},
     "output_type": "execute_result"
    }
   ],
   "source": [
    "sumador(numeros)"
   ]
  },
  {
   "cell_type": "code",
   "execution_count": null,
   "metadata": {},
   "outputs": [],
   "source": []
  }
 ],
 "metadata": {
  "kernelspec": {
   "display_name": "Python 3",
   "language": "python",
   "name": "python3"
  },
  "language_info": {
   "codemirror_mode": {
    "name": "ipython",
    "version": 3
   },
   "file_extension": ".py",
   "mimetype": "text/x-python",
   "name": "python",
   "nbconvert_exporter": "python",
   "pygments_lexer": "ipython3",
   "version": "3.7.0"
  }
 },
 "nbformat": 4,
 "nbformat_minor": 1
}
