{
 "cells": [
  {
   "cell_type": "markdown",
   "metadata": {},
   "source": [
    "# Ejercicios sobre lo aprendido"
   ]
  },
  {
   "cell_type": "markdown",
   "metadata": {},
   "source": [
    "## Suban este notebook resuelto al drive con la nomenclatura nombre_apellido_TP_3"
   ]
  },
  {
   "cell_type": "code",
   "execution_count": null,
   "metadata": {},
   "outputs": [],
   "source": []
  },
  {
   "cell_type": "markdown",
   "metadata": {},
   "source": [
    "## Funciones (def)"
   ]
  },
  {
   "cell_type": "markdown",
   "metadata": {},
   "source": [
    "Crear una funcion llamada `sumador` que reciba como parametro una lista de listas de numeros, dicha funcion debera transformar los elementos de la matriz a numeros a enteros y luego tiene que devolvernos una tupla con 2 elementos:\n",
    " 1. una lista con la suma de cada fila como elementos\n",
    " 2. la suma de todos los elementos"
   ]
  },
  {
   "cell_type": "code",
   "execution_count": 2,
   "metadata": {},
   "outputs": [],
   "source": [
    "numeros = [[23.4,12.45,13.56],\n",
    "          [223.4,1332.445,1334.56,223.4,1332.445],\n",
    "          [2343.4,1542.45,1543.56],\n",
    "         [2893.4,112.45,123.56,2333.4,1672.45,1883.56]]"
   ]
  },
  {
   "cell_type": "code",
   "execution_count": 15,
   "metadata": {},
   "outputs": [],
   "source": [
    "def sumador(lista):\n",
    "    for i in range(len(lista)):\n",
    "        for j in range(len(lista[i])):\n",
    "            lista[i][j] = int(lista[i][j])\n",
    "            \n",
    "    suma_fila=[]\n",
    "    for i in range(len(lista)):\n",
    "        suma = 0\n",
    "        for j in range(len(lista[i])):\n",
    "            suma += lista[i][j]\n",
    "        suma_fila.append(suma)\n",
    "        \n",
    "    total= 0\n",
    "    for num in suma_fila:\n",
    "        total += num\n",
    "        \n",
    "    return((suma_fila,total))"
   ]
  },
  {
   "cell_type": "code",
   "execution_count": 20,
   "metadata": {},
   "outputs": [
    {
     "data": {
      "text/plain": [
       "([48, 4444, 5428, 9016], 18936)"
      ]
     },
     "execution_count": 20,
     "metadata": {},
     "output_type": "execute_result"
    }
   ],
   "source": [
    "sumador(numeros)"
   ]
  },
  {
   "cell_type": "code",
   "execution_count": null,
   "metadata": {},
   "outputs": [],
   "source": []
  },
  {
   "cell_type": "code",
   "execution_count": 2,
   "metadata": {},
   "outputs": [
    {
     "data": {
      "text/plain": [
       "10"
      ]
     },
     "execution_count": 2,
     "metadata": {},
     "output_type": "execute_result"
    }
   ],
   "source": [
    "# la funcion sum\n",
    "\n",
    "#sum()\n",
    "\n",
    "lista = [1,2,3,4]\n",
    "sum(lista)"
   ]
  },
  {
   "cell_type": "code",
   "execution_count": 1,
   "metadata": {},
   "outputs": [],
   "source": [
    "def sumador(lista):\n",
    "    for i in range(len(lista)):\n",
    "        for j in range(len(lista[i])):\n",
    "            lista[i][j] = int(lista[i][j])\n",
    "            \n",
    "    suma_fila=[]\n",
    "    for i in range(len(lista)):\n",
    "        suma_fila.append(sum(lista[i]))\n",
    "        \n",
    "    return((suma_fila,sum(suma_fila)))"
   ]
  },
  {
   "cell_type": "code",
   "execution_count": 20,
   "metadata": {},
   "outputs": [
    {
     "data": {
      "text/plain": [
       "([48, 4444, 5428, 9016], 18936)"
      ]
     },
     "execution_count": 20,
     "metadata": {},
     "output_type": "execute_result"
    }
   ],
   "source": [
    "sumador(numeros)"
   ]
  },
  {
   "cell_type": "code",
   "execution_count": 6,
   "metadata": {},
   "outputs": [],
   "source": [
    "def sumador(lista):\n",
    "    for i in range(len(lista)):\n",
    "        for j in range(len(lista[i])):\n",
    "            lista[i][j] = int(lista[i][j])\n",
    "            \n",
    "    suma_fila= [sum(lista[i]) for i in range(len(lista))]\n",
    "        \n",
    "    return((suma_fila,sum(suma_fila)))\n",
    "    \n",
    "    \n",
    "   \n"
   ]
  },
  {
   "cell_type": "code",
   "execution_count": 20,
   "metadata": {},
   "outputs": [
    {
     "data": {
      "text/plain": [
       "([48, 4444, 5428, 9016], 18936)"
      ]
     },
     "execution_count": 20,
     "metadata": {},
     "output_type": "execute_result"
    }
   ],
   "source": [
    "sumador(numeros)"
   ]
  },
  {
   "cell_type": "code",
   "execution_count": 19,
   "metadata": {},
   "outputs": [],
   "source": [
    "def sumador(lista):\n",
    "    lista = list(map(lambda x:[int(y) for y in x],lista))       \n",
    "    suma_fila= [sum(lista[i]) for i in range(len(lista))] \n",
    "    return((suma_fila,sum(suma_fila)))"
   ]
  },
  {
   "cell_type": "code",
   "execution_count": 20,
   "metadata": {},
   "outputs": [
    {
     "data": {
      "text/plain": [
       "([48, 4444, 5428, 9016], 18936)"
      ]
     },
     "execution_count": 20,
     "metadata": {},
     "output_type": "execute_result"
    }
   ],
   "source": [
    "sumador(numeros)"
   ]
  },
  {
   "cell_type": "code",
   "execution_count": null,
   "metadata": {},
   "outputs": [],
   "source": []
  },
  {
   "cell_type": "code",
   "execution_count": null,
   "metadata": {},
   "outputs": [],
   "source": []
  },
  {
   "cell_type": "markdown",
   "metadata": {},
   "source": [
    "Vamos abordar el ejercicio del tp_2 pero ahora con el uso de funciones, veamos como cambia el orden y la legibilidad del codigo con el uso de funciones."
   ]
  },
  {
   "cell_type": "markdown",
   "metadata": {},
   "source": [
    "**Supongamos que tenemos una lista con distintos datos de distintas personas, vamos a tener el nombre, apellido, provincia de origen y fecha de nacimiento.**\n",
    "\n",
    " 1. Crear una funcion llamada **`visualizar`** que tenga como parametro una lista y muestre los datos de la misma de manera ordenada.\n",
    " 2. Crear una funcion llamada **`estandarizar`** que tenga como parametro una lista y se va a encargar de Estandarizar los nombres, apellidos y provincias para que empiecen con mayuscula.\n",
    " 3. Crear una funcion llamada **`calculo_edad`** que tenga como parametro una lista y va a Calcular la edad de cada persona al dia de hoy y agregar esa edad a nuestro conjunto de datos.\n",
    " 4. Crear una funcion llamada **`gente_mayor`** que tenga como parametro una lista y va a **devolver otra lista** con el encabezado y los datos de todas aquellas personas mayores a 55 años.\n",
    " 5. Crear una funcion llamada **`los_J`** que tenga como parametro una lista y va a **devolver otra lista** con el encabezado y con los datos de todas aquellas personas que tienen  nombre o apellido que empieza con 'J'."
   ]
  },
  {
   "cell_type": "code",
   "execution_count": 8,
   "metadata": {},
   "outputs": [],
   "source": [
    "personas = [['NOMBRE', 'APELLIDO', 'PROVINCIA', \"NACIMIENTO\"],\n",
    " ['Joaquin', 'Gorina', 'Chubut', '1967'],\n",
    " ['jose', 'Olmedo', 'misiones', '1988'],\n",
    " ['Julian', 'sosa', 'misiones', '2005'],\n",
    " ['florencia', 'lopez', 'neuquen', '2000'],\n",
    " ['sol', 'jerva', 'salta', '1997'],\n",
    " ['xiMena', 'asturiAS', 'chubut', '1999'],\n",
    " ['sol', 'sanchez', 'chubut', '1993'],\n",
    " ['manuel', 'joaquin', 'chaco', '1980'],\n",
    " ['jaVIer', 'montoya', 'tucuman', '1969'],\n",
    " ['rosa', 'montoya', 'tucuman', '1927'],\n",
    " ['miguel', 'montoya', 'tucuman', '1934'],\n",
    " ['jose', 'olmos', 'salta', '1977']] "
   ]
  },
  {
   "cell_type": "markdown",
   "metadata": {},
   "source": [
    "Una vez definidas las funciones llamarlas en este orden todas en la misma celda:\n",
    "\n",
    "**Nota:** ojo con las funciones que devuelven elementos, no se olviden de asignarlos a variables para poder utilizarlos para la visualizacion"
   ]
  },
  {
   "cell_type": "code",
   "execution_count": 9,
   "metadata": {},
   "outputs": [],
   "source": [
    "def visualizar(lista):\n",
    "    for i in range(len(lista)):\n",
    "        for j in range(len(lista[i])):\n",
    "            print(f'{lista[i][j]:{15}}',end='')\n",
    "        print('')\n",
    "        \n",
    "def estandarizar(lista):\n",
    "    for i in range(len(lista)):\n",
    "        for j in range(len(lista[i])):\n",
    "            lista[i][j] = lista[i][j].capitalize()\n",
    "            \n",
    "def calculo_edad(lista):\n",
    "    lista[0].append('Edad')\n",
    "    año = 2020\n",
    "    for i in range(1,len(lista)):\n",
    "        edad = año - int(lista[i][-1])\n",
    "        lista[i].append(str(edad))\n",
    "        \n",
    "def gente_mayor(lista):\n",
    "    mayores = []\n",
    "    mayores.append(lista[0])\n",
    "    for i in range(1,len(lista)):\n",
    "        if int(lista[i][-1]) > 55:\n",
    "            mayores.append(lista[i])        \n",
    "    return mayores\n",
    "            \n",
    "def los_J(lista):\n",
    "    letra_j = []\n",
    "    letra_j.append(lista[0])\n",
    "    for i in range(1,len(lista)):\n",
    "        if lista[i][0][0] == 'J' or lista[i][1][0] == 'J':\n",
    "            letra_j.append(lista[i])\n",
    "    return letra_j"
   ]
  },
  {
   "cell_type": "code",
   "execution_count": null,
   "metadata": {},
   "outputs": [],
   "source": []
  },
  {
   "cell_type": "code",
   "execution_count": 10,
   "metadata": {},
   "outputs": [
    {
     "name": "stdout",
     "output_type": "stream",
     "text": [
      "NOMBRE         APELLIDO       PROVINCIA      NACIMIENTO     \n",
      "Joaquin        Gorina         Chubut         1967           \n",
      "jose           Olmedo         misiones       1988           \n",
      "Julian         sosa           misiones       2005           \n",
      "florencia      lopez          neuquen        2000           \n",
      "sol            jerva          salta          1997           \n",
      "xiMena         asturiAS       chubut         1999           \n",
      "sol            sanchez        chubut         1993           \n",
      "manuel         joaquin        chaco          1980           \n",
      "jaVIer         montoya        tucuman        1969           \n",
      "rosa           montoya        tucuman        1927           \n",
      "miguel         montoya        tucuman        1934           \n",
      "jose           olmos          salta          1977           \n",
      "\n",
      "Nombre         Apellido       Provincia      Nacimiento     \n",
      "Joaquin        Gorina         Chubut         1967           \n",
      "Jose           Olmedo         Misiones       1988           \n",
      "Julian         Sosa           Misiones       2005           \n",
      "Florencia      Lopez          Neuquen        2000           \n",
      "Sol            Jerva          Salta          1997           \n",
      "Ximena         Asturias       Chubut         1999           \n",
      "Sol            Sanchez        Chubut         1993           \n",
      "Manuel         Joaquin        Chaco          1980           \n",
      "Javier         Montoya        Tucuman        1969           \n",
      "Rosa           Montoya        Tucuman        1927           \n",
      "Miguel         Montoya        Tucuman        1934           \n",
      "Jose           Olmos          Salta          1977           \n",
      "\n",
      "Nombre         Apellido       Provincia      Nacimiento     Edad           \n",
      "Joaquin        Gorina         Chubut         1967           53             \n",
      "Jose           Olmedo         Misiones       1988           32             \n",
      "Julian         Sosa           Misiones       2005           15             \n",
      "Florencia      Lopez          Neuquen        2000           20             \n",
      "Sol            Jerva          Salta          1997           23             \n",
      "Ximena         Asturias       Chubut         1999           21             \n",
      "Sol            Sanchez        Chubut         1993           27             \n",
      "Manuel         Joaquin        Chaco          1980           40             \n",
      "Javier         Montoya        Tucuman        1969           51             \n",
      "Rosa           Montoya        Tucuman        1927           93             \n",
      "Miguel         Montoya        Tucuman        1934           86             \n",
      "Jose           Olmos          Salta          1977           43             \n",
      "\n",
      "Nombre         Apellido       Provincia      Nacimiento     Edad           \n",
      "Rosa           Montoya        Tucuman        1927           93             \n",
      "Miguel         Montoya        Tucuman        1934           86             \n",
      "\n",
      "Nombre         Apellido       Provincia      Nacimiento     Edad           \n",
      "Joaquin        Gorina         Chubut         1967           53             \n",
      "Jose           Olmedo         Misiones       1988           32             \n",
      "Julian         Sosa           Misiones       2005           15             \n",
      "Sol            Jerva          Salta          1997           23             \n",
      "Manuel         Joaquin        Chaco          1980           40             \n",
      "Javier         Montoya        Tucuman        1969           51             \n",
      "Jose           Olmos          Salta          1977           43             \n"
     ]
    }
   ],
   "source": [
    "#visualizar\n",
    "visualizar(personas)\n",
    "print('')\n",
    "\n",
    "#estandarizar\n",
    "estandarizar(personas)\n",
    "visualizar(personas)\n",
    "print('')\n",
    "\n",
    "#calculo_edad\n",
    "calculo_edad(personas)\n",
    "visualizar(personas)\n",
    "print('')\n",
    "\n",
    "#gente_mayor\n",
    "mayores = gente_mayor(personas)\n",
    "visualizar(mayores)\n",
    "print('')\n",
    "\n",
    "#los_J\n",
    "ver_j = los_J(personas)\n",
    "visualizar(ver_j)"
   ]
  },
  {
   "cell_type": "markdown",
   "metadata": {},
   "source": [
    "## Funciones (lambda)"
   ]
  },
  {
   "cell_type": "markdown",
   "metadata": {},
   "source": [
    "a- Crear las funciones lambdas y mapear lo pedido a la lista\n",
    "\n",
    "1. Sumarle 15 a cada numero\n",
    "2. Elevar el numero al cuadrado y luego restarle 100\n",
    "3. Calcular la potencia n del numero, siendo n el resto de dividirlo por 5"
   ]
  },
  {
   "cell_type": "code",
   "execution_count": null,
   "metadata": {},
   "outputs": [],
   "source": [
    "lista = [\"14\",12, \"23\",4,4,3,'7']"
   ]
  },
  {
   "cell_type": "code",
   "execution_count": null,
   "metadata": {},
   "outputs": [],
   "source": []
  },
  {
   "cell_type": "markdown",
   "metadata": {},
   "source": [
    "b- Crear las funciones lambdas y filtrar la lista\n",
    "\n",
    "1. Solo las palabras con 5 caracteres\n",
    "2. Solo las palabras que comiencen con C\n",
    "3. Solo las palabras que no contienen numeros (busquen metodos de strings)"
   ]
  },
  {
   "cell_type": "code",
   "execution_count": 3,
   "metadata": {},
   "outputs": [],
   "source": [
    "lista = \"Hola perro 3saltos cabeza codo cuerty78 90bajo_cero gan\".split()"
   ]
  },
  {
   "cell_type": "code",
   "execution_count": null,
   "metadata": {},
   "outputs": [],
   "source": []
  },
  {
   "cell_type": "code",
   "execution_count": null,
   "metadata": {},
   "outputs": [],
   "source": []
  },
  {
   "cell_type": "markdown",
   "metadata": {},
   "source": [
    "## Suban este notebook resuelto al drive con la nomenclatura nombre_apellido_TP_3"
   ]
  }
 ],
 "metadata": {
  "kernelspec": {
   "display_name": "Python 3",
   "language": "python",
   "name": "python3"
  },
  "language_info": {
   "codemirror_mode": {
    "name": "ipython",
    "version": 3
   },
   "file_extension": ".py",
   "mimetype": "text/x-python",
   "name": "python",
   "nbconvert_exporter": "python",
   "pygments_lexer": "ipython3",
   "version": "3.7.0"
  }
 },
 "nbformat": 4,
 "nbformat_minor": 4
}
