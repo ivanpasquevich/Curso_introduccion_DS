{
 "cells": [
  {
   "cell_type": "markdown",
   "metadata": {},
   "source": [
    "# Ejercicio integrador sobre lo aprendido"
   ]
  },
  {
   "cell_type": "markdown",
   "metadata": {},
   "source": [
    "---"
   ]
  },
  {
   "cell_type": "markdown",
   "metadata": {},
   "source": [
    "## El ahorcado"
   ]
  },
  {
   "cell_type": "markdown",
   "metadata": {},
   "source": [
    "En esta ocasion vamos a generar un juego muy sencillo, el ahorcado, la idea es comenzar a pensar como podemos ir combinando las herramientas vistas hasta el momento.\n",
    "\n",
    "Vamos a usar manejo de archivos, modulo random, ciclos for y while, funciones, entre otros..\n",
    "\n",
    "Manos a la obra !!"
   ]
  },
  {
   "cell_type": "markdown",
   "metadata": {},
   "source": [
    "##### vista previa"
   ]
  },
  {
   "cell_type": "code",
   "execution_count": 2,
   "metadata": {},
   "outputs": [
    {
     "name": "stdout",
     "output_type": "stream",
     "text": [
      " Hora de jugar, esta es su palabra:\n",
      "_ _ _\n",
      "ingrese una letra: a\n",
      "_ a _\n",
      "ingrese una letra: l\n",
      "_ a _\n",
      "ingrese una letra: s\n",
      "_ a _\n",
      "ingrese una letra: g\n",
      "_ a _\n",
      "ingrese una letra: c\n",
      "_ a _\n",
      "ingrese una letra: v\n",
      "_ a _\n",
      "ingrese una letra: r\n",
      "_ a _\n",
      "ingrese una letra: r\n",
      "_ a _\n",
      "ingrese una letra: p\n",
      "p a _\n",
      "ingrese una letra: n\n",
      "p a _\n",
      "ingrese una letra: z\n",
      "p a _\n",
      "ingrese una letra: r\n",
      "p a _\n",
      "ingrese una letra: o\n",
      "p a _\n",
      "ingrese una letra: s\n",
      "p a _\n",
      "ingrese una letra: a\n",
      "p a _\n",
      "ingrese una letra: q\n",
      "p a _\n",
      "ingrese una letra: d\n",
      "p a _\n",
      "ingrese una letra: f\n",
      "p a _\n",
      "ingrese una letra: g\n",
      "p a _\n",
      "ingrese una letra: h\n",
      "p a _\n",
      "ingrese una letra: j\n",
      "p a _\n",
      "ingrese una letra: k\n",
      "p a _\n",
      "ingrese una letra: l\n",
      "p a _\n",
      "ingrese una letra: m\n",
      "p a _\n",
      "ingrese una letra: n\n",
      "p a _\n",
      "ingrese una letra: b\n",
      "p a _\n",
      "ingrese una letra: v\n",
      "p a _\n",
      "ingrese una letra: c\n",
      "p a _\n",
      "ingrese una letra: x\n",
      "p a _\n",
      "ingrese una letra: z\n",
      "p a _\n",
      "ingrese una letra: a\n",
      "p a _\n",
      "ingrese una letra: q\n",
      "p a _\n",
      "ingrese una letra: w\n",
      "p a _\n",
      "ingrese una letra: e\n",
      "p a _\n",
      "ingrese una letra: r\n",
      "p a _\n",
      "ingrese una letra: t\n",
      "p a _\n",
      "ingrese una letra: y\n",
      "p a y\n",
      "Felicidades ha ganado la palabra es pay\n"
     ]
    }
   ],
   "source": [
    "%run ahorcado.py"
   ]
  },
  {
   "cell_type": "markdown",
   "metadata": {},
   "source": [
    "--"
   ]
  },
  {
   "cell_type": "markdown",
   "metadata": {},
   "source": [
    "#### Paso 1\n",
    "Primero lo primero, necesitamos las palabras, las mismas estan en el archivo \"palabras_ahorcado.txt\", a los fines practicos se han eliminado los simbolos de acentuacion de todas las palabras.\n",
    "\n",
    "Para ello debemos:\n",
    "1. Leer el archivo\n",
    "2. Incluir en una lista llamada `lista_palabras` todas las palabras que hay en este archivo (en el archivo las palabras estan separadas por ,)"
   ]
  },
  {
   "cell_type": "code",
   "execution_count": 5,
   "metadata": {},
   "outputs": [],
   "source": [
    "with open(\"palabras_ahorcado.txt\") as file:\n",
    "    texto = file.read()"
   ]
  },
  {
   "cell_type": "code",
   "execution_count": 7,
   "metadata": {},
   "outputs": [],
   "source": [
    "lista_palabras = texto.split(\",\")"
   ]
  },
  {
   "cell_type": "code",
   "execution_count": 8,
   "metadata": {},
   "outputs": [
    {
     "data": {
      "text/plain": [
       "449"
      ]
     },
     "execution_count": 8,
     "metadata": {},
     "output_type": "execute_result"
    }
   ],
   "source": [
    "len(lista_palabras)"
   ]
  },
  {
   "cell_type": "markdown",
   "metadata": {},
   "source": [
    "#### Paso 2"
   ]
  },
  {
   "cell_type": "markdown",
   "metadata": {},
   "source": [
    "Crear una funcion llamada **eleccion** que recibe como argumento la lista_palabras, y utilizando el modulo random va a elegir y devolver una palabra aleatoria de la lista.\n"
   ]
  },
  {
   "cell_type": "code",
   "execution_count": 10,
   "metadata": {},
   "outputs": [
    {
     "data": {
      "text/plain": [
       "'marco'"
      ]
     },
     "execution_count": 10,
     "metadata": {},
     "output_type": "execute_result"
    }
   ],
   "source": [
    "import random\n",
    "\n",
    "def eleccion(lista):\n",
    "    return random.choice(lista)\n",
    "\n",
    "#eleccion(lista_palabras)"
   ]
  },
  {
   "cell_type": "markdown",
   "metadata": {},
   "source": [
    "#### Paso 3\n",
    "\n",
    "Crear una funcion llamada **espacios** que que recibe como argumento la palabra a adivinar y devuelve una lista con tantos elementos como caracteres tenga la palabra. Dichos elementos van a ser \"_\""
   ]
  },
  {
   "cell_type": "code",
   "execution_count": null,
   "metadata": {},
   "outputs": [],
   "source": [
    "#Ejemplo:\n",
    "\n",
    "#palabra = \"casa\"  entonces lista = [\"_\",\"_\",\"_\",\"_\"]\n",
    "\n",
    "#palabra = \"oso\"  entonces lista = [\"_\",\"_\",\"_\"]"
   ]
  },
  {
   "cell_type": "code",
   "execution_count": 11,
   "metadata": {},
   "outputs": [],
   "source": [
    "def espacios(palabra):\n",
    "    return [\"_\"]*len(palabra)"
   ]
  },
  {
   "cell_type": "code",
   "execution_count": 12,
   "metadata": {},
   "outputs": [
    {
     "data": {
      "text/plain": [
       "['_', '_', '_', '_', '_', '_', '_']"
      ]
     },
     "execution_count": 12,
     "metadata": {},
     "output_type": "execute_result"
    }
   ],
   "source": [
    "espacios('palabra')"
   ]
  },
  {
   "cell_type": "markdown",
   "metadata": {},
   "source": [
    "#### Paso 4\n",
    "\n",
    "Crear una funcion llamada **mostrar** que que reciba como argumento una lista (lista de \"_\") y nos imprima un string con los elementos de esta lista separados por un espacio en blanco.\n"
   ]
  },
  {
   "cell_type": "code",
   "execution_count": 13,
   "metadata": {},
   "outputs": [],
   "source": [
    "def mostrar(lista):\n",
    "    print(\" \".join(lista))"
   ]
  },
  {
   "cell_type": "code",
   "execution_count": 14,
   "metadata": {},
   "outputs": [
    {
     "name": "stdout",
     "output_type": "stream",
     "text": [
      "_ _ _ _ _ _ _\n"
     ]
    }
   ],
   "source": [
    "mostrar(['_', '_', '_', '_', '_', '_', '_'])"
   ]
  },
  {
   "cell_type": "markdown",
   "metadata": {},
   "source": [
    "#### Paso 5\n",
    "\n",
    "Crear una funcion llamada **adivinar** que va a tener 2 argumentos:\n",
    "1. La palabra a adivinar\n",
    "2. La lista de \"_\"\n",
    "\n",
    "En dicha funcion se le pedira al usuario que ingrese una letra, luego se convierte esta letra a minuscula y se verifica si la letra esta en la palabra a adivinar. De ser esto verdadero reemplazar en la lista el \"_\" por la letra, obviamente en las/la posicion que ocupa esa letra en la palabra."
   ]
  },
  {
   "cell_type": "code",
   "execution_count": 22,
   "metadata": {},
   "outputs": [],
   "source": [
    "def adivinar(palabra,lista):\n",
    "    letra = input(\"ingrese una letra \").lower()\n",
    "    if letra in palabra:\n",
    "        for i in range(len(palabra)):\n",
    "            if palabra[i]==letra:\n",
    "                lista[i]=letra"
   ]
  },
  {
   "cell_type": "code",
   "execution_count": 19,
   "metadata": {
    "scrolled": true
   },
   "outputs": [
    {
     "name": "stdout",
     "output_type": "stream",
     "text": [
      "ingrese una letra s\n",
      "['s', '_', '_']\n"
     ]
    }
   ],
   "source": [
    "adivinar(\"sol\",\"_ _ _\".split())\n"
   ]
  },
  {
   "cell_type": "markdown",
   "metadata": {},
   "source": [
    "#### Paso 6\n",
    "\n",
    "Crear una funcion llamada **verificar_continuidad** que va a tener como argumento la lista de \"_\" y va a verificar si la palabra fue adivinada o no (fijarse si existe algun _ dentro de la lista).\n",
    "\n",
    "En caso de que la palabra este completa debe devolver False, caso contrario True."
   ]
  },
  {
   "cell_type": "code",
   "execution_count": 20,
   "metadata": {},
   "outputs": [],
   "source": [
    "def verificar_continuidad(lista):\n",
    "    return \"_\" in lista"
   ]
  },
  {
   "cell_type": "code",
   "execution_count": 21,
   "metadata": {},
   "outputs": [
    {
     "data": {
      "text/plain": [
       "True"
      ]
     },
     "execution_count": 21,
     "metadata": {},
     "output_type": "execute_result"
    }
   ],
   "source": [
    "verificar_continuidad(['s', '_', '_'])"
   ]
  },
  {
   "cell_type": "markdown",
   "metadata": {},
   "source": [
    "#### Paso 7 \n",
    "\n",
    "Ya tenemos las funciones necesarias para el desarrollo del programa ahora hay que armar el esqueleto para ir llamando a las funciones.\n",
    "\n",
    "Les dejo el esquema semiarmado, donde esten los comentarios tienen que completar con el llamado a las funciones\n",
    "\n"
   ]
  },
  {
   "cell_type": "code",
   "execution_count": 23,
   "metadata": {},
   "outputs": [
    {
     "name": "stdout",
     "output_type": "stream",
     "text": [
      " Hora de jugar, esta es su palabra:\n",
      "_ _ _ _ _ _ _\n",
      "ingrese una letra a\n",
      "_ _ _ _ _ _ _\n",
      "ingrese una letra e\n",
      "_ _ _ e _ _ _\n",
      "ingrese una letra i\n",
      "_ _ _ e _ _ _\n",
      "ingrese una letra o\n",
      "_ o _ e _ o _\n",
      "ingrese una letra t\n",
      "_ o _ e _ o _\n",
      "ingrese una letra r\n",
      "_ o _ e _ o r\n",
      "ingrese una letra p\n",
      "_ o _ e _ o r\n",
      "ingrese una letra l\n",
      "_ o _ e _ o r\n",
      "ingrese una letra j\n",
      "_ o _ e _ o r\n",
      "ingrese una letra h\n",
      "_ o _ e _ o r\n",
      "ingrese una letra g\n",
      "_ o _ e _ o r\n",
      "ingrese una letra b\n",
      "_ o _ e _ o r\n",
      "ingrese una letra n\n",
      "_ o _ e _ o r\n",
      "ingrese una letra m\n",
      "_ o m e _ o r\n",
      "ingrese una letra c\n",
      "c o m e _ o r\n",
      "ingrese una letra d\n",
      "c o m e d o r\n",
      "Felicidades ha ganado la palabra es comedor\n"
     ]
    }
   ],
   "source": [
    "\n",
    "palabra = eleccion(lista_palabras)\n",
    "\n",
    "lista_ = espacios(palabra)\n",
    "\n",
    "print (\" Hora de jugar, esta es su palabra:\")\n",
    "mostrar(lista_)\n",
    "\n",
    "while verificar_continuidad(lista_):\n",
    "    adivinar(palabra,lista_)\n",
    "    mostrar(lista_)\n",
    "        \n",
    "print(f\"Felicidades ha ganado la palabra es {palabra}\")\n",
    "\n",
    "\n"
   ]
  },
  {
   "cell_type": "markdown",
   "metadata": {},
   "source": [
    "#### Paso 8\n",
    "\n",
    "Incluir todo el codigo en una sola celda, asi corremos solo esta cada vez que querramos jugar al ahorcado."
   ]
  },
  {
   "cell_type": "code",
   "execution_count": null,
   "metadata": {},
   "outputs": [],
   "source": [
    "import random\n",
    "\n",
    "def eleccion(lista):\n",
    "    return random.choice(lista)\n",
    "\n",
    "def  espacios(palabra):\n",
    "    return [\"_\"]*len(palabra)\n",
    "\n",
    "def  mostrar(lista):\n",
    "    print(\" \".join(lista))\n",
    "    \n",
    "def adivinar(palabra,lista):\n",
    "    letra = input(\"ingrese una letra: \").lower()\n",
    "    if letra in palabra:\n",
    "        for i in range(len(palabra)):\n",
    "            if palabra[i]==letra:\n",
    "                lista[i] = letra\n",
    "                \n",
    "def verificar_continuidad(lista):\n",
    "    return \"_\" in lista\n",
    "\n",
    "def main():\n",
    "\n",
    "    with open(\"palabras_ahorcado.txt\") as file:\n",
    "        texto = file.read()\n",
    "\n",
    "    lista_palabras = texto.split(\",\")\n",
    "\n",
    "    palabra = eleccion(lista_palabras)\n",
    "\n",
    "    lista_ = espacios(palabra)\n",
    "\n",
    "    print (\" Hora de jugar, esta es su palabra:\")\n",
    "    mostrar(lista_)\n",
    "\n",
    "    while verificar_continuidad(lista_):\n",
    "        adivinar(palabra,lista_)\n",
    "        mostrar(lista_)\n",
    "\n",
    "    print(f\"Felicidades ha ganado la palabra es {palabra}\")\n",
    "    \n",
    "    \n",
    "    \n",
    "main()"
   ]
  },
  {
   "cell_type": "markdown",
   "metadata": {},
   "source": [
    "### Hay mucho para mejorar\n",
    "\n",
    "Para quienes quieran jugar un rato mas pueden hacerle mejoras al juego como las siguientes:\n",
    "1. Mostrar en cuantos turnos se adivino la palabra.\n",
    "2. Agregar una cantidad finita de intentos.\n",
    "3. Dar la opcion de insertar una letra o la palabra completa.\n",
    "4. Hacer el juego de dos jugadores con dos palabras distintas y el que adivina primero gana.\n",
    "5. Las que a ustedes se les ocurra, es prueba y error !!"
   ]
  },
  {
   "cell_type": "markdown",
   "metadata": {},
   "source": [
    "### Links para practicar con Python\n",
    "\n",
    "[ejercicios de practica hasta programacion funcional](https://aprendeconalf.es/docencia/python/ejercicios/bucles/)\n",
    "\n",
    "[ejercicios interactivos, hay de todo un poco](https://www.snakify.org/es/lessons/two_dimensional_lists_arrays/)\n",
    "\n"
   ]
  },
  {
   "cell_type": "code",
   "execution_count": null,
   "metadata": {},
   "outputs": [],
   "source": []
  }
 ],
 "metadata": {
  "kernelspec": {
   "display_name": "Python 3",
   "language": "python",
   "name": "python3"
  },
  "language_info": {
   "codemirror_mode": {
    "name": "ipython",
    "version": 3
   },
   "file_extension": ".py",
   "mimetype": "text/x-python",
   "name": "python",
   "nbconvert_exporter": "python",
   "pygments_lexer": "ipython3",
   "version": "3.7.0"
  }
 },
 "nbformat": 4,
 "nbformat_minor": 4
}
