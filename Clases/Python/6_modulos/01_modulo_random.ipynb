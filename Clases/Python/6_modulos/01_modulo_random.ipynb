{
 "cells": [
  {
   "cell_type": "markdown",
   "metadata": {},
   "source": [
    "# MODULO RANDOM"
   ]
  },
  {
   "cell_type": "markdown",
   "metadata": {},
   "source": [
    "El módulo random de la librería estándar de Python incluye un conjunto de funciones que permiten obtener de distintos modos números aleatorios"
   ]
  },
  {
   "cell_type": "code",
   "execution_count": 1,
   "metadata": {},
   "outputs": [],
   "source": [
    "import random"
   ]
  },
  {
   "cell_type": "code",
   "execution_count": 4,
   "metadata": {},
   "outputs": [
    {
     "data": {
      "text/plain": [
       "0.08878245520487427"
      ]
     },
     "execution_count": 4,
     "metadata": {},
     "output_type": "execute_result"
    }
   ],
   "source": [
    "# genera un numero flotante aleatorio entre 0 y 1\n",
    "random.random()"
   ]
  },
  {
   "cell_type": "code",
   "execution_count": 6,
   "metadata": {},
   "outputs": [
    {
     "data": {
      "text/plain": [
       "6"
      ]
     },
     "execution_count": 6,
     "metadata": {},
     "output_type": "execute_result"
    }
   ],
   "source": [
    "# genera un numero entero aleatorio entre un start y un stop (no incluye el stop)\n",
    "# ademas podemos poner step\n",
    "random.randrange(1,10)"
   ]
  },
  {
   "cell_type": "code",
   "execution_count": 8,
   "metadata": {},
   "outputs": [
    {
     "data": {
      "text/plain": [
       "8"
      ]
     },
     "execution_count": 8,
     "metadata": {},
     "output_type": "execute_result"
    }
   ],
   "source": [
    "# genera un numero entero aleatorio entre un start y un stop (incluye el stop)\n",
    "random.randint(1,20)"
   ]
  },
  {
   "cell_type": "code",
   "execution_count": 15,
   "metadata": {},
   "outputs": [
    {
     "name": "stdout",
     "output_type": "stream",
     "text": [
      "['hh', 'oo', 'll', 'aa', '  ', 'cc', 'oo', 'mm', 'oo', '  ', 'vv', 'aa']\n"
     ]
    },
    {
     "data": {
      "text/plain": [
       "'aa'"
      ]
     },
     "execution_count": 15,
     "metadata": {},
     "output_type": "execute_result"
    }
   ],
   "source": [
    "# agarra un elemento aleatorio del iterable\n",
    "lista = [letra*2 for letra in 'hola como va']\n",
    "print(lista)\n",
    "random.choice(lista)"
   ]
  },
  {
   "cell_type": "code",
   "execution_count": 17,
   "metadata": {},
   "outputs": [
    {
     "data": {
      "text/plain": [
       "['mm', '  ', 'vv']"
      ]
     },
     "execution_count": 17,
     "metadata": {},
     "output_type": "execute_result"
    }
   ],
   "source": [
    "# agarra un elemento aleatorio del iterable (con reposicion)\n",
    "lista = [letra*2 for letra in 'hola como va']\n",
    "random.choices(lista,k=3)"
   ]
  },
  {
   "cell_type": "code",
   "execution_count": 18,
   "metadata": {},
   "outputs": [
    {
     "data": {
      "text/plain": [
       "['aa', '  ', 'mm']"
      ]
     },
     "execution_count": 18,
     "metadata": {},
     "output_type": "execute_result"
    }
   ],
   "source": [
    "# agarra un elemento aleatorio del iterable (sin reposicion)\n",
    "lista = [letra*2 for letra in 'hola como va']\n",
    "random.sample(lista,k=3)"
   ]
  },
  {
   "cell_type": "code",
   "execution_count": 19,
   "metadata": {},
   "outputs": [],
   "source": [
    "# mezclar una lista en el lugar\n",
    "lista = [letra*2 for letra in 'hola como va']\n",
    "random.shuffle(lista)"
   ]
  },
  {
   "cell_type": "code",
   "execution_count": 20,
   "metadata": {},
   "outputs": [
    {
     "data": {
      "text/plain": [
       "['ll', 'oo', 'oo', 'mm', 'oo', 'aa', 'vv', 'cc', 'aa', 'hh', '  ', '  ']"
      ]
     },
     "execution_count": 20,
     "metadata": {},
     "output_type": "execute_result"
    }
   ],
   "source": [
    "lista"
   ]
  },
  {
   "cell_type": "markdown",
   "metadata": {},
   "source": [
    "## Usemos lo recien aprendido en algo que aprendimos antes\n",
    "\n",
    "Vamos a mejorar nuestro juego ppt con funciones, ciclo while y el modulo random"
   ]
  },
  {
   "cell_type": "code",
   "execution_count": 22,
   "metadata": {},
   "outputs": [
    {
     "name": "stdout",
     "output_type": "stream",
     "text": [
      "ingrese piedra papel o tijera: tijeta\n",
      "ingrese piedra papel o tijera: piedra\n",
      "gana jugador 1\n",
      "Quiere volver a jugar\n",
      "si o nono\n",
      "Fin del juego\n"
     ]
    }
   ],
   "source": [
    "import random\n",
    "\n",
    "\n",
    "def juego(jugador1,jugador2):\n",
    "    if jugador1==jugador2:\n",
    "        print(\"Empate\")\n",
    "    elif jugador1=='tijera':\n",
    "        if jugador2=='piedra':\n",
    "            print('gana jugador 2')\n",
    "        else:\n",
    "            print('gana jugador 1')\n",
    "    elif jugador1=='piedra':\n",
    "        if jugador2=='papel':\n",
    "            print('gana jugador 2')\n",
    "        else:\n",
    "            print('gana jugador 1')\n",
    "    elif jugador1=='papel':\n",
    "        if jugador2=='tijera':\n",
    "            print('gana jugador 2')\n",
    "        else:\n",
    "            print('gana jugador 1')\n",
    "    else:\n",
    "        print(\"el jugador 1 hizo trampa\")\n",
    "\n",
    "\n",
    "lista = \"piedra papel tijera\".split()\n",
    "\n",
    "jugar = True\n",
    "\n",
    "while jugar:\n",
    "    \n",
    "    # bloque para validar\n",
    "    while True:\n",
    "        jugador1 = input(\"ingrese piedra papel o tijera: \").lower()\n",
    "        if jugador1 in lista:\n",
    "            break\n",
    "    \n",
    "    \n",
    "    jugador2 = random.choice(lista)\n",
    "    \n",
    "    juego(jugador1,jugador2)\n",
    "    \n",
    "    print(\"Quiere volver a jugar\")\n",
    "    de_nuevo = input(\"si o no\").lower()\n",
    "    if de_nuevo==\"no\":\n",
    "        break\n",
    "        \n",
    "        \n",
    "print(\"Fin del juego\")"
   ]
  },
  {
   "cell_type": "code",
   "execution_count": null,
   "metadata": {},
   "outputs": [],
   "source": []
  }
 ],
 "metadata": {
  "kernelspec": {
   "display_name": "Python 3",
   "language": "python",
   "name": "python3"
  },
  "language_info": {
   "codemirror_mode": {
    "name": "ipython",
    "version": 3
   },
   "file_extension": ".py",
   "mimetype": "text/x-python",
   "name": "python",
   "nbconvert_exporter": "python",
   "pygments_lexer": "ipython3",
   "version": "3.7.0"
  }
 },
 "nbformat": 4,
 "nbformat_minor": 4
}
