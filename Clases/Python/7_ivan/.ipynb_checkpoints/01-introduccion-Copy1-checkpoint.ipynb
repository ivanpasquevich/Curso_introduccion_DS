{
 "cells": [
  {
   "cell_type": "markdown",
   "metadata": {},
   "source": [
    "# Expresiones regulares (regex)\n",
    "\n",
    "Una de las tareas más utilizadas en la programación es la búsqueda de subcadenas o patrones dentro de otras cadenas de texto.\n",
    "\n",
    "Las **expresiones regulares** son un potente lenguaje de descripción de texto, son patrones de búsqueda definidos con una sintaxis formal.\n",
    "\n",
    "No existe un lenguaje moderno que no permita usarlas. Las reglas con las que se forman son bastante simples. Pero aprender a combinarlas correctamente **requiere de práctica**.\n",
    "\n",
    "[regex 101](https://regex101.com/)\n",
    "\n",
    "[regexr](https://regexr.com/)"
   ]
  },
  {
   "cell_type": "markdown",
   "metadata": {},
   "source": [
    "<br>"
   ]
  },
  {
   "cell_type": "markdown",
   "metadata": {},
   "source": [
    "Supongamos el siguiente escenario:\n",
    "\n",
    "Quiero determinar si dentro de una cadena puedo encontrar el numero 123.\n",
    "    "
   ]
  },
  {
   "cell_type": "code",
   "execution_count": 3,
   "metadata": {},
   "outputs": [],
   "source": [
    "string = 'hola123chau'"
   ]
  },
  {
   "cell_type": "code",
   "execution_count": 4,
   "metadata": {},
   "outputs": [
    {
     "data": {
      "text/plain": [
       "True"
      ]
     },
     "execution_count": 4,
     "metadata": {},
     "output_type": "execute_result"
    }
   ],
   "source": [
    "\"123\" in string"
   ]
  },
  {
   "cell_type": "code",
   "execution_count": 5,
   "metadata": {},
   "outputs": [
    {
     "data": {
      "text/plain": [
       "4"
      ]
     },
     "execution_count": 5,
     "metadata": {},
     "output_type": "execute_result"
    }
   ],
   "source": [
    "string.find(\"123\")"
   ]
  },
  {
   "cell_type": "code",
   "execution_count": 6,
   "metadata": {
    "scrolled": true
   },
   "outputs": [
    {
     "data": {
      "text/plain": [
       "4"
      ]
     },
     "execution_count": 6,
     "metadata": {},
     "output_type": "execute_result"
    }
   ],
   "source": [
    "string.index(\"123\")"
   ]
  },
  {
   "cell_type": "markdown",
   "metadata": {},
   "source": [
    "Pero que pasa si ahora lo que queremos saber es si nuestro string contiene una secuencia de 3 numeros, sin importar cuales sean.. Aqui es donde se vuelven utiles las **expresiones regulares**"
   ]
  },
  {
   "cell_type": "code",
   "execution_count": null,
   "metadata": {},
   "outputs": [],
   "source": []
  },
  {
   "cell_type": "markdown",
   "metadata": {},
   "source": [
    "## Regex en Python\n",
    "\n",
    "### El modulo `re`\n",
    "\n",
    "Las regex en Python residen en la funcionalidad del modulo `re` , el cual es una libreria que contiene funciones y metodos muy utiles para el uso de expresiones regulares.\n",
    "\n",
    "Para trabajar con el debemos importarlo:\n",
    "\n",
    "    import re"
   ]
  },
  {
   "cell_type": "code",
   "execution_count": 1,
   "metadata": {},
   "outputs": [],
   "source": [
    "import re"
   ]
  },
  {
   "cell_type": "markdown",
   "metadata": {},
   "source": [
    "En este notebook nos vamos a centrar en explicar aspectos de la sintaxis de las regex, y para ello nos vamos a basar en dos funciones del modulo re:\n",
    "\n",
    "1. **re.search(patron,string)** : va a escanear el string buscando la primer ocurrencia del patron especificado. Si hay concordancia, nos devuelve un objeto `match`, sino devuelve `None`\n",
    "<br>\n",
    "2. **re.findall(*patron,string*)** : va a escanear el string buscando todas las ocurrencias del patron especificado. Nos devuelve una lista con todas las ocurrencias (lista vacia si no se encuentra el patron)"
   ]
  },
  {
   "cell_type": "code",
   "execution_count": null,
   "metadata": {},
   "outputs": [],
   "source": [
    "# volvamos al caso de antes"
   ]
  },
  {
   "cell_type": "code",
   "execution_count": 3,
   "metadata": {},
   "outputs": [],
   "source": [
    "string = \"hola123chau\""
   ]
  },
  {
   "cell_type": "code",
   "execution_count": 10,
   "metadata": {},
   "outputs": [
    {
     "data": {
      "text/plain": [
       "<re.Match object; span=(4, 7), match='123'>"
      ]
     },
     "execution_count": 10,
     "metadata": {},
     "output_type": "execute_result"
    }
   ],
   "source": [
    "re.search('123',string)"
   ]
  },
  {
   "cell_type": "code",
   "execution_count": 12,
   "metadata": {},
   "outputs": [
    {
     "data": {
      "text/plain": [
       "'123'"
      ]
     },
     "execution_count": 12,
     "metadata": {},
     "output_type": "execute_result"
    }
   ],
   "source": [
    "string[4:7]"
   ]
  },
  {
   "cell_type": "code",
   "execution_count": 11,
   "metadata": {
    "scrolled": true
   },
   "outputs": [
    {
     "data": {
      "text/plain": [
       "['123']"
      ]
     },
     "execution_count": 11,
     "metadata": {},
     "output_type": "execute_result"
    }
   ],
   "source": [
    "re.findall('123',string)"
   ]
  },
  {
   "cell_type": "code",
   "execution_count": null,
   "metadata": {},
   "outputs": [],
   "source": [
    "# pero esto no es mas poderoso de lo que ya veniamos viendo"
   ]
  },
  {
   "cell_type": "markdown",
   "metadata": {},
   "source": [
    "### METACARACTERES\n",
    "\n",
    "El verdadero poder de las regex es cuando usamos **metacaracteres** en el patron, estos son caracteres que tienen un significado especial dentro de las regex e incrementan enormemente la capacidad de busqueda."
   ]
  },
  {
   "cell_type": "markdown",
   "metadata": {},
   "source": [
    "Veamos un ejemplo, el metacaracter `[]` indica la creacion de una **clase de caracteres** (conjunto de caracteres) de los cuales si el string posee alguno de ellos, va a haber un match.\n",
    "\n",
    "Es importante remarcar, que este conjunto de caracteres creado, funciona como si fuese un solo caracter pero que puede valer cualquier valor del conjunto."
   ]
  },
  {
   "cell_type": "code",
   "execution_count": 15,
   "metadata": {},
   "outputs": [
    {
     "data": {
      "text/plain": [
       "<re.Match object; span=(3, 4), match='a'>"
      ]
     },
     "execution_count": 15,
     "metadata": {},
     "output_type": "execute_result"
    }
   ],
   "source": [
    "re.search('[abc]',string)"
   ]
  },
  {
   "cell_type": "code",
   "execution_count": 16,
   "metadata": {},
   "outputs": [
    {
     "data": {
      "text/plain": [
       "'hola123chau'"
      ]
     },
     "execution_count": 16,
     "metadata": {},
     "output_type": "execute_result"
    }
   ],
   "source": [
    "string"
   ]
  },
  {
   "cell_type": "code",
   "execution_count": 17,
   "metadata": {
    "scrolled": true
   },
   "outputs": [
    {
     "data": {
      "text/plain": [
       "['a', 'c', 'a']"
      ]
     },
     "execution_count": 17,
     "metadata": {},
     "output_type": "execute_result"
    }
   ],
   "source": [
    "re.findall('[abc]',string)"
   ]
  },
  {
   "cell_type": "code",
   "execution_count": null,
   "metadata": {},
   "outputs": [],
   "source": []
  },
  {
   "cell_type": "markdown",
   "metadata": {},
   "source": [
    "Y si ahora queremos que sea mas de un caracter ?"
   ]
  },
  {
   "cell_type": "code",
   "execution_count": 18,
   "metadata": {
    "scrolled": false
   },
   "outputs": [
    {
     "data": {
      "text/plain": [
       "<re.Match object; span=(3, 5), match='a1'>"
      ]
     },
     "execution_count": 18,
     "metadata": {},
     "output_type": "execute_result"
    }
   ],
   "source": [
    "re.search('[abc][0123456789]',string)"
   ]
  },
  {
   "cell_type": "code",
   "execution_count": 4,
   "metadata": {},
   "outputs": [
    {
     "data": {
      "text/plain": [
       "['a1']"
      ]
     },
     "execution_count": 4,
     "metadata": {},
     "output_type": "execute_result"
    }
   ],
   "source": [
    "re.findall('[abc][0123456789]',string)"
   ]
  },
  {
   "cell_type": "code",
   "execution_count": 19,
   "metadata": {},
   "outputs": [
    {
     "data": {
      "text/plain": [
       "<re.Match object; span=(3, 5), match='a1'>"
      ]
     },
     "execution_count": 19,
     "metadata": {},
     "output_type": "execute_result"
    }
   ],
   "source": [
    "re.search('[a-z][0-9]',string)"
   ]
  },
  {
   "cell_type": "code",
   "execution_count": 20,
   "metadata": {},
   "outputs": [
    {
     "data": {
      "text/plain": [
       "['a1']"
      ]
     },
     "execution_count": 20,
     "metadata": {},
     "output_type": "execute_result"
    }
   ],
   "source": [
    "re.findall('[a-z][0-9]',string)"
   ]
  },
  {
   "cell_type": "code",
   "execution_count": 21,
   "metadata": {},
   "outputs": [],
   "source": [
    "# veamos otro ejemplo\n",
    "re.search('[a-z][0-9][abc456]',string)\n"
   ]
  },
  {
   "cell_type": "code",
   "execution_count": 22,
   "metadata": {},
   "outputs": [
    {
     "data": {
      "text/plain": [
       "<re.Match object; span=(3, 6), match='a3a'>"
      ]
     },
     "execution_count": 22,
     "metadata": {},
     "output_type": "execute_result"
    }
   ],
   "source": [
    "string2 = \"Hola3a la95\"\n",
    "re.search('[a-z][0-9][abc456]',string2)"
   ]
  },
  {
   "cell_type": "code",
   "execution_count": 23,
   "metadata": {},
   "outputs": [
    {
     "data": {
      "text/plain": [
       "['a3a', 'a95']"
      ]
     },
     "execution_count": 23,
     "metadata": {},
     "output_type": "execute_result"
    }
   ],
   "source": [
    "re.findall('[a-z][0-9][abc456]',string2)"
   ]
  },
  {
   "cell_type": "code",
   "execution_count": null,
   "metadata": {},
   "outputs": [],
   "source": []
  },
  {
   "cell_type": "markdown",
   "metadata": {},
   "source": [
    "### Tabla de metacaracteres\n",
    "\n",
    "A continuacion una tabla **resumida** de los metacaracteres de las expresiones regulares \n",
    "\n",
    "<table >\n",
    "<tr>\n",
    "    <th style=\"width:20%\"> Metacarater</th>\n",
    "    <th>Descripcion</th> \n",
    "</tr>\n",
    "\n",
    "<tr>\n",
    "    <td>.</td> \n",
    "    <td>Coincide con cualquier caracter, excepto el salto de linea</td>\n",
    "</tr>\n",
    "\n",
    "<tr>\n",
    "    <td>*</td> \n",
    "    <td>Coincide con el elemento anterior cero o más veces.</td>\n",
    "</tr>\n",
    "    \n",
    "<tr>\n",
    "    <td>+</td> \n",
    "    <td>Coincide con el elemento anterior una o más veces.</td>\n",
    "</tr>\n",
    "  \n",
    "<tr>\n",
    "    <td>[ ]</td> \n",
    "    <td>Especifica una clase de caracteres</td>\n",
    "</tr>  \n",
    "    \n",
    "<tr>\n",
    "    <td>^</td> \n",
    "    <td>Coincidencia del patron al principio de la cadena. <br>\n",
    "    Complementa el uso de la clase de caracteres</td>\n",
    "</tr>\n",
    "    \n",
    "<tr>\n",
    "    <td>$</td> \n",
    "    <td>Coincidencia del patron al final de la cadena</td>\n",
    "</tr>\n",
    "    \n",
    "    \n",
    "<tr>\n",
    "    <td>?</td> \n",
    "    <td>Coincide con el elemento anterior cero o una vez.\n",
    "    <br>Especifica una coincidencia no ambiciosa.</td>\n",
    "</tr>\n",
    "    \n",
    "<tr>\n",
    "    <td>( )</td> \n",
    "    <td>Crea un grupo</td>\n",
    "</tr>\n",
    "    \n",
    "<tr>\n",
    "    <td>\\</td> \n",
    "    <td>Anula el significado de un metacaracter\n",
    "    <br>Induce a otros metacaracteres</td>\n",
    "</tr>\n",
    "\n",
    "<tr>\n",
    "    <td>\\s</td> \n",
    "    <td>Coincide con cualquier carácter que sea un espacio en blanco.</td>\n",
    "</tr>\n",
    "    \n",
    "<tr>\n",
    "    <td>\\S</td> \n",
    "    <td>Coincide con cualquier carácter que NO sea un espacio en blanco.</td>\n",
    "</tr>\n",
    "    \n",
    "<tr>\n",
    "    <td>\\w</td> \n",
    "    <td>Coincide con cualquier carácter alfanumerico.</td>\n",
    "</tr>\n",
    "    \n",
    "<tr>\n",
    "    <td>\\W</td> \n",
    "    <td>Coincide con cualquier carácter NO alfanumerico.</td>\n",
    "</tr>\n",
    "    \n",
    " </table>\n"
   ]
  },
  {
   "cell_type": "markdown",
   "metadata": {},
   "source": [
    "Vamos a analizar algunos de ellos\n",
    "\n",
    "**Pero antes hagamos un parentesis**\n",
    "\n",
    "El uso de `r' '` en Python (aconsejable al 100%)"
   ]
  },
  {
   "cell_type": "code",
   "execution_count": 4,
   "metadata": {},
   "outputs": [
    {
     "name": "stdout",
     "output_type": "stream",
     "text": [
      "cara\b\n"
     ]
    }
   ],
   "source": [
    "string = 'cara\\b'\n",
    "print(string)"
   ]
  },
  {
   "cell_type": "code",
   "execution_count": 6,
   "metadata": {},
   "outputs": [
    {
     "name": "stdout",
     "output_type": "stream",
     "text": [
      "cara\tluna\n"
     ]
    }
   ],
   "source": [
    "string = 'cara\\tluna'\n",
    "print(string)"
   ]
  },
  {
   "cell_type": "code",
   "execution_count": 7,
   "metadata": {},
   "outputs": [
    {
     "name": "stdout",
     "output_type": "stream",
     "text": [
      "cara\\tluna\n"
     ]
    }
   ],
   "source": [
    "string = r'cara\\tluna'\n",
    "print(string)"
   ]
  },
  {
   "cell_type": "code",
   "execution_count": 8,
   "metadata": {},
   "outputs": [
    {
     "name": "stdout",
     "output_type": "stream",
     "text": [
      "cara\\b\n"
     ]
    }
   ],
   "source": [
    "string = r'cara\\b'\n",
    "print(string)"
   ]
  },
  {
   "cell_type": "markdown",
   "metadata": {},
   "source": [
    "**Recuerden**\n",
    "\n",
    "**El uso de `r''` es propio de Python**, no corresponde a las expresiones regulares, por lo que si estan programando en otro lenguaje no deben utilizarlo."
   ]
  },
  {
   "cell_type": "markdown",
   "metadata": {},
   "source": [
    "### [ ]"
   ]
  },
  {
   "cell_type": "code",
   "execution_count": 7,
   "metadata": {},
   "outputs": [
    {
     "data": {
      "text/plain": [
       "<re.Match object; span=(10, 11), match='4'>"
      ]
     },
     "execution_count": 7,
     "metadata": {},
     "output_type": "execute_result"
    }
   ],
   "source": [
    "# sigamos con los ejemplos anteriores, como vemos al crear una clase de caracteres, buscamos la coincidencia de un solo \n",
    "# caracter\n",
    "\n",
    "string = 'el numero 456 es el indicado'\n",
    "\n",
    "re.search(r'[0-9]',string)"
   ]
  },
  {
   "cell_type": "code",
   "execution_count": 5,
   "metadata": {},
   "outputs": [
    {
     "data": {
      "text/plain": [
       "['4', '5', '6']"
      ]
     },
     "execution_count": 5,
     "metadata": {},
     "output_type": "execute_result"
    }
   ],
   "source": [
    "re.findall(r'[0-9]',string)"
   ]
  },
  {
   "cell_type": "code",
   "execution_count": 6,
   "metadata": {},
   "outputs": [
    {
     "data": {
      "text/plain": [
       "<re.Match object; span=(10, 13), match='456'>"
      ]
     },
     "execution_count": 6,
     "metadata": {},
     "output_type": "execute_result"
    }
   ],
   "source": [
    "# pero que pasa si queremos que coincida con 3 caracteres numericos\n",
    "# como vimos recien tenemos que utilizar el siguiente patron\n",
    "\n",
    "re.search(r'[0-9][0-9][0-9]',string)"
   ]
  },
  {
   "cell_type": "code",
   "execution_count": 8,
   "metadata": {},
   "outputs": [
    {
     "data": {
      "text/plain": [
       "['456']"
      ]
     },
     "execution_count": 8,
     "metadata": {},
     "output_type": "execute_result"
    }
   ],
   "source": [
    "re.findall(r'[0-9][0-9][0-9]',string)"
   ]
  },
  {
   "cell_type": "markdown",
   "metadata": {},
   "source": [
    "**Pero que sucede si nosotros queremos que el patron nos coincida con un numero entero, no importa de cuantas cifras sea, pero queremos todo el numero.**\n",
    "\n",
    "##  + \n",
    "## * \n",
    "\n",
    "Match para repeticiones"
   ]
  },
  {
   "cell_type": "code",
   "execution_count": 9,
   "metadata": {},
   "outputs": [
    {
     "data": {
      "text/plain": [
       "<re.Match object; span=(10, 13), match='456'>"
      ]
     },
     "execution_count": 9,
     "metadata": {},
     "output_type": "execute_result"
    }
   ],
   "source": [
    "string = 'el numero 456 es el indicado'\n",
    "\n",
    "re.search(r'[0-9]+',string)"
   ]
  },
  {
   "cell_type": "code",
   "execution_count": 12,
   "metadata": {},
   "outputs": [
    {
     "data": {
      "text/plain": [
       "['456']"
      ]
     },
     "execution_count": 12,
     "metadata": {},
     "output_type": "execute_result"
    }
   ],
   "source": [
    "re.findall(r'[0-9]+',string)"
   ]
  },
  {
   "cell_type": "code",
   "execution_count": null,
   "metadata": {},
   "outputs": [],
   "source": []
  },
  {
   "cell_type": "code",
   "execution_count": 13,
   "metadata": {
    "scrolled": true
   },
   "outputs": [
    {
     "data": {
      "text/plain": [
       "<re.Match object; span=(10, 13), match='456'>"
      ]
     },
     "execution_count": 13,
     "metadata": {},
     "output_type": "execute_result"
    }
   ],
   "source": [
    "string = 'el numero 456 es el indicado pero 23454 tambien puede ser, o el 14'\n",
    "\n",
    "re.search(r'[0-9]+',string)"
   ]
  },
  {
   "cell_type": "code",
   "execution_count": 14,
   "metadata": {},
   "outputs": [
    {
     "data": {
      "text/plain": [
       "['456', '23454', '14']"
      ]
     },
     "execution_count": 14,
     "metadata": {},
     "output_type": "execute_result"
    }
   ],
   "source": [
    "re.findall(r'[0-9]+',string)"
   ]
  },
  {
   "cell_type": "code",
   "execution_count": null,
   "metadata": {},
   "outputs": [],
   "source": []
  },
  {
   "cell_type": "code",
   "execution_count": 5,
   "metadata": {},
   "outputs": [],
   "source": [
    "# la diferencia entre + y *\n",
    "\n",
    "string = 'el numero'\n",
    "\n",
    "re.search(r'[0-9]+',string)"
   ]
  },
  {
   "cell_type": "code",
   "execution_count": 6,
   "metadata": {},
   "outputs": [
    {
     "data": {
      "text/plain": [
       "<re.Match object; span=(0, 0), match=''>"
      ]
     },
     "execution_count": 6,
     "metadata": {},
     "output_type": "execute_result"
    }
   ],
   "source": [
    "re.search(r'[0-9]*',string)"
   ]
  },
  {
   "cell_type": "code",
   "execution_count": null,
   "metadata": {},
   "outputs": [],
   "source": []
  },
  {
   "cell_type": "markdown",
   "metadata": {},
   "source": [
    "## .\n",
    "\n",
    "Match con cualquier caracter menos el de nueva linea"
   ]
  },
  {
   "cell_type": "code",
   "execution_count": 17,
   "metadata": {},
   "outputs": [
    {
     "data": {
      "text/plain": [
       "<re.Match object; span=(0, 7), match='fooxbar'>"
      ]
     },
     "execution_count": 17,
     "metadata": {},
     "output_type": "execute_result"
    }
   ],
   "source": [
    "string = 'fooxbar'\n",
    "re.search(r'foo.bar',string)"
   ]
  },
  {
   "cell_type": "code",
   "execution_count": 18,
   "metadata": {},
   "outputs": [
    {
     "data": {
      "text/plain": [
       "<re.Match object; span=(0, 7), match='fooHbar'>"
      ]
     },
     "execution_count": 18,
     "metadata": {},
     "output_type": "execute_result"
    }
   ],
   "source": [
    "string = 'fooHbar'\n",
    "re.search(r'foo.bar',string)"
   ]
  },
  {
   "cell_type": "code",
   "execution_count": 19,
   "metadata": {},
   "outputs": [],
   "source": [
    "string = 'foo\\nbar'\n",
    "re.search(r'foo.bar',string)"
   ]
  },
  {
   "cell_type": "code",
   "execution_count": 20,
   "metadata": {},
   "outputs": [
    {
     "data": {
      "text/plain": [
       "<re.Match object; span=(2, 6), match='oMnb'>"
      ]
     },
     "execution_count": 20,
     "metadata": {},
     "output_type": "execute_result"
    }
   ],
   "source": [
    "string = 'fooMnbar'\n",
    "re.search(r'o..b',string)"
   ]
  },
  {
   "cell_type": "code",
   "execution_count": null,
   "metadata": {},
   "outputs": [],
   "source": [
    "# veamos como podemor ir combinando metacaracteres para ir armando nuestro patron"
   ]
  },
  {
   "cell_type": "code",
   "execution_count": 24,
   "metadata": {},
   "outputs": [
    {
     "data": {
      "text/plain": [
       "<re.Match object; span=(3, 8), match='a345c'>"
      ]
     },
     "execution_count": 24,
     "metadata": {},
     "output_type": "execute_result"
    }
   ],
   "source": [
    "\n",
    "string = \"hola345chau\"\n",
    "patron = r\".[0-9]+.\"\n",
    "re.search(patron,string)"
   ]
  },
  {
   "cell_type": "code",
   "execution_count": 25,
   "metadata": {},
   "outputs": [
    {
     "data": {
      "text/plain": [
       "<re.Match object; span=(3, 6), match='a34'>"
      ]
     },
     "execution_count": 25,
     "metadata": {},
     "output_type": "execute_result"
    }
   ],
   "source": [
    "string = \"hola345chau\"\n",
    "patron = r\".[0-9].\"\n",
    "re.search(patron,string)"
   ]
  },
  {
   "cell_type": "code",
   "execution_count": 38,
   "metadata": {},
   "outputs": [
    {
     "data": {
      "text/plain": [
       "<re.Match object; span=(3, 11), match='a345chau'>"
      ]
     },
     "execution_count": 38,
     "metadata": {},
     "output_type": "execute_result"
    }
   ],
   "source": [
    "string = \"hola345chau\"\n",
    "patron = r\".[0-9].+\"\n",
    "re.search(patron,string)"
   ]
  },
  {
   "cell_type": "code",
   "execution_count": null,
   "metadata": {},
   "outputs": [],
   "source": []
  },
  {
   "cell_type": "code",
   "execution_count": null,
   "metadata": {},
   "outputs": [],
   "source": []
  },
  {
   "cell_type": "markdown",
   "metadata": {},
   "source": [
    "****"
   ]
  },
  {
   "cell_type": "markdown",
   "metadata": {},
   "source": [
    "Hagamos una pausa, creamos una funcion para ir mostrando los resultados de los metodos `.search()` y `.findall()`"
   ]
  },
  {
   "cell_type": "code",
   "execution_count": 8,
   "metadata": {},
   "outputs": [],
   "source": [
    "def mostrar(patron,string):\n",
    "    print('Usando re.search() : ', re.search(patron,string))\n",
    "    print('Usando re.findall() : ', re.findall(patron,string))"
   ]
  },
  {
   "cell_type": "code",
   "execution_count": 44,
   "metadata": {},
   "outputs": [
    {
     "name": "stdout",
     "output_type": "stream",
     "text": [
      "Usando re.search() :  <re.Match object; span=(3, 11), match='a345chau'>\n",
      "Usando re.findall() :  ['a345chau']\n"
     ]
    }
   ],
   "source": [
    "string = \"hola345chau\"\n",
    "patron = r\".[0-9].+\"\n",
    "mostrar(patron,string)"
   ]
  },
  {
   "cell_type": "markdown",
   "metadata": {},
   "source": [
    "***"
   ]
  },
  {
   "cell_type": "code",
   "execution_count": null,
   "metadata": {},
   "outputs": [],
   "source": []
  },
  {
   "cell_type": "code",
   "execution_count": null,
   "metadata": {},
   "outputs": [],
   "source": []
  },
  {
   "cell_type": "markdown",
   "metadata": {},
   "source": [
    "## ^\n",
    "Veamos sus dos usos"
   ]
  },
  {
   "cell_type": "code",
   "execution_count": 67,
   "metadata": {},
   "outputs": [
    {
     "name": "stdout",
     "output_type": "stream",
     "text": [
      "Usando re.search() :  <re.Match object; span=(0, 4), match='auto'>\n",
      "Usando re.findall() :  ['auto']\n"
     ]
    }
   ],
   "source": [
    "# podemos usarlos para una coincidencia al inicio del string\n",
    "\n",
    "string = 'auto rojo'\n",
    "patron = r'^auto'\n",
    "mostrar(patron,string)"
   ]
  },
  {
   "cell_type": "code",
   "execution_count": 68,
   "metadata": {},
   "outputs": [
    {
     "name": "stdout",
     "output_type": "stream",
     "text": [
      "Usando re.search() :  None\n",
      "Usando re.findall() :  []\n"
     ]
    }
   ],
   "source": [
    "string = ' un auto rojo'\n",
    "patron = r'^auto'\n",
    "mostrar(patron,string)"
   ]
  },
  {
   "cell_type": "code",
   "execution_count": null,
   "metadata": {},
   "outputs": [],
   "source": []
  },
  {
   "cell_type": "code",
   "execution_count": 9,
   "metadata": {},
   "outputs": [
    {
     "name": "stdout",
     "output_type": "stream",
     "text": [
      "Usando re.search() :  <re.Match object; span=(9, 16), match='clase b'>\n",
      "Usando re.findall() :  ['clase b', 'clase c']\n"
     ]
    }
   ],
   "source": [
    "# podemos usarlos en conjunto con una clase de caracteres para indicar NO inclusion\n",
    "\n",
    "string = 'clase a, clase b, clase c'\n",
    "patron = r'clase [^a]'\n",
    "mostrar(patron,string)\n"
   ]
  },
  {
   "cell_type": "code",
   "execution_count": 10,
   "metadata": {},
   "outputs": [
    {
     "name": "stdout",
     "output_type": "stream",
     "text": [
      "Usando re.search() :  <re.Match object; span=(18, 25), match='clase c'>\n",
      "Usando re.findall() :  ['clase c']\n"
     ]
    }
   ],
   "source": [
    "string = 'clase a, clase b, clase c'\n",
    "patron = r'clase [^ab]'\n",
    "mostrar(patron,string)"
   ]
  },
  {
   "cell_type": "code",
   "execution_count": 20,
   "metadata": {},
   "outputs": [
    {
     "name": "stdout",
     "output_type": "stream",
     "text": [
      "Usando re.search() :  <re.Match object; span=(15, 19), match='Java'>\n",
      "Usando re.findall() :  ['Java', 'java', 'java']\n"
     ]
    }
   ],
   "source": [
    "# veamos el siguiente string, solo quiero contar cuantas veces encontramos las palabras java o Java\n",
    "\n",
    "string = 'Cuando decimos Java nos referimos a un lenguaje de programacion, javascript y java son cosas distintas'\n",
    "patron = r'[Jj]ava'\n",
    "mostrar(patron,string)"
   ]
  },
  {
   "cell_type": "code",
   "execution_count": 21,
   "metadata": {},
   "outputs": [
    {
     "name": "stdout",
     "output_type": "stream",
     "text": [
      "Usando re.search() :  <re.Match object; span=(15, 20), match='Java '>\n",
      "Usando re.findall() :  ['Java ', 'java ']\n"
     ]
    }
   ],
   "source": [
    "patron = r'[Jj]ava[^Ss]'\n",
    "mostrar(patron,string)"
   ]
  },
  {
   "cell_type": "code",
   "execution_count": null,
   "metadata": {},
   "outputs": [],
   "source": []
  },
  {
   "cell_type": "markdown",
   "metadata": {},
   "source": [
    "## \\\n",
    "\n",
    "Como metacaracter de escape"
   ]
  },
  {
   "cell_type": "code",
   "execution_count": 73,
   "metadata": {},
   "outputs": [
    {
     "name": "stdout",
     "output_type": "stream",
     "text": [
      "Usando re.search() :  <re.Match object; span=(0, 1), match='f'>\n",
      "Usando re.findall() :  ['f', 'o', 'o', '.', 'b', 'a', 'r']\n"
     ]
    }
   ],
   "source": [
    "string = 'foo.bar'\n",
    "patron = r'.'\n",
    "mostrar(patron,string)"
   ]
  },
  {
   "cell_type": "code",
   "execution_count": 74,
   "metadata": {},
   "outputs": [
    {
     "name": "stdout",
     "output_type": "stream",
     "text": [
      "Usando re.search() :  <re.Match object; span=(3, 4), match='.'>\n",
      "Usando re.findall() :  ['.']\n"
     ]
    }
   ],
   "source": [
    "string = 'foo.bar'\n",
    "patron = r'\\.'\n",
    "mostrar(patron,string)"
   ]
  },
  {
   "cell_type": "code",
   "execution_count": null,
   "metadata": {},
   "outputs": [],
   "source": []
  },
  {
   "cell_type": "code",
   "execution_count": null,
   "metadata": {},
   "outputs": [],
   "source": []
  },
  {
   "cell_type": "code",
   "execution_count": 61,
   "metadata": {},
   "outputs": [
    {
     "name": "stdout",
     "output_type": "stream",
     "text": [
      "Usando re.search() :  None\n",
      "Usando re.findall() :  []\n"
     ]
    }
   ],
   "source": [
    "# encontrando la suma\n",
    "\n",
    "string = \"12 + 15 es 27\"\n",
    "patron = r\"[0-9]+ + [0-9]+\"\n",
    "mostrar(patron,string)"
   ]
  },
  {
   "cell_type": "code",
   "execution_count": 62,
   "metadata": {},
   "outputs": [
    {
     "name": "stdout",
     "output_type": "stream",
     "text": [
      "Usando re.search() :  <re.Match object; span=(0, 7), match='12 + 15'>\n",
      "Usando re.findall() :  ['12 + 15']\n"
     ]
    }
   ],
   "source": [
    "string = \"12 + 15 es 27\"\n",
    "patron = r\"[0-9]+ \\+ [0-9]+\"\n",
    "mostrar(patron,string)"
   ]
  },
  {
   "cell_type": "code",
   "execution_count": 11,
   "metadata": {},
   "outputs": [
    {
     "name": "stdout",
     "output_type": "stream",
     "text": [
      "Usando re.search() :  <re.Match object; span=(0, 12), match='1223 + 15344'>\n",
      "Usando re.findall() :  ['1223 + 15344']\n"
     ]
    }
   ],
   "source": [
    "string = \"1223 + 15344 es 27\"\n",
    "patron = r\"[0-9]+ \\+ [0-9]+\"\n",
    "mostrar(patron,string)"
   ]
  },
  {
   "cell_type": "code",
   "execution_count": null,
   "metadata": {},
   "outputs": [],
   "source": []
  },
  {
   "cell_type": "code",
   "execution_count": 12,
   "metadata": {},
   "outputs": [
    {
     "name": "stdout",
     "output_type": "stream",
     "text": [
      "Usando re.search() :  None\n",
      "Usando re.findall() :  []\n"
     ]
    }
   ],
   "source": [
    "# que pasa si tenemos la cuenta muy sepadara?\n",
    "\n",
    "string = \"12    +  15 es 27\"\n",
    "mostrar(patron,string)"
   ]
  },
  {
   "cell_type": "code",
   "execution_count": null,
   "metadata": {},
   "outputs": [],
   "source": [
    "# ahora volvemos a este ejercicio, vamos a introducir otro metacaracter"
   ]
  },
  {
   "cell_type": "code",
   "execution_count": null,
   "metadata": {},
   "outputs": [],
   "source": []
  },
  {
   "cell_type": "markdown",
   "metadata": {},
   "source": [
    "## \\s\n",
    "\n",
    "Espacios ( ,\\n,\\t)"
   ]
  },
  {
   "cell_type": "code",
   "execution_count": 13,
   "metadata": {},
   "outputs": [
    {
     "name": "stdout",
     "output_type": "stream",
     "text": [
      "Usando re.search() :  <re.Match object; span=(5, 6), match=' '>\n",
      "Usando re.findall() :  [' ', ' ', ' ']\n"
     ]
    }
   ],
   "source": [
    "string = \"match de los espacios\"\n",
    "patron = r\"\\s\"\n",
    "mostrar(patron,string)"
   ]
  },
  {
   "cell_type": "code",
   "execution_count": 14,
   "metadata": {},
   "outputs": [
    {
     "name": "stdout",
     "output_type": "stream",
     "text": [
      "Usando re.search() :  <re.Match object; span=(5, 10), match='     '>\n",
      "Usando re.findall() :  ['     ', '  ', '              ']\n"
     ]
    }
   ],
   "source": [
    "string = \"match     de  los              espacios\"\n",
    "patron = r\"\\s+\"\n",
    "mostrar(patron,string)"
   ]
  },
  {
   "cell_type": "code",
   "execution_count": 16,
   "metadata": {},
   "outputs": [
    {
     "name": "stdout",
     "output_type": "stream",
     "text": [
      "Usando re.search() :  <re.Match object; span=(21, 35), match='Maria    Marta'>\n",
      "Usando re.findall() :  ['Maria    Marta']\n"
     ]
    }
   ],
   "source": [
    "# supongamos que queremos extraer dos palabras consecutivas que comiencen con mayuscula, pero no sabemos cuantos espacios\n",
    "# de separacion hay entre ellas\n",
    "\n",
    "string = 'las dos palabras son Maria    Marta'\n",
    "patron = r'[A-Z][a-z]+\\s+[A-Z][a-z]+'\n",
    "mostrar(patron,string)"
   ]
  },
  {
   "cell_type": "code",
   "execution_count": 17,
   "metadata": {},
   "outputs": [
    {
     "name": "stdout",
     "output_type": "stream",
     "text": [
      "Usando re.search() :  <re.Match object; span=(21, 38), match='Maria       Marta'>\n",
      "Usando re.findall() :  ['Maria       Marta', 'Juan Perez']\n"
     ]
    }
   ],
   "source": [
    "string = 'las dos palabras son Maria       Marta y Juan Perez'\n",
    "patron = r'[A-Z][a-z]+\\s+[A-Z][a-z]+'\n",
    "mostrar(patron,string)"
   ]
  },
  {
   "cell_type": "code",
   "execution_count": 18,
   "metadata": {},
   "outputs": [
    {
     "name": "stdout",
     "output_type": "stream",
     "text": [
      "las dos palabras son Maria       Marta y Juan Perez\n"
     ]
    }
   ],
   "source": [
    "print(string)"
   ]
  },
  {
   "cell_type": "code",
   "execution_count": null,
   "metadata": {},
   "outputs": [],
   "source": []
  },
  {
   "cell_type": "code",
   "execution_count": null,
   "metadata": {},
   "outputs": [],
   "source": [
    "# volvemos al ejercicio de las sumas separadas"
   ]
  },
  {
   "cell_type": "code",
   "execution_count": 19,
   "metadata": {},
   "outputs": [
    {
     "name": "stdout",
     "output_type": "stream",
     "text": [
      "Usando re.search() :  <re.Match object; span=(0, 11), match='12    +  15'>\n",
      "Usando re.findall() :  ['12    +  15']\n"
     ]
    }
   ],
   "source": [
    "string = \"12    +  15 es 27\"\n",
    "patron = r\"[0-9]+\\s*\\+\\s*[0-9]+\"\n",
    "mostrar(patron,string)"
   ]
  },
  {
   "cell_type": "code",
   "execution_count": 20,
   "metadata": {},
   "outputs": [
    {
     "name": "stdout",
     "output_type": "stream",
     "text": [
      "Usando re.search() :  <re.Match object; span=(0, 6), match='123+15'>\n",
      "Usando re.findall() :  ['123+15']\n"
     ]
    }
   ],
   "source": [
    "# y si no tenemos ningun espacio?\n",
    "\n",
    "string = \"123+15 es 27\"\n",
    "patron = r\"[0-9]+\\s*\\+\\s*[0-9]+\"\n",
    "mostrar(patron,string)"
   ]
  },
  {
   "cell_type": "code",
   "execution_count": 33,
   "metadata": {},
   "outputs": [
    {
     "name": "stdout",
     "output_type": "stream",
     "text": [
      "Usando re.search() :  <re.Match object; span=(0, 6), match='123*15'>\n",
      "Usando re.findall() :  ['123*15']\n"
     ]
    }
   ],
   "source": [
    "# y si tenemos operaciones distintas a la suma?\n",
    "string = \"123*15 es 27\"\n",
    "patron = r\"[0-9]+\\s*[*+-/%]\\s*[0-9]+\"\n",
    "mostrar(patron,string)"
   ]
  },
  {
   "cell_type": "code",
   "execution_count": null,
   "metadata": {},
   "outputs": [],
   "source": []
  },
  {
   "cell_type": "markdown",
   "metadata": {},
   "source": [
    "## \\w\n",
    "\n",
    "Incluye todo aquellos que forme parte de una palabra [a-zA-Z0-9_]"
   ]
  },
  {
   "cell_type": "code",
   "execution_count": 36,
   "metadata": {},
   "outputs": [
    {
     "name": "stdout",
     "output_type": "stream",
     "text": [
      "Usando re.search() :  <re.Match object; span=(0, 1), match='c'>\n",
      "Usando re.findall() :  ['c', 'u', 'a', 'l', 'q', 'u', 'i', 'e', 'r', 'c', 'a', 'r', 'a', 'c', 't', 'e', 'r']\n"
     ]
    }
   ],
   "source": [
    "string = \"cualquier caracter?\"\n",
    "patron = r\"\\w\"\n",
    "mostrar(patron,string)"
   ]
  },
  {
   "cell_type": "code",
   "execution_count": 38,
   "metadata": {},
   "outputs": [
    {
     "name": "stdout",
     "output_type": "stream",
     "text": [
      "Usando re.search() :  <re.Match object; span=(0, 9), match='cualquier'>\n",
      "Usando re.findall() :  ['cualquier', 'caracter']\n"
     ]
    }
   ],
   "source": [
    "string = \"cualquier caracter?\"\n",
    "patron = r\"\\w+\"\n",
    "mostrar(patron,string)"
   ]
  },
  {
   "cell_type": "code",
   "execution_count": 53,
   "metadata": {},
   "outputs": [
    {
     "name": "stdout",
     "output_type": "stream",
     "text": [
      "Usando re.search() :  <re.Match object; span=(14, 21), match=\"'entre'\">\n",
      "Usando re.findall() :  [\"'entre'\", \"'comillas'\", \"'simples'\", \"'necesitamos'\"]\n"
     ]
    }
   ],
   "source": [
    "# supongamos que queremos agarrar todas las palabras que esten entre comillas simple en este string\n",
    "\n",
    "string = \" Las palabras 'entre' las 'comillas' 'simples' son lo que 'necesitamos'\"\n",
    "patron = r\"'\\w+'\"\n",
    "mostrar(patron,string)"
   ]
  },
  {
   "cell_type": "code",
   "execution_count": null,
   "metadata": {},
   "outputs": [],
   "source": []
  },
  {
   "cell_type": "code",
   "execution_count": 59,
   "metadata": {},
   "outputs": [
    {
     "name": "stdout",
     "output_type": "stream",
     "text": [
      "Usando re.search() :  <re.Match object; span=(11, 22), match='traera este'>\n",
      "Usando re.findall() :  ['traera este']\n"
     ]
    }
   ],
   "source": [
    "mostrar(r'\\w+\\s\\w+', 'que   me   traera este   patron ?')"
   ]
  },
  {
   "cell_type": "code",
   "execution_count": 58,
   "metadata": {
    "scrolled": true
   },
   "outputs": [
    {
     "name": "stdout",
     "output_type": "stream",
     "text": [
      "Usando re.search() :  <re.Match object; span=(0, 8), match='que   me'>\n",
      "Usando re.findall() :  ['que   me', 'traera este']\n"
     ]
    }
   ],
   "source": [
    "mostrar(r'\\w+\\s+\\w+', 'que   me   traera este   patron ?')"
   ]
  },
  {
   "cell_type": "code",
   "execution_count": null,
   "metadata": {},
   "outputs": [],
   "source": []
  },
  {
   "cell_type": "markdown",
   "metadata": {},
   "source": [
    "## ?\n",
    "\n",
    "**Coincidencia Ambiciosa**\n",
    "\n",
    "A menos que se indique lo contrario la libreria re nos va a dar la version mas larga de la coincidencia frente al patron especificado.\n",
    "\n",
    "Veamos a que nos referimos con esto"
   ]
  },
  {
   "cell_type": "code",
   "execution_count": 78,
   "metadata": {},
   "outputs": [
    {
     "name": "stdout",
     "output_type": "stream",
     "text": [
      "Usando re.search() :  <re.Match object; span=(0, 32), match='From Joaquin: to Maria, Subject:'>\n",
      "Usando re.findall() :  ['From Joaquin: to Maria, Subject:']\n"
     ]
    }
   ],
   "source": [
    "string = \"From Maria: to Joaquin, Subject: Despido\"\n",
    "patron = r'.+:'\n",
    "mostrar(patron,string)"
   ]
  },
  {
   "cell_type": "markdown",
   "metadata": {},
   "source": [
    "Los metacaracteres `+` y `*` van a llegar con la coincidencia lo mas lejos que puedan dentro del string, son ambiciosos... Pero podemos solucionarlo con un simple caracter, el **`?`**"
   ]
  },
  {
   "cell_type": "code",
   "execution_count": 79,
   "metadata": {},
   "outputs": [
    {
     "name": "stdout",
     "output_type": "stream",
     "text": [
      "Usando re.search() :  <re.Match object; span=(0, 13), match='From Joaquin:'>\n",
      "Usando re.findall() :  ['From Joaquin:', ' to Maria, Subject:']\n"
     ]
    }
   ],
   "source": [
    "string = \"From Maria: to Joaquin, Subject: Despido\"\n",
    "patron = r'.+?:'\n",
    "mostrar(patron,string)"
   ]
  },
  {
   "cell_type": "code",
   "execution_count": null,
   "metadata": {},
   "outputs": [],
   "source": []
  },
  {
   "cell_type": "code",
   "execution_count": null,
   "metadata": {},
   "outputs": [],
   "source": []
  },
  {
   "cell_type": "markdown",
   "metadata": {},
   "source": [
    "## ( )\n",
    "\n",
    "##### Extraccion\n",
    "\n",
    "Estos metacaracteres **crean grupos**, es decir, crean subcadenas dentro de la cadena matcheada.\n",
    "\n",
    "Utilizando la funcion `findall()`, podemos definir el patron para hacer el matcheo y ademas determinar que porcion del match queremos extraer utilizando lo metacarateres `( )`\n"
   ]
  },
  {
   "cell_type": "code",
   "execution_count": 39,
   "metadata": {},
   "outputs": [],
   "source": [
    "# supongamos que queremos extraer todos los datos de un individuo x\n",
    "\n",
    "string = ( ' peso individuo x: 76 kg, peso individuo y: 90 kg, altura individuo x: 1.76 m, altura individuo y: 1.70 m,'\n",
    "          'edad individuo x: 26 años, edad individuo y: 34 años , sexo individuo x: masculino,'\n",
    "          ' sexo individuo y: femenino' )"
   ]
  },
  {
   "cell_type": "code",
   "execution_count": 101,
   "metadata": {},
   "outputs": [
    {
     "data": {
      "text/plain": [
       "['individuo x: 76 kg,',\n",
       " 'individuo x: 1.76 m,',\n",
       " 'individuo x: 26 años,',\n",
       " 'individuo x: masculino,']"
      ]
     },
     "execution_count": 101,
     "metadata": {},
     "output_type": "execute_result"
    }
   ],
   "source": [
    "patron = r'individuo x: .+?,'\n",
    "re.findall(patron,string)"
   ]
  },
  {
   "cell_type": "code",
   "execution_count": 102,
   "metadata": {},
   "outputs": [
    {
     "data": {
      "text/plain": [
       "['76 kg', '1.76 m', '26 años', 'masculino']"
      ]
     },
     "execution_count": 102,
     "metadata": {},
     "output_type": "execute_result"
    }
   ],
   "source": [
    "patron = r'individuo x: (.+?),'\n",
    "re.findall(patron,string)"
   ]
  },
  {
   "cell_type": "code",
   "execution_count": null,
   "metadata": {},
   "outputs": [],
   "source": []
  },
  {
   "cell_type": "code",
   "execution_count": null,
   "metadata": {},
   "outputs": [],
   "source": [
    "# no mostrar esto a la clase\n",
    "# que sucede con la funcion search\n",
    "\n",
    "# ver lo de los grupos"
   ]
  },
  {
   "cell_type": "code",
   "execution_count": null,
   "metadata": {},
   "outputs": [],
   "source": []
  },
  {
   "cell_type": "markdown",
   "metadata": {},
   "source": [
    "## \\b\n",
    "\n",
    "### boundaries\n",
    "\n",
    "Los boundaries (limites) son aquellas posiciones entre \\w y \\W, o al inicio o final del string si es que el string empieza o termina con un caracter de palabra (\\w)\n",
    "\n",
    "Veamos cuando son de utilidad:"
   ]
  },
  {
   "cell_type": "code",
   "execution_count": 67,
   "metadata": {},
   "outputs": [
    {
     "name": "stdout",
     "output_type": "stream",
     "text": [
      "Usando re.search() :  <re.Match object; span=(0, 4), match='java'>\n",
      "Usando re.findall() :  ['java', 'java', 'java', 'java', 'java']\n"
     ]
    }
   ],
   "source": [
    "# obteners solo las ocurrencias de la palabra 'java' por si sola\n",
    "\n",
    "string = \"java obtener las palabras que digan java javascript superjava java\"\n",
    "patron = r'java'\n",
    "mostrar(patron,string)"
   ]
  },
  {
   "cell_type": "code",
   "execution_count": 68,
   "metadata": {},
   "outputs": [
    {
     "name": "stdout",
     "output_type": "stream",
     "text": [
      "Usando re.search() :  <re.Match object; span=(0, 5), match='java '>\n",
      "Usando re.findall() :  ['java ', 'java ', 'java ']\n"
     ]
    }
   ],
   "source": [
    "string = \"java obtener las palabras que digan java javascript superjava java\"\n",
    "patron = r'java\\s'\n",
    "mostrar(patron,string)"
   ]
  },
  {
   "cell_type": "code",
   "execution_count": 69,
   "metadata": {},
   "outputs": [
    {
     "name": "stdout",
     "output_type": "stream",
     "text": [
      "Usando re.search() :  <re.Match object; span=(35, 41), match=' java '>\n",
      "Usando re.findall() :  [' java ']\n"
     ]
    }
   ],
   "source": [
    "string = \"java obtener las palabras que digan java javascript superjava java\"\n",
    "patron = r'\\sjava\\s'\n",
    "mostrar(patron,string)"
   ]
  },
  {
   "cell_type": "code",
   "execution_count": 71,
   "metadata": {},
   "outputs": [
    {
     "name": "stdout",
     "output_type": "stream",
     "text": [
      "Usando re.search() :  <re.Match object; span=(0, 5), match='java '>\n",
      "Usando re.findall() :  ['java ', ' java ', 'java', 'java ', 'java']\n"
     ]
    }
   ],
   "source": [
    "string = \"java obtener las palabras que digan java javascript superjava java\"\n",
    "patron = r'\\s*java\\s*'\n",
    "mostrar(patron,string)"
   ]
  },
  {
   "cell_type": "code",
   "execution_count": 73,
   "metadata": {},
   "outputs": [
    {
     "name": "stdout",
     "output_type": "stream",
     "text": [
      "Usando re.search() :  <re.Match object; span=(31, 35), match='java'>\n",
      "Usando re.findall() :  ['java', 'java']\n"
     ]
    }
   ],
   "source": [
    "string = \"java obtener las palabras que digan java javascript superjava java\"\n",
    "patron = r'\\bjava\\b'\n",
    "mostrar(patron,string)"
   ]
  },
  {
   "cell_type": "code",
   "execution_count": 52,
   "metadata": {
    "scrolled": true
   },
   "outputs": [
    {
     "name": "stdout",
     "output_type": "stream",
     "text": [
      "java\b\n"
     ]
    }
   ],
   "source": [
    "print('java\\b')"
   ]
  },
  {
   "cell_type": "code",
   "execution_count": 9,
   "metadata": {},
   "outputs": [
    {
     "name": "stdout",
     "output_type": "stream",
     "text": [
      "java\\b\n"
     ]
    }
   ],
   "source": [
    "print(r'java\\b')"
   ]
  },
  {
   "cell_type": "markdown",
   "metadata": {},
   "source": [
    "## Funciones del modulo re"
   ]
  },
  {
   "cell_type": "markdown",
   "metadata": {},
   "source": [
    "### re.search()\n",
    "\n",
    "Veamos un poquito mas del objeto que nos devuelve esta funcion"
   ]
  },
  {
   "cell_type": "code",
   "execution_count": 12,
   "metadata": {},
   "outputs": [],
   "source": [
    "string = \"el mail es juancito@gmail.com\"\n",
    "patron = r'\\w+@\\S+'\n",
    "ma = re.search(patron,string)"
   ]
  },
  {
   "cell_type": "code",
   "execution_count": 13,
   "metadata": {
    "scrolled": true
   },
   "outputs": [
    {
     "data": {
      "text/plain": [
       "<re.Match object; span=(11, 29), match='juancito@gmail.com'>"
      ]
     },
     "execution_count": 13,
     "metadata": {},
     "output_type": "execute_result"
    }
   ],
   "source": [
    "ma"
   ]
  },
  {
   "cell_type": "code",
   "execution_count": 15,
   "metadata": {},
   "outputs": [
    {
     "data": {
      "text/plain": [
       "re.Match"
      ]
     },
     "execution_count": 15,
     "metadata": {},
     "output_type": "execute_result"
    }
   ],
   "source": [
    "type(ma)"
   ]
  },
  {
   "cell_type": "code",
   "execution_count": 14,
   "metadata": {},
   "outputs": [
    {
     "name": "stdout",
     "output_type": "stream",
     "text": [
      "existe un email en este string\n"
     ]
    }
   ],
   "source": [
    "# es un objeto considerado verdadero, por lo que lo podemos usar con condicionales\n",
    "\n",
    "if ma:\n",
    "    print(\"existe un email en este string\")"
   ]
  },
  {
   "cell_type": "code",
   "execution_count": 17,
   "metadata": {
    "scrolled": true
   },
   "outputs": [
    {
     "data": {
      "text/plain": [
       "11"
      ]
     },
     "execution_count": 17,
     "metadata": {},
     "output_type": "execute_result"
    }
   ],
   "source": [
    "# ademas es un objeto que como todos en Python, tiene sus atributos y metodos\n",
    "ma.start()"
   ]
  },
  {
   "cell_type": "code",
   "execution_count": 19,
   "metadata": {},
   "outputs": [
    {
     "data": {
      "text/plain": [
       "29"
      ]
     },
     "execution_count": 19,
     "metadata": {},
     "output_type": "execute_result"
    }
   ],
   "source": [
    "ma.end()"
   ]
  },
  {
   "cell_type": "code",
   "execution_count": 18,
   "metadata": {
    "scrolled": true
   },
   "outputs": [
    {
     "data": {
      "text/plain": [
       "(11, 29)"
      ]
     },
     "execution_count": 18,
     "metadata": {},
     "output_type": "execute_result"
    }
   ],
   "source": [
    "ma.span()"
   ]
  },
  {
   "cell_type": "code",
   "execution_count": 20,
   "metadata": {},
   "outputs": [
    {
     "data": {
      "text/plain": [
       "'juancito@gmail.com'"
      ]
     },
     "execution_count": 20,
     "metadata": {},
     "output_type": "execute_result"
    }
   ],
   "source": [
    "ma.group()"
   ]
  },
  {
   "cell_type": "code",
   "execution_count": null,
   "metadata": {},
   "outputs": [],
   "source": []
  },
  {
   "cell_type": "code",
   "execution_count": null,
   "metadata": {},
   "outputs": [],
   "source": [
    "# supongamos que ahora queremos obtener el nombre de la persona y el mail completo en distintos grupos\n",
    "\n",
    "# recordemos que el uso de () en el patron, crean grupos, podemos hacer uso de ello para este ejercicio"
   ]
  },
  {
   "cell_type": "code",
   "execution_count": 39,
   "metadata": {},
   "outputs": [],
   "source": [
    "string = \"el mail es juancito@gmail.com\"\n",
    "patron = r'(\\w+)@\\S+'\n",
    "ma = re.search(patron,string)"
   ]
  },
  {
   "cell_type": "code",
   "execution_count": 40,
   "metadata": {
    "scrolled": true
   },
   "outputs": [
    {
     "data": {
      "text/plain": [
       "'juancito@gmail.com'"
      ]
     },
     "execution_count": 40,
     "metadata": {},
     "output_type": "execute_result"
    }
   ],
   "source": [
    "ma.group()"
   ]
  },
  {
   "cell_type": "code",
   "execution_count": 43,
   "metadata": {},
   "outputs": [
    {
     "data": {
      "text/plain": [
       "'juancito'"
      ]
     },
     "execution_count": 43,
     "metadata": {},
     "output_type": "execute_result"
    }
   ],
   "source": [
    "ma.groups()"
   ]
  },
  {
   "cell_type": "code",
   "execution_count": 41,
   "metadata": {
    "scrolled": true
   },
   "outputs": [
    {
     "data": {
      "text/plain": [
       "'juancito'"
      ]
     },
     "execution_count": 41,
     "metadata": {},
     "output_type": "execute_result"
    }
   ],
   "source": [
    "ma.group(1)"
   ]
  },
  {
   "cell_type": "code",
   "execution_count": null,
   "metadata": {},
   "outputs": [],
   "source": []
  },
  {
   "cell_type": "markdown",
   "metadata": {},
   "source": [
    "### Flags\n",
    "\n",
    "La mayoria de las funciones del modulo re tienen como argumento `flags = 0`.\n",
    "\n",
    "Las flags (banderas) modifican la expresion regular, permitiendonos refinar aun mas las condiciones de matcheo.\n",
    "\n",
    "La mas comun es **IGNORECASE** (`re.I` o `re.IGNORECASE`)"
   ]
  },
  {
   "cell_type": "code",
   "execution_count": 45,
   "metadata": {},
   "outputs": [],
   "source": [
    "# veamos el siguiente ejemplo, queremos marchear con todas las ocurrencias de la palabra Python,\n",
    "# no importa como este escrita\n",
    "\n",
    "string = 'python en minusculas, PYTHON es con mayusculas, pero tambien puede ser pyTHon, PYthon o pythoN'"
   ]
  },
  {
   "cell_type": "code",
   "execution_count": null,
   "metadata": {},
   "outputs": [],
   "source": [
    "re.findall(r'[Pp][Yy]....',string)"
   ]
  },
  {
   "cell_type": "code",
   "execution_count": 46,
   "metadata": {},
   "outputs": [
    {
     "data": {
      "text/plain": [
       "['python', 'PYTHON', 'pyTHon', 'PYthon', 'pythoN']"
      ]
     },
     "execution_count": 46,
     "metadata": {},
     "output_type": "execute_result"
    }
   ],
   "source": [
    "re.findall(r'python',string,flags=re.IGNORECASE)"
   ]
  },
  {
   "cell_type": "code",
   "execution_count": null,
   "metadata": {},
   "outputs": [],
   "source": []
  },
  {
   "cell_type": "markdown",
   "metadata": {},
   "source": [
    "### re.split()\n",
    "\n",
    "Divide un string en substrings usando la expresion regular (patron) como delimitador."
   ]
  },
  {
   "cell_type": "code",
   "execution_count": 51,
   "metadata": {},
   "outputs": [
    {
     "data": {
      "text/plain": [
       "['hay ', 'cuarenta ovejas ', 'doce liebres y ', 'cincuenta vacas']"
      ]
     },
     "execution_count": 51,
     "metadata": {},
     "output_type": "execute_result"
    }
   ],
   "source": [
    "# queremos separar el string por los numeros que encontremos\n",
    "string = 'hay 40cuarenta ovejas 12doce liebres y 50cincuenta vacas'\n",
    "patron = r'[0-9]+'\n",
    "\n",
    "re.split(patron,string)"
   ]
  },
  {
   "cell_type": "code",
   "execution_count": null,
   "metadata": {},
   "outputs": [],
   "source": []
  },
  {
   "cell_type": "markdown",
   "metadata": {},
   "source": [
    "### re.sub()\n",
    "\n",
    "Escanea el string en busca de coincidencias y reemplaza los substrings coincidentes con el string de reemplazo, y devuelve el string con los valores reemplazados.\n",
    "\n",
    "Es importante remarcar que el strig devuelto es un string nuevo. El string original se mantiene sin cambios."
   ]
  },
  {
   "cell_type": "code",
   "execution_count": null,
   "metadata": {},
   "outputs": [],
   "source": [
    "re.sub()"
   ]
  },
  {
   "cell_type": "code",
   "execution_count": 48,
   "metadata": {},
   "outputs": [
    {
     "data": {
      "text/plain": [
       "'el codigo ### es de verificacion, ### y ### son para operaciones'"
      ]
     },
     "execution_count": 48,
     "metadata": {},
     "output_type": "execute_result"
    }
   ],
   "source": [
    "# supongamos que queremos reemplazar todos los numeros de cualquier cifra por ###\n",
    "\n",
    "string = 'el codigo 1234 es de verificacion, 343445 y 55 son para operaciones'\n",
    "patron = r'[0-9]+'\n",
    "remp = '###'\n",
    "\n",
    "re.sub(patron,remp,string)"
   ]
  },
  {
   "cell_type": "code",
   "execution_count": null,
   "metadata": {},
   "outputs": [],
   "source": []
  },
  {
   "cell_type": "code",
   "execution_count": 49,
   "metadata": {},
   "outputs": [
    {
     "data": {
      "text/plain": [
       "'en clases estan nombre , nombre y nombre'"
      ]
     },
     "execution_count": 49,
     "metadata": {},
     "output_type": "execute_result"
    }
   ],
   "source": [
    "# supongamos que queremos reemplazar todos los nombres propios con la palabra 'nombre'\n",
    "\n",
    "string = 'en clases estan Gabriel , Gaston y Daniela'\n",
    "patron = r'[A-Z][a-z]+'\n",
    "remp = 'nombre'\n",
    "\n",
    "re.sub(patron,remp,string)"
   ]
  },
  {
   "cell_type": "code",
   "execution_count": null,
   "metadata": {},
   "outputs": [],
   "source": []
  },
  {
   "cell_type": "code",
   "execution_count": null,
   "metadata": {},
   "outputs": [],
   "source": []
  },
  {
   "cell_type": "markdown",
   "metadata": {},
   "source": [
    "## MANOS A LA OBRA\n",
    "\n",
    "1- Matchear todas las palabras de la lista con una expresion regular (podemos usar la funcion filter)\n"
   ]
  },
  {
   "cell_type": "code",
   "execution_count": 52,
   "metadata": {},
   "outputs": [
    {
     "data": {
      "text/plain": [
       "'email Email e Mail e mail E-mail e-mail eMail E-Mail EMAIL emails Emails E-Mails'"
      ]
     },
     "execution_count": 52,
     "metadata": {},
     "output_type": "execute_result"
    }
   ],
   "source": [
    "lista_palabras = ['email', 'Email', 'e Mail', 'e mail', 'E-mail',\n",
    "                'e-mail', 'eMail', 'E-Mail', 'EMAIL', 'emails', 'Emails',\n",
    "                'E-Mails']\n",
    "\n",
    "\n",
    "# vamos a usar esto para verlo en regex101\n",
    "string = ' '.join(lista_palabras)\n",
    "string"
   ]
  },
  {
   "cell_type": "code",
   "execution_count": null,
   "metadata": {},
   "outputs": [],
   "source": [
    "# vayamos a regex101 para encontrar el patron que matchee con todas las posibilidades\n",
    "patron = r'e.*mail[s]*'\n",
    "\n",
    "patron = r'e.*?mail[s]*'"
   ]
  },
  {
   "cell_type": "code",
   "execution_count": null,
   "metadata": {},
   "outputs": [],
   "source": [
    "# podemos hacerlo dentro de un ciclo for\n",
    "lista_validacion = []\n",
    "for palabra in lista_palabras:\n",
    "    if re.search(patron,palabra):\n",
    "        lista_validacion.append(palabra)\n",
    "        \n",
    "lista_validacion"
   ]
  },
  {
   "cell_type": "code",
   "execution_count": 57,
   "metadata": {
    "scrolled": true
   },
   "outputs": [
    {
     "data": {
      "text/plain": [
       "['email',\n",
       " 'Email',\n",
       " 'e Mail',\n",
       " 'e mail',\n",
       " 'E-mail',\n",
       " 'e-mail',\n",
       " 'eMail',\n",
       " 'E-Mail',\n",
       " 'EMAIL',\n",
       " 'emails',\n",
       " 'Emails',\n",
       " 'E-Mails']"
      ]
     },
     "execution_count": 57,
     "metadata": {},
     "output_type": "execute_result"
    }
   ],
   "source": [
    "# hay que hacerlo con el ignorecase\n",
    "list(filter(lambda x: re.search('e.*mail[s]*',x,flags=re.I), lista_palabras))"
   ]
  },
  {
   "cell_type": "code",
   "execution_count": null,
   "metadata": {},
   "outputs": [],
   "source": []
  },
  {
   "cell_type": "markdown",
   "metadata": {},
   "source": [
    "2- Obtener todos los mails del siguiente texto\n"
   ]
  },
  {
   "cell_type": "code",
   "execution_count": 59,
   "metadata": {},
   "outputs": [],
   "source": [
    "\n",
    "texto = \"\"\"dowdy@yahoo.ca el mail de cierta persona es: phyruxus@att.net el mail de cierta persona es: tlinden@msn.com el mail de cierta persona es: jhardin@me.com el mail de cierta persona es: lushe@comcast.net el mail de cierta persona es: netsfr@hotmail.com el mail de cierta persona es: wildixon@att.net el mail de cierta persona es: scottzed@optonline.net el mail de cierta persona es: cantu@msn.com el mail\n",
    "de cierta persona es: rhavyn@gmail.com el mail de cierta persona es: redingtn@hotmail.com el mail de cierta persona \n",
    "es: houle@icloud.com el mail de cierta persona es: bflong@hotmail.com el mail de cierta persona es: kenja@hotmail.com \n",
    "el mail de cierta persona es: openldap@gmail.com el mail de cierta persona es: bryanw@me.com el mail de cierta persona \n",
    "es: tromey@comcast.net el mail de cierta persona es: esasaki@gmail.com el mail de cierta persona es: fhirsch@att.net \n",
    "el mail de cierta persona es: hermanab@sbcglobal.net el mail de cierta persona es: rupak@msn.com el mail de cierta \n",
    "persona es: gravyface@yahoo.com el mail de cierta persona es: yfreund@mac.com el mail de cierta persona \n",
    "es: ryanshaw@gmail.com el mail de cierta persona es: chaikin@yahoo.ca\n",
    "\"\"\"\n"
   ]
  },
  {
   "cell_type": "code",
   "execution_count": 60,
   "metadata": {},
   "outputs": [
    {
     "data": {
      "text/plain": [
       "['dowdy@yahoo.ca',\n",
       " 'phyruxus@att.net',\n",
       " 'tlinden@msn.com',\n",
       " 'jhardin@me.com',\n",
       " 'lushe@comcast.net',\n",
       " 'netsfr@hotmail.com',\n",
       " 'wildixon@att.net',\n",
       " 'scottzed@optonline.net',\n",
       " 'cantu@msn.com',\n",
       " 'rhavyn@gmail.com',\n",
       " 'redingtn@hotmail.com',\n",
       " 'houle@icloud.com',\n",
       " 'bflong@hotmail.com',\n",
       " 'kenja@hotmail.com',\n",
       " 'openldap@gmail.com',\n",
       " 'bryanw@me.com',\n",
       " 'tromey@comcast.net',\n",
       " 'esasaki@gmail.com',\n",
       " 'fhirsch@att.net',\n",
       " 'hermanab@sbcglobal.net',\n",
       " 'rupak@msn.com',\n",
       " 'gravyface@yahoo.com',\n",
       " 'yfreund@mac.com',\n",
       " 'ryanshaw@gmail.com',\n",
       " 'chaikin@yahoo.ca']"
      ]
     },
     "execution_count": 60,
     "metadata": {},
     "output_type": "execute_result"
    }
   ],
   "source": [
    "re.findall(r'\\w+@\\S+', texto)"
   ]
  },
  {
   "cell_type": "markdown",
   "metadata": {},
   "source": [
    "3- Dentro del siguiente archivo se encuentra un chat de wpp donde hay muuchos enlaces a articulos de distintas categorias (mayormente tecnologicas) que se fueron recopilando con el pasar de los dias.\n",
    "\n",
    "Leer el archivo y obtener todos los enlaces disponibles (https://) en una lista\n",
    "\n",
    "Luego recorrer esa lista y Obtener todos los enlaces que hagan referencia a Python\n",
    "\n"
   ]
  },
  {
   "cell_type": "code",
   "execution_count": 62,
   "metadata": {},
   "outputs": [],
   "source": [
    "with open('wpp_urls.txt',encoding='latin1') as archivo:\n",
    "    texto = archivo.read()"
   ]
  },
  {
   "cell_type": "code",
   "execution_count": 64,
   "metadata": {},
   "outputs": [
    {
     "data": {
      "text/plain": [
       "46643"
      ]
     },
     "execution_count": 64,
     "metadata": {},
     "output_type": "execute_result"
    }
   ],
   "source": [
    "len(texto)"
   ]
  },
  {
   "cell_type": "code",
   "execution_count": 70,
   "metadata": {},
   "outputs": [],
   "source": [
    " prueba = texto[:300]"
   ]
  },
  {
   "cell_type": "code",
   "execution_count": 71,
   "metadata": {
    "scrolled": true
   },
   "outputs": [
    {
     "data": {
      "text/plain": [
       "['https://towardsdatascience.com/probably-the-best-resource-to-learn-deep-learning-in-2020-66d13a8ab1f1',\n",
       " 'https://www.techradar.com/best/python-online-courses',\n",
       " 'https://towardsdatascience.com/pa']"
      ]
     },
     "execution_count": 71,
     "metadata": {},
     "output_type": "execute_result"
    }
   ],
   "source": [
    "patron = r'https\\S+'\n",
    "re.findall(patron,prueba)"
   ]
  },
  {
   "cell_type": "code",
   "execution_count": 72,
   "metadata": {},
   "outputs": [],
   "source": [
    "lista_urls = re.findall(patron,texto)"
   ]
  },
  {
   "cell_type": "code",
   "execution_count": 73,
   "metadata": {},
   "outputs": [
    {
     "data": {
      "text/plain": [
       "347"
      ]
     },
     "execution_count": 73,
     "metadata": {},
     "output_type": "execute_result"
    }
   ],
   "source": [
    "len(lista_urls)"
   ]
  },
  {
   "cell_type": "code",
   "execution_count": null,
   "metadata": {},
   "outputs": [],
   "source": []
  },
  {
   "cell_type": "code",
   "execution_count": 75,
   "metadata": {},
   "outputs": [
    {
     "data": {
      "text/plain": [
       "86"
      ]
     },
     "execution_count": 75,
     "metadata": {},
     "output_type": "execute_result"
    }
   ],
   "source": [
    "# nos interesan los articulos de python\n",
    "\n",
    "patron = r'python'\n",
    "\n",
    "lista_python = list(filter(lambda x: re.search(patron,x),lista_urls))\n",
    "\n",
    "lista_python"
   ]
  },
  {
   "cell_type": "code",
   "execution_count": null,
   "metadata": {},
   "outputs": [],
   "source": [
    "# les comparto el archivo con todos estos url, hay mucho material, investiguenlo usando regex, sets y lo que quieran hacer,\n",
    "# ya tenemos los conocimientos necesarios para hacer freestyle"
   ]
  },
  {
   "cell_type": "markdown",
   "metadata": {},
   "source": [
    "## Conclusion\n",
    "\n",
    "Hay mucho, muuuucho mas por ver de expresiones regulares, pueden chequear las siguientes paginas para tutoriales mas completos y en detalle:\n",
    "\n",
    "[Documentacion oficial](https://docs.python.org/3/library/re.html)\n",
    "\n",
    "[Mas metacaracteres](https://docs.microsoft.com/es-es/dotnet/standard/base-types/regular-expression-language-quick-reference)\n",
    "\n",
    "[Tutorial completo parte 1](https://realpython.com/regex-python/)\n",
    "\n",
    "[Tutorial completo parte 2](https://realpython.com/regex-python-part-2/)\n",
    "\n",
    "[Excelente para practicar - regex 101](https://regex101.com/)\n",
    "\n",
    "[Excelente para practicar - regexr](https://regexr.com/)\n",
    "\n",
    "<br>\n",
    "\n",
    "Como vimos, el uso de regex nos da un poder de extraccion de subcadenas impresionante, pero ...\n",
    "<br>\n",
    "\n",
    "Antes de utilizarlas hay que estar seguros de lo que hacemos, de ahí aquella famosa frase de Jamie Zawinski, programador y hacker:\n",
    "\n",
    "**`Hay gente que, cuando se enfrenta a un problema, piensa \"Ya sé, usaré expresiones regulares\". Ahora tienen dos problemas.`**"
   ]
  },
  {
   "cell_type": "code",
   "execution_count": null,
   "metadata": {},
   "outputs": [],
   "source": []
  }
 ],
 "metadata": {
  "kernelspec": {
   "display_name": "Python 3",
   "language": "python",
   "name": "python3"
  },
  "language_info": {
   "codemirror_mode": {
    "name": "ipython",
    "version": 3
   },
   "file_extension": ".py",
   "mimetype": "text/x-python",
   "name": "python",
   "nbconvert_exporter": "python",
   "pygments_lexer": "ipython3",
   "version": "3.7.0"
  }
 },
 "nbformat": 4,
 "nbformat_minor": 4
}
