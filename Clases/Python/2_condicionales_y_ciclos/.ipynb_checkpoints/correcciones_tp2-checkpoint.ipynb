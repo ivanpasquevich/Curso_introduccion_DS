{
 "cells": [
  {
   "cell_type": "markdown",
   "metadata": {},
   "source": [
    "_____\n",
    "**Usar <code>for</code>, .split(), e <code>if</code> para imprimir todas las palabras que empiecen con 's':**"
   ]
  },
  {
   "cell_type": "code",
   "execution_count": 1,
   "metadata": {},
   "outputs": [
    {
     "name": "stdout",
     "output_type": "stream",
     "text": [
      "Solo\n",
      "simplemente\n",
      "s\n"
     ]
    }
   ],
   "source": [
    "st = 'Solo vas a imprimir la palabras que simplemente empiecen con s'\n",
    "lista=st.split()\n",
    "for i in range(len(lista)):\n",
    "    if lista[i][0].lower()=='s': \n",
    "        print(lista[i])\n",
    "        \n",
    "# correccion para generalizar"
   ]
  },
  {
   "cell_type": "code",
   "execution_count": null,
   "metadata": {},
   "outputs": [],
   "source": [
    "Solo\n",
    "SOLO\n",
    "solo\n",
    "SoLO"
   ]
  },
  {
   "cell_type": "markdown",
   "metadata": {},
   "source": [
    "## Repaso ciclos for"
   ]
  },
  {
   "cell_type": "code",
   "execution_count": 2,
   "metadata": {},
   "outputs": [],
   "source": [
    "# supongamos que tenemos la siguiente lista de listas \n",
    "\n",
    "matriz = [[10,222,3],[4,59,6],[70,809,999]]"
   ]
  },
  {
   "cell_type": "markdown",
   "metadata": {},
   "source": [
    "Queremos recorrer todos los elementos de la matriz e imprimir aquellos numeros pares\n",
    "\n",
    "A esto lo podemos **hacer de dos formas**\n",
    "1. recorriendo los elementos de la lista\n",
    "2. recorriendo los indices de las listas y acceder a dichos elementos por el indice"
   ]
  },
  {
   "cell_type": "markdown",
   "metadata": {},
   "source": [
    "#### 1. "
   ]
  },
  {
   "cell_type": "code",
   "execution_count": 4,
   "metadata": {},
   "outputs": [
    {
     "name": "stdout",
     "output_type": "stream",
     "text": [
      "10\n",
      "222\n",
      "3\n",
      "4\n",
      "59\n",
      "6\n",
      "70\n",
      "809\n",
      "999\n"
     ]
    }
   ],
   "source": [
    "for elemento in matriz:\n",
    "    for sub in elemento:\n",
    "        print(sub)"
   ]
  },
  {
   "cell_type": "markdown",
   "metadata": {},
   "source": [
    "#### 2."
   ]
  },
  {
   "cell_type": "code",
   "execution_count": 5,
   "metadata": {},
   "outputs": [
    {
     "name": "stdout",
     "output_type": "stream",
     "text": [
      "10\n",
      "222\n",
      "3\n",
      "4\n",
      "59\n",
      "6\n",
      "70\n",
      "809\n",
      "999\n"
     ]
    }
   ],
   "source": [
    "for i in range(len(matriz)):\n",
    "    for j in range(len(matriz[i])):\n",
    "        print(matriz[i][j])"
   ]
  },
  {
   "cell_type": "markdown",
   "metadata": {},
   "source": [
    "### Ejercicio"
   ]
  },
  {
   "cell_type": "markdown",
   "metadata": {},
   "source": [
    "**Supongamos que tenemos una lista con distintos datos de distintas personas, vamos a tener el nombre, apellido, provincia de origen y fecha de nacimiento.**\n",
    "\n",
    " 1. Visualizar los datos de la lista de manera ordenada.\n",
    " 2. Estandarizar los nombres, apellidos y provincias para que empiecen con mayuscula.\n",
    " 3. Calcular la edad de cada persona al dia de hoy y agregar esa edad a nuestro conjunto de datos.\n",
    " 4. Mostrar los datos de todas aquellas personas mayores a 55 años.\n",
    " 5. Mostrar los datos de todas aquellas personas que tienen un nombre que empieza con 'J'."
   ]
  },
  {
   "cell_type": "code",
   "execution_count": 12,
   "metadata": {},
   "outputs": [],
   "source": [
    "personas = [['NOMBRE', 'APELLIDO', 'PROVINCIA', \"NACIMIENTO\"],\n",
    " ['Joaquin', 'Gorina', 'Chubut', '1967'],\n",
    " ['jose', 'Olmedo', 'misiones', '1988'],\n",
    " ['Julian', 'sosa', 'misiones', '2005'],\n",
    " ['florencia', 'lopez', 'neuquen', '2000'],\n",
    " ['sol', 'sanchez', 'salta', '1997'],\n",
    " ['xiMena', 'asturiAS', 'chubut', '1999'],\n",
    " ['sol', 'sanchez', 'chubut', '1993'],\n",
    " ['manuel', 'Olmedo', 'chaco', '1980'],\n",
    " ['jaVIer', 'montoya', 'tucuman', '1969'],\n",
    " ['rosa', 'montoya', 'tucuman', '1927'],\n",
    " ['miguel', 'montoya', 'tucuman', '1934'],\n",
    " ['jose', 'olmos', 'salta', '1977']] "
   ]
  },
  {
   "cell_type": "code",
   "execution_count": null,
   "metadata": {},
   "outputs": [],
   "source": []
  },
  {
   "cell_type": "code",
   "execution_count": null,
   "metadata": {},
   "outputs": [],
   "source": []
  },
  {
   "cell_type": "code",
   "execution_count": 13,
   "metadata": {},
   "outputs": [
    {
     "name": "stdout",
     "output_type": "stream",
     "text": [
      "NOMBRE         APELLIDO       PROVINCIA      NACIMIENTO     \n",
      "Joaquin        Gorina         Chubut         1967           \n",
      "jose           Olmedo         misiones       1988           \n",
      "Julian         sosa           misiones       2005           \n",
      "florencia      lopez          neuquen        2000           \n",
      "sol            sanchez        salta          1997           \n",
      "xiMena         asturiAS       chubut         1999           \n",
      "sol            sanchez        chubut         1993           \n",
      "manuel         Olmedo         chaco          1980           \n",
      "jaVIer         montoya        tucuman        1969           \n",
      "rosa           montoya        tucuman        1927           \n",
      "miguel         montoya        tucuman        1934           \n",
      "jose           olmos          salta          1977           \n"
     ]
    }
   ],
   "source": [
    "# 1. Visualizar los datos de la personas de manera ordenada.\n",
    "for i in range(len(personas)):\n",
    "    for j in range(len(personas[i])):\n",
    "        print(f'{personas[i][j]:{15}}',end='')\n",
    "    print('')"
   ]
  },
  {
   "cell_type": "code",
   "execution_count": 14,
   "metadata": {},
   "outputs": [
    {
     "name": "stdout",
     "output_type": "stream",
     "text": [
      "Nombre         Apellido       Provincia      Nacimiento     \n",
      "Joaquin        Gorina         Chubut         1967           \n",
      "Jose           Olmedo         Misiones       1988           \n",
      "Julian         Sosa           Misiones       2005           \n",
      "Florencia      Lopez          Neuquen        2000           \n",
      "Sol            Sanchez        Salta          1997           \n",
      "Ximena         Asturias       Chubut         1999           \n",
      "Sol            Sanchez        Chubut         1993           \n",
      "Manuel         Olmedo         Chaco          1980           \n",
      "Javier         Montoya        Tucuman        1969           \n",
      "Rosa           Montoya        Tucuman        1927           \n",
      "Miguel         Montoya        Tucuman        1934           \n",
      "Jose           Olmos          Salta          1977           \n"
     ]
    }
   ],
   "source": [
    "# 2. Estandarizar los nombres, apellidos y provincias para que empiecen con mayuscula.\n",
    "\n",
    "for i in range(len(personas)):\n",
    "    for j in range(len(personas[i])):\n",
    "        personas[i][j] = personas[i][j].capitalize()\n",
    "        \n",
    "        \n",
    "for i in range(len(personas)):\n",
    "    for j in range(len(personas[i])):\n",
    "        print(f'{personas[i][j]:{15}}',end='')\n",
    "    print('')"
   ]
  },
  {
   "cell_type": "code",
   "execution_count": 15,
   "metadata": {},
   "outputs": [
    {
     "name": "stdout",
     "output_type": "stream",
     "text": [
      "Nombre         Apellido       Provincia      Nacimiento     Edad           \n",
      "Joaquin        Gorina         Chubut         1967           53             \n",
      "Jose           Olmedo         Misiones       1988           32             \n",
      "Julian         Sosa           Misiones       2005           15             \n",
      "Florencia      Lopez          Neuquen        2000           20             \n",
      "Sol            Sanchez        Salta          1997           23             \n",
      "Ximena         Asturias       Chubut         1999           21             \n",
      "Sol            Sanchez        Chubut         1993           27             \n",
      "Manuel         Olmedo         Chaco          1980           40             \n",
      "Javier         Montoya        Tucuman        1969           51             \n",
      "Rosa           Montoya        Tucuman        1927           93             \n",
      "Miguel         Montoya        Tucuman        1934           86             \n",
      "Jose           Olmos          Salta          1977           43             \n"
     ]
    }
   ],
   "source": [
    "# 3. Calcular la edad de cada persona al dia de hoy y agregar esa edad a nuestro conjunto de datos.\n",
    "\n",
    "personas[0].append(\"Edad\")\n",
    "fecha = 2020\n",
    "\n",
    "for i in range(1,len(personas)):\n",
    "    edad = fecha - int(personas[i][3])\n",
    "    personas[i].append(str(edad))\n",
    "    \n",
    "\n",
    "for i in range(len(personas)):\n",
    "    for j in range(len(personas[i])):\n",
    "        print(f'{personas[i][j]:{15}}',end='')\n",
    "    print('')    "
   ]
  },
  {
   "cell_type": "code",
   "execution_count": 17,
   "metadata": {},
   "outputs": [
    {
     "name": "stdout",
     "output_type": "stream",
     "text": [
      "['Rosa', 'Montoya', 'Tucuman', '1927', '93']\n",
      "['Miguel', 'Montoya', 'Tucuman', '1934', '86']\n"
     ]
    }
   ],
   "source": [
    "# 4. Mostrar los datos de todas aquellas personas mayores a 55 años.\n",
    "\n",
    "for i in range(1,len(personas)):\n",
    "    if int(personas[i][4])>55:\n",
    "        print(personas[i])\n"
   ]
  },
  {
   "cell_type": "code",
   "execution_count": 18,
   "metadata": {
    "scrolled": true
   },
   "outputs": [
    {
     "name": "stdout",
     "output_type": "stream",
     "text": [
      "Nombre         Apellido       Provincia      Nacimiento     Edad           \n",
      "Rosa           Montoya        Tucuman        1927           93             \n",
      "Miguel         Montoya        Tucuman        1934           86             \n"
     ]
    }
   ],
   "source": [
    "for item in personas[0]:\n",
    "    print(f'{item:{15}}',end='')\n",
    "print(\"\")\n",
    "for i in range(1,len(personas)):\n",
    "    if int(personas[i][-1]) > 55:\n",
    "        for item in personas[i]:\n",
    "            print(f'{item:{15}}',end='')\n",
    "        print(\"\")"
   ]
  },
  {
   "cell_type": "code",
   "execution_count": 19,
   "metadata": {},
   "outputs": [
    {
     "name": "stdout",
     "output_type": "stream",
     "text": [
      "['Joaquin', 'Gorina', 'Chubut', '1967', '53']\n",
      "['Jose', 'Olmedo', 'Misiones', '1988', '32']\n",
      "['Julian', 'Sosa', 'Misiones', '2005', '15']\n",
      "['Javier', 'Montoya', 'Tucuman', '1969', '51']\n",
      "['Jose', 'Olmos', 'Salta', '1977', '43']\n"
     ]
    }
   ],
   "source": [
    "# 5. Mostrar los datos de todas aquellas personas que tienen un nombre que empieza con 'J'.\n",
    "\n",
    "for i in range(1,len(personas)):\n",
    "    if personas[i][0][0]=='J':\n",
    "        print(personas[i])"
   ]
  },
  {
   "cell_type": "code",
   "execution_count": 20,
   "metadata": {},
   "outputs": [
    {
     "name": "stdout",
     "output_type": "stream",
     "text": [
      "Nombre         Apellido       Provincia      Nacimiento     Edad           \n",
      "Joaquin        Gorina         Chubut         1967           53             \n",
      "Jose           Olmedo         Misiones       1988           32             \n",
      "Julian         Sosa           Misiones       2005           15             \n",
      "Javier         Montoya        Tucuman        1969           51             \n",
      "Jose           Olmos          Salta          1977           43             \n"
     ]
    }
   ],
   "source": [
    "for item in personas[0]:\n",
    "    print(f'{item:{15}}',end='')\n",
    "print(\"\")\n",
    "for i in range(1,len(personas)):\n",
    "    if personas[i][0][0] == \"J\":\n",
    "        for item in personas[i]:\n",
    "            print(f'{item:{15}}',end='')\n",
    "        print(\"\")"
   ]
  },
  {
   "cell_type": "code",
   "execution_count": null,
   "metadata": {},
   "outputs": [],
   "source": []
  }
 ],
 "metadata": {
  "kernelspec": {
   "display_name": "Python 3",
   "language": "python",
   "name": "python3"
  },
  "language_info": {
   "codemirror_mode": {
    "name": "ipython",
    "version": 3
   },
   "file_extension": ".py",
   "mimetype": "text/x-python",
   "name": "python",
   "nbconvert_exporter": "python",
   "pygments_lexer": "ipython3",
   "version": "3.7.0"
  }
 },
 "nbformat": 4,
 "nbformat_minor": 4
}
