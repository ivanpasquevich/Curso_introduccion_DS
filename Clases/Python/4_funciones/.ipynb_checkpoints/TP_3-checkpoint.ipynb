{
 "cells": [
  {
   "cell_type": "markdown",
   "metadata": {},
   "source": [
    "# Ejercicios sobre lo aprendido"
   ]
  },
  {
   "cell_type": "markdown",
   "metadata": {},
   "source": [
    "## Suban este notebook resuelto al drive con la nomenclatura nombre_apellido_TP_3"
   ]
  },
  {
   "cell_type": "code",
   "execution_count": null,
   "metadata": {},
   "outputs": [],
   "source": []
  },
  {
   "cell_type": "markdown",
   "metadata": {},
   "source": [
    "## Funciones (def)"
   ]
  },
  {
   "cell_type": "markdown",
   "metadata": {},
   "source": [
    "Crear una funcion llamada `sumador` que reciba como parametro una lista de listas de numeros, dicha funcion debera transformar los elementos de la matriz a numeros a enteros y luego tiene que devolvernos una tupla con 2 elementos:\n",
    " 1. una lista con la suma de cada fila como elementos\n",
    " 2. la suma de todos los elementos"
   ]
  },
  {
   "cell_type": "code",
   "execution_count": null,
   "metadata": {},
   "outputs": [],
   "source": [
    "numeros = [[23.4,12.45,13.56],\n",
    "          [223.4,1332.445,1334.56,223.4,1332.445],\n",
    "          [2343.4,1542.45,1543.56],\n",
    "         [2893.4,112.45,123.56,2333.4,1672.45,1883.56]]"
   ]
  },
  {
   "cell_type": "code",
   "execution_count": null,
   "metadata": {},
   "outputs": [],
   "source": []
  },
  {
   "cell_type": "markdown",
   "metadata": {},
   "source": [
    "Vamos abordar el ejercicio del tp_2 pero ahora con el uso de funciones, veamos como cambia el orden y la legibilidad del codigo con el uso de funciones."
   ]
  },
  {
   "cell_type": "markdown",
   "metadata": {},
   "source": [
    "**Supongamos que tenemos una lista con distintos datos de distintas personas, vamos a tener el nombre, apellido, provincia de origen y fecha de nacimiento.**\n",
    "\n",
    " 1. Crear una funcion llamada **`visualizar`** que tenga como parametro una lista y muestre los datos de la misma de manera ordenada.\n",
    " 2. Crear una funcion llamada **`estandarizar`** que tenga como parametro una lista y se va a encargar de Estandarizar los nombres, apellidos y provincias para que empiecen con mayuscula.\n",
    " 3. Crear una funcion llamada **`calculo_edad`** que tenga como parametro una lista y va a Calcular la edad de cada persona al dia de hoy y agregar esa edad a nuestro conjunto de datos.\n",
    " 4. Crear una funcion llamada **`gente_mayor`** que tenga como parametro una lista y va a **devolver otra lista** con el encabezado y los datos de todas aquellas personas mayores a 55 años.\n",
    " 5. Crear una funcion llamada **`los_J`** que tenga como parametro una lista y va a **devolver otra lista** con el encabezado y con los datos de todas aquellas personas que tienen  nombre o apellido que empieza con 'J'."
   ]
  },
  {
   "cell_type": "code",
   "execution_count": null,
   "metadata": {},
   "outputs": [],
   "source": [
    "personas = [['NOMBRE', 'APELLIDO', 'PROVINCIA', \"NACIMIENTO\"],\n",
    " ['Joaquin', 'Gorina', 'Chubut', '1967'],\n",
    " ['jose', 'Olmedo', 'misiones', '1988'],\n",
    " ['Julian', 'sosa', 'misiones', '2005'],\n",
    " ['florencia', 'lopez', 'neuquen', '2000'],\n",
    " ['sol', 'jerva', 'salta', '1997'],\n",
    " ['xiMena', 'asturiAS', 'chubut', '1999'],\n",
    " ['sol', 'sanchez', 'chubut', '1993'],\n",
    " ['manuel', 'joaquin', 'chaco', '1980'],\n",
    " ['jaVIer', 'montoya', 'tucuman', '1969'],\n",
    " ['rosa', 'montoya', 'tucuman', '1927'],\n",
    " ['miguel', 'montoya', 'tucuman', '1934'],\n",
    " ['jose', 'olmos', 'salta', '1977']] "
   ]
  },
  {
   "cell_type": "markdown",
   "metadata": {},
   "source": [
    "Una vez definidas las funciones llamarlas en este orden todas en la misma celda:\n",
    "\n",
    "**Nota:** ojo con las funciones que devuelven elementos, no se olviden de asignarlos a variables para poder utilizarlos para la visualizacion"
   ]
  },
  {
   "cell_type": "code",
   "execution_count": null,
   "metadata": {},
   "outputs": [],
   "source": [
    "#visualizar\n",
    "\n",
    "#estandarizar\n",
    "#visualizar\n",
    "\n",
    "#calculo_edad\n",
    "#visualizar\n",
    "\n",
    "#gente_mayor\n",
    "#visualizar (a la gente mayor)\n",
    "\n",
    "#los_J\n",
    "#visualizar (a los j)"
   ]
  },
  {
   "cell_type": "code",
   "execution_count": null,
   "metadata": {},
   "outputs": [],
   "source": []
  },
  {
   "cell_type": "code",
   "execution_count": null,
   "metadata": {},
   "outputs": [],
   "source": []
  },
  {
   "cell_type": "markdown",
   "metadata": {},
   "source": [
    "## Funciones (lambda)"
   ]
  },
  {
   "cell_type": "markdown",
   "metadata": {},
   "source": [
    "a- Crear las funciones lambdas y mapear lo pedido a la lista\n",
    "\n",
    "1. Sumarle 15 a cada numero\n",
    "2. Elevar el numero al cuadrado y luego restarle 100\n",
    "3. Calcular la potencia n del numero, siendo n el resto de dividirlo por 5"
   ]
  },
  {
   "cell_type": "code",
   "execution_count": null,
   "metadata": {},
   "outputs": [],
   "source": [
    "lista = [\"14\",12, \"23\",4,4,3,'7']"
   ]
  },
  {
   "cell_type": "code",
   "execution_count": null,
   "metadata": {},
   "outputs": [],
   "source": []
  },
  {
   "cell_type": "markdown",
   "metadata": {},
   "source": [
    "b- Crear las funciones lambdas y filtrar la lista\n",
    "\n",
    "1. Solo las palabras con 5 caracteres\n",
    "2. Solo las palabras que comiencen con C\n",
    "3. Solo las palabras que no contienen numeros (busquen metodos de strings)"
   ]
  },
  {
   "cell_type": "code",
   "execution_count": 3,
   "metadata": {},
   "outputs": [],
   "source": [
    "lista = \"Hola perro 3saltos cabeza codo cuerty78 90bajo_cero gan\".split()"
   ]
  },
  {
   "cell_type": "code",
   "execution_count": null,
   "metadata": {},
   "outputs": [],
   "source": []
  },
  {
   "cell_type": "code",
   "execution_count": null,
   "metadata": {},
   "outputs": [],
   "source": []
  },
  {
   "cell_type": "markdown",
   "metadata": {},
   "source": [
    "## Suban este notebook resuelto al drive con la nomenclatura nombre_apellido_TP_3"
   ]
  }
 ],
 "metadata": {
  "kernelspec": {
   "display_name": "Python 3",
   "language": "python",
   "name": "python3"
  },
  "language_info": {
   "codemirror_mode": {
    "name": "ipython",
    "version": 3
   },
   "file_extension": ".py",
   "mimetype": "text/x-python",
   "name": "python",
   "nbconvert_exporter": "python",
   "pygments_lexer": "ipython3",
   "version": "3.7.0"
  }
 },
 "nbformat": 4,
 "nbformat_minor": 4
}
