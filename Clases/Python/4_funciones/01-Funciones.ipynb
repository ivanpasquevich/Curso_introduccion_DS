{
 "cells": [
  {
   "cell_type": "markdown",
   "metadata": {},
   "source": [
    "# Funciones\n",
    "\n",
    "**Que es una funcion?**\n",
    "\n",
    "Una funcion, se presenta como un subalgoritmo que forma parte del algoritmo principal, el cual permite resolver una tarea específica.\n",
    "\n",
    "Una funcion es un objeto que agrupa un conjunto de instrucciones para resolver una tarea especifica, y al usarla (llamarla) vamos a ejecutar ese conjunto de instrucciones que la conforman.\n",
    "\n",
    "Cuando hablamos de funciones es importante diferenciar los terminos de **definir** una funcion y **llamar** a una funcion."
   ]
  },
  {
   "cell_type": "markdown",
   "metadata": {},
   "source": [
    "**Por que es tan importante su uso?**\n",
    "\n",
    "Las funciones nos van a permitir que no repitamos un conjunto de instrucciones una y otra vez dentro del codigo, sino que definimos estas intrucciones en la creacion de la funcion y luego las reutilizamos con solo llamar a la funcion."
   ]
  },
  {
   "cell_type": "markdown",
   "metadata": {},
   "source": [
    "## Sentencia def \n",
    "\n",
    "Veamos como **definir** (crear) una funcion en Python, a continuacion su sintaxis"
   ]
  },
  {
   "cell_type": "code",
   "execution_count": null,
   "metadata": {},
   "outputs": [],
   "source": [
    "def nombre_funcion(arg1,arg2):\n",
    "    '''\n",
    "    Aca va la documentacion de la funcion (docstring), explica lo que hace la funcion.\n",
    "    '''\n",
    "    # Hacer cosas\n",
    "    # Devolver algo (o no)"
   ]
  },
  {
   "cell_type": "markdown",
   "metadata": {},
   "source": [
    "- Comenzamos con la sentencia <code>def</code> un espacio y luego el nombre de la funcion (reglas nombres variables). Es importante que los nombres de las funciones sean representativos de las tareas que realizan.\n",
    "\n",
    "- Luego viene un par de parentesis con una cantidad  x de argumentos separados por comas. Estos argumentos van a ser las entradas de la funcion, uno puede usar estas entradas dentro de la funcion para hacer distintas operaciones, comparaciones, etc. \n",
    "\n",
    "- Luego vienen los famosos `:` que nos van a dar lugar a la indentacion. **Es indispensable que a partir de aca todo lo que se escriba en la funcion este indentado**\n",
    "\n",
    "- Luego vamos a ver el docstring, esto es opcional pero es buena practica incluirlo, sirve para dar un entendimiento basico de lo que hace la funcion a personas que no la crearon pero quieren usarla. Nosotros venimos consultando por esto bastantes seguido cuando usamos la funcion `help()`.\n",
    "\n",
    "- Despues de todo esto recien empezamos a escribir el codigo que queramos que se ejecute cuando llamemos a nuestra funcion.\n",
    "\n",
    "- Por ultimo las funciones suelen devolvernos algo, el resultado de alguna cuenta, un estado de condicion o cualquier objeto incluso otra funcion. De todos modos existen funciones que no devuelven nada, solo realizan instrucciones."
   ]
  },
  {
   "cell_type": "markdown",
   "metadata": {},
   "source": [
    "Ahora veamos como **llamar** a la funcion que acabamos de definir"
   ]
  },
  {
   "cell_type": "code",
   "execution_count": null,
   "metadata": {},
   "outputs": [],
   "source": [
    "nombre_funcion(arg1,arg2)"
   ]
  },
  {
   "cell_type": "markdown",
   "metadata": {},
   "source": [
    "### Ahora entendamos con ejemplos"
   ]
  },
  {
   "cell_type": "markdown",
   "metadata": {},
   "source": [
    "#### Ej 1"
   ]
  },
  {
   "cell_type": "markdown",
   "metadata": {},
   "source": [
    "Definimos"
   ]
  },
  {
   "cell_type": "code",
   "execution_count": 1,
   "metadata": {},
   "outputs": [],
   "source": [
    "def decir_hola():\n",
    "    print(\"Hola\")"
   ]
  },
  {
   "cell_type": "markdown",
   "metadata": {},
   "source": [
    "Llamamos"
   ]
  },
  {
   "cell_type": "code",
   "execution_count": 2,
   "metadata": {},
   "outputs": [
    {
     "name": "stdout",
     "output_type": "stream",
     "text": [
      "Hola\n"
     ]
    }
   ],
   "source": [
    "decir_hola()"
   ]
  },
  {
   "cell_type": "code",
   "execution_count": 4,
   "metadata": {},
   "outputs": [
    {
     "name": "stdout",
     "output_type": "stream",
     "text": [
      "<function decir_hola at 0x000001F708E8E510>\n"
     ]
    }
   ],
   "source": [
    "print(decir_hola)"
   ]
  },
  {
   "cell_type": "markdown",
   "metadata": {},
   "source": [
    "##### Ej 2\n"
   ]
  },
  {
   "cell_type": "code",
   "execution_count": 5,
   "metadata": {},
   "outputs": [],
   "source": [
    "def presentacion(nombre):\n",
    "    '''\n",
    "    Esta es una funcion de presentacion\n",
    "    '''\n",
    "    print(f'Hola mi nombre es {nombre}')"
   ]
  },
  {
   "cell_type": "code",
   "execution_count": 7,
   "metadata": {},
   "outputs": [
    {
     "name": "stdout",
     "output_type": "stream",
     "text": [
      "Hola mi nombre es jose\n"
     ]
    }
   ],
   "source": [
    "presentacion(\"jose\")"
   ]
  },
  {
   "cell_type": "code",
   "execution_count": 8,
   "metadata": {},
   "outputs": [
    {
     "name": "stdout",
     "output_type": "stream",
     "text": [
      "Hola mi nombre es jesus\n"
     ]
    }
   ],
   "source": [
    "presentacion(\"jesus\")"
   ]
  },
  {
   "cell_type": "markdown",
   "metadata": {},
   "source": [
    "#### Ej 3"
   ]
  },
  {
   "cell_type": "code",
   "execution_count": 11,
   "metadata": {},
   "outputs": [],
   "source": [
    "def presentacion(nombre1,nombre2):\n",
    "    print(f'Hola mi nombre es {nombre1} y su nombre es {nombre2}')"
   ]
  },
  {
   "cell_type": "code",
   "execution_count": 13,
   "metadata": {},
   "outputs": [
    {
     "name": "stdout",
     "output_type": "stream",
     "text": [
      "Hola mi nombre es Gabriel y su nombre es Juliana\n"
     ]
    }
   ],
   "source": [
    "presentacion(\"Gabriel\",\"Juliana\")"
   ]
  },
  {
   "cell_type": "code",
   "execution_count": 14,
   "metadata": {},
   "outputs": [
    {
     "ename": "TypeError",
     "evalue": "presentacion() missing 1 required positional argument: 'nombre2'",
     "output_type": "error",
     "traceback": [
      "\u001b[1;31m---------------------------------------------------------------------------\u001b[0m",
      "\u001b[1;31mTypeError\u001b[0m                                 Traceback (most recent call last)",
      "\u001b[1;32m<ipython-input-14-a53e1750742f>\u001b[0m in \u001b[0;36m<module>\u001b[1;34m\u001b[0m\n\u001b[1;32m----> 1\u001b[1;33m \u001b[0mpresentacion\u001b[0m\u001b[1;33m(\u001b[0m\u001b[1;34m\"Gabriel\"\u001b[0m\u001b[1;33m)\u001b[0m\u001b[1;33m\u001b[0m\u001b[0m\n\u001b[0m",
      "\u001b[1;31mTypeError\u001b[0m: presentacion() missing 1 required positional argument: 'nombre2'"
     ]
    }
   ],
   "source": [
    "presentacion(\"Gabriel\")"
   ]
  },
  {
   "cell_type": "code",
   "execution_count": null,
   "metadata": {},
   "outputs": [],
   "source": []
  },
  {
   "cell_type": "markdown",
   "metadata": {},
   "source": [
    "## Usando return\n",
    "\n",
    "Hasta ahora estas funciones solo imprimen cosas, pero no nos devuelven nada.\n",
    "\n",
    "Para que una funcion nos devuelva un objeto necesitamos usar la sentencia <code>return</code>, este objeto devuelto podra ser asignado a una variable o usado de la manera que se desee.\n",
    "\n",
    "#### Ej 4"
   ]
  },
  {
   "cell_type": "code",
   "execution_count": 15,
   "metadata": {},
   "outputs": [],
   "source": [
    "def suma(num1,num2):\n",
    "    return num1+num2"
   ]
  },
  {
   "cell_type": "code",
   "execution_count": 17,
   "metadata": {},
   "outputs": [
    {
     "name": "stdout",
     "output_type": "stream",
     "text": [
      "9\n"
     ]
    }
   ],
   "source": [
    "print(suma(4,5))"
   ]
  },
  {
   "cell_type": "code",
   "execution_count": 18,
   "metadata": {},
   "outputs": [
    {
     "name": "stdout",
     "output_type": "stream",
     "text": [
      "54\n"
     ]
    }
   ],
   "source": [
    "resultado = suma(49,5)\n",
    "print(resultado)"
   ]
  },
  {
   "cell_type": "markdown",
   "metadata": {},
   "source": [
    "Que pasa si ponemos dos strings como entrada?"
   ]
  },
  {
   "cell_type": "code",
   "execution_count": 19,
   "metadata": {},
   "outputs": [
    {
     "data": {
      "text/plain": [
       "'495'"
      ]
     },
     "execution_count": 19,
     "metadata": {},
     "output_type": "execute_result"
    }
   ],
   "source": [
    "suma('49','5')"
   ]
  },
  {
   "cell_type": "markdown",
   "metadata": {},
   "source": [
    "Como en Python no es necesario que declaremos el tipo de variables podemos sumar strings o incluso listas.\n",
    "\n",
    "Incluso podemos usar las sentencias  <code>break</code>, <code>continue</code>, and <code>pass</code> que vimos en los ciclos while."
   ]
  },
  {
   "cell_type": "markdown",
   "metadata": {
    "collapsed": true
   },
   "source": [
    "#### Ej 5\n",
    "\n",
    "Creamos una funcion para decir si cierto numero es primo o no"
   ]
  },
  {
   "cell_type": "code",
   "execution_count": 20,
   "metadata": {},
   "outputs": [],
   "source": [
    "def es_primo(num):\n",
    "    for n in range(2,num):\n",
    "        if num%n==0:\n",
    "            print(f\"{num} no es primo\")\n",
    "            break\n",
    "    else:\n",
    "        print(f\"{num} ES primo\")"
   ]
  },
  {
   "cell_type": "code",
   "execution_count": 21,
   "metadata": {},
   "outputs": [
    {
     "name": "stdout",
     "output_type": "stream",
     "text": [
      "34 no es primo\n"
     ]
    }
   ],
   "source": [
    "es_primo(34)"
   ]
  },
  {
   "cell_type": "code",
   "execution_count": 22,
   "metadata": {
    "scrolled": true
   },
   "outputs": [
    {
     "name": "stdout",
     "output_type": "stream",
     "text": [
      "97 ES primo\n"
     ]
    }
   ],
   "source": [
    "es_primo(97)"
   ]
  },
  {
   "cell_type": "markdown",
   "metadata": {},
   "source": [
    "**Que pasa si reemplazamos el <code>break</code> por el <code>return</code> ?**"
   ]
  },
  {
   "cell_type": "code",
   "execution_count": 23,
   "metadata": {},
   "outputs": [],
   "source": [
    "def es_primo(num):\n",
    "    for n in range(2,num):\n",
    "        if num%n==0:\n",
    "            print(f\"{num} no es primo\")\n",
    "            return False\n",
    "    else:\n",
    "        print(f\"{num} ES primo\")\n",
    "        return True"
   ]
  },
  {
   "cell_type": "code",
   "execution_count": 24,
   "metadata": {},
   "outputs": [
    {
     "name": "stdout",
     "output_type": "stream",
     "text": [
      "ingrese un numero: 59\n",
      "59 ES primo\n",
      "79\n"
     ]
    }
   ],
   "source": [
    "num = int(input(\"ingrese un numero: \"))\n",
    "\n",
    "if es_primo(num):\n",
    "    print(num + 20)"
   ]
  },
  {
   "cell_type": "markdown",
   "metadata": {},
   "source": [
    "## Parametros"
   ]
  },
  {
   "cell_type": "markdown",
   "metadata": {},
   "source": [
    "\n",
    "#### Posicionales\n",
    "\n",
    "Son los que venimos viendo hasta ahora, se identifican por la posicion que ocupan dentro de los argumentos.\n",
    "\n",
    "#### Con asignacion\n",
    "\n",
    "Podemos usar asignacion de variables dentro del parentesis a la hora de definir la funcion para crear parametros por defecto.\n",
    "\n",
    "Esto es sumamente utilizado en la mayoria de las funciones."
   ]
  },
  {
   "cell_type": "code",
   "execution_count": 26,
   "metadata": {},
   "outputs": [],
   "source": [
    "def presentacion(nombre=\"ivan\"):\n",
    "     print(f'Hola mi nombre es {nombre}')"
   ]
  },
  {
   "cell_type": "code",
   "execution_count": 27,
   "metadata": {},
   "outputs": [
    {
     "name": "stdout",
     "output_type": "stream",
     "text": [
      "Hola mi nombre es jose\n"
     ]
    }
   ],
   "source": [
    "presentacion(\"jose\")"
   ]
  },
  {
   "cell_type": "code",
   "execution_count": 28,
   "metadata": {},
   "outputs": [
    {
     "name": "stdout",
     "output_type": "stream",
     "text": [
      "Hola mi nombre es ivan\n"
     ]
    }
   ],
   "source": [
    "presentacion()"
   ]
  },
  {
   "cell_type": "markdown",
   "metadata": {},
   "source": [
    "Veamos ahora que pasa cuando tenemos mas de un parametro."
   ]
  },
  {
   "cell_type": "code",
   "execution_count": 29,
   "metadata": {},
   "outputs": [],
   "source": [
    "def presentacion_formal(nombre='Joaquin', apellido=\"Perez\", ciudad='Alta Gracia'):\n",
    "    print(f'Hola mi nombre es {nombre} y mi apellido {apellido} y vivo en {ciudad}')"
   ]
  },
  {
   "cell_type": "code",
   "execution_count": 30,
   "metadata": {},
   "outputs": [
    {
     "name": "stdout",
     "output_type": "stream",
     "text": [
      "Hola mi nombre es Joaquin y mi apellido Perez y vivo en Alta Gracia\n"
     ]
    }
   ],
   "source": [
    "presentacion_formal()"
   ]
  },
  {
   "cell_type": "code",
   "execution_count": 31,
   "metadata": {},
   "outputs": [
    {
     "name": "stdout",
     "output_type": "stream",
     "text": [
      "Hola mi nombre es Florencia y mi apellido Perez y vivo en Alta Gracia\n"
     ]
    }
   ],
   "source": [
    "presentacion_formal(\"Florencia\")"
   ]
  },
  {
   "cell_type": "code",
   "execution_count": 32,
   "metadata": {
    "scrolled": true
   },
   "outputs": [
    {
     "name": "stdout",
     "output_type": "stream",
     "text": [
      "Hola mi nombre es Joaquin y mi apellido Perez y vivo en Florencia\n"
     ]
    }
   ],
   "source": [
    "presentacion_formal(ciudad=\"Florencia\")"
   ]
  },
  {
   "cell_type": "code",
   "execution_count": 33,
   "metadata": {},
   "outputs": [
    {
     "name": "stdout",
     "output_type": "stream",
     "text": [
      "Hola mi nombre es Gabriel y mi apellido Perez y vivo en Florencia\n"
     ]
    }
   ],
   "source": [
    "presentacion_formal(\"Gabriel\",ciudad=\"Florencia\")"
   ]
  },
  {
   "cell_type": "markdown",
   "metadata": {},
   "source": [
    "**Importante**\n",
    "\n",
    "Hay que respetar el orden de los parametros, podemos combinar parametros posicionales y con asignacion, pero **el orden es siempre los parametros posicionales y luego los demas**"
   ]
  },
  {
   "cell_type": "code",
   "execution_count": 34,
   "metadata": {},
   "outputs": [
    {
     "ename": "SyntaxError",
     "evalue": "positional argument follows keyword argument (<ipython-input-34-9b6672cb68bd>, line 1)",
     "output_type": "error",
     "traceback": [
      "\u001b[1;36m  File \u001b[1;32m\"<ipython-input-34-9b6672cb68bd>\"\u001b[1;36m, line \u001b[1;32m1\u001b[0m\n\u001b[1;33m    presentacion_formal(ciudad = \"cordoba\",\"ivan\")\u001b[0m\n\u001b[1;37m                                          ^\u001b[0m\n\u001b[1;31mSyntaxError\u001b[0m\u001b[1;31m:\u001b[0m positional argument follows keyword argument\n"
     ]
    }
   ],
   "source": [
    "presentacion_formal(ciudad = \"cordoba\",\"ivan\")"
   ]
  },
  {
   "cell_type": "markdown",
   "metadata": {},
   "source": [
    "**Para quienes quieran profundizar un poco**\n",
    "\n",
    "[args y kwargs](https://recursospython.com/guias-y-manuales/argumentos-args-kwargs/)"
   ]
  },
  {
   "cell_type": "markdown",
   "metadata": {},
   "source": [
    "# MANOS A LA OBRA"
   ]
  },
  {
   "cell_type": "markdown",
   "metadata": {},
   "source": [
    " Crear una funcion llamada encontrar_palabra a la que se le pasaran 2 parametros:\n",
    " \n",
    " una lista con distintos strings como elementos y una palabra a encontrar ('algo' por defecto).\n",
    " \n",
    " La funcion debe procesar dichos datos y quedarnos con todas las frases que contengan la palabra\n",
    " 'algo' por lo menos una vez.\n",
    " \n",
    " Devolver una lista tuplas (frase,posicion en la lista).\n",
    "\n"
   ]
  },
  {
   "cell_type": "code",
   "execution_count": 39,
   "metadata": {},
   "outputs": [],
   "source": [
    "lista_palabras = ['Un dia como hoy', 'La manzana es roja', 'Oraciones sin sentido como estas',\n",
    "                 'Medialunas con jamon y queso', 'Como hacer una torta?', 'Como decir que no']"
   ]
  },
  {
   "cell_type": "code",
   "execution_count": 42,
   "metadata": {},
   "outputs": [],
   "source": [
    "def encontrar_palabra(lista,palabra=\"algo\"):\n",
    "    lista_tuplas = []\n",
    "    palabra = palabra.lower()\n",
    "    for i in range(len(lista)):\n",
    "        if palabra in lista[i].lower():\n",
    "            lista_tuplas.append((lista[i],i))\n",
    "    return lista_tuplas "
   ]
  },
  {
   "cell_type": "code",
   "execution_count": 43,
   "metadata": {},
   "outputs": [
    {
     "data": {
      "text/plain": [
       "[('Un dia como hoy', 0),\n",
       " ('Oraciones sin sentido como estas', 2),\n",
       " ('Como hacer una torta?', 4),\n",
       " ('Como decir que no', 5)]"
      ]
     },
     "execution_count": 43,
     "metadata": {},
     "output_type": "execute_result"
    }
   ],
   "source": [
    "encontrar_palabra(lista_palabras,'como')"
   ]
  },
  {
   "cell_type": "code",
   "execution_count": null,
   "metadata": {},
   "outputs": [],
   "source": []
  },
  {
   "cell_type": "code",
   "execution_count": 44,
   "metadata": {},
   "outputs": [],
   "source": [
    "# pero que pasa en el siguiente ejemplo\n",
    "\n",
    "lista_palabras = ['Un dia como hoy', 'La manzana es roja por comodidad', 'Oraciones sin sentido como estas']"
   ]
  },
  {
   "cell_type": "code",
   "execution_count": 45,
   "metadata": {
    "scrolled": true
   },
   "outputs": [
    {
     "data": {
      "text/plain": [
       "[('Un dia como hoy', 0),\n",
       " ('La manzana es roja por comodidad', 1),\n",
       " ('Oraciones sin sentido como estas', 2)]"
      ]
     },
     "execution_count": 45,
     "metadata": {},
     "output_type": "execute_result"
    }
   ],
   "source": [
    "encontrar_palabra(lista_palabras,'como')"
   ]
  },
  {
   "cell_type": "code",
   "execution_count": null,
   "metadata": {},
   "outputs": [],
   "source": [
    "# lo resolveremos con expresiones regulares"
   ]
  },
  {
   "cell_type": "code",
   "execution_count": null,
   "metadata": {},
   "outputs": [],
   "source": []
  },
  {
   "cell_type": "code",
   "execution_count": null,
   "metadata": {},
   "outputs": [],
   "source": []
  },
  {
   "cell_type": "markdown",
   "metadata": {},
   "source": [
    "#### Otro ejemplo\n",
    "\n",
    "Crear una funcion llamada `sumador` que reciba como parametro una lista de listas de numeros, dicha funcion debera transformar los elementos de la matriz a numeros a enteros y luego tiene que devolvernos una tupla con 2 elementos:\n",
    " 1. una lista con la suma de cada fila como elementos\n",
    " 2. la suma de todos los elementos"
   ]
  },
  {
   "cell_type": "code",
   "execution_count": null,
   "metadata": {},
   "outputs": [],
   "source": []
  }
 ],
 "metadata": {
  "kernelspec": {
   "display_name": "Python 3",
   "language": "python",
   "name": "python3"
  },
  "language_info": {
   "codemirror_mode": {
    "name": "ipython",
    "version": 3
   },
   "file_extension": ".py",
   "mimetype": "text/x-python",
   "name": "python",
   "nbconvert_exporter": "python",
   "pygments_lexer": "ipython3",
   "version": "3.7.0"
  }
 },
 "nbformat": 4,
 "nbformat_minor": 1
}
