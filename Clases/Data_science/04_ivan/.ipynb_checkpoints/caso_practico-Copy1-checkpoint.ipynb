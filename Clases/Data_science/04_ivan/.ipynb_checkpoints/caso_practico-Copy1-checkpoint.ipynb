{
 "cells": [
  {
   "cell_type": "markdown",
   "metadata": {},
   "source": [
    "## Caso Practico - Prediccion de precio de casas\n",
    "\n",
    "En este dataset cada fila expresa las propiedades de una casa y el precio de la misma. La idea es generar un modelo que nos prediga el precio de las casas en base a ciertas caracteristicas de la misma."
   ]
  },
  {
   "cell_type": "code",
   "execution_count": 2,
   "metadata": {},
   "outputs": [],
   "source": [
    "# importamos las librerias\n",
    "\n",
    "import numpy as np\n",
    "import pandas as pd\n",
    "import seaborn as sns\n",
    "import matplotlib.pyplot as plt\n",
    "\n",
    "%matplotlib inline"
   ]
  },
  {
   "cell_type": "code",
   "execution_count": 3,
   "metadata": {},
   "outputs": [],
   "source": [
    "# vamos a crear una funcion para que entrene el modelo y nos devuelva el valor de RMSE\n",
    "\n",
    "from sklearn.linear_model import LinearRegression\n",
    "from sklearn.metrics import mean_squared_error\n",
    "from sklearn.model_selection import train_test_split\n",
    "from math import sqrt"
   ]
  },
  {
   "cell_type": "code",
   "execution_count": 4,
   "metadata": {},
   "outputs": [],
   "source": [
    "# cargamos el dataframe\n",
    "\n",
    "data = pd.read_csv('AmesHousing.txt', delimiter=\"\\t\")\n",
    "data_orig = data.copy()"
   ]
  },
  {
   "cell_type": "code",
   "execution_count": 5,
   "metadata": {},
   "outputs": [
    {
     "data": {
      "text/html": [
       "<div>\n",
       "<style scoped>\n",
       "    .dataframe tbody tr th:only-of-type {\n",
       "        vertical-align: middle;\n",
       "    }\n",
       "\n",
       "    .dataframe tbody tr th {\n",
       "        vertical-align: top;\n",
       "    }\n",
       "\n",
       "    .dataframe thead th {\n",
       "        text-align: right;\n",
       "    }\n",
       "</style>\n",
       "<table border=\"1\" class=\"dataframe\">\n",
       "  <thead>\n",
       "    <tr style=\"text-align: right;\">\n",
       "      <th></th>\n",
       "      <th>Order</th>\n",
       "      <th>PID</th>\n",
       "      <th>MS SubClass</th>\n",
       "      <th>MS Zoning</th>\n",
       "      <th>Lot Frontage</th>\n",
       "      <th>Lot Area</th>\n",
       "      <th>Street</th>\n",
       "      <th>Alley</th>\n",
       "      <th>Lot Shape</th>\n",
       "      <th>Land Contour</th>\n",
       "      <th>...</th>\n",
       "      <th>Pool Area</th>\n",
       "      <th>Pool QC</th>\n",
       "      <th>Fence</th>\n",
       "      <th>Misc Feature</th>\n",
       "      <th>Misc Val</th>\n",
       "      <th>Mo Sold</th>\n",
       "      <th>Yr Sold</th>\n",
       "      <th>Sale Type</th>\n",
       "      <th>Sale Condition</th>\n",
       "      <th>SalePrice</th>\n",
       "    </tr>\n",
       "  </thead>\n",
       "  <tbody>\n",
       "    <tr>\n",
       "      <th>0</th>\n",
       "      <td>1</td>\n",
       "      <td>526301100</td>\n",
       "      <td>20</td>\n",
       "      <td>RL</td>\n",
       "      <td>141.0</td>\n",
       "      <td>31770</td>\n",
       "      <td>Pave</td>\n",
       "      <td>NaN</td>\n",
       "      <td>IR1</td>\n",
       "      <td>Lvl</td>\n",
       "      <td>...</td>\n",
       "      <td>0</td>\n",
       "      <td>NaN</td>\n",
       "      <td>NaN</td>\n",
       "      <td>NaN</td>\n",
       "      <td>0</td>\n",
       "      <td>5</td>\n",
       "      <td>2010</td>\n",
       "      <td>WD</td>\n",
       "      <td>Normal</td>\n",
       "      <td>215000</td>\n",
       "    </tr>\n",
       "    <tr>\n",
       "      <th>1</th>\n",
       "      <td>2</td>\n",
       "      <td>526350040</td>\n",
       "      <td>20</td>\n",
       "      <td>RH</td>\n",
       "      <td>80.0</td>\n",
       "      <td>11622</td>\n",
       "      <td>Pave</td>\n",
       "      <td>NaN</td>\n",
       "      <td>Reg</td>\n",
       "      <td>Lvl</td>\n",
       "      <td>...</td>\n",
       "      <td>0</td>\n",
       "      <td>NaN</td>\n",
       "      <td>MnPrv</td>\n",
       "      <td>NaN</td>\n",
       "      <td>0</td>\n",
       "      <td>6</td>\n",
       "      <td>2010</td>\n",
       "      <td>WD</td>\n",
       "      <td>Normal</td>\n",
       "      <td>105000</td>\n",
       "    </tr>\n",
       "    <tr>\n",
       "      <th>2</th>\n",
       "      <td>3</td>\n",
       "      <td>526351010</td>\n",
       "      <td>20</td>\n",
       "      <td>RL</td>\n",
       "      <td>81.0</td>\n",
       "      <td>14267</td>\n",
       "      <td>Pave</td>\n",
       "      <td>NaN</td>\n",
       "      <td>IR1</td>\n",
       "      <td>Lvl</td>\n",
       "      <td>...</td>\n",
       "      <td>0</td>\n",
       "      <td>NaN</td>\n",
       "      <td>NaN</td>\n",
       "      <td>Gar2</td>\n",
       "      <td>12500</td>\n",
       "      <td>6</td>\n",
       "      <td>2010</td>\n",
       "      <td>WD</td>\n",
       "      <td>Normal</td>\n",
       "      <td>172000</td>\n",
       "    </tr>\n",
       "    <tr>\n",
       "      <th>3</th>\n",
       "      <td>4</td>\n",
       "      <td>526353030</td>\n",
       "      <td>20</td>\n",
       "      <td>RL</td>\n",
       "      <td>93.0</td>\n",
       "      <td>11160</td>\n",
       "      <td>Pave</td>\n",
       "      <td>NaN</td>\n",
       "      <td>Reg</td>\n",
       "      <td>Lvl</td>\n",
       "      <td>...</td>\n",
       "      <td>0</td>\n",
       "      <td>NaN</td>\n",
       "      <td>NaN</td>\n",
       "      <td>NaN</td>\n",
       "      <td>0</td>\n",
       "      <td>4</td>\n",
       "      <td>2010</td>\n",
       "      <td>WD</td>\n",
       "      <td>Normal</td>\n",
       "      <td>244000</td>\n",
       "    </tr>\n",
       "    <tr>\n",
       "      <th>4</th>\n",
       "      <td>5</td>\n",
       "      <td>527105010</td>\n",
       "      <td>60</td>\n",
       "      <td>RL</td>\n",
       "      <td>74.0</td>\n",
       "      <td>13830</td>\n",
       "      <td>Pave</td>\n",
       "      <td>NaN</td>\n",
       "      <td>IR1</td>\n",
       "      <td>Lvl</td>\n",
       "      <td>...</td>\n",
       "      <td>0</td>\n",
       "      <td>NaN</td>\n",
       "      <td>MnPrv</td>\n",
       "      <td>NaN</td>\n",
       "      <td>0</td>\n",
       "      <td>3</td>\n",
       "      <td>2010</td>\n",
       "      <td>WD</td>\n",
       "      <td>Normal</td>\n",
       "      <td>189900</td>\n",
       "    </tr>\n",
       "  </tbody>\n",
       "</table>\n",
       "<p>5 rows × 82 columns</p>\n",
       "</div>"
      ],
      "text/plain": [
       "   Order        PID  MS SubClass MS Zoning  Lot Frontage  Lot Area Street  \\\n",
       "0      1  526301100           20        RL         141.0     31770   Pave   \n",
       "1      2  526350040           20        RH          80.0     11622   Pave   \n",
       "2      3  526351010           20        RL          81.0     14267   Pave   \n",
       "3      4  526353030           20        RL          93.0     11160   Pave   \n",
       "4      5  527105010           60        RL          74.0     13830   Pave   \n",
       "\n",
       "  Alley Lot Shape Land Contour  ... Pool Area Pool QC  Fence Misc Feature  \\\n",
       "0   NaN       IR1          Lvl  ...         0     NaN    NaN          NaN   \n",
       "1   NaN       Reg          Lvl  ...         0     NaN  MnPrv          NaN   \n",
       "2   NaN       IR1          Lvl  ...         0     NaN    NaN         Gar2   \n",
       "3   NaN       Reg          Lvl  ...         0     NaN    NaN          NaN   \n",
       "4   NaN       IR1          Lvl  ...         0     NaN  MnPrv          NaN   \n",
       "\n",
       "  Misc Val Mo Sold Yr Sold Sale Type  Sale Condition  SalePrice  \n",
       "0        0       5    2010       WD           Normal     215000  \n",
       "1        0       6    2010       WD           Normal     105000  \n",
       "2    12500       6    2010       WD           Normal     172000  \n",
       "3        0       4    2010       WD           Normal     244000  \n",
       "4        0       3    2010       WD           Normal     189900  \n",
       "\n",
       "[5 rows x 82 columns]"
      ]
     },
     "execution_count": 5,
     "metadata": {},
     "output_type": "execute_result"
    }
   ],
   "source": [
    "data.head()"
   ]
  },
  {
   "cell_type": "markdown",
   "metadata": {},
   "source": [
    "#### Los Datos\n",
    "\n",
    "Para simplificar el entendimiento voy a dejar un breve diccionario de que significa cada uno de los campos que vamos\n",
    "a usar para el analisis:\n",
    "\n",
    "* Diccionario_columnas\n",
    "\n",
    "Si queremos un entendimiento mas profundo sobre cada una de las columnas dirigirse a la documentacion oficial:\n",
    "\n",
    "[link a doc oficial](https://s3.amazonaws.com/dq-content/307/data_description.txt)"
   ]
  },
  {
   "cell_type": "code",
   "execution_count": 6,
   "metadata": {},
   "outputs": [
    {
     "name": "stdout",
     "output_type": "stream",
     "text": [
      "<class 'pandas.core.frame.DataFrame'>\n",
      "RangeIndex: 2930 entries, 0 to 2929\n",
      "Data columns (total 82 columns):\n",
      " #   Column           Non-Null Count  Dtype  \n",
      "---  ------           --------------  -----  \n",
      " 0   Order            2930 non-null   int64  \n",
      " 1   PID              2930 non-null   int64  \n",
      " 2   MS SubClass      2930 non-null   int64  \n",
      " 3   MS Zoning        2930 non-null   object \n",
      " 4   Lot Frontage     2440 non-null   float64\n",
      " 5   Lot Area         2930 non-null   int64  \n",
      " 6   Street           2930 non-null   object \n",
      " 7   Alley            198 non-null    object \n",
      " 8   Lot Shape        2930 non-null   object \n",
      " 9   Land Contour     2930 non-null   object \n",
      " 10  Utilities        2930 non-null   object \n",
      " 11  Lot Config       2930 non-null   object \n",
      " 12  Land Slope       2930 non-null   object \n",
      " 13  Neighborhood     2930 non-null   object \n",
      " 14  Condition 1      2930 non-null   object \n",
      " 15  Condition 2      2930 non-null   object \n",
      " 16  Bldg Type        2930 non-null   object \n",
      " 17  House Style      2930 non-null   object \n",
      " 18  Overall Qual     2930 non-null   int64  \n",
      " 19  Overall Cond     2930 non-null   int64  \n",
      " 20  Year Built       2930 non-null   int64  \n",
      " 21  Year Remod/Add   2930 non-null   int64  \n",
      " 22  Roof Style       2930 non-null   object \n",
      " 23  Roof Matl        2930 non-null   object \n",
      " 24  Exterior 1st     2930 non-null   object \n",
      " 25  Exterior 2nd     2930 non-null   object \n",
      " 26  Mas Vnr Type     2907 non-null   object \n",
      " 27  Mas Vnr Area     2907 non-null   float64\n",
      " 28  Exter Qual       2930 non-null   object \n",
      " 29  Exter Cond       2930 non-null   object \n",
      " 30  Foundation       2930 non-null   object \n",
      " 31  Bsmt Qual        2850 non-null   object \n",
      " 32  Bsmt Cond        2850 non-null   object \n",
      " 33  Bsmt Exposure    2847 non-null   object \n",
      " 34  BsmtFin Type 1   2850 non-null   object \n",
      " 35  BsmtFin SF 1     2929 non-null   float64\n",
      " 36  BsmtFin Type 2   2849 non-null   object \n",
      " 37  BsmtFin SF 2     2929 non-null   float64\n",
      " 38  Bsmt Unf SF      2929 non-null   float64\n",
      " 39  Total Bsmt SF    2929 non-null   float64\n",
      " 40  Heating          2930 non-null   object \n",
      " 41  Heating QC       2930 non-null   object \n",
      " 42  Central Air      2930 non-null   object \n",
      " 43  Electrical       2929 non-null   object \n",
      " 44  1st Flr SF       2930 non-null   int64  \n",
      " 45  2nd Flr SF       2930 non-null   int64  \n",
      " 46  Low Qual Fin SF  2930 non-null   int64  \n",
      " 47  Gr Liv Area      2930 non-null   int64  \n",
      " 48  Bsmt Full Bath   2928 non-null   float64\n",
      " 49  Bsmt Half Bath   2928 non-null   float64\n",
      " 50  Full Bath        2930 non-null   int64  \n",
      " 51  Half Bath        2930 non-null   int64  \n",
      " 52  Bedroom AbvGr    2930 non-null   int64  \n",
      " 53  Kitchen AbvGr    2930 non-null   int64  \n",
      " 54  Kitchen Qual     2930 non-null   object \n",
      " 55  TotRms AbvGrd    2930 non-null   int64  \n",
      " 56  Functional       2930 non-null   object \n",
      " 57  Fireplaces       2930 non-null   int64  \n",
      " 58  Fireplace Qu     1508 non-null   object \n",
      " 59  Garage Type      2773 non-null   object \n",
      " 60  Garage Yr Blt    2771 non-null   float64\n",
      " 61  Garage Finish    2771 non-null   object \n",
      " 62  Garage Cars      2929 non-null   float64\n",
      " 63  Garage Area      2929 non-null   float64\n",
      " 64  Garage Qual      2771 non-null   object \n",
      " 65  Garage Cond      2771 non-null   object \n",
      " 66  Paved Drive      2930 non-null   object \n",
      " 67  Wood Deck SF     2930 non-null   int64  \n",
      " 68  Open Porch SF    2930 non-null   int64  \n",
      " 69  Enclosed Porch   2930 non-null   int64  \n",
      " 70  3Ssn Porch       2930 non-null   int64  \n",
      " 71  Screen Porch     2930 non-null   int64  \n",
      " 72  Pool Area        2930 non-null   int64  \n",
      " 73  Pool QC          13 non-null     object \n",
      " 74  Fence            572 non-null    object \n",
      " 75  Misc Feature     106 non-null    object \n",
      " 76  Misc Val         2930 non-null   int64  \n",
      " 77  Mo Sold          2930 non-null   int64  \n",
      " 78  Yr Sold          2930 non-null   int64  \n",
      " 79  Sale Type        2930 non-null   object \n",
      " 80  Sale Condition   2930 non-null   object \n",
      " 81  SalePrice        2930 non-null   int64  \n",
      "dtypes: float64(11), int64(28), object(43)\n",
      "memory usage: 1.8+ MB\n"
     ]
    }
   ],
   "source": [
    "data.info()"
   ]
  },
  {
   "cell_type": "markdown",
   "metadata": {},
   "source": [
    "### Hagamos una exploracion muy rapida"
   ]
  },
  {
   "cell_type": "code",
   "execution_count": 7,
   "metadata": {},
   "outputs": [
    {
     "data": {
      "text/plain": [
       "Pool QC            2917\n",
       "Misc Feature       2824\n",
       "Alley              2732\n",
       "Fence              2358\n",
       "Fireplace Qu       1422\n",
       "Lot Frontage        490\n",
       "Garage Qual         159\n",
       "Garage Yr Blt       159\n",
       "Garage Cond         159\n",
       "Garage Finish       159\n",
       "Garage Type         157\n",
       "Bsmt Exposure        83\n",
       "BsmtFin Type 2       81\n",
       "BsmtFin Type 1       80\n",
       "Bsmt Cond            80\n",
       "Bsmt Qual            80\n",
       "Mas Vnr Type         23\n",
       "Mas Vnr Area         23\n",
       "Bsmt Full Bath        2\n",
       "Bsmt Half Bath        2\n",
       "Garage Area           1\n",
       "Garage Cars           1\n",
       "Total Bsmt SF         1\n",
       "Bsmt Unf SF           1\n",
       "BsmtFin SF 2          1\n",
       "BsmtFin SF 1          1\n",
       "Electrical            1\n",
       "Exterior 2nd          0\n",
       "Exterior 1st          0\n",
       "Roof Matl             0\n",
       "Roof Style            0\n",
       "Year Remod/Add        0\n",
       "Year Built            0\n",
       "SalePrice             0\n",
       "Overall Cond          0\n",
       "Overall Qual          0\n",
       "PID                   0\n",
       "MS SubClass           0\n",
       "MS Zoning             0\n",
       "Lot Area              0\n",
       "Street                0\n",
       "Lot Shape             0\n",
       "Land Contour          0\n",
       "Utilities             0\n",
       "Lot Config            0\n",
       "Land Slope            0\n",
       "Neighborhood          0\n",
       "Exter Qual            0\n",
       "Condition 2           0\n",
       "Bldg Type             0\n",
       "House Style           0\n",
       "Condition 1           0\n",
       "Heating               0\n",
       "Exter Cond            0\n",
       "Functional            0\n",
       "Sale Type             0\n",
       "Yr Sold               0\n",
       "Mo Sold               0\n",
       "Misc Val              0\n",
       "Pool Area             0\n",
       "Screen Porch          0\n",
       "3Ssn Porch            0\n",
       "Enclosed Porch        0\n",
       "Open Porch SF         0\n",
       "Wood Deck SF          0\n",
       "Paved Drive           0\n",
       "Fireplaces            0\n",
       "TotRms AbvGrd         0\n",
       "Foundation            0\n",
       "Kitchen Qual          0\n",
       "Kitchen AbvGr         0\n",
       "Bedroom AbvGr         0\n",
       "Half Bath             0\n",
       "Full Bath             0\n",
       "Gr Liv Area           0\n",
       "Low Qual Fin SF       0\n",
       "2nd Flr SF            0\n",
       "1st Flr SF            0\n",
       "Central Air           0\n",
       "Heating QC            0\n",
       "Sale Condition        0\n",
       "Order                 0\n",
       "dtype: int64"
      ]
     },
     "execution_count": 7,
     "metadata": {},
     "output_type": "execute_result"
    }
   ],
   "source": [
    "# veamos la cantidad de valores nulos que tenemos por columnas\n",
    "pd.options.display.max_rows = 85\n",
    "# data.isna().sum()\n",
    "data.isna().sum().sort_values(ascending=False)"
   ]
  },
  {
   "cell_type": "code",
   "execution_count": 8,
   "metadata": {},
   "outputs": [],
   "source": [
    "# podemos establecer una definicion propia, decimos que si los datos tienen mas del 80% de valores nulos entonces no nos\n",
    "# sirve\n",
    "\n",
    "# (data.isna().sum() / data.shape[0])*100\n",
    "# (data.isna().sum() / data.shape[0])*100 < 80\n",
    "mascara = (data.isna().sum() / data.shape[0])*100 < 80"
   ]
  },
  {
   "cell_type": "code",
   "execution_count": 9,
   "metadata": {},
   "outputs": [],
   "source": [
    "# data.loc[:,mascara].copy()\n",
    "data = data.loc[:,mascara].copy()"
   ]
  },
  {
   "cell_type": "code",
   "execution_count": null,
   "metadata": {},
   "outputs": [],
   "source": []
  },
  {
   "cell_type": "code",
   "execution_count": 10,
   "metadata": {},
   "outputs": [
    {
     "data": {
      "text/plain": [
       "2930"
      ]
     },
     "execution_count": 10,
     "metadata": {},
     "output_type": "execute_result"
    }
   ],
   "source": [
    "# veamos si hay valores duplicados, nos basamos en la columna PID, que es Property ID\n",
    "# y debe ser unico para cada casa, sino estaremos ante casas repetidas\n",
    "\n",
    "data['PID'].nunique()"
   ]
  },
  {
   "cell_type": "code",
   "execution_count": null,
   "metadata": {},
   "outputs": [],
   "source": []
  },
  {
   "cell_type": "code",
   "execution_count": null,
   "metadata": {},
   "outputs": [],
   "source": []
  },
  {
   "cell_type": "markdown",
   "metadata": {},
   "source": [
    "## Organizacion del codigo\n",
    "\n",
    "Trabajar con Jupyter notebook es muy dinamico pero a la vez muy desorganizado, por lo que vamos a dividir nuestro codigo en \n",
    "3 funciones para simplificar.\n",
    "\n",
    "\n",
    "* Transformacion\n",
    "\n",
    "* Seleccion\n",
    "\n",
    "* Entrenamiento y testeo"
   ]
  },
  {
   "cell_type": "code",
   "execution_count": 11,
   "metadata": {},
   "outputs": [],
   "source": [
    "    \n",
    "def transformacion(df):\n",
    "    '''\n",
    "    Operaciones que afecten los valores del df, como relleno de nulos, eliminar filas, mapeos, reemplazo de valores, etc\n",
    "    NO INCLUIMOS LA ELIMINACION DE COLUMNAS ENTERAS\n",
    "    '''\n",
    "    return df\n",
    "\n",
    "def seleccion(df):\n",
    "    '''\n",
    "    Seleccion de aquellas features o columnas que se van a utilizar para el entrenamiento del modelo\n",
    "    '''\n",
    "    return df[[\"Full Bath\", \"SalePrice\"]]\n",
    "\n",
    "def entrenar_testear(df):\n",
    "    '''\n",
    "    Instanciar el modelo, entrenarlo y luego evaluarlo\n",
    "    '''\n",
    "    lr = LinearRegression()\n",
    "    \n",
    "#   X_train, X_test, y_train, y_test = train_test_split(X, y, test_size=0.33, random_state=42)\n",
    "    \n",
    "    X_train, X_test, y_train, y_test = train_test_split(df.drop(\"SalePrice\",axis=1), df['SalePrice'],\n",
    "                                                        test_size=0.30, random_state=38)\n",
    "    lr.fit(X_train,y_train)\n",
    "    \n",
    "    train_predictions = lr.predict(X_train)\n",
    "    test_predictions = lr.predict(X_test)\n",
    "    \n",
    "    train_rmse_2 = np.sqrt(mean_squared_error(train_predictions, y_train))\n",
    "    test_rmse_2 = np.sqrt(mean_squared_error(test_predictions, y_test))\n",
    "    \n",
    "    print(f\"El error de train es {train_rmse_2}\")\n",
    "    print(f\"El error de test es {test_rmse_2}\")"
   ]
  },
  {
   "cell_type": "code",
   "execution_count": 12,
   "metadata": {},
   "outputs": [
    {
     "name": "stdout",
     "output_type": "stream",
     "text": [
      "El error de train es 66581.0026484582\n",
      "El error de test es 67769.25613651356\n"
     ]
    }
   ],
   "source": [
    "\n",
    "data_transformada = transformacion(data_orig)\n",
    "data_filtrada = seleccion(data_transformada)\n",
    "entrenar_testear(data_filtrada)"
   ]
  },
  {
   "cell_type": "code",
   "execution_count": null,
   "metadata": {},
   "outputs": [],
   "source": []
  },
  {
   "cell_type": "markdown",
   "metadata": {},
   "source": [
    "### Variables numericas"
   ]
  },
  {
   "cell_type": "code",
   "execution_count": 13,
   "metadata": {},
   "outputs": [],
   "source": [
    "# veamos cuales son las columnas numericas, vamos a basarnos en ellas para el modelado\n",
    "pd.options.display.max_columns = 85\n",
    "data.select_dtypes(include = [np.number])\n",
    "data_numerica = data.select_dtypes(include = [np.number]).copy()"
   ]
  },
  {
   "cell_type": "code",
   "execution_count": null,
   "metadata": {},
   "outputs": [],
   "source": []
  },
  {
   "cell_type": "code",
   "execution_count": 14,
   "metadata": {},
   "outputs": [],
   "source": [
    "# vemos que de entrada hay varias variables numericas que podemos usar para el modelo, pero tenemos que elegir cuales\n",
    "# para hacer un mejor analisis\n",
    "\n",
    "# podriamos pasar todo como viene? si podriamos, rellenando o eliminando los valores nulos, pero a continuacion vamos\n",
    "# a tratar de ver que nos sirve y que no"
   ]
  },
  {
   "cell_type": "code",
   "execution_count": null,
   "metadata": {},
   "outputs": [],
   "source": []
  },
  {
   "cell_type": "code",
   "execution_count": 15,
   "metadata": {},
   "outputs": [],
   "source": [
    "# veamos las correlaciones con el target para ver que variables o features describen de mejor manera el comportamiento\n",
    "# de nuestro target"
   ]
  },
  {
   "cell_type": "code",
   "execution_count": 16,
   "metadata": {},
   "outputs": [
    {
     "data": {
      "text/plain": [
       "BsmtFin SF 2       0.005891\n",
       "Misc Val           0.015691\n",
       "Yr Sold            0.030569\n",
       "Order              0.031408\n",
       "3Ssn Porch         0.032225\n",
       "Mo Sold            0.035259\n",
       "Bsmt Half Bath     0.035835\n",
       "Low Qual Fin SF    0.037660\n",
       "Pool Area          0.068403\n",
       "MS SubClass        0.085092\n",
       "Overall Cond       0.101697\n",
       "Screen Porch       0.112151\n",
       "Kitchen AbvGr      0.119814\n",
       "Enclosed Porch     0.128787\n",
       "Bedroom AbvGr      0.143913\n",
       "Bsmt Unf SF        0.182855\n",
       "PID                0.246521\n",
       "Lot Area           0.266549\n",
       "2nd Flr SF         0.269373\n",
       "Bsmt Full Bath     0.276050\n",
       "Half Bath          0.285056\n",
       "Open Porch SF      0.312951\n",
       "Wood Deck SF       0.327143\n",
       "Lot Frontage       0.357318\n",
       "BsmtFin SF 1       0.432914\n",
       "Fireplaces         0.474558\n",
       "TotRms AbvGrd      0.495474\n",
       "Mas Vnr Area       0.508285\n",
       "Garage Yr Blt      0.526965\n",
       "Year Remod/Add     0.532974\n",
       "Full Bath          0.545604\n",
       "Year Built         0.558426\n",
       "1st Flr SF         0.621676\n",
       "Total Bsmt SF      0.632280\n",
       "Garage Area        0.640401\n",
       "Garage Cars        0.647877\n",
       "Gr Liv Area        0.706780\n",
       "Overall Qual       0.799262\n",
       "SalePrice          1.000000\n",
       "Name: SalePrice, dtype: float64"
      ]
     },
     "execution_count": 16,
     "metadata": {},
     "output_type": "execute_result"
    }
   ],
   "source": [
    "#data_numerica.corr()\n",
    "#data_numerica.corr()['SalePrice']\n",
    "#data_numerica.corr()['SalePrice'].sort_values()\n",
    "data_numerica.corr()['SalePrice'].abs().sort_values()"
   ]
  },
  {
   "cell_type": "code",
   "execution_count": 17,
   "metadata": {},
   "outputs": [
    {
     "data": {
      "text/plain": [
       "pandas.core.series.Series"
      ]
     },
     "execution_count": 17,
     "metadata": {},
     "output_type": "execute_result"
    }
   ],
   "source": [
    "# como regla general podemos tomar como umbral una correlacion superior a 0.3, es buena practica ir ajustando\n",
    "# este numero y probando la performance del modelo\n",
    "\n",
    "#data_numerica.corr()['SalePrice'].abs() >= 0.3\n",
    "col_num_utiles = data_numerica.corr()['SalePrice'].abs() >= 0.3\n",
    "type(col_num_utiles)"
   ]
  },
  {
   "cell_type": "code",
   "execution_count": 18,
   "metadata": {},
   "outputs": [],
   "source": [
    "#data_numerica.loc[:,col_num_utiles]\n",
    "data_numerica = data_numerica.loc[:,col_num_utiles].copy()"
   ]
  },
  {
   "cell_type": "code",
   "execution_count": 19,
   "metadata": {},
   "outputs": [
    {
     "name": "stdout",
     "output_type": "stream",
     "text": [
      "<class 'pandas.core.frame.DataFrame'>\n",
      "RangeIndex: 2930 entries, 0 to 2929\n",
      "Data columns (total 18 columns):\n",
      " #   Column          Non-Null Count  Dtype  \n",
      "---  ------          --------------  -----  \n",
      " 0   Lot Frontage    2440 non-null   float64\n",
      " 1   Overall Qual    2930 non-null   int64  \n",
      " 2   Year Built      2930 non-null   int64  \n",
      " 3   Year Remod/Add  2930 non-null   int64  \n",
      " 4   Mas Vnr Area    2907 non-null   float64\n",
      " 5   BsmtFin SF 1    2929 non-null   float64\n",
      " 6   Total Bsmt SF   2929 non-null   float64\n",
      " 7   1st Flr SF      2930 non-null   int64  \n",
      " 8   Gr Liv Area     2930 non-null   int64  \n",
      " 9   Full Bath       2930 non-null   int64  \n",
      " 10  TotRms AbvGrd   2930 non-null   int64  \n",
      " 11  Fireplaces      2930 non-null   int64  \n",
      " 12  Garage Yr Blt   2771 non-null   float64\n",
      " 13  Garage Cars     2929 non-null   float64\n",
      " 14  Garage Area     2929 non-null   float64\n",
      " 15  Wood Deck SF    2930 non-null   int64  \n",
      " 16  Open Porch SF   2930 non-null   int64  \n",
      " 17  SalePrice       2930 non-null   int64  \n",
      "dtypes: float64(7), int64(11)\n",
      "memory usage: 412.2 KB\n"
     ]
    }
   ],
   "source": [
    "data_numerica.info()"
   ]
  },
  {
   "cell_type": "code",
   "execution_count": null,
   "metadata": {},
   "outputs": [],
   "source": []
  },
  {
   "cell_type": "markdown",
   "metadata": {},
   "source": [
    "### Tratamiento de valores nulos"
   ]
  },
  {
   "cell_type": "code",
   "execution_count": 20,
   "metadata": {
    "scrolled": true
   },
   "outputs": [
    {
     "data": {
      "text/plain": [
       "Lot Frontage      490\n",
       "Garage Yr Blt     159\n",
       "Mas Vnr Area       23\n",
       "Total Bsmt SF       1\n",
       "Garage Area         1\n",
       "Garage Cars         1\n",
       "BsmtFin SF 1        1\n",
       "Overall Qual        0\n",
       "Year Built          0\n",
       "Year Remod/Add      0\n",
       "SalePrice           0\n",
       "1st Flr SF          0\n",
       "Open Porch SF       0\n",
       "Full Bath           0\n",
       "TotRms AbvGrd       0\n",
       "Fireplaces          0\n",
       "Wood Deck SF        0\n",
       "Gr Liv Area         0\n",
       "dtype: int64"
      ]
     },
     "execution_count": 20,
     "metadata": {},
     "output_type": "execute_result"
    }
   ],
   "source": [
    "data_numerica.isna().sum().sort_values(ascending=False)"
   ]
  },
  {
   "cell_type": "code",
   "execution_count": 21,
   "metadata": {},
   "outputs": [
    {
     "data": {
      "text/plain": [
       "0.16723549488054607"
      ]
     },
     "execution_count": 21,
     "metadata": {},
     "output_type": "execute_result"
    }
   ],
   "source": [
    "# analicemos estas 3 variables para ver que hacer con los nulos\n",
    "\n",
    "# veamos que porcentaje de nulos es 490\n",
    "\n",
    "490/data.shape[0]"
   ]
  },
  {
   "cell_type": "code",
   "execution_count": 22,
   "metadata": {},
   "outputs": [
    {
     "data": {
      "text/plain": [
       "0.35731791014236447"
      ]
     },
     "execution_count": 22,
     "metadata": {},
     "output_type": "execute_result"
    }
   ],
   "source": [
    "# su correlacion con el target?\n",
    "\n",
    "data_numerica.corr().loc['Lot Frontage','SalePrice']\n",
    "\n",
    "# no esta muy correlacionado con el target, se decide tirar esta columna"
   ]
  },
  {
   "cell_type": "code",
   "execution_count": 23,
   "metadata": {},
   "outputs": [],
   "source": [
    "data_numerica.drop('Lot Frontage',inplace=True,axis=1)"
   ]
  },
  {
   "cell_type": "code",
   "execution_count": null,
   "metadata": {},
   "outputs": [],
   "source": []
  },
  {
   "cell_type": "code",
   "execution_count": 24,
   "metadata": {
    "scrolled": true
   },
   "outputs": [
    {
     "data": {
      "text/plain": [
       "Garage Yr Blt     159\n",
       "Mas Vnr Area       23\n",
       "Garage Area         1\n",
       "Garage Cars         1\n",
       "BsmtFin SF 1        1\n",
       "Total Bsmt SF       1\n",
       "SalePrice           0\n",
       "1st Flr SF          0\n",
       "Year Built          0\n",
       "Year Remod/Add      0\n",
       "Full Bath           0\n",
       "Gr Liv Area         0\n",
       "Open Porch SF       0\n",
       "TotRms AbvGrd       0\n",
       "Fireplaces          0\n",
       "Wood Deck SF        0\n",
       "Overall Qual        0\n",
       "dtype: int64"
      ]
     },
     "execution_count": 24,
     "metadata": {},
     "output_type": "execute_result"
    }
   ],
   "source": [
    "# volvemos a chequear por las otras variables con valores nulos\n",
    "data_numerica.isna().sum().sort_values(ascending=False)"
   ]
  },
  {
   "cell_type": "code",
   "execution_count": null,
   "metadata": {},
   "outputs": [],
   "source": []
  },
  {
   "cell_type": "code",
   "execution_count": 25,
   "metadata": {},
   "outputs": [],
   "source": [
    "# vamos a dejar el analisis del Garage Yr Blt para mas adelante y nos vamos a entrar en las otras columnas con valores\n",
    "# nulos\n",
    "\n",
    "#data_numerica.loc[:,'Mas Vnr Area']\n",
    "#data_numerica.loc[:,'Mas Vnr Area'].hist()\n",
    "#data_numerica.loc[:,'Mas Vnr Area'].hist(bins=100)\n",
    "#data_numerica.loc[:,'Mas Vnr Area'].value_counts()\n"
   ]
  },
  {
   "cell_type": "code",
   "execution_count": 26,
   "metadata": {},
   "outputs": [],
   "source": [
    "# VAMOS A RELLENAR LOS VALORES NULOS CON LA MEDIANA, PORQUE? porque es una decision personal\n",
    "\n",
    "#data_numerica.loc[:,'Mas Vnr Area'].median()\n",
    "#data_numerica.loc[:,'Mas Vnr Area'].mean()\n",
    "mediana = data_numerica.loc[:,'Mas Vnr Area'].median()"
   ]
  },
  {
   "cell_type": "code",
   "execution_count": 27,
   "metadata": {},
   "outputs": [],
   "source": [
    "# OJO ACA ENTONCES, VAMOS A HACER UNA TRANSFORMACION, Y NO SOBRE NUESTRO DF ORIGINAL\n",
    "# TENEMOS QUE LLEVAR REGISTRO DE ESTAS COSAS PORQUE VAN A TENER QUE HACERSE SIEMPRE QUE QUERRAMOS ENTRENAR EL MODELO\n",
    "# YA QUE AL SER REGRESION LINEAL NO PODEMOS CONTAR CON VALORES NULOS\n",
    "\n",
    "\n",
    "# ENTONCES VAMOS A CREAR UNA FUNCION AL INICIO DEL SCRIPT QUE SEA DE TRANSFORMACION, DONDE VAMOS A INGRESAR EL DF Y LE\n",
    "# VAMOS A APLICAR ESTOS CAMBIOS\n",
    "\n",
    "data_numerica.loc[:,'Mas Vnr Area'] =  data_numerica.loc[:,'Mas Vnr Area'].fillna(mediana)"
   ]
  },
  {
   "cell_type": "code",
   "execution_count": 28,
   "metadata": {},
   "outputs": [
    {
     "data": {
      "text/plain": [
       "0"
      ]
     },
     "execution_count": 28,
     "metadata": {},
     "output_type": "execute_result"
    }
   ],
   "source": [
    "data_numerica.loc[:,'Mas Vnr Area'].isna().sum()"
   ]
  },
  {
   "cell_type": "code",
   "execution_count": null,
   "metadata": {},
   "outputs": [],
   "source": []
  },
  {
   "cell_type": "code",
   "execution_count": 29,
   "metadata": {},
   "outputs": [],
   "source": [
    "# para los otros casos vamos a tirar las filas que contengan nulo en estos campos\n",
    "# ESTO TAMBIEN ES UNA TRANSFORMACION DEL DF EN CUANTO A FILAS, TENERLO MAPEADO\n",
    "\n",
    "#data_numerica.dropna(axis=0,subset=['Garage Area','Garage Cars','BsmtFin SF 1','Total Bsmt SF'])\n",
    "data_numerica.dropna(axis=0,subset=['Garage Area','Garage Cars','BsmtFin SF 1','Total Bsmt SF'],inplace=True)"
   ]
  },
  {
   "cell_type": "code",
   "execution_count": 30,
   "metadata": {
    "scrolled": true
   },
   "outputs": [
    {
     "data": {
      "text/plain": [
       "Overall Qual        0\n",
       "Year Built          0\n",
       "Year Remod/Add      0\n",
       "Mas Vnr Area        0\n",
       "BsmtFin SF 1        0\n",
       "Total Bsmt SF       0\n",
       "1st Flr SF          0\n",
       "Gr Liv Area         0\n",
       "Full Bath           0\n",
       "TotRms AbvGrd       0\n",
       "Fireplaces          0\n",
       "Garage Yr Blt     158\n",
       "Garage Cars         0\n",
       "Garage Area         0\n",
       "Wood Deck SF        0\n",
       "Open Porch SF       0\n",
       "SalePrice           0\n",
       "dtype: int64"
      ]
     },
     "execution_count": 30,
     "metadata": {},
     "output_type": "execute_result"
    }
   ],
   "source": [
    "data_numerica.isna().sum()"
   ]
  },
  {
   "cell_type": "code",
   "execution_count": null,
   "metadata": {},
   "outputs": [],
   "source": []
  },
  {
   "cell_type": "markdown",
   "metadata": {},
   "source": [
    "### Colinearidad"
   ]
  },
  {
   "cell_type": "code",
   "execution_count": 31,
   "metadata": {},
   "outputs": [],
   "source": [
    "#data_numerica[['Garage Yr Blt','Year Built','Year Remod/Add']]\n",
    "\n",
    "# y aca vemos que estas variables nos dan informacion muy similar, lo que nos lleva a otro analisis. El de correlacion\n",
    "# entre variables, para evitar COLINEARIDAD"
   ]
  },
  {
   "cell_type": "code",
   "execution_count": 32,
   "metadata": {},
   "outputs": [
    {
     "data": {
      "text/plain": [
       "<matplotlib.axes._subplots.AxesSubplot at 0x20bb64fadd8>"
      ]
     },
     "execution_count": 32,
     "metadata": {},
     "output_type": "execute_result"
    },
    {
     "data": {
      "image/png": "[encoded data removed]",
      "text/plain": [
       "<Figure size 720x720 with 2 Axes>"
      ]
     },
     "metadata": {
      "needs_background": "light"
     },
     "output_type": "display_data"
    }
   ],
   "source": [
    "# data_numerica.corr()\n",
    "plt.figure(figsize=(10,10))\n",
    "sns.heatmap(data_numerica.corr(),cmap='magma')"
   ]
  },
  {
   "cell_type": "code",
   "execution_count": 33,
   "metadata": {},
   "outputs": [],
   "source": [
    "# vemos que hay variables que estan muy correlacionadas entre si, de ellas tenemos que elegir solo 1\n",
    "# esto se debe a que el modelo hace una hipostesis de independencia lineal entre variables, en base a esa hipotesis\n",
    "# se reflejan los calculos del modelo, si esa hipotesis no se cumple (colinearidad) entonces la solucion se basa en una\n",
    "# hipotesis falsa, entonces el resultado del modelo es erroneo, no esta modelando bien los datos.\n"
   ]
  },
  {
   "cell_type": "code",
   "execution_count": 34,
   "metadata": {},
   "outputs": [
    {
     "data": {
      "text/plain": [
       "<matplotlib.axes._subplots.AxesSubplot at 0x20bba8ae2e8>"
      ]
     },
     "execution_count": 34,
     "metadata": {},
     "output_type": "execute_result"
    },
    {
     "data": {
      "image/png": "[encoded data removed]",
      "text/plain": [
       "<Figure size 432x288 with 2 Axes>"
      ]
     },
     "metadata": {
      "needs_background": "light"
     },
     "output_type": "display_data"
    }
   ],
   "source": [
    "# hagamos uno con anotaciones de las variables mas correlacionadas para ver cual tiene mas correlacion con el target\n",
    "#(es decir cual describe mejor al target)\n",
    "\n",
    "lista = ['Year Built','Garage Yr Blt','Garage Cars','Garage Area','Total Bsmt SF','1st Flr SF','TotRms AbvGrd'\n",
    "        ,'Gr Liv Area','SalePrice']\n",
    "colineales = data_numerica[lista].corr()\n",
    "sns.heatmap(colineales,annot=True,cmap='magma')"
   ]
  },
  {
   "cell_type": "code",
   "execution_count": 35,
   "metadata": {},
   "outputs": [],
   "source": [
    "lista_eliminar = ['Garage Yr Blt','Garage Area','1st Flr SF','Gr Liv Area']\n",
    "data_numerica.drop(lista_eliminar,axis=1,inplace=True)"
   ]
  },
  {
   "cell_type": "code",
   "execution_count": 36,
   "metadata": {},
   "outputs": [
    {
     "data": {
      "text/plain": [
       "['Overall Qual',\n",
       " 'Year Built',\n",
       " 'Year Remod/Add',\n",
       " 'Mas Vnr Area',\n",
       " 'BsmtFin SF 1',\n",
       " 'Total Bsmt SF',\n",
       " 'Full Bath',\n",
       " 'TotRms AbvGrd',\n",
       " 'Fireplaces',\n",
       " 'Garage Cars',\n",
       " 'Wood Deck SF',\n",
       " 'Open Porch SF',\n",
       " 'SalePrice']"
      ]
     },
     "execution_count": 36,
     "metadata": {},
     "output_type": "execute_result"
    }
   ],
   "source": [
    "data_numerica.columns.to_list()"
   ]
  },
  {
   "cell_type": "code",
   "execution_count": null,
   "metadata": {},
   "outputs": [],
   "source": []
  },
  {
   "cell_type": "code",
   "execution_count": 37,
   "metadata": {},
   "outputs": [],
   "source": [
    "# volvamos a entrenar el modelo con estos cambios, para ello tenemos que modificar las funciones de transformacion y\n",
    "# seleccion respectivamente"
   ]
  },
  {
   "cell_type": "code",
   "execution_count": 38,
   "metadata": {},
   "outputs": [],
   "source": [
    "def transformacion(df):\n",
    "    '''\n",
    "    Operaciones que afecten los valores del df, como relleno de nulos, eliminar filas, mapeos, reemplazo de valores, etc\n",
    "    '''\n",
    "    mediana = df.loc[:,'Mas Vnr Area'].median()\n",
    "    df.loc[:,'Mas Vnr Area'] =  df.loc[:,'Mas Vnr Area'].fillna(mediana)\n",
    "    \n",
    "    df.dropna(axis=0,subset=['Garage Area','Garage Cars','BsmtFin SF 1','Total Bsmt SF'],inplace=True)\n",
    "    \n",
    "    return df\n",
    "\n",
    "def seleccion(df):\n",
    "    '''\n",
    "    Seleccion de aquellas features o columnas que se van a utilizar para el entrenamiento del modelo\n",
    "    '''\n",
    "    return df[['Overall Qual','Year Built','Year Remod/Add','Mas Vnr Area','BsmtFin SF 1','Total Bsmt SF',\n",
    "               'Full Bath','TotRms AbvGrd','Fireplaces','Garage Cars','Wood Deck SF','Open Porch SF','SalePrice']]\n",
    "\n",
    "def entrenar_testear(df):\n",
    "    '''\n",
    "    Instanciar el modelo, entrenarlo y luego evaluarlo\n",
    "    '''\n",
    "    lr = LinearRegression()\n",
    "    \n",
    "#   X_train, X_test, y_train, y_test = train_test_split(X, y, test_size=0.33, random_state=42)\n",
    "    \n",
    "    X_train, X_test, y_train, y_test = train_test_split(df.drop(\"SalePrice\",axis=1), df['SalePrice'],\n",
    "                                                        test_size=0.30, random_state=38)\n",
    "    lr.fit(X_train,y_train)\n",
    "    \n",
    "    train_predictions = lr.predict(X_train)\n",
    "    test_predictions = lr.predict(X_test)\n",
    "    \n",
    "    train_rmse_2 = np.sqrt(mean_squared_error(train_predictions, y_train))\n",
    "    test_rmse_2 = np.sqrt(mean_squared_error(test_predictions, y_test))\n",
    "    \n",
    "    print(f\"El error de train es {train_rmse_2}\")\n",
    "    print(f\"El error de test es {test_rmse_2}\")"
   ]
  },
  {
   "cell_type": "code",
   "execution_count": 39,
   "metadata": {},
   "outputs": [
    {
     "name": "stdout",
     "output_type": "stream",
     "text": [
      "El error de train es 38521.7066807406\n",
      "El error de test es 30701.359251353795\n"
     ]
    }
   ],
   "source": [
    "\n",
    "data_transformada = transformacion(data_orig)\n",
    "data_filtrada = seleccion(data_transformada)\n",
    "entrenar_testear(data_filtrada)"
   ]
  },
  {
   "cell_type": "code",
   "execution_count": null,
   "metadata": {},
   "outputs": [],
   "source": []
  },
  {
   "cell_type": "markdown",
   "metadata": {},
   "source": [
    "### Varianza de las features\n"
   ]
  },
  {
   "cell_type": "code",
   "execution_count": 40,
   "metadata": {},
   "outputs": [],
   "source": [
    "# ahora veamos lo de varianza\n",
    "# cuando una feature tiene una varianza muy baja, quiere decir que su valor no cambia mucho entre filas, lo cual indica\n",
    "# que esta columna va a tener siempre el mismo valor y eso no va a tener poder predictivo y debemos eliminarla "
   ]
  },
  {
   "cell_type": "code",
   "execution_count": 41,
   "metadata": {},
   "outputs": [],
   "source": [
    "# para comparar las varianzas entre las distintas columnas necesitamos reescalar los datos para que sus valores varien entre\n",
    "# 0 y 1, de esta manera podemos hacer la comparacion"
   ]
  },
  {
   "cell_type": "code",
   "execution_count": 42,
   "metadata": {},
   "outputs": [],
   "source": [
    "# para ello usamos la formula conocida como min-max scaling\n",
    "# x es un valor individual\n",
    "# min(x) es el valor minimo de la columna a la cual pertenece x\n",
    "# max(x) es el valor maximo de la columna a la cual pertenece x"
   ]
  },
  {
   "attachments": {
    "image.png": {
     "image/png": "[encoded data removed]"
    }
   },
   "cell_type": "markdown",
   "metadata": {},
   "source": [
    "![image.png](attachment:image.png)"
   ]
  },
  {
   "cell_type": "code",
   "execution_count": 43,
   "metadata": {},
   "outputs": [],
   "source": [
    "# vamos a hacer esto para cada una de las columnas que nos queda en nuestro dataframe\n",
    "# data_numerica.min()\n",
    "# data_numerica - data_numerica.min()\n",
    "# (data_numerica - data_numerica.min())/( data_numerica.max() - data_numerica.min())\n",
    "varian = (data_numerica - data_numerica.min())/( data_numerica.max() - data_numerica.min())"
   ]
  },
  {
   "cell_type": "code",
   "execution_count": 44,
   "metadata": {
    "scrolled": true
   },
   "outputs": [
    {
     "data": {
      "text/plain": [
       "Overall Qual      1.0\n",
       "Year Built        1.0\n",
       "Year Remod/Add    1.0\n",
       "Mas Vnr Area      1.0\n",
       "BsmtFin SF 1      1.0\n",
       "Total Bsmt SF     1.0\n",
       "Full Bath         1.0\n",
       "TotRms AbvGrd     1.0\n",
       "Fireplaces        1.0\n",
       "Garage Cars       1.0\n",
       "Wood Deck SF      1.0\n",
       "Open Porch SF     1.0\n",
       "SalePrice         1.0\n",
       "dtype: float64"
      ]
     },
     "execution_count": 44,
     "metadata": {},
     "output_type": "execute_result"
    }
   ],
   "source": [
    "varian.max()"
   ]
  },
  {
   "cell_type": "code",
   "execution_count": 45,
   "metadata": {},
   "outputs": [
    {
     "data": {
      "text/plain": [
       "Overall Qual      0.0\n",
       "Year Built        0.0\n",
       "Year Remod/Add    0.0\n",
       "Mas Vnr Area      0.0\n",
       "BsmtFin SF 1      0.0\n",
       "Total Bsmt SF     0.0\n",
       "Full Bath         0.0\n",
       "TotRms AbvGrd     0.0\n",
       "Fireplaces        0.0\n",
       "Garage Cars       0.0\n",
       "Wood Deck SF      0.0\n",
       "Open Porch SF     0.0\n",
       "SalePrice         0.0\n",
       "dtype: float64"
      ]
     },
     "execution_count": 45,
     "metadata": {},
     "output_type": "execute_result"
    }
   ],
   "source": [
    "varian.min()"
   ]
  },
  {
   "cell_type": "code",
   "execution_count": 117,
   "metadata": {},
   "outputs": [
    {
     "data": {
      "text/plain": [
       "Total Bsmt SF     0.005202\n",
       "BsmtFin SF 1      0.006518\n",
       "Wood Deck SF      0.007877\n",
       "Open Porch SF     0.008274\n",
       "SalePrice         0.011586\n",
       "Mas Vnr Area      0.012471\n",
       "TotRms AbvGrd     0.014638\n",
       "Full Bath         0.019111\n",
       "Garage Cars       0.023138\n",
       "Overall Qual      0.024573\n",
       "Fireplaces        0.026240\n",
       "Year Built        0.048014\n",
       "Year Remod/Add    0.120826\n",
       "dtype: float64"
      ]
     },
     "execution_count": 117,
     "metadata": {},
     "output_type": "execute_result"
    }
   ],
   "source": [
    "# ahora vamos a calcular la varianza y veamos que tenemos\n",
    "\n",
    "#varian.var()\n",
    "#varian.var().sort_values()\n",
    "#varian.var().nsmallest(4).index.to_list()"
   ]
  },
  {
   "cell_type": "code",
   "execution_count": null,
   "metadata": {},
   "outputs": [],
   "source": []
  },
  {
   "cell_type": "code",
   "execution_count": null,
   "metadata": {},
   "outputs": [],
   "source": [
    "# en este caso no vamos a remover ninguna, pero es cuestion de ir probando que funciona mejor"
   ]
  },
  {
   "cell_type": "code",
   "execution_count": null,
   "metadata": {},
   "outputs": [],
   "source": []
  },
  {
   "cell_type": "code",
   "execution_count": null,
   "metadata": {},
   "outputs": [],
   "source": []
  },
  {
   "cell_type": "code",
   "execution_count": null,
   "metadata": {},
   "outputs": [],
   "source": []
  },
  {
   "cell_type": "markdown",
   "metadata": {},
   "source": [
    "### Variables numericas que requieren modificacion\n",
    "\n"
   ]
  },
  {
   "cell_type": "code",
   "execution_count": 47,
   "metadata": {},
   "outputs": [],
   "source": [
    "# que pasa con las variables de los anios, por si solas son numeros que no indican mucho, que pasa si podemos hacer\n",
    "# que estos numeros sean mas significativos\n",
    "\n",
    "# lo que pasa es que estos valores no son realmente representativos de la antiguedad de una casa, por ejemplo, si una casa\n",
    "# se construyo en 1960 y se vende en 1980, y otra se vende en el 2000 , la segunda es el doble de antigua, y esto no se\n",
    "# ve reflejado en estos numeros.\n",
    "\n",
    "# entonces en vez de los anos en los que los eventos sucedieron, nosotros queremos la diferencia entre esos anos\n",
    "\n",
    "# por ejemplo la antiguedad de la casa en anios al momento de venderla"
   ]
  },
  {
   "cell_type": "code",
   "execution_count": 48,
   "metadata": {},
   "outputs": [
    {
     "data": {
      "text/plain": [
       "2180   -1\n",
       "Name: Years Before Sale, dtype: int64"
      ]
     },
     "execution_count": 48,
     "metadata": {},
     "output_type": "execute_result"
    }
   ],
   "source": [
    "#data['Yr Sold'] - data['Year Built']\n",
    "data['Years Before Sale'] = data['Yr Sold'] - data['Year Built']\n",
    "data.loc[data['Years Before Sale'] < 0,'Years Before Sale']"
   ]
  },
  {
   "cell_type": "code",
   "execution_count": 49,
   "metadata": {},
   "outputs": [
    {
     "data": {
      "text/plain": [
       "1702   -1\n",
       "2180   -2\n",
       "2181   -1\n",
       "dtype: int64"
      ]
     },
     "execution_count": 49,
     "metadata": {},
     "output_type": "execute_result"
    }
   ],
   "source": [
    "years_since_remod = data['Yr Sold'] - data['Year Remod/Add']\n",
    "years_since_remod[years_since_remod < 0]"
   ]
  },
  {
   "cell_type": "code",
   "execution_count": 50,
   "metadata": {},
   "outputs": [],
   "source": [
    "## Create new columns\n",
    "data['Years Since Remod'] = years_since_remod\n",
    "\n",
    "## Drop rows with negative values for both of these new features\n",
    "data = data.drop([1702, 2180, 2181], axis=0)"
   ]
  },
  {
   "cell_type": "code",
   "execution_count": 51,
   "metadata": {},
   "outputs": [],
   "source": [
    "# no necesitamos mas las columnas de los anios\n",
    "data = data.drop([\"Year Built\", \"Year Remod/Add\"], axis = 1)"
   ]
  },
  {
   "cell_type": "code",
   "execution_count": null,
   "metadata": {},
   "outputs": [],
   "source": []
  },
  {
   "cell_type": "code",
   "execution_count": 52,
   "metadata": {},
   "outputs": [],
   "source": [
    "# modificamos las funciones para estos cambios"
   ]
  },
  {
   "cell_type": "code",
   "execution_count": 53,
   "metadata": {},
   "outputs": [],
   "source": [
    "def transformacion(df):\n",
    "    '''\n",
    "    Operaciones que afecten los valores del df, como relleno de nulos, eliminar filas, mapeos, reemplazo de valores, etc\n",
    "    '''\n",
    "    mediana = df.loc[:,'Mas Vnr Area'].median()\n",
    "    df.loc[:,'Mas Vnr Area'] =  df.loc[:,'Mas Vnr Area'].fillna(mediana)\n",
    "    \n",
    "    df.dropna(axis=0,subset=['Garage Area','Garage Cars','BsmtFin SF 1','Total Bsmt SF'],inplace=True)\n",
    "    \n",
    "    df['Years Before Sale'] = df['Yr Sold'] - df['Year Built']\n",
    "    \n",
    "    years_since_remod = df['Yr Sold'] - df['Year Remod/Add']\n",
    "    df['Years Since Remod'] = years_since_remod\n",
    "    \n",
    "    df = df.drop([1702, 2180, 2181], axis=0)\n",
    "    \n",
    "    return df\n",
    "\n",
    "def seleccion(df):\n",
    "    '''\n",
    "    Seleccion de aquellas features o columnas que se van a utilizar para el entrenamiento del modelo\n",
    "    '''\n",
    "    return df[['Overall Qual','Mas Vnr Area','Years Since Remod','Years Before Sale','BsmtFin SF 1','Total Bsmt SF',\n",
    "               'Full Bath','TotRms AbvGrd','Fireplaces','Garage Cars','Wood Deck SF','Open Porch SF','SalePrice']]\n",
    "\n",
    "def entrenar_testear(df):\n",
    "    '''\n",
    "    Instanciar el modelo, entrenarlo y luego evaluarlo\n",
    "    '''\n",
    "    lr = LinearRegression()\n",
    "    \n",
    "#   X_train, X_test, y_train, y_test = train_test_split(X, y, test_size=0.33, random_state=42)\n",
    "    \n",
    "    X_train, X_test, y_train, y_test = train_test_split(df.drop(\"SalePrice\",axis=1), df['SalePrice'],\n",
    "                                                        test_size=0.30, random_state=38)\n",
    "    lr.fit(X_train,y_train)\n",
    "    \n",
    "    train_predictions = lr.predict(X_train)\n",
    "    test_predictions = lr.predict(X_test)\n",
    "    \n",
    "    train_rmse_2 = np.sqrt(mean_squared_error(train_predictions, y_train))\n",
    "    test_rmse_2 = np.sqrt(mean_squared_error(test_predictions, y_test))\n",
    "    \n",
    "    print(f\"El error de train es {train_rmse_2}\")\n",
    "    print(f\"El error de test es {test_rmse_2}\")"
   ]
  },
  {
   "cell_type": "code",
   "execution_count": 54,
   "metadata": {},
   "outputs": [
    {
     "name": "stdout",
     "output_type": "stream",
     "text": [
      "El error de train es 35252.865835358\n",
      "El error de test es 34266.78225375318\n"
     ]
    }
   ],
   "source": [
    "\n",
    "data_transformada = transformacion(data_orig)\n",
    "data_filtrada = seleccion(data_transformada)\n",
    "entrenar_testear(data_filtrada)"
   ]
  },
  {
   "cell_type": "code",
   "execution_count": null,
   "metadata": {},
   "outputs": [],
   "source": []
  },
  {
   "cell_type": "code",
   "execution_count": null,
   "metadata": {},
   "outputs": [],
   "source": []
  },
  {
   "cell_type": "code",
   "execution_count": null,
   "metadata": {},
   "outputs": [],
   "source": []
  },
  {
   "cell_type": "code",
   "execution_count": null,
   "metadata": {},
   "outputs": [],
   "source": []
  },
  {
   "cell_type": "markdown",
   "metadata": {},
   "source": [
    "### Variables innecesarias y leakage\n",
    "\n",
    "Hay que eliminar las variables que:\n",
    "- no sirven para el algoritmo, porque no tienen que ver con el problema\n",
    "- variables leakage, que son aquellas que filtran datos sobre la venta (son spoilers)\n",
    "\n",
    " Las **variables leakage** son variables que no vamos a tener a la hora de hacer la prediccion, por lo que no tenemos que tenerlas en cuenta\n",
    "a la hora de entrenar el modelo, por mas interesantes que sean !!!"
   ]
  },
  {
   "cell_type": "code",
   "execution_count": 55,
   "metadata": {},
   "outputs": [],
   "source": [
    "# variables leakage\n",
    "# son variables que no vamos a tener a la hora de hacer la prediccion, por lo que no tenemos que tenerlas en cuenta\n",
    "# a la hora de entrenar el modelo, por mas interesantes que sean !!!"
   ]
  },
  {
   "cell_type": "code",
   "execution_count": 56,
   "metadata": {},
   "outputs": [],
   "source": [
    "## Columnas no utiles para ML\n",
    "data = data.drop([\"PID\", \"Order\"], axis=1)\n",
    "\n",
    "## Variables Leakage\n",
    "data = data.drop([\"Mo Sold\", \"Sale Condition\", \"Sale Type\", \"Yr Sold\"], axis=1)"
   ]
  },
  {
   "cell_type": "code",
   "execution_count": null,
   "metadata": {},
   "outputs": [],
   "source": []
  },
  {
   "cell_type": "markdown",
   "metadata": {},
   "source": [
    "### Outliers\n",
    "\n",
    "El manejo de outliers es importante debido a que dichos valores afectan la precision de nuestro modelo, hay distintas formas de tratarlos y dependen mucho del problema a abordar (pueden ser ouliers por error de tipografia o por datos reales pero atipicos)"
   ]
  },
  {
   "cell_type": "code",
   "execution_count": 57,
   "metadata": {},
   "outputs": [],
   "source": [
    "# solo para ejemplificar vamos a tomar como ourlier a los valores que se encuentren por encima del percentil 98 y\n",
    "# los vamos a reemplazar por el valor en el percentil 98"
   ]
  },
  {
   "cell_type": "code",
   "execution_count": 58,
   "metadata": {},
   "outputs": [
    {
     "data": {
      "text/plain": [
       "Index(['Overall Qual', 'Year Built', 'Year Remod/Add', 'Mas Vnr Area',\n",
       "       'BsmtFin SF 1', 'Total Bsmt SF', 'Full Bath', 'TotRms AbvGrd',\n",
       "       'Fireplaces', 'Garage Cars', 'Wood Deck SF', 'Open Porch SF',\n",
       "       'SalePrice'],\n",
       "      dtype='object')"
      ]
     },
     "execution_count": 58,
     "metadata": {},
     "output_type": "execute_result"
    }
   ],
   "source": [
    "data_numerica.columns"
   ]
  },
  {
   "cell_type": "code",
   "execution_count": 59,
   "metadata": {},
   "outputs": [
    {
     "data": {
      "text/plain": [
       "<matplotlib.axes._subplots.AxesSubplot at 0x20bba82d518>"
      ]
     },
     "execution_count": 59,
     "metadata": {},
     "output_type": "execute_result"
    },
    {
     "data": {
      "image/png": "[encoded data removed]",
      "text/plain": [
       "<Figure size 432x288 with 1 Axes>"
      ]
     },
     "metadata": {
      "needs_background": "light"
     },
     "output_type": "display_data"
    }
   ],
   "source": [
    "data_numerica['Garage Cars'].plot(kind='box')"
   ]
  },
  {
   "cell_type": "code",
   "execution_count": 60,
   "metadata": {},
   "outputs": [
    {
     "data": {
      "text/plain": [
       "2.0    1603\n",
       "1.0     777\n",
       "3.0     374\n",
       "0.0     157\n",
       "4.0      16\n",
       "5.0       1\n",
       "Name: Garage Cars, dtype: int64"
      ]
     },
     "execution_count": 60,
     "metadata": {},
     "output_type": "execute_result"
    }
   ],
   "source": [
    "data_numerica['Garage Cars'].value_counts()"
   ]
  },
  {
   "cell_type": "code",
   "execution_count": null,
   "metadata": {},
   "outputs": [],
   "source": []
  },
  {
   "cell_type": "code",
   "execution_count": 61,
   "metadata": {},
   "outputs": [
    {
     "data": {
      "text/plain": [
       "<matplotlib.axes._subplots.AxesSubplot at 0x20bbba5a828>"
      ]
     },
     "execution_count": 61,
     "metadata": {},
     "output_type": "execute_result"
    },
    {
     "data": {
      "image/png": "[encoded data removed]",
      "text/plain": [
       "<Figure size 432x288 with 1 Axes>"
      ]
     },
     "metadata": {
      "needs_background": "light"
     },
     "output_type": "display_data"
    }
   ],
   "source": [
    "data_numerica['BsmtFin SF 1'].plot(kind='box')"
   ]
  },
  {
   "cell_type": "code",
   "execution_count": 62,
   "metadata": {},
   "outputs": [
    {
     "data": {
      "text/plain": [
       "0.0       930\n",
       "24.0       27\n",
       "16.0       14\n",
       "300.0       9\n",
       "384.0       8\n",
       "         ... \n",
       "1375.0      1\n",
       "1332.0      1\n",
       "1359.0      1\n",
       "373.0       1\n",
       "859.0       1\n",
       "Name: BsmtFin SF 1, Length: 995, dtype: int64"
      ]
     },
     "execution_count": 62,
     "metadata": {},
     "output_type": "execute_result"
    }
   ],
   "source": [
    "data_numerica['BsmtFin SF 1'].value_counts()"
   ]
  },
  {
   "cell_type": "code",
   "execution_count": 63,
   "metadata": {},
   "outputs": [
    {
     "data": {
      "text/plain": [
       "1390.38"
      ]
     },
     "execution_count": 63,
     "metadata": {},
     "output_type": "execute_result"
    }
   ],
   "source": [
    "data_numerica['BsmtFin SF 1'].quantile(0.97)"
   ]
  },
  {
   "cell_type": "code",
   "execution_count": 64,
   "metadata": {},
   "outputs": [
    {
     "data": {
      "text/plain": [
       "1634.92"
      ]
     },
     "execution_count": 64,
     "metadata": {},
     "output_type": "execute_result"
    }
   ],
   "source": [
    "data_numerica['BsmtFin SF 1'].quantile(0.99)"
   ]
  },
  {
   "cell_type": "code",
   "execution_count": 65,
   "metadata": {},
   "outputs": [],
   "source": [
    "limite = data_numerica['BsmtFin SF 1'].quantile(0.98)\n",
    "mask = data_numerica['BsmtFin SF 1']>limite\n",
    "data_numerica.loc[mask,'BsmtFin SF 1']\n",
    "data_numerica.loc[mask,'BsmtFin SF 1'] = limite"
   ]
  },
  {
   "cell_type": "code",
   "execution_count": 66,
   "metadata": {},
   "outputs": [
    {
     "data": {
      "text/plain": [
       "<matplotlib.axes._subplots.AxesSubplot at 0x20bbbab5320>"
      ]
     },
     "execution_count": 66,
     "metadata": {},
     "output_type": "execute_result"
    },
    {
     "data": {
      "image/png": "[encoded data removed]",
      "text/plain": [
       "<Figure size 432x288 with 1 Axes>"
      ]
     },
     "metadata": {
      "needs_background": "light"
     },
     "output_type": "display_data"
    }
   ],
   "source": [
    "data_numerica['BsmtFin SF 1'].plot(kind=\"box\")"
   ]
  },
  {
   "cell_type": "code",
   "execution_count": 67,
   "metadata": {},
   "outputs": [],
   "source": [
    "# supongamos que seguimos haciendo este analisis y\n",
    "# decidimos hacer esta transformacion sobre las features BsmtFin SF 1', 'Total Bsmt SF', 'Full Bath', 'TotRms AbvGrd', 'Open Porch SF',"
   ]
  },
  {
   "cell_type": "code",
   "execution_count": 68,
   "metadata": {},
   "outputs": [],
   "source": [
    "features = ['BsmtFin SF 1', 'Total Bsmt SF', 'Full Bath', 'TotRms AbvGrd', 'Open Porch SF']\n",
    "for col in features:\n",
    "    limite = data_numerica[col].quantile(0.98)\n",
    "    mask = data_numerica[col]>limite\n",
    "    data_numerica.loc[mask,col] = limite"
   ]
  },
  {
   "cell_type": "code",
   "execution_count": null,
   "metadata": {},
   "outputs": [],
   "source": []
  },
  {
   "cell_type": "code",
   "execution_count": 69,
   "metadata": {},
   "outputs": [],
   "source": [
    "# veamos si esto implica sonbre la performance del modelo"
   ]
  },
  {
   "cell_type": "code",
   "execution_count": 70,
   "metadata": {},
   "outputs": [],
   "source": [
    "def transformacion(df):\n",
    "    '''\n",
    "    Operaciones que afecten los valores del df, como relleno de nulos, eliminar filas, mapeos, reemplazo de valores, etc\n",
    "    '''\n",
    "    mediana = df.loc[:,'Mas Vnr Area'].median()\n",
    "    df.loc[:,'Mas Vnr Area'] =  df.loc[:,'Mas Vnr Area'].fillna(mediana)\n",
    "    \n",
    "    df.dropna(axis=0,subset=['Garage Area','Garage Cars','BsmtFin SF 1','Total Bsmt SF'],inplace=True)\n",
    "    \n",
    "    df['Years Before Sale'] = df['Yr Sold'] - df['Year Built']\n",
    "    \n",
    "    years_since_remod = df['Yr Sold'] - df['Year Remod/Add']\n",
    "    df['Years Since Remod'] = years_since_remod\n",
    "    \n",
    "    df = df.drop([1702, 2180, 2181], axis=0)\n",
    "    \n",
    "    features = ['BsmtFin SF 1', 'Total Bsmt SF', 'Full Bath', 'TotRms AbvGrd', 'Open Porch SF']\n",
    "    for col in features:\n",
    "        limite = df[col].quantile(0.98)\n",
    "        mask = df[col]>limite\n",
    "        df.loc[mask,col] = limite\n",
    "    \n",
    "    return df\n",
    "\n",
    "def seleccion(df):\n",
    "    '''\n",
    "    Seleccion de aquellas features o columnas que se van a utilizar para el entrenamiento del modelo\n",
    "    '''\n",
    "    return df[['Overall Qual','Mas Vnr Area','Years Since Remod','Years Before Sale','BsmtFin SF 1','Total Bsmt SF',\n",
    "               'Full Bath','TotRms AbvGrd','Fireplaces','Garage Cars','Wood Deck SF','Open Porch SF','SalePrice']]\n",
    "\n",
    "def entrenar_testear(df):\n",
    "    '''\n",
    "    Instanciar el modelo, entrenarlo y luego evaluarlo\n",
    "    '''\n",
    "    lr = LinearRegression()\n",
    "    \n",
    "#   X_train, X_test, y_train, y_test = train_test_split(X, y, test_size=0.33, random_state=42)\n",
    "    \n",
    "    X_train, X_test, y_train, y_test = train_test_split(df.drop(\"SalePrice\",axis=1), df['SalePrice'],\n",
    "                                                        test_size=0.30, random_state=38)\n",
    "    lr.fit(X_train,y_train)\n",
    "    \n",
    "    train_predictions = lr.predict(X_train)\n",
    "    test_predictions = lr.predict(X_test)\n",
    "    \n",
    "    train_rmse_2 = np.sqrt(mean_squared_error(train_predictions, y_train))\n",
    "    test_rmse_2 = np.sqrt(mean_squared_error(test_predictions, y_test))\n",
    "    \n",
    "    print(f\"El error de train es {train_rmse_2}\")\n",
    "    print(f\"El error de test es {test_rmse_2}\")"
   ]
  },
  {
   "cell_type": "code",
   "execution_count": 71,
   "metadata": {},
   "outputs": [
    {
     "name": "stdout",
     "output_type": "stream",
     "text": [
      "El error de train es 34663.56332277974\n",
      "El error de test es 35160.85122189317\n"
     ]
    }
   ],
   "source": [
    "\n",
    "data_transformada = transformacion(data_orig)\n",
    "data_filtrada = seleccion(data_transformada)\n",
    "entrenar_testear(data_filtrada)"
   ]
  },
  {
   "cell_type": "code",
   "execution_count": null,
   "metadata": {},
   "outputs": [],
   "source": []
  },
  {
   "cell_type": "code",
   "execution_count": null,
   "metadata": {},
   "outputs": [],
   "source": []
  },
  {
   "cell_type": "markdown",
   "metadata": {},
   "source": [
    "### Variables categoricas\n",
    "\n",
    "    Tenemos que incluirlas en el modelo, puede que traiga buenos resultados, pero cuales incluimos? Que criterio tomamos?"
   ]
  },
  {
   "cell_type": "code",
   "execution_count": 75,
   "metadata": {},
   "outputs": [
    {
     "data": {
      "text/plain": [
       "Index(['MS Zoning', 'Street', 'Lot Shape', 'Land Contour', 'Utilities',\n",
       "       'Lot Config', 'Land Slope', 'Neighborhood', 'Condition 1',\n",
       "       'Condition 2', 'Bldg Type', 'House Style', 'Roof Style', 'Roof Matl',\n",
       "       'Exterior 1st', 'Exterior 2nd', 'Mas Vnr Type', 'Exter Qual',\n",
       "       'Exter Cond', 'Foundation', 'Bsmt Qual', 'Bsmt Cond', 'Bsmt Exposure',\n",
       "       'BsmtFin Type 1', 'BsmtFin Type 2', 'Heating', 'Heating QC',\n",
       "       'Central Air', 'Electrical', 'Kitchen Qual', 'Functional',\n",
       "       'Fireplace Qu', 'Garage Type', 'Garage Finish', 'Garage Qual',\n",
       "       'Garage Cond', 'Paved Drive'],\n",
       "      dtype='object')"
      ]
     },
     "execution_count": 75,
     "metadata": {},
     "output_type": "execute_result"
    }
   ],
   "source": [
    "# primero veamos cuales son las variables categoricas que tenemos \n",
    "#data.select_dtypes('object')\n",
    "data.select_dtypes('object').columns"
   ]
  },
  {
   "cell_type": "code",
   "execution_count": 78,
   "metadata": {},
   "outputs": [
    {
     "data": {
      "text/plain": [
       "1Story    1480\n",
       "2Story     871\n",
       "1.5Fin     314\n",
       "SLvl       128\n",
       "SFoyer      83\n",
       "2.5Unf      24\n",
       "1.5Unf      19\n",
       "2.5Fin       8\n",
       "Name: House Style, dtype: int64"
      ]
     },
     "execution_count": 78,
     "metadata": {},
     "output_type": "execute_result"
    }
   ],
   "source": [
    "data['House Style'].value_counts()"
   ]
  },
  {
   "cell_type": "code",
   "execution_count": 81,
   "metadata": {},
   "outputs": [
    {
     "data": {
      "text/plain": [
       "SBrkr    2679\n",
       "FuseA     188\n",
       "FuseF      50\n",
       "FuseP       8\n",
       "Mix         1\n",
       "Name: Electrical, dtype: int64"
      ]
     },
     "execution_count": 81,
     "metadata": {},
     "output_type": "execute_result"
    }
   ],
   "source": [
    "data['Electrical'].value_counts()"
   ]
  },
  {
   "cell_type": "code",
   "execution_count": 82,
   "metadata": {},
   "outputs": [],
   "source": [
    "nominal_features=data.select_dtypes('object').columns.to_list()"
   ]
  },
  {
   "cell_type": "code",
   "execution_count": 83,
   "metadata": {},
   "outputs": [],
   "source": [
    "## Veamos que variables categoricas todavia permancen en nuestro dataframe\n",
    "transform_cat_cols = []\n",
    "for col in nominal_features:\n",
    "    if col in data.columns:\n",
    "        transform_cat_cols.append(col)"
   ]
  },
  {
   "cell_type": "code",
   "execution_count": null,
   "metadata": {},
   "outputs": [],
   "source": []
  },
  {
   "cell_type": "code",
   "execution_count": 87,
   "metadata": {},
   "outputs": [],
   "source": [
    "#data[transform_cat_cols].apply(lambda col: len(col.value_counts())).sort_values()\n",
    "uniqueness_counts = data[transform_cat_cols].apply(lambda col: col.nunique()).sort_values()"
   ]
  },
  {
   "cell_type": "code",
   "execution_count": 88,
   "metadata": {},
   "outputs": [],
   "source": [
    "drop_nonuniq_cols = uniqueness_counts[uniqueness_counts > 6].index\n",
    "data = data.drop(drop_nonuniq_cols, axis=1)"
   ]
  },
  {
   "cell_type": "code",
   "execution_count": 89,
   "metadata": {},
   "outputs": [
    {
     "data": {
      "text/plain": [
       "Index(['Street', 'Lot Shape', 'Land Contour', 'Utilities', 'Lot Config',\n",
       "       'Land Slope', 'Bldg Type', 'Roof Style', 'Mas Vnr Type', 'Exter Qual',\n",
       "       'Exter Cond', 'Foundation', 'Bsmt Qual', 'Bsmt Cond', 'Bsmt Exposure',\n",
       "       'BsmtFin Type 1', 'BsmtFin Type 2', 'Heating', 'Heating QC',\n",
       "       'Central Air', 'Electrical', 'Kitchen Qual', 'Fireplace Qu',\n",
       "       'Garage Type', 'Garage Finish', 'Garage Qual', 'Garage Cond',\n",
       "       'Paved Drive'],\n",
       "      dtype='object')"
      ]
     },
     "execution_count": 89,
     "metadata": {},
     "output_type": "execute_result"
    }
   ],
   "source": [
    "data.select_dtypes('object').columns"
   ]
  },
  {
   "cell_type": "code",
   "execution_count": 90,
   "metadata": {},
   "outputs": [],
   "source": [
    "columnas_object = data.select_dtypes('object').columns.to_list()"
   ]
  },
  {
   "cell_type": "code",
   "execution_count": 105,
   "metadata": {},
   "outputs": [
    {
     "data": {
      "text/plain": [
       "Street               0\n",
       "Lot Shape            0\n",
       "Land Contour         0\n",
       "Utilities            0\n",
       "Lot Config           0\n",
       "Land Slope           0\n",
       "Bldg Type            0\n",
       "Roof Style           0\n",
       "Mas Vnr Type        23\n",
       "Exter Qual           0\n",
       "Exter Cond           0\n",
       "Foundation           0\n",
       "Bsmt Qual           80\n",
       "Bsmt Cond           80\n",
       "Bsmt Exposure       83\n",
       "BsmtFin Type 1      80\n",
       "BsmtFin Type 2      81\n",
       "Heating              0\n",
       "Heating QC           0\n",
       "Central Air          0\n",
       "Electrical           1\n",
       "Kitchen Qual         0\n",
       "Fireplace Qu      1422\n",
       "Garage Type        157\n",
       "Garage Finish      159\n",
       "Garage Qual        159\n",
       "Garage Cond        159\n",
       "Paved Drive          0\n",
       "dtype: int64"
      ]
     },
     "execution_count": 105,
     "metadata": {},
     "output_type": "execute_result"
    }
   ],
   "source": [
    "data[columnas_object].isna().sum()"
   ]
  },
  {
   "cell_type": "code",
   "execution_count": 112,
   "metadata": {},
   "outputs": [
    {
     "data": {
      "text/plain": [
       "0"
      ]
     },
     "execution_count": 112,
     "metadata": {},
     "output_type": "execute_result"
    }
   ],
   "source": [
    "#pd.get_dummies(data['Street'])\n",
    "#pd.get_dummies(data['Street'],drop_first=True)\n",
    "#pd.get_dummies(data[['Street','Electrical']],drop_first=True)\n",
    "pd.get_dummies(data[columnas_object],drop_first=True)\n",
    "\n",
    "\n",
    "# por alguna razon ya no tengo valores nulos\n",
    "#pd.get_dummies(data[columnas_object],drop_first=True).isna().sum().sum()\n",
    "\n"
   ]
  },
  {
   "cell_type": "code",
   "execution_count": null,
   "metadata": {},
   "outputs": [],
   "source": [
    " pd.get_dummies(data[columnas_object],drop_first=True)"
   ]
  },
  {
   "cell_type": "code",
   "execution_count": 109,
   "metadata": {},
   "outputs": [
    {
     "data": {
      "text/plain": [
       "3166"
      ]
     },
     "execution_count": 109,
     "metadata": {},
     "output_type": "execute_result"
    }
   ],
   "source": [
    "pd.concat([\n",
    "    data, \n",
    "    pd.get_dummies(data[columnas_object],drop_first=True)],\n",
    "    axis=1)"
   ]
  },
  {
   "cell_type": "code",
   "execution_count": 106,
   "metadata": {},
   "outputs": [
    {
     "ename": "NameError",
     "evalue": "name 'text_cols' is not defined",
     "output_type": "error",
     "traceback": [
      "\u001b[1;31m---------------------------------------------------------------------------\u001b[0m",
      "\u001b[1;31mNameError\u001b[0m                                 Traceback (most recent call last)",
      "\u001b[1;32m<ipython-input-106-6618c8a2f621>\u001b[0m in \u001b[0;36m<module>\u001b[1;34m\u001b[0m\n\u001b[0;32m      2\u001b[0m     \u001b[0mdata\u001b[0m\u001b[1;33m,\u001b[0m\u001b[1;33m\u001b[0m\u001b[0m\n\u001b[0;32m      3\u001b[0m     pd.get_dummies(data[columnas_object],drop_first=True)],\n\u001b[1;32m----> 4\u001b[1;33m     axis=1).drop(text_cols,axis=1).shape\n\u001b[0m",
      "\u001b[1;31mNameError\u001b[0m: name 'text_cols' is not defined"
     ]
    }
   ],
   "source": [
    "pd.concat([\n",
    "    data, \n",
    "    pd.get_dummies(data[columnas_object],drop_first=True)],\n",
    "    axis=1).drop(columnas_object,axis=1)"
   ]
  },
  {
   "cell_type": "code",
   "execution_count": null,
   "metadata": {},
   "outputs": [],
   "source": []
  },
  {
   "cell_type": "code",
   "execution_count": 98,
   "metadata": {},
   "outputs": [],
   "source": [
    "# ahora tenemos que pasar esto a la funcion"
   ]
  },
  {
   "cell_type": "code",
   "execution_count": 99,
   "metadata": {},
   "outputs": [],
   "source": [
    "def transformacion(df):\n",
    "    '''\n",
    "    Operaciones que afecten los valores del df, como relleno de nulos, eliminar filas, mapeos, reemplazo de valores, etc\n",
    "    '''\n",
    "    mediana = df.loc[:,'Mas Vnr Area'].median()\n",
    "    df.loc[:,'Mas Vnr Area'] =  df.loc[:,'Mas Vnr Area'].fillna(mediana)\n",
    "    \n",
    "    df.dropna(axis=0,subset=['Garage Area','Garage Cars','BsmtFin SF 1','Total Bsmt SF'],inplace=True)\n",
    "    \n",
    "    df['Years Before Sale'] = df['Yr Sold'] - df['Year Built']\n",
    "    \n",
    "    years_since_remod = df['Yr Sold'] - df['Year Remod/Add']\n",
    "    df['Years Since Remod'] = years_since_remod\n",
    "    \n",
    "    df = df.drop([1702, 2180, 2181], axis=0)\n",
    "    \n",
    "    features = ['BsmtFin SF 1', 'Total Bsmt SF', 'Full Bath', 'TotRms AbvGrd', 'Open Porch SF']\n",
    "    for col in features:\n",
    "        limite = df[col].quantile(0.98)\n",
    "        mask = df[col]>limite\n",
    "        df.loc[mask,col] = limite\n",
    "    \n",
    "    return df\n",
    "\n",
    "def seleccion(df):\n",
    "    '''\n",
    "    Seleccion de aquellas features o columnas que se van a utilizar para el entrenamiento del modelo\n",
    "    '''\n",
    "    \n",
    "    uniqueness_counts = df[transform_cat_cols].apply(lambda col: len(col.value_counts())).sort_values()\n",
    "    \n",
    "    drop_nonuniq_cols = uniqueness_counts[uniqueness_counts > 6].index\n",
    "    df = df.drop(drop_nonuniq_cols, axis=1)\n",
    "    \n",
    "    columnas_object = df.select_dtypes('object').columns.to_list()\n",
    "     \n",
    "    lista_numerica = ['Overall Qual','Mas Vnr Area','Years Since Remod','Years Before Sale','BsmtFin SF 1','Total Bsmt SF',\n",
    "               'Full Bath','TotRms AbvGrd','Fireplaces','Garage Cars','Wood Deck SF','Open Porch SF','SalePrice']\n",
    "    \n",
    "    df = pd.concat([\n",
    "    df[lista_numerica], \n",
    "    pd.get_dummies(df[columnas_object],drop_first=True)],\n",
    "    axis=1)\n",
    "    \n",
    "    return df\n",
    "\n",
    "def entrenar_testear(df):\n",
    "    '''\n",
    "    Instanciar el modelo, entrenarlo y luego evaluarlo\n",
    "    '''\n",
    "    lr = LinearRegression()\n",
    "    \n",
    "#   X_train, X_test, y_train, y_test = train_test_split(X, y, test_size=0.33, random_state=42)\n",
    "    \n",
    "    X_train, X_test, y_train, y_test = train_test_split(df.drop(\"SalePrice\",axis=1), df['SalePrice'],\n",
    "                                                        test_size=0.30, random_state=38)\n",
    "    lr.fit(X_train,y_train)\n",
    "    \n",
    "    train_predictions = lr.predict(X_train)\n",
    "    test_predictions = lr.predict(X_test)\n",
    "    \n",
    "    train_rmse_2 = np.sqrt(mean_squared_error(train_predictions, y_train))\n",
    "    test_rmse_2 = np.sqrt(mean_squared_error(test_predictions, y_test))\n",
    "    \n",
    "    print(f\"El error de train es {train_rmse_2}\")\n",
    "    print(f\"El error de test es {test_rmse_2}\")"
   ]
  },
  {
   "cell_type": "code",
   "execution_count": 100,
   "metadata": {},
   "outputs": [
    {
     "name": "stdout",
     "output_type": "stream",
     "text": [
      "El error de train es 27309.271746197304\n",
      "El error de test es 29511.86443474177\n"
     ]
    }
   ],
   "source": [
    "data_transformada = transformacion(data_orig)\n",
    "data_filtrada = seleccion(data_transformada)\n",
    "entrenar_testear(data_filtrada)"
   ]
  },
  {
   "cell_type": "code",
   "execution_count": null,
   "metadata": {},
   "outputs": [],
   "source": []
  },
  {
   "cell_type": "code",
   "execution_count": null,
   "metadata": {},
   "outputs": [],
   "source": []
  },
  {
   "cell_type": "code",
   "execution_count": null,
   "metadata": {},
   "outputs": [],
   "source": []
  },
  {
   "cell_type": "code",
   "execution_count": null,
   "metadata": {},
   "outputs": [],
   "source": []
  }
 ],
 "metadata": {
  "kernelspec": {
   "display_name": "Python 3",
   "language": "python",
   "name": "python3"
  },
  "language_info": {
   "codemirror_mode": {
    "name": "ipython",
    "version": 3
   },
   "file_extension": ".py",
   "mimetype": "text/x-python",
   "name": "python",
   "nbconvert_exporter": "python",
   "pygments_lexer": "ipython3",
   "version": "3.7.0"
  }
 },
 "nbformat": 4,
 "nbformat_minor": 4
}
