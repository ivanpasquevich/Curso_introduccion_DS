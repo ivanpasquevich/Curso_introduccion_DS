{
 "cells": [
  {
   "cell_type": "markdown",
   "metadata": {},
   "source": [
    "# Ejercicios sobre lo aprendido"
   ]
  },
  {
   "cell_type": "markdown",
   "metadata": {},
   "source": [
    "## Suban este notebook resuelto al drive con la nomenclatura nombre_apellido_TP_6"
   ]
  },
  {
   "cell_type": "markdown",
   "metadata": {},
   "source": [
    "----"
   ]
  },
  {
   "cell_type": "markdown",
   "metadata": {},
   "source": [
    "### Usemos lo aprendido\n",
    "\n",
    "Elijan un .csv con datos que les sean de interes, pueden buscarlo en alguna de las paginas compartidas al final del notebook `05-Cargamos_dataframes` o puede ser de otro lado, queda en ustedes.\n",
    "\n",
    "Cargar el archivo en un dataframe y hacer los siguientes analisis, mostrando de manera ordenada lo encontrado.\n",
    "\n",
    "1. Existen valores nulos en nuestro conjunto de datos? Los reemplazamos, eliminamos o que hacemos con ellos?\n",
    "2. Hay valores duplicados? Puede haber duplicados? Tenemos que tratarlos?\n",
    "3. Elijamos una columna para analizar la cantidad de valores unicos que tiene, y cuales son.\n",
    "4. Hagan los analisis que ustedes quieran !!"
   ]
  },
  {
   "cell_type": "markdown",
   "metadata": {},
   "source": [
    "----"
   ]
  },
  {
   "cell_type": "markdown",
   "metadata": {},
   "source": [
    "## Suban este notebook resuelto al drive con la nomenclatura nombre_apellido_TP_6"
   ]
  }
 ],
 "metadata": {
  "kernelspec": {
   "display_name": "Python 3",
   "language": "python",
   "name": "python3"
  },
  "language_info": {
   "codemirror_mode": {
    "name": "ipython",
    "version": 3
   },
   "file_extension": ".py",
   "mimetype": "text/x-python",
   "name": "python",
   "nbconvert_exporter": "python",
   "pygments_lexer": "ipython3",
   "version": "3.7.0"
  }
 },
 "nbformat": 4,
 "nbformat_minor": 4
}
