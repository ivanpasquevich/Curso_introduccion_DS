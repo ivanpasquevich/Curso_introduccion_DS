{
 "cells": [
  {
   "cell_type": "markdown",
   "metadata": {},
   "source": [
    "## SettingWithCopyWarning\n",
    "\n",
    "Es una advertencia muy comun cuando empezamos a hacer modificacion de los datos de manera incorrecta, lo ideal es evitarla, y sucede cuando hacemos indexacion encadenada.\n",
    "\n",
    "Las buenas practicas dicen de evitar estas indexacion en cadena, y hacerlas con los metodos `.loc` o `.iloc`\n",
    "\n",
    "Veamos unos ejemplos"
   ]
  },
  {
   "cell_type": "code",
   "execution_count": 1,
   "metadata": {},
   "outputs": [],
   "source": [
    "# cargamos df de playas\n",
    "\n",
    "import pandas as pd\n",
    "datos = pd.read_csv('playas_estacionamiento.csv')"
   ]
  },
  {
   "cell_type": "code",
   "execution_count": 2,
   "metadata": {},
   "outputs": [
    {
     "data": {
      "text/html": [
       "<div>\n",
       "<style scoped>\n",
       "    .dataframe tbody tr th:only-of-type {\n",
       "        vertical-align: middle;\n",
       "    }\n",
       "\n",
       "    .dataframe tbody tr th {\n",
       "        vertical-align: top;\n",
       "    }\n",
       "\n",
       "    .dataframe thead th {\n",
       "        text-align: right;\n",
       "    }\n",
       "</style>\n",
       "<table border=\"1\" class=\"dataframe\">\n",
       "  <thead>\n",
       "    <tr style=\"text-align: right;\">\n",
       "      <th></th>\n",
       "      <th>NOMENCLATURA</th>\n",
       "      <th>Dirección</th>\n",
       "      <th>Resolución habilitacion</th>\n",
       "      <th>Vencimiento habilitacion</th>\n",
       "      <th>Capacidad automoviles</th>\n",
       "      <th>capacidad bicicletas</th>\n",
       "    </tr>\n",
       "  </thead>\n",
       "  <tbody>\n",
       "    <tr>\n",
       "      <th>0</th>\n",
       "      <td>04-02-003-031</td>\n",
       "      <td>12 DE octubre 81</td>\n",
       "      <td>772/2015</td>\n",
       "      <td>14-may.-18</td>\n",
       "      <td>31</td>\n",
       "      <td>8.0</td>\n",
       "    </tr>\n",
       "    <tr>\n",
       "      <th>1</th>\n",
       "      <td>04-03-046-023</td>\n",
       "      <td>25 DE mayo 0337</td>\n",
       "      <td>0465/2017</td>\n",
       "      <td>30-dic.-17</td>\n",
       "      <td>33</td>\n",
       "      <td>8.0</td>\n",
       "    </tr>\n",
       "    <tr>\n",
       "      <th>2</th>\n",
       "      <td>04-03-053-006</td>\n",
       "      <td>25 DE mayo 0342</td>\n",
       "      <td>776/2015</td>\n",
       "      <td>28-feb.-18</td>\n",
       "      <td>13</td>\n",
       "      <td>NaN</td>\n",
       "    </tr>\n",
       "    <tr>\n",
       "      <th>3</th>\n",
       "      <td>01-25-033-040</td>\n",
       "      <td>25 DE mayo 0955</td>\n",
       "      <td>1090/2007</td>\n",
       "      <td>14-jun.-15</td>\n",
       "      <td>27</td>\n",
       "      <td>8.0</td>\n",
       "    </tr>\n",
       "    <tr>\n",
       "      <th>4</th>\n",
       "      <td>06-11-038-012</td>\n",
       "      <td>27 DE ABRIL 1900 / Ing. Lopez 98</td>\n",
       "      <td>0466/2017</td>\n",
       "      <td>30-dic.-17</td>\n",
       "      <td>24</td>\n",
       "      <td>8.0</td>\n",
       "    </tr>\n",
       "  </tbody>\n",
       "</table>\n",
       "</div>"
      ],
      "text/plain": [
       "    NOMENCLATURA                         Dirección Resolución habilitacion  \\\n",
       "0  04-02-003-031                  12 DE octubre 81                772/2015   \n",
       "1  04-03-046-023                   25 DE mayo 0337               0465/2017   \n",
       "2  04-03-053-006                   25 DE mayo 0342                776/2015   \n",
       "3  01-25-033-040                   25 DE mayo 0955               1090/2007   \n",
       "4  06-11-038-012  27 DE ABRIL 1900 / Ing. Lopez 98               0466/2017   \n",
       "\n",
       "  Vencimiento habilitacion  Capacidad automoviles  capacidad bicicletas  \n",
       "0               14-may.-18                     31                   8.0  \n",
       "1               30-dic.-17                     33                   8.0  \n",
       "2               28-feb.-18                     13                   NaN  \n",
       "3               14-jun.-15                     27                   8.0  \n",
       "4               30-dic.-17                     24                   8.0  "
      ]
     },
     "execution_count": 2,
     "metadata": {},
     "output_type": "execute_result"
    }
   ],
   "source": [
    "datos.head()"
   ]
  },
  {
   "cell_type": "code",
   "execution_count": 5,
   "metadata": {},
   "outputs": [
    {
     "name": "stderr",
     "output_type": "stream",
     "text": [
      "c:\\program files\\python37\\lib\\site-packages\\ipykernel_launcher.py:2: SettingWithCopyWarning: \n",
      "A value is trying to be set on a copy of a slice from a DataFrame\n",
      "\n",
      "See the caveats in the documentation: https://pandas.pydata.org/pandas-docs/stable/user_guide/indexing.html#returning-a-view-versus-a-copy\n",
      "  \n"
     ]
    }
   ],
   "source": [
    "# esto es indexacion encadenada, no hacerlo !!\n",
    "datos[\"Capacidad automoviles\"][0] = 99"
   ]
  },
  {
   "cell_type": "code",
   "execution_count": 6,
   "metadata": {},
   "outputs": [
    {
     "data": {
      "text/html": [
       "<div>\n",
       "<style scoped>\n",
       "    .dataframe tbody tr th:only-of-type {\n",
       "        vertical-align: middle;\n",
       "    }\n",
       "\n",
       "    .dataframe tbody tr th {\n",
       "        vertical-align: top;\n",
       "    }\n",
       "\n",
       "    .dataframe thead th {\n",
       "        text-align: right;\n",
       "    }\n",
       "</style>\n",
       "<table border=\"1\" class=\"dataframe\">\n",
       "  <thead>\n",
       "    <tr style=\"text-align: right;\">\n",
       "      <th></th>\n",
       "      <th>NOMENCLATURA</th>\n",
       "      <th>Dirección</th>\n",
       "      <th>Resolución habilitacion</th>\n",
       "      <th>Vencimiento habilitacion</th>\n",
       "      <th>Capacidad automoviles</th>\n",
       "      <th>capacidad bicicletas</th>\n",
       "    </tr>\n",
       "  </thead>\n",
       "  <tbody>\n",
       "    <tr>\n",
       "      <th>0</th>\n",
       "      <td>04-02-003-031</td>\n",
       "      <td>12 DE octubre 81</td>\n",
       "      <td>772/2015</td>\n",
       "      <td>14-may.-18</td>\n",
       "      <td>99</td>\n",
       "      <td>8.0</td>\n",
       "    </tr>\n",
       "    <tr>\n",
       "      <th>1</th>\n",
       "      <td>04-03-046-023</td>\n",
       "      <td>25 DE mayo 0337</td>\n",
       "      <td>0465/2017</td>\n",
       "      <td>30-dic.-17</td>\n",
       "      <td>33</td>\n",
       "      <td>8.0</td>\n",
       "    </tr>\n",
       "    <tr>\n",
       "      <th>2</th>\n",
       "      <td>04-03-053-006</td>\n",
       "      <td>25 DE mayo 0342</td>\n",
       "      <td>776/2015</td>\n",
       "      <td>28-feb.-18</td>\n",
       "      <td>13</td>\n",
       "      <td>NaN</td>\n",
       "    </tr>\n",
       "    <tr>\n",
       "      <th>3</th>\n",
       "      <td>01-25-033-040</td>\n",
       "      <td>25 DE mayo 0955</td>\n",
       "      <td>1090/2007</td>\n",
       "      <td>14-jun.-15</td>\n",
       "      <td>27</td>\n",
       "      <td>8.0</td>\n",
       "    </tr>\n",
       "    <tr>\n",
       "      <th>4</th>\n",
       "      <td>06-11-038-012</td>\n",
       "      <td>27 DE ABRIL 1900 / Ing. Lopez 98</td>\n",
       "      <td>0466/2017</td>\n",
       "      <td>30-dic.-17</td>\n",
       "      <td>24</td>\n",
       "      <td>8.0</td>\n",
       "    </tr>\n",
       "  </tbody>\n",
       "</table>\n",
       "</div>"
      ],
      "text/plain": [
       "    NOMENCLATURA                         Dirección Resolución habilitacion  \\\n",
       "0  04-02-003-031                  12 DE octubre 81                772/2015   \n",
       "1  04-03-046-023                   25 DE mayo 0337               0465/2017   \n",
       "2  04-03-053-006                   25 DE mayo 0342                776/2015   \n",
       "3  01-25-033-040                   25 DE mayo 0955               1090/2007   \n",
       "4  06-11-038-012  27 DE ABRIL 1900 / Ing. Lopez 98               0466/2017   \n",
       "\n",
       "  Vencimiento habilitacion  Capacidad automoviles  capacidad bicicletas  \n",
       "0               14-may.-18                     99                   8.0  \n",
       "1               30-dic.-17                     33                   8.0  \n",
       "2               28-feb.-18                     13                   NaN  \n",
       "3               14-jun.-15                     27                   8.0  \n",
       "4               30-dic.-17                     24                   8.0  "
      ]
     },
     "execution_count": 6,
     "metadata": {},
     "output_type": "execute_result"
    }
   ],
   "source": [
    "datos.head()"
   ]
  },
  {
   "cell_type": "code",
   "execution_count": 8,
   "metadata": {},
   "outputs": [],
   "source": [
    "# forma correcta\n",
    "datos.loc[0,'Capacidad automoviles'] = 0"
   ]
  },
  {
   "cell_type": "code",
   "execution_count": 9,
   "metadata": {},
   "outputs": [
    {
     "data": {
      "text/html": [
       "<div>\n",
       "<style scoped>\n",
       "    .dataframe tbody tr th:only-of-type {\n",
       "        vertical-align: middle;\n",
       "    }\n",
       "\n",
       "    .dataframe tbody tr th {\n",
       "        vertical-align: top;\n",
       "    }\n",
       "\n",
       "    .dataframe thead th {\n",
       "        text-align: right;\n",
       "    }\n",
       "</style>\n",
       "<table border=\"1\" class=\"dataframe\">\n",
       "  <thead>\n",
       "    <tr style=\"text-align: right;\">\n",
       "      <th></th>\n",
       "      <th>NOMENCLATURA</th>\n",
       "      <th>Dirección</th>\n",
       "      <th>Resolución habilitacion</th>\n",
       "      <th>Vencimiento habilitacion</th>\n",
       "      <th>Capacidad automoviles</th>\n",
       "      <th>capacidad bicicletas</th>\n",
       "    </tr>\n",
       "  </thead>\n",
       "  <tbody>\n",
       "    <tr>\n",
       "      <th>0</th>\n",
       "      <td>04-02-003-031</td>\n",
       "      <td>12 DE octubre 81</td>\n",
       "      <td>772/2015</td>\n",
       "      <td>14-may.-18</td>\n",
       "      <td>0</td>\n",
       "      <td>8.0</td>\n",
       "    </tr>\n",
       "    <tr>\n",
       "      <th>1</th>\n",
       "      <td>04-03-046-023</td>\n",
       "      <td>25 DE mayo 0337</td>\n",
       "      <td>0465/2017</td>\n",
       "      <td>30-dic.-17</td>\n",
       "      <td>33</td>\n",
       "      <td>8.0</td>\n",
       "    </tr>\n",
       "    <tr>\n",
       "      <th>2</th>\n",
       "      <td>04-03-053-006</td>\n",
       "      <td>25 DE mayo 0342</td>\n",
       "      <td>776/2015</td>\n",
       "      <td>28-feb.-18</td>\n",
       "      <td>13</td>\n",
       "      <td>NaN</td>\n",
       "    </tr>\n",
       "    <tr>\n",
       "      <th>3</th>\n",
       "      <td>01-25-033-040</td>\n",
       "      <td>25 DE mayo 0955</td>\n",
       "      <td>1090/2007</td>\n",
       "      <td>14-jun.-15</td>\n",
       "      <td>27</td>\n",
       "      <td>8.0</td>\n",
       "    </tr>\n",
       "    <tr>\n",
       "      <th>4</th>\n",
       "      <td>06-11-038-012</td>\n",
       "      <td>27 DE ABRIL 1900 / Ing. Lopez 98</td>\n",
       "      <td>0466/2017</td>\n",
       "      <td>30-dic.-17</td>\n",
       "      <td>24</td>\n",
       "      <td>8.0</td>\n",
       "    </tr>\n",
       "  </tbody>\n",
       "</table>\n",
       "</div>"
      ],
      "text/plain": [
       "    NOMENCLATURA                         Dirección Resolución habilitacion  \\\n",
       "0  04-02-003-031                  12 DE octubre 81                772/2015   \n",
       "1  04-03-046-023                   25 DE mayo 0337               0465/2017   \n",
       "2  04-03-053-006                   25 DE mayo 0342                776/2015   \n",
       "3  01-25-033-040                   25 DE mayo 0955               1090/2007   \n",
       "4  06-11-038-012  27 DE ABRIL 1900 / Ing. Lopez 98               0466/2017   \n",
       "\n",
       "  Vencimiento habilitacion  Capacidad automoviles  capacidad bicicletas  \n",
       "0               14-may.-18                      0                   8.0  \n",
       "1               30-dic.-17                     33                   8.0  \n",
       "2               28-feb.-18                     13                   NaN  \n",
       "3               14-jun.-15                     27                   8.0  \n",
       "4               30-dic.-17                     24                   8.0  "
      ]
     },
     "execution_count": 9,
     "metadata": {},
     "output_type": "execute_result"
    }
   ],
   "source": [
    "datos.head()"
   ]
  },
  {
   "cell_type": "code",
   "execution_count": null,
   "metadata": {},
   "outputs": [],
   "source": []
  },
  {
   "cell_type": "markdown",
   "metadata": {},
   "source": [
    "### Casos comunes"
   ]
  },
  {
   "cell_type": "markdown",
   "metadata": {},
   "source": [
    "##### Ejemplo 1"
   ]
  },
  {
   "cell_type": "code",
   "execution_count": 10,
   "metadata": {},
   "outputs": [
    {
     "data": {
      "text/plain": [
       "22"
      ]
     },
     "execution_count": 10,
     "metadata": {},
     "output_type": "execute_result"
    }
   ],
   "source": [
    "# queremos reemplazar los valores nulos en capacidad bicicletas, por cero\n",
    "\n",
    "datos['capacidad bicicletas'].isna().sum()"
   ]
  },
  {
   "cell_type": "code",
   "execution_count": 13,
   "metadata": {},
   "outputs": [
    {
     "name": "stderr",
     "output_type": "stream",
     "text": [
      "c:\\program files\\python37\\lib\\site-packages\\ipykernel_launcher.py:1: SettingWithCopyWarning: \n",
      "A value is trying to be set on a copy of a slice from a DataFrame.\n",
      "Try using .loc[row_indexer,col_indexer] = value instead\n",
      "\n",
      "See the caveats in the documentation: https://pandas.pydata.org/pandas-docs/stable/user_guide/indexing.html#returning-a-view-versus-a-copy\n",
      "  \"\"\"Entry point for launching an IPython kernel.\n"
     ]
    }
   ],
   "source": [
    "datos[datos['capacidad bicicletas'].isna()]['capacidad bicicletas'] = 0"
   ]
  },
  {
   "cell_type": "code",
   "execution_count": 14,
   "metadata": {},
   "outputs": [
    {
     "data": {
      "text/plain": [
       "22"
      ]
     },
     "execution_count": 14,
     "metadata": {},
     "output_type": "execute_result"
    }
   ],
   "source": [
    "datos['capacidad bicicletas'].isna().sum()"
   ]
  },
  {
   "cell_type": "code",
   "execution_count": 17,
   "metadata": {},
   "outputs": [],
   "source": [
    "datos.loc[datos['capacidad bicicletas'].isna(),\"capacidad bicicletas\"] = 0"
   ]
  },
  {
   "cell_type": "code",
   "execution_count": 18,
   "metadata": {
    "scrolled": true
   },
   "outputs": [
    {
     "data": {
      "text/plain": [
       "0"
      ]
     },
     "execution_count": 18,
     "metadata": {},
     "output_type": "execute_result"
    }
   ],
   "source": [
    "datos['capacidad bicicletas'].isna().sum()"
   ]
  },
  {
   "cell_type": "code",
   "execution_count": null,
   "metadata": {},
   "outputs": [],
   "source": [
    "#datos.loc[datos['capacidad bicicletas'].isna(),\"capacidad bicicletas\"].copy()"
   ]
  },
  {
   "cell_type": "code",
   "execution_count": null,
   "metadata": {},
   "outputs": [],
   "source": []
  },
  {
   "cell_type": "code",
   "execution_count": null,
   "metadata": {},
   "outputs": [],
   "source": []
  },
  {
   "cell_type": "markdown",
   "metadata": {},
   "source": [
    "#### Ejemplo 2"
   ]
  },
  {
   "cell_type": "code",
   "execution_count": 19,
   "metadata": {},
   "outputs": [
    {
     "data": {
      "text/html": [
       "<div>\n",
       "<style scoped>\n",
       "    .dataframe tbody tr th:only-of-type {\n",
       "        vertical-align: middle;\n",
       "    }\n",
       "\n",
       "    .dataframe tbody tr th {\n",
       "        vertical-align: top;\n",
       "    }\n",
       "\n",
       "    .dataframe thead th {\n",
       "        text-align: right;\n",
       "    }\n",
       "</style>\n",
       "<table border=\"1\" class=\"dataframe\">\n",
       "  <thead>\n",
       "    <tr style=\"text-align: right;\">\n",
       "      <th></th>\n",
       "      <th>NOMENCLATURA</th>\n",
       "      <th>Dirección</th>\n",
       "      <th>Resolución habilitacion</th>\n",
       "      <th>Vencimiento habilitacion</th>\n",
       "      <th>Capacidad automoviles</th>\n",
       "      <th>capacidad bicicletas</th>\n",
       "    </tr>\n",
       "  </thead>\n",
       "  <tbody>\n",
       "    <tr>\n",
       "      <th>0</th>\n",
       "      <td>04-02-003-031</td>\n",
       "      <td>12 DE octubre 81</td>\n",
       "      <td>772/2015</td>\n",
       "      <td>14-may.-18</td>\n",
       "      <td>0</td>\n",
       "      <td>8.0</td>\n",
       "    </tr>\n",
       "  </tbody>\n",
       "</table>\n",
       "</div>"
      ],
      "text/plain": [
       "    NOMENCLATURA         Dirección Resolución habilitacion  \\\n",
       "0  04-02-003-031  12 DE octubre 81                772/2015   \n",
       "\n",
       "  Vencimiento habilitacion  Capacidad automoviles  capacidad bicicletas  \n",
       "0               14-may.-18                      0                   8.0  "
      ]
     },
     "execution_count": 19,
     "metadata": {},
     "output_type": "execute_result"
    }
   ],
   "source": [
    "datos.head(1)"
   ]
  },
  {
   "cell_type": "code",
   "execution_count": 20,
   "metadata": {},
   "outputs": [],
   "source": [
    "# queremos analizar mas en detalle una porcion o slice de nuetro dataframe\n",
    "# supongamos que queremos analizar las filas con capacidad de automoviles mayores a 25\n",
    "\n",
    "capacidad_25 = datos.loc[datos[\"Capacidad automoviles\"]>25]"
   ]
  },
  {
   "cell_type": "code",
   "execution_count": 21,
   "metadata": {},
   "outputs": [
    {
     "data": {
      "text/html": [
       "<div>\n",
       "<style scoped>\n",
       "    .dataframe tbody tr th:only-of-type {\n",
       "        vertical-align: middle;\n",
       "    }\n",
       "\n",
       "    .dataframe tbody tr th {\n",
       "        vertical-align: top;\n",
       "    }\n",
       "\n",
       "    .dataframe thead th {\n",
       "        text-align: right;\n",
       "    }\n",
       "</style>\n",
       "<table border=\"1\" class=\"dataframe\">\n",
       "  <thead>\n",
       "    <tr style=\"text-align: right;\">\n",
       "      <th></th>\n",
       "      <th>NOMENCLATURA</th>\n",
       "      <th>Dirección</th>\n",
       "      <th>Resolución habilitacion</th>\n",
       "      <th>Vencimiento habilitacion</th>\n",
       "      <th>Capacidad automoviles</th>\n",
       "      <th>capacidad bicicletas</th>\n",
       "    </tr>\n",
       "  </thead>\n",
       "  <tbody>\n",
       "    <tr>\n",
       "      <th>1</th>\n",
       "      <td>04-03-046-023</td>\n",
       "      <td>25 DE mayo 0337</td>\n",
       "      <td>0465/2017</td>\n",
       "      <td>30-dic.-17</td>\n",
       "      <td>33</td>\n",
       "      <td>8.0</td>\n",
       "    </tr>\n",
       "    <tr>\n",
       "      <th>3</th>\n",
       "      <td>01-25-033-040</td>\n",
       "      <td>25 DE mayo 0955</td>\n",
       "      <td>1090/2007</td>\n",
       "      <td>14-jun.-15</td>\n",
       "      <td>27</td>\n",
       "      <td>8.0</td>\n",
       "    </tr>\n",
       "    <tr>\n",
       "      <th>6</th>\n",
       "      <td>04-05-004-059</td>\n",
       "      <td>27 DE abril 0642</td>\n",
       "      <td>0093/2017</td>\n",
       "      <td>10-mar.-22</td>\n",
       "      <td>42</td>\n",
       "      <td>8.0</td>\n",
       "    </tr>\n",
       "    <tr>\n",
       "      <th>7</th>\n",
       "      <td>04-05-007-057</td>\n",
       "      <td>27 DE abril 0643</td>\n",
       "      <td>630/2015</td>\n",
       "      <td>22-oct.-20</td>\n",
       "      <td>51</td>\n",
       "      <td>16.0</td>\n",
       "    </tr>\n",
       "    <tr>\n",
       "      <th>8</th>\n",
       "      <td>04-05-004-053</td>\n",
       "      <td>27 DE abril 0674</td>\n",
       "      <td>0078/2017</td>\n",
       "      <td>30-jun.-20</td>\n",
       "      <td>31</td>\n",
       "      <td>8.0</td>\n",
       "    </tr>\n",
       "  </tbody>\n",
       "</table>\n",
       "</div>"
      ],
      "text/plain": [
       "    NOMENCLATURA         Dirección Resolución habilitacion  \\\n",
       "1  04-03-046-023   25 DE mayo 0337               0465/2017   \n",
       "3  01-25-033-040   25 DE mayo 0955               1090/2007   \n",
       "6  04-05-004-059  27 DE abril 0642               0093/2017   \n",
       "7  04-05-007-057  27 DE abril 0643                630/2015   \n",
       "8  04-05-004-053  27 DE abril 0674               0078/2017   \n",
       "\n",
       "  Vencimiento habilitacion  Capacidad automoviles  capacidad bicicletas  \n",
       "1               30-dic.-17                     33                   8.0  \n",
       "3               14-jun.-15                     27                   8.0  \n",
       "6               10-mar.-22                     42                   8.0  \n",
       "7               22-oct.-20                     51                  16.0  \n",
       "8               30-jun.-20                     31                   8.0  "
      ]
     },
     "execution_count": 21,
     "metadata": {},
     "output_type": "execute_result"
    }
   ],
   "source": [
    "capacidad_25.head()"
   ]
  },
  {
   "cell_type": "code",
   "execution_count": 23,
   "metadata": {},
   "outputs": [
    {
     "name": "stderr",
     "output_type": "stream",
     "text": [
      "c:\\program files\\python37\\lib\\site-packages\\pandas\\core\\indexing.py:965: SettingWithCopyWarning: \n",
      "A value is trying to be set on a copy of a slice from a DataFrame.\n",
      "Try using .loc[row_indexer,col_indexer] = value instead\n",
      "\n",
      "See the caveats in the documentation: https://pandas.pydata.org/pandas-docs/stable/user_guide/indexing.html#returning-a-view-versus-a-copy\n",
      "  self.obj[item] = s\n"
     ]
    }
   ],
   "source": [
    "# hacemos nuestros analisis y encontramos que hay valores sin sentido y queremos cambiarlos\n",
    "# por ejemplo\n",
    "\n",
    "capacidad_25.loc[7,\"capacidad bicicletas\"] = 8"
   ]
  },
  {
   "cell_type": "code",
   "execution_count": 24,
   "metadata": {},
   "outputs": [
    {
     "data": {
      "text/plain": [
       "NOMENCLATURA                   04-05-007-057\n",
       "Dirección                   27 DE abril 0643\n",
       "Resolución habilitacion             630/2015\n",
       "Vencimiento habilitacion          22-oct.-20\n",
       "Capacidad automoviles                     51\n",
       "capacidad bicicletas                       8\n",
       "Name: 7, dtype: object"
      ]
     },
     "execution_count": 24,
     "metadata": {},
     "output_type": "execute_result"
    }
   ],
   "source": [
    "capacidad_25.loc[7]"
   ]
  },
  {
   "cell_type": "code",
   "execution_count": 25,
   "metadata": {},
   "outputs": [],
   "source": [
    "# el problema surge de la linea \n",
    "# capacidad_25 = datos.loc[datos['Capacidad automoviles']>25,:]\n",
    "\n",
    "capacidad_25 = datos.loc[datos['Capacidad automoviles']>25,:].copy()"
   ]
  },
  {
   "cell_type": "code",
   "execution_count": 26,
   "metadata": {},
   "outputs": [],
   "source": [
    "capacidad_25.loc[7,\"capacidad bicicletas\"] = 8"
   ]
  },
  {
   "cell_type": "code",
   "execution_count": null,
   "metadata": {},
   "outputs": [],
   "source": []
  },
  {
   "cell_type": "code",
   "execution_count": null,
   "metadata": {},
   "outputs": [],
   "source": []
  },
  {
   "cell_type": "code",
   "execution_count": 27,
   "metadata": {},
   "outputs": [],
   "source": [
    "# Ejemplo"
   ]
  },
  {
   "cell_type": "code",
   "execution_count": 28,
   "metadata": {},
   "outputs": [],
   "source": [
    "import numpy as np\n",
    "import random"
   ]
  },
  {
   "cell_type": "code",
   "execution_count": 29,
   "metadata": {},
   "outputs": [],
   "source": [
    "dicc = {}"
   ]
  },
  {
   "cell_type": "code",
   "execution_count": 34,
   "metadata": {},
   "outputs": [],
   "source": [
    "dicc['A'] = np.random.randint(0,3,50)"
   ]
  },
  {
   "cell_type": "code",
   "execution_count": 35,
   "metadata": {},
   "outputs": [],
   "source": [
    "dicc['B'] = [random.choice('oso gato mono perro'.split()) for i in range(50)]"
   ]
  },
  {
   "cell_type": "code",
   "execution_count": 36,
   "metadata": {},
   "outputs": [],
   "source": [
    "df = pd.DataFrame(dicc)"
   ]
  },
  {
   "cell_type": "code",
   "execution_count": 38,
   "metadata": {},
   "outputs": [],
   "source": [
    "#df"
   ]
  },
  {
   "cell_type": "code",
   "execution_count": 40,
   "metadata": {
    "scrolled": true
   },
   "outputs": [
    {
     "data": {
      "text/plain": [
       "oso      17\n",
       "mono     12\n",
       "gato     11\n",
       "perro    10\n",
       "Name: B, dtype: int64"
      ]
     },
     "execution_count": 40,
     "metadata": {},
     "output_type": "execute_result"
    }
   ],
   "source": [
    "df[\"B\"].value_counts()"
   ]
  },
  {
   "cell_type": "code",
   "execution_count": 44,
   "metadata": {},
   "outputs": [
    {
     "data": {
      "text/plain": [
       "Int64Index([0, 2, 3, 6, 8, 10, 12, 14, 16, 17, 19, 25, 26, 28, 29, 32, 36, 40,\n",
       "            41, 46],\n",
       "           dtype='int64')"
      ]
     },
     "execution_count": 44,
     "metadata": {},
     "output_type": "execute_result"
    }
   ],
   "source": [
    "df.loc[df['A']==1,'B'].index"
   ]
  },
  {
   "cell_type": "code",
   "execution_count": 45,
   "metadata": {},
   "outputs": [],
   "source": [
    "indices = df.loc[df['A']==1,'B'].index"
   ]
  },
  {
   "cell_type": "code",
   "execution_count": 46,
   "metadata": {},
   "outputs": [
    {
     "data": {
      "text/html": [
       "<div>\n",
       "<style scoped>\n",
       "    .dataframe tbody tr th:only-of-type {\n",
       "        vertical-align: middle;\n",
       "    }\n",
       "\n",
       "    .dataframe tbody tr th {\n",
       "        vertical-align: top;\n",
       "    }\n",
       "\n",
       "    .dataframe thead th {\n",
       "        text-align: right;\n",
       "    }\n",
       "</style>\n",
       "<table border=\"1\" class=\"dataframe\">\n",
       "  <thead>\n",
       "    <tr style=\"text-align: right;\">\n",
       "      <th></th>\n",
       "      <th>A</th>\n",
       "      <th>B</th>\n",
       "    </tr>\n",
       "  </thead>\n",
       "  <tbody>\n",
       "    <tr>\n",
       "      <th>0</th>\n",
       "      <td>1</td>\n",
       "      <td>oso</td>\n",
       "    </tr>\n",
       "    <tr>\n",
       "      <th>2</th>\n",
       "      <td>1</td>\n",
       "      <td>perro</td>\n",
       "    </tr>\n",
       "    <tr>\n",
       "      <th>3</th>\n",
       "      <td>1</td>\n",
       "      <td>perro</td>\n",
       "    </tr>\n",
       "    <tr>\n",
       "      <th>6</th>\n",
       "      <td>1</td>\n",
       "      <td>gato</td>\n",
       "    </tr>\n",
       "    <tr>\n",
       "      <th>8</th>\n",
       "      <td>1</td>\n",
       "      <td>gato</td>\n",
       "    </tr>\n",
       "    <tr>\n",
       "      <th>10</th>\n",
       "      <td>1</td>\n",
       "      <td>perro</td>\n",
       "    </tr>\n",
       "    <tr>\n",
       "      <th>12</th>\n",
       "      <td>1</td>\n",
       "      <td>mono</td>\n",
       "    </tr>\n",
       "    <tr>\n",
       "      <th>14</th>\n",
       "      <td>1</td>\n",
       "      <td>perro</td>\n",
       "    </tr>\n",
       "    <tr>\n",
       "      <th>16</th>\n",
       "      <td>1</td>\n",
       "      <td>oso</td>\n",
       "    </tr>\n",
       "    <tr>\n",
       "      <th>17</th>\n",
       "      <td>1</td>\n",
       "      <td>gato</td>\n",
       "    </tr>\n",
       "    <tr>\n",
       "      <th>19</th>\n",
       "      <td>1</td>\n",
       "      <td>mono</td>\n",
       "    </tr>\n",
       "    <tr>\n",
       "      <th>25</th>\n",
       "      <td>1</td>\n",
       "      <td>gato</td>\n",
       "    </tr>\n",
       "    <tr>\n",
       "      <th>26</th>\n",
       "      <td>1</td>\n",
       "      <td>perro</td>\n",
       "    </tr>\n",
       "    <tr>\n",
       "      <th>28</th>\n",
       "      <td>1</td>\n",
       "      <td>oso</td>\n",
       "    </tr>\n",
       "    <tr>\n",
       "      <th>29</th>\n",
       "      <td>1</td>\n",
       "      <td>oso</td>\n",
       "    </tr>\n",
       "    <tr>\n",
       "      <th>32</th>\n",
       "      <td>1</td>\n",
       "      <td>oso</td>\n",
       "    </tr>\n",
       "    <tr>\n",
       "      <th>36</th>\n",
       "      <td>1</td>\n",
       "      <td>oso</td>\n",
       "    </tr>\n",
       "    <tr>\n",
       "      <th>40</th>\n",
       "      <td>1</td>\n",
       "      <td>oso</td>\n",
       "    </tr>\n",
       "    <tr>\n",
       "      <th>41</th>\n",
       "      <td>1</td>\n",
       "      <td>gato</td>\n",
       "    </tr>\n",
       "    <tr>\n",
       "      <th>46</th>\n",
       "      <td>1</td>\n",
       "      <td>oso</td>\n",
       "    </tr>\n",
       "  </tbody>\n",
       "</table>\n",
       "</div>"
      ],
      "text/plain": [
       "    A      B\n",
       "0   1    oso\n",
       "2   1  perro\n",
       "3   1  perro\n",
       "6   1   gato\n",
       "8   1   gato\n",
       "10  1  perro\n",
       "12  1   mono\n",
       "14  1  perro\n",
       "16  1    oso\n",
       "17  1   gato\n",
       "19  1   mono\n",
       "25  1   gato\n",
       "26  1  perro\n",
       "28  1    oso\n",
       "29  1    oso\n",
       "32  1    oso\n",
       "36  1    oso\n",
       "40  1    oso\n",
       "41  1   gato\n",
       "46  1    oso"
      ]
     },
     "execution_count": 46,
     "metadata": {},
     "output_type": "execute_result"
    }
   ],
   "source": [
    "df.loc[indices]"
   ]
  },
  {
   "cell_type": "code",
   "execution_count": 47,
   "metadata": {
    "scrolled": false
   },
   "outputs": [
    {
     "data": {
      "text/plain": [
       "oso      8\n",
       "perro    5\n",
       "gato     5\n",
       "mono     2\n",
       "Name: B, dtype: int64"
      ]
     },
     "execution_count": 47,
     "metadata": {},
     "output_type": "execute_result"
    }
   ],
   "source": [
    "df.loc[df['A']==1,'B'].value_counts()"
   ]
  }
 ],
 "metadata": {
  "kernelspec": {
   "display_name": "Python 3",
   "language": "python",
   "name": "python3"
  },
  "language_info": {
   "codemirror_mode": {
    "name": "ipython",
    "version": 3
   },
   "file_extension": ".py",
   "mimetype": "text/x-python",
   "name": "python",
   "nbconvert_exporter": "python",
   "pygments_lexer": "ipython3",
   "version": "3.7.0"
  }
 },
 "nbformat": 4,
 "nbformat_minor": 4
}
