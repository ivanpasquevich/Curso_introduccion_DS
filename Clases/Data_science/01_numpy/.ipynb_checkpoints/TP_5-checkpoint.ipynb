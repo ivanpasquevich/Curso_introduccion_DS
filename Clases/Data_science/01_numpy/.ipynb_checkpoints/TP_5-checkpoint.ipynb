{
 "cells": [
  {
   "cell_type": "markdown",
   "metadata": {},
   "source": [
    "# Ejercicios sobre lo aprendido"
   ]
  },
  {
   "cell_type": "markdown",
   "metadata": {},
   "source": [
    "## Suban este notebook resuelto al drive con la nomenclatura nombre_apellido_TP_5"
   ]
  },
  {
   "cell_type": "markdown",
   "metadata": {},
   "source": [
    "#### EJERCICIO 1\n",
    "Debes utilizar numpy\n",
    "1. ingresa por teclado la cantidad filas\n",
    "2. ingresa por teclado la cantidad columnas\n",
    "3. crea un arreglo de numpy de dimension filas columnas con elementos de tipo float.\n",
    "4. rellena el array con 10.5\n",
    "5. imprime shape, tipo y el arreglo"
   ]
  },
  {
   "cell_type": "code",
   "execution_count": null,
   "metadata": {},
   "outputs": [],
   "source": []
  },
  {
   "cell_type": "markdown",
   "metadata": {},
   "source": [
    "#### EJERCICIO 2\n",
    "\n",
    "Debes utilizar numpy\n",
    "\n",
    "Ingrese al programa un numero entero 'n'. \n",
    "\n",
    "Crea un array de n elementos enteros consecutivos (de 0 a n).\n",
    "\n",
    "Reformatea el array a un array cuadrado (reshape)\n",
    "\n",
    "Imprima las dimensiones (ndim) , el tipo del array y el array "
   ]
  },
  {
   "cell_type": "code",
   "execution_count": null,
   "metadata": {},
   "outputs": [],
   "source": []
  },
  {
   "cell_type": "markdown",
   "metadata": {},
   "source": [
    "#### EJERCICIO 3\n",
    "\n",
    "\n",
    "Debes utilizar numpy \n",
    "1. crear una matriz de 3x3 con numeros enteros aleatorios (entre 1 y 50)\n",
    "2. almacena en B la transpuesta de A\n",
    "3. almacena en C el producto de A*B y en D la suma de A+B\n",
    "4. imprime size de C y D\n",
    "5. imprime shape de C y D\n",
    "5. imprime C y D"
   ]
  },
  {
   "cell_type": "code",
   "execution_count": null,
   "metadata": {},
   "outputs": [],
   "source": [
    "# C = A + B\n",
    "# D = A * B"
   ]
  },
  {
   "cell_type": "markdown",
   "metadata": {},
   "source": [
    "## Suban este notebook resuelto al drive con la nomenclatura nombre_apellido_TP_5"
   ]
  }
 ],
 "metadata": {
  "kernelspec": {
   "display_name": "Python 3",
   "language": "python",
   "name": "python3"
  },
  "language_info": {
   "codemirror_mode": {
    "name": "ipython",
    "version": 3
   },
   "file_extension": ".py",
   "mimetype": "text/x-python",
   "name": "python",
   "nbconvert_exporter": "python",
   "pygments_lexer": "ipython3",
   "version": "3.7.0"
  }
 },
 "nbformat": 4,
 "nbformat_minor": 4
}
