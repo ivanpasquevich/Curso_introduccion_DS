{
 "cells": [
  {
   "cell_type": "markdown",
   "metadata": {
    "collapsed": true
   },
   "source": [
    "# DataFramesS\n",
    "\n",
    "Los DataFrames son el objeto principal en el trabajo con Pandas.\n",
    "\n",
    "Podemos pensar en ellos como si fuesen un conjuntos de series una al lado de la otra que comparten el mismo indice, de manera que forman una tabla.\n"
   ]
  },
  {
   "cell_type": "code",
   "execution_count": 4,
   "metadata": {},
   "outputs": [],
   "source": [
    "import pandas as pd\n",
    "import numpy as np"
   ]
  },
  {
   "cell_type": "code",
   "execution_count": null,
   "metadata": {},
   "outputs": [],
   "source": []
  },
  {
   "cell_type": "markdown",
   "metadata": {},
   "source": [
    "## Existen distintas formas de construir un DataFrame\n",
    "\n",
    "Nosotros vamos a ver un par de ellas, en el siguiente articulo vemos que existen mas formas de crearlos.\n",
    "\n",
    "[Formas de crear un DataFrame en pandas](https://www.geeksforgeeks.org/different-ways-to-create-pandas-dataframe/)"
   ]
  },
  {
   "cell_type": "code",
   "execution_count": 9,
   "metadata": {},
   "outputs": [],
   "source": [
    "# usando lista de listas\n",
    "\n",
    "data = [[\"julio\",30,'M'],[\"julia\",34,'F'],[\"juli\",37,'M'],[\"julian\",36,'M']]\n",
    "columns = [\"Nombre\",\"Edad\",\"Sexo\"]\n",
    "indices = ['a b c d'.split()]"
   ]
  },
  {
   "cell_type": "code",
   "execution_count": 10,
   "metadata": {},
   "outputs": [
    {
     "data": {
      "text/html": [
       "<div>\n",
       "<style scoped>\n",
       "    .dataframe tbody tr th:only-of-type {\n",
       "        vertical-align: middle;\n",
       "    }\n",
       "\n",
       "    .dataframe tbody tr th {\n",
       "        vertical-align: top;\n",
       "    }\n",
       "\n",
       "    .dataframe thead th {\n",
       "        text-align: right;\n",
       "    }\n",
       "</style>\n",
       "<table border=\"1\" class=\"dataframe\">\n",
       "  <thead>\n",
       "    <tr style=\"text-align: right;\">\n",
       "      <th></th>\n",
       "      <th>Nombre</th>\n",
       "      <th>Edad</th>\n",
       "      <th>Sexo</th>\n",
       "    </tr>\n",
       "  </thead>\n",
       "  <tbody>\n",
       "    <tr>\n",
       "      <th>0</th>\n",
       "      <td>julio</td>\n",
       "      <td>30</td>\n",
       "      <td>M</td>\n",
       "    </tr>\n",
       "    <tr>\n",
       "      <th>1</th>\n",
       "      <td>julia</td>\n",
       "      <td>34</td>\n",
       "      <td>F</td>\n",
       "    </tr>\n",
       "    <tr>\n",
       "      <th>2</th>\n",
       "      <td>juli</td>\n",
       "      <td>37</td>\n",
       "      <td>M</td>\n",
       "    </tr>\n",
       "    <tr>\n",
       "      <th>3</th>\n",
       "      <td>julian</td>\n",
       "      <td>36</td>\n",
       "      <td>M</td>\n",
       "    </tr>\n",
       "  </tbody>\n",
       "</table>\n",
       "</div>"
      ],
      "text/plain": [
       "   Nombre  Edad Sexo\n",
       "0   julio    30    M\n",
       "1   julia    34    F\n",
       "2    juli    37    M\n",
       "3  julian    36    M"
      ]
     },
     "execution_count": 10,
     "metadata": {},
     "output_type": "execute_result"
    }
   ],
   "source": [
    "pd.DataFrame(data,columns=columns)"
   ]
  },
  {
   "cell_type": "code",
   "execution_count": 11,
   "metadata": {},
   "outputs": [
    {
     "data": {
      "text/html": [
       "<div>\n",
       "<style scoped>\n",
       "    .dataframe tbody tr th:only-of-type {\n",
       "        vertical-align: middle;\n",
       "    }\n",
       "\n",
       "    .dataframe tbody tr th {\n",
       "        vertical-align: top;\n",
       "    }\n",
       "\n",
       "    .dataframe thead th {\n",
       "        text-align: right;\n",
       "    }\n",
       "</style>\n",
       "<table border=\"1\" class=\"dataframe\">\n",
       "  <thead>\n",
       "    <tr style=\"text-align: right;\">\n",
       "      <th></th>\n",
       "      <th>Nombre</th>\n",
       "      <th>Edad</th>\n",
       "      <th>Sexo</th>\n",
       "    </tr>\n",
       "  </thead>\n",
       "  <tbody>\n",
       "    <tr>\n",
       "      <th>a</th>\n",
       "      <td>julio</td>\n",
       "      <td>30</td>\n",
       "      <td>M</td>\n",
       "    </tr>\n",
       "    <tr>\n",
       "      <th>b</th>\n",
       "      <td>julia</td>\n",
       "      <td>34</td>\n",
       "      <td>F</td>\n",
       "    </tr>\n",
       "    <tr>\n",
       "      <th>c</th>\n",
       "      <td>juli</td>\n",
       "      <td>37</td>\n",
       "      <td>M</td>\n",
       "    </tr>\n",
       "    <tr>\n",
       "      <th>d</th>\n",
       "      <td>julian</td>\n",
       "      <td>36</td>\n",
       "      <td>M</td>\n",
       "    </tr>\n",
       "  </tbody>\n",
       "</table>\n",
       "</div>"
      ],
      "text/plain": [
       "   Nombre  Edad Sexo\n",
       "a   julio    30    M\n",
       "b   julia    34    F\n",
       "c    juli    37    M\n",
       "d  julian    36    M"
      ]
     },
     "execution_count": 11,
     "metadata": {},
     "output_type": "execute_result"
    }
   ],
   "source": [
    "pd.DataFrame(data,indices,columns=columns)"
   ]
  },
  {
   "cell_type": "code",
   "execution_count": 12,
   "metadata": {},
   "outputs": [
    {
     "data": {
      "text/html": [
       "<div>\n",
       "<style scoped>\n",
       "    .dataframe tbody tr th:only-of-type {\n",
       "        vertical-align: middle;\n",
       "    }\n",
       "\n",
       "    .dataframe tbody tr th {\n",
       "        vertical-align: top;\n",
       "    }\n",
       "\n",
       "    .dataframe thead th {\n",
       "        text-align: right;\n",
       "    }\n",
       "</style>\n",
       "<table border=\"1\" class=\"dataframe\">\n",
       "  <thead>\n",
       "    <tr style=\"text-align: right;\">\n",
       "      <th></th>\n",
       "      <th>Nombre</th>\n",
       "      <th>Edad</th>\n",
       "    </tr>\n",
       "  </thead>\n",
       "  <tbody>\n",
       "    <tr>\n",
       "      <th>0</th>\n",
       "      <td>Tom</td>\n",
       "      <td>20</td>\n",
       "    </tr>\n",
       "    <tr>\n",
       "      <th>1</th>\n",
       "      <td>nick</td>\n",
       "      <td>21</td>\n",
       "    </tr>\n",
       "    <tr>\n",
       "      <th>2</th>\n",
       "      <td>krish</td>\n",
       "      <td>19</td>\n",
       "    </tr>\n",
       "    <tr>\n",
       "      <th>3</th>\n",
       "      <td>jack</td>\n",
       "      <td>18</td>\n",
       "    </tr>\n",
       "  </tbody>\n",
       "</table>\n",
       "</div>"
      ],
      "text/plain": [
       "  Nombre  Edad\n",
       "0    Tom    20\n",
       "1   nick    21\n",
       "2  krish    19\n",
       "3   jack    18"
      ]
     },
     "execution_count": 12,
     "metadata": {},
     "output_type": "execute_result"
    }
   ],
   "source": [
    "# usando diccionarios\n",
    "\n",
    "data = {'Nombre':['Tom', 'nick', 'krish', 'jack'], 'Edad':[20, 21, 19, 18]} \n",
    "\n",
    "pd.DataFrame(data)\n",
    "  "
   ]
  },
  {
   "cell_type": "code",
   "execution_count": 13,
   "metadata": {},
   "outputs": [
    {
     "data": {
      "text/html": [
       "<div>\n",
       "<style scoped>\n",
       "    .dataframe tbody tr th:only-of-type {\n",
       "        vertical-align: middle;\n",
       "    }\n",
       "\n",
       "    .dataframe tbody tr th {\n",
       "        vertical-align: top;\n",
       "    }\n",
       "\n",
       "    .dataframe thead th {\n",
       "        text-align: right;\n",
       "    }\n",
       "</style>\n",
       "<table border=\"1\" class=\"dataframe\">\n",
       "  <thead>\n",
       "    <tr style=\"text-align: right;\">\n",
       "      <th></th>\n",
       "      <th>Nombre</th>\n",
       "      <th>Edad</th>\n",
       "    </tr>\n",
       "  </thead>\n",
       "  <tbody>\n",
       "    <tr>\n",
       "      <th>a</th>\n",
       "      <td>Tom</td>\n",
       "      <td>20</td>\n",
       "    </tr>\n",
       "    <tr>\n",
       "      <th>b</th>\n",
       "      <td>nick</td>\n",
       "      <td>21</td>\n",
       "    </tr>\n",
       "    <tr>\n",
       "      <th>c</th>\n",
       "      <td>krish</td>\n",
       "      <td>19</td>\n",
       "    </tr>\n",
       "    <tr>\n",
       "      <th>d</th>\n",
       "      <td>jack</td>\n",
       "      <td>18</td>\n",
       "    </tr>\n",
       "  </tbody>\n",
       "</table>\n",
       "</div>"
      ],
      "text/plain": [
       "  Nombre  Edad\n",
       "a    Tom    20\n",
       "b   nick    21\n",
       "c  krish    19\n",
       "d   jack    18"
      ]
     },
     "execution_count": 13,
     "metadata": {},
     "output_type": "execute_result"
    }
   ],
   "source": [
    "pd.DataFrame(data,indices)"
   ]
  },
  {
   "cell_type": "code",
   "execution_count": null,
   "metadata": {},
   "outputs": [],
   "source": []
  },
  {
   "cell_type": "code",
   "execution_count": null,
   "metadata": {},
   "outputs": [],
   "source": [
    "# usamos numpy para crear un dataframe con numeros aleatorios"
   ]
  },
  {
   "cell_type": "code",
   "execution_count": 14,
   "metadata": {},
   "outputs": [
    {
     "data": {
      "text/plain": [
       "array([[0.5415878 , 0.55266684, 0.80625356, 0.14612342],\n",
       "       [0.46192211, 0.52298459, 0.22794569, 0.72042511],\n",
       "       [0.64551921, 0.85480629, 0.51046963, 0.32362971],\n",
       "       [0.93368794, 0.90568575, 0.54867702, 0.22696869],\n",
       "       [0.7028636 , 0.07733428, 0.81813327, 0.95023462]])"
      ]
     },
     "execution_count": 14,
     "metadata": {},
     "output_type": "execute_result"
    }
   ],
   "source": [
    "random_array = np.random.rand(5,4)\n",
    "random_array"
   ]
  },
  {
   "cell_type": "code",
   "execution_count": 15,
   "metadata": {},
   "outputs": [],
   "source": [
    "df = pd.DataFrame(random_array,index='A B C D E'.split(),columns='W X Y Z'.split())"
   ]
  },
  {
   "cell_type": "code",
   "execution_count": 16,
   "metadata": {},
   "outputs": [
    {
     "data": {
      "text/html": [
       "<div>\n",
       "<style scoped>\n",
       "    .dataframe tbody tr th:only-of-type {\n",
       "        vertical-align: middle;\n",
       "    }\n",
       "\n",
       "    .dataframe tbody tr th {\n",
       "        vertical-align: top;\n",
       "    }\n",
       "\n",
       "    .dataframe thead th {\n",
       "        text-align: right;\n",
       "    }\n",
       "</style>\n",
       "<table border=\"1\" class=\"dataframe\">\n",
       "  <thead>\n",
       "    <tr style=\"text-align: right;\">\n",
       "      <th></th>\n",
       "      <th>W</th>\n",
       "      <th>X</th>\n",
       "      <th>Y</th>\n",
       "      <th>Z</th>\n",
       "    </tr>\n",
       "  </thead>\n",
       "  <tbody>\n",
       "    <tr>\n",
       "      <th>A</th>\n",
       "      <td>0.541588</td>\n",
       "      <td>0.552667</td>\n",
       "      <td>0.806254</td>\n",
       "      <td>0.146123</td>\n",
       "    </tr>\n",
       "    <tr>\n",
       "      <th>B</th>\n",
       "      <td>0.461922</td>\n",
       "      <td>0.522985</td>\n",
       "      <td>0.227946</td>\n",
       "      <td>0.720425</td>\n",
       "    </tr>\n",
       "    <tr>\n",
       "      <th>C</th>\n",
       "      <td>0.645519</td>\n",
       "      <td>0.854806</td>\n",
       "      <td>0.510470</td>\n",
       "      <td>0.323630</td>\n",
       "    </tr>\n",
       "    <tr>\n",
       "      <th>D</th>\n",
       "      <td>0.933688</td>\n",
       "      <td>0.905686</td>\n",
       "      <td>0.548677</td>\n",
       "      <td>0.226969</td>\n",
       "    </tr>\n",
       "    <tr>\n",
       "      <th>E</th>\n",
       "      <td>0.702864</td>\n",
       "      <td>0.077334</td>\n",
       "      <td>0.818133</td>\n",
       "      <td>0.950235</td>\n",
       "    </tr>\n",
       "  </tbody>\n",
       "</table>\n",
       "</div>"
      ],
      "text/plain": [
       "          W         X         Y         Z\n",
       "A  0.541588  0.552667  0.806254  0.146123\n",
       "B  0.461922  0.522985  0.227946  0.720425\n",
       "C  0.645519  0.854806  0.510470  0.323630\n",
       "D  0.933688  0.905686  0.548677  0.226969\n",
       "E  0.702864  0.077334  0.818133  0.950235"
      ]
     },
     "execution_count": 16,
     "metadata": {},
     "output_type": "execute_result"
    }
   ],
   "source": [
    "df"
   ]
  },
  {
   "cell_type": "markdown",
   "metadata": {},
   "source": [
    "## Indexing\n",
    "\n",
    "Veamos varios metodos para agarrar datos de un DataFrame"
   ]
  },
  {
   "cell_type": "code",
   "execution_count": 18,
   "metadata": {},
   "outputs": [
    {
     "data": {
      "text/plain": [
       "A    0.541588\n",
       "B    0.461922\n",
       "C    0.645519\n",
       "D    0.933688\n",
       "E    0.702864\n",
       "Name: W, dtype: float64"
      ]
     },
     "execution_count": 18,
     "metadata": {},
     "output_type": "execute_result"
    }
   ],
   "source": [
    "# Agarramos todos los valores de una columna\n",
    "df['W']"
   ]
  },
  {
   "cell_type": "code",
   "execution_count": 188,
   "metadata": {},
   "outputs": [
    {
     "data": {
      "text/html": [
       "<div>\n",
       "<table border=\"1\" class=\"dataframe\">\n",
       "  <thead>\n",
       "    <tr style=\"text-align: right;\">\n",
       "      <th></th>\n",
       "      <th>W</th>\n",
       "      <th>Z</th>\n",
       "    </tr>\n",
       "  </thead>\n",
       "  <tbody>\n",
       "    <tr>\n",
       "      <th>A</th>\n",
       "      <td>2.706850</td>\n",
       "      <td>0.503826</td>\n",
       "    </tr>\n",
       "    <tr>\n",
       "      <th>B</th>\n",
       "      <td>0.651118</td>\n",
       "      <td>0.605965</td>\n",
       "    </tr>\n",
       "    <tr>\n",
       "      <th>C</th>\n",
       "      <td>-2.018168</td>\n",
       "      <td>-0.589001</td>\n",
       "    </tr>\n",
       "    <tr>\n",
       "      <th>D</th>\n",
       "      <td>0.188695</td>\n",
       "      <td>0.955057</td>\n",
       "    </tr>\n",
       "    <tr>\n",
       "      <th>E</th>\n",
       "      <td>0.190794</td>\n",
       "      <td>0.683509</td>\n",
       "    </tr>\n",
       "  </tbody>\n",
       "</table>\n",
       "</div>"
      ],
      "text/plain": [
       "          W         Z\n",
       "A  2.706850  0.503826\n",
       "B  0.651118  0.605965\n",
       "C -2.018168 -0.589001\n",
       "D  0.188695  0.955057\n",
       "E  0.190794  0.683509"
      ]
     },
     "execution_count": 188,
     "metadata": {},
     "output_type": "execute_result"
    }
   ],
   "source": [
    "# Podemos agarrar todos los valores de mas de una columna, pasando una lista de las columnas que queremos\n",
    "df[['W','Z']]"
   ]
  },
  {
   "cell_type": "code",
   "execution_count": 19,
   "metadata": {},
   "outputs": [
    {
     "data": {
      "text/plain": [
       "A    0.541588\n",
       "B    0.461922\n",
       "C    0.645519\n",
       "D    0.933688\n",
       "E    0.702864\n",
       "Name: W, dtype: float64"
      ]
     },
     "execution_count": 19,
     "metadata": {},
     "output_type": "execute_result"
    }
   ],
   "source": [
    "# Tambien podemos agarrar una columna de esta manera (NO SE RECOMIENDA)\n",
    "df.W"
   ]
  },
  {
   "cell_type": "markdown",
   "metadata": {},
   "source": [
    "**Vemos que las columnas de un df son Series**"
   ]
  },
  {
   "cell_type": "code",
   "execution_count": 20,
   "metadata": {},
   "outputs": [
    {
     "data": {
      "text/plain": [
       "pandas.core.series.Series"
      ]
     },
     "execution_count": 20,
     "metadata": {},
     "output_type": "execute_result"
    }
   ],
   "source": [
    "type(df['W'])"
   ]
  },
  {
   "cell_type": "code",
   "execution_count": null,
   "metadata": {},
   "outputs": [],
   "source": []
  },
  {
   "cell_type": "markdown",
   "metadata": {},
   "source": [
    "**Cambiamos el valor de los datos de una columna**"
   ]
  },
  {
   "cell_type": "code",
   "execution_count": 21,
   "metadata": {},
   "outputs": [],
   "source": [
    "# al igual que para numpy, usamos broadcasting\n",
    "\n",
    "df[\"W\"] = 999"
   ]
  },
  {
   "cell_type": "code",
   "execution_count": 22,
   "metadata": {},
   "outputs": [
    {
     "data": {
      "text/html": [
       "<div>\n",
       "<style scoped>\n",
       "    .dataframe tbody tr th:only-of-type {\n",
       "        vertical-align: middle;\n",
       "    }\n",
       "\n",
       "    .dataframe tbody tr th {\n",
       "        vertical-align: top;\n",
       "    }\n",
       "\n",
       "    .dataframe thead th {\n",
       "        text-align: right;\n",
       "    }\n",
       "</style>\n",
       "<table border=\"1\" class=\"dataframe\">\n",
       "  <thead>\n",
       "    <tr style=\"text-align: right;\">\n",
       "      <th></th>\n",
       "      <th>W</th>\n",
       "      <th>X</th>\n",
       "      <th>Y</th>\n",
       "      <th>Z</th>\n",
       "    </tr>\n",
       "  </thead>\n",
       "  <tbody>\n",
       "    <tr>\n",
       "      <th>A</th>\n",
       "      <td>999</td>\n",
       "      <td>0.552667</td>\n",
       "      <td>0.806254</td>\n",
       "      <td>0.146123</td>\n",
       "    </tr>\n",
       "    <tr>\n",
       "      <th>B</th>\n",
       "      <td>999</td>\n",
       "      <td>0.522985</td>\n",
       "      <td>0.227946</td>\n",
       "      <td>0.720425</td>\n",
       "    </tr>\n",
       "    <tr>\n",
       "      <th>C</th>\n",
       "      <td>999</td>\n",
       "      <td>0.854806</td>\n",
       "      <td>0.510470</td>\n",
       "      <td>0.323630</td>\n",
       "    </tr>\n",
       "    <tr>\n",
       "      <th>D</th>\n",
       "      <td>999</td>\n",
       "      <td>0.905686</td>\n",
       "      <td>0.548677</td>\n",
       "      <td>0.226969</td>\n",
       "    </tr>\n",
       "    <tr>\n",
       "      <th>E</th>\n",
       "      <td>999</td>\n",
       "      <td>0.077334</td>\n",
       "      <td>0.818133</td>\n",
       "      <td>0.950235</td>\n",
       "    </tr>\n",
       "  </tbody>\n",
       "</table>\n",
       "</div>"
      ],
      "text/plain": [
       "     W         X         Y         Z\n",
       "A  999  0.552667  0.806254  0.146123\n",
       "B  999  0.522985  0.227946  0.720425\n",
       "C  999  0.854806  0.510470  0.323630\n",
       "D  999  0.905686  0.548677  0.226969\n",
       "E  999  0.077334  0.818133  0.950235"
      ]
     },
     "execution_count": 22,
     "metadata": {},
     "output_type": "execute_result"
    }
   ],
   "source": [
    "df"
   ]
  },
  {
   "cell_type": "code",
   "execution_count": null,
   "metadata": {},
   "outputs": [],
   "source": []
  },
  {
   "cell_type": "markdown",
   "metadata": {},
   "source": [
    "**Creamos columnas nuevas**"
   ]
  },
  {
   "cell_type": "code",
   "execution_count": 50,
   "metadata": {},
   "outputs": [],
   "source": [
    "df[\"nueva_columna\"] = 5"
   ]
  },
  {
   "cell_type": "code",
   "execution_count": 51,
   "metadata": {},
   "outputs": [
    {
     "data": {
      "text/html": [
       "<div>\n",
       "<style scoped>\n",
       "    .dataframe tbody tr th:only-of-type {\n",
       "        vertical-align: middle;\n",
       "    }\n",
       "\n",
       "    .dataframe tbody tr th {\n",
       "        vertical-align: top;\n",
       "    }\n",
       "\n",
       "    .dataframe thead th {\n",
       "        text-align: right;\n",
       "    }\n",
       "</style>\n",
       "<table border=\"1\" class=\"dataframe\">\n",
       "  <thead>\n",
       "    <tr style=\"text-align: right;\">\n",
       "      <th></th>\n",
       "      <th>W</th>\n",
       "      <th>X</th>\n",
       "      <th>Y</th>\n",
       "      <th>Z</th>\n",
       "      <th>nueva_columna</th>\n",
       "      <th>new</th>\n",
       "    </tr>\n",
       "  </thead>\n",
       "  <tbody>\n",
       "    <tr>\n",
       "      <th>A</th>\n",
       "      <td>999</td>\n",
       "      <td>0.552667</td>\n",
       "      <td>0.806254</td>\n",
       "      <td>0.146123</td>\n",
       "      <td>5</td>\n",
       "      <td>805.447311</td>\n",
       "    </tr>\n",
       "    <tr>\n",
       "      <th>B</th>\n",
       "      <td>999</td>\n",
       "      <td>0.522985</td>\n",
       "      <td>0.227946</td>\n",
       "      <td>0.720425</td>\n",
       "      <td>5</td>\n",
       "      <td>227.717749</td>\n",
       "    </tr>\n",
       "    <tr>\n",
       "      <th>C</th>\n",
       "      <td>999</td>\n",
       "      <td>0.854806</td>\n",
       "      <td>0.510470</td>\n",
       "      <td>0.323630</td>\n",
       "      <td>5</td>\n",
       "      <td>509.959165</td>\n",
       "    </tr>\n",
       "    <tr>\n",
       "      <th>D</th>\n",
       "      <td>999</td>\n",
       "      <td>0.905686</td>\n",
       "      <td>0.548677</td>\n",
       "      <td>0.226969</td>\n",
       "      <td>5</td>\n",
       "      <td>548.128346</td>\n",
       "    </tr>\n",
       "    <tr>\n",
       "      <th>E</th>\n",
       "      <td>999</td>\n",
       "      <td>0.077334</td>\n",
       "      <td>0.818133</td>\n",
       "      <td>0.950235</td>\n",
       "      <td>5</td>\n",
       "      <td>817.315134</td>\n",
       "    </tr>\n",
       "  </tbody>\n",
       "</table>\n",
       "</div>"
      ],
      "text/plain": [
       "     W         X         Y         Z  nueva_columna         new\n",
       "A  999  0.552667  0.806254  0.146123              5  805.447311\n",
       "B  999  0.522985  0.227946  0.720425              5  227.717749\n",
       "C  999  0.854806  0.510470  0.323630              5  509.959165\n",
       "D  999  0.905686  0.548677  0.226969              5  548.128346\n",
       "E  999  0.077334  0.818133  0.950235              5  817.315134"
      ]
     },
     "execution_count": 51,
     "metadata": {},
     "output_type": "execute_result"
    }
   ],
   "source": [
    "df"
   ]
  },
  {
   "cell_type": "code",
   "execution_count": 29,
   "metadata": {},
   "outputs": [],
   "source": [
    "# creamos columna nueva con operacion entre columnas\n",
    "df['new'] = df['W'] + df['Y']"
   ]
  },
  {
   "cell_type": "code",
   "execution_count": 30,
   "metadata": {},
   "outputs": [
    {
     "data": {
      "text/html": [
       "<div>\n",
       "<style scoped>\n",
       "    .dataframe tbody tr th:only-of-type {\n",
       "        vertical-align: middle;\n",
       "    }\n",
       "\n",
       "    .dataframe tbody tr th {\n",
       "        vertical-align: top;\n",
       "    }\n",
       "\n",
       "    .dataframe thead th {\n",
       "        text-align: right;\n",
       "    }\n",
       "</style>\n",
       "<table border=\"1\" class=\"dataframe\">\n",
       "  <thead>\n",
       "    <tr style=\"text-align: right;\">\n",
       "      <th></th>\n",
       "      <th>W</th>\n",
       "      <th>X</th>\n",
       "      <th>Y</th>\n",
       "      <th>Z</th>\n",
       "      <th>nueva_columna</th>\n",
       "      <th>new</th>\n",
       "    </tr>\n",
       "  </thead>\n",
       "  <tbody>\n",
       "    <tr>\n",
       "      <th>A</th>\n",
       "      <td>999</td>\n",
       "      <td>0.552667</td>\n",
       "      <td>0.806254</td>\n",
       "      <td>0.146123</td>\n",
       "      <td>valor_nuevo</td>\n",
       "      <td>999.806254</td>\n",
       "    </tr>\n",
       "    <tr>\n",
       "      <th>B</th>\n",
       "      <td>999</td>\n",
       "      <td>0.522985</td>\n",
       "      <td>0.227946</td>\n",
       "      <td>0.720425</td>\n",
       "      <td>valor_nuevo</td>\n",
       "      <td>999.227946</td>\n",
       "    </tr>\n",
       "    <tr>\n",
       "      <th>C</th>\n",
       "      <td>999</td>\n",
       "      <td>0.854806</td>\n",
       "      <td>0.510470</td>\n",
       "      <td>0.323630</td>\n",
       "      <td>valor_nuevo</td>\n",
       "      <td>999.510470</td>\n",
       "    </tr>\n",
       "    <tr>\n",
       "      <th>D</th>\n",
       "      <td>999</td>\n",
       "      <td>0.905686</td>\n",
       "      <td>0.548677</td>\n",
       "      <td>0.226969</td>\n",
       "      <td>valor_nuevo</td>\n",
       "      <td>999.548677</td>\n",
       "    </tr>\n",
       "    <tr>\n",
       "      <th>E</th>\n",
       "      <td>999</td>\n",
       "      <td>0.077334</td>\n",
       "      <td>0.818133</td>\n",
       "      <td>0.950235</td>\n",
       "      <td>valor_nuevo</td>\n",
       "      <td>999.818133</td>\n",
       "    </tr>\n",
       "  </tbody>\n",
       "</table>\n",
       "</div>"
      ],
      "text/plain": [
       "     W         X         Y         Z nueva_columna         new\n",
       "A  999  0.552667  0.806254  0.146123   valor_nuevo  999.806254\n",
       "B  999  0.522985  0.227946  0.720425   valor_nuevo  999.227946\n",
       "C  999  0.854806  0.510470  0.323630   valor_nuevo  999.510470\n",
       "D  999  0.905686  0.548677  0.226969   valor_nuevo  999.548677\n",
       "E  999  0.077334  0.818133  0.950235   valor_nuevo  999.818133"
      ]
     },
     "execution_count": 30,
     "metadata": {},
     "output_type": "execute_result"
    }
   ],
   "source": [
    "df"
   ]
  },
  {
   "cell_type": "code",
   "execution_count": 31,
   "metadata": {},
   "outputs": [],
   "source": [
    "# podemos reasignar el valor de una columna ya creada\n",
    "df['new'] = df['W'] * df['Y']"
   ]
  },
  {
   "cell_type": "code",
   "execution_count": 32,
   "metadata": {},
   "outputs": [
    {
     "data": {
      "text/html": [
       "<div>\n",
       "<style scoped>\n",
       "    .dataframe tbody tr th:only-of-type {\n",
       "        vertical-align: middle;\n",
       "    }\n",
       "\n",
       "    .dataframe tbody tr th {\n",
       "        vertical-align: top;\n",
       "    }\n",
       "\n",
       "    .dataframe thead th {\n",
       "        text-align: right;\n",
       "    }\n",
       "</style>\n",
       "<table border=\"1\" class=\"dataframe\">\n",
       "  <thead>\n",
       "    <tr style=\"text-align: right;\">\n",
       "      <th></th>\n",
       "      <th>W</th>\n",
       "      <th>X</th>\n",
       "      <th>Y</th>\n",
       "      <th>Z</th>\n",
       "      <th>nueva_columna</th>\n",
       "      <th>new</th>\n",
       "    </tr>\n",
       "  </thead>\n",
       "  <tbody>\n",
       "    <tr>\n",
       "      <th>A</th>\n",
       "      <td>999</td>\n",
       "      <td>0.552667</td>\n",
       "      <td>0.806254</td>\n",
       "      <td>0.146123</td>\n",
       "      <td>valor_nuevo</td>\n",
       "      <td>805.447311</td>\n",
       "    </tr>\n",
       "    <tr>\n",
       "      <th>B</th>\n",
       "      <td>999</td>\n",
       "      <td>0.522985</td>\n",
       "      <td>0.227946</td>\n",
       "      <td>0.720425</td>\n",
       "      <td>valor_nuevo</td>\n",
       "      <td>227.717749</td>\n",
       "    </tr>\n",
       "    <tr>\n",
       "      <th>C</th>\n",
       "      <td>999</td>\n",
       "      <td>0.854806</td>\n",
       "      <td>0.510470</td>\n",
       "      <td>0.323630</td>\n",
       "      <td>valor_nuevo</td>\n",
       "      <td>509.959165</td>\n",
       "    </tr>\n",
       "    <tr>\n",
       "      <th>D</th>\n",
       "      <td>999</td>\n",
       "      <td>0.905686</td>\n",
       "      <td>0.548677</td>\n",
       "      <td>0.226969</td>\n",
       "      <td>valor_nuevo</td>\n",
       "      <td>548.128346</td>\n",
       "    </tr>\n",
       "    <tr>\n",
       "      <th>E</th>\n",
       "      <td>999</td>\n",
       "      <td>0.077334</td>\n",
       "      <td>0.818133</td>\n",
       "      <td>0.950235</td>\n",
       "      <td>valor_nuevo</td>\n",
       "      <td>817.315134</td>\n",
       "    </tr>\n",
       "  </tbody>\n",
       "</table>\n",
       "</div>"
      ],
      "text/plain": [
       "     W         X         Y         Z nueva_columna         new\n",
       "A  999  0.552667  0.806254  0.146123   valor_nuevo  805.447311\n",
       "B  999  0.522985  0.227946  0.720425   valor_nuevo  227.717749\n",
       "C  999  0.854806  0.510470  0.323630   valor_nuevo  509.959165\n",
       "D  999  0.905686  0.548677  0.226969   valor_nuevo  548.128346\n",
       "E  999  0.077334  0.818133  0.950235   valor_nuevo  817.315134"
      ]
     },
     "execution_count": 32,
     "metadata": {},
     "output_type": "execute_result"
    }
   ],
   "source": [
    "df"
   ]
  },
  {
   "cell_type": "code",
   "execution_count": null,
   "metadata": {},
   "outputs": [],
   "source": []
  },
  {
   "cell_type": "code",
   "execution_count": null,
   "metadata": {},
   "outputs": [],
   "source": []
  },
  {
   "cell_type": "markdown",
   "metadata": {},
   "source": [
    "**Eliminamos Columnas**"
   ]
  },
  {
   "cell_type": "code",
   "execution_count": 193,
   "metadata": {},
   "outputs": [
    {
     "data": {
      "text/html": [
       "<div>\n",
       "<table border=\"1\" class=\"dataframe\">\n",
       "  <thead>\n",
       "    <tr style=\"text-align: right;\">\n",
       "      <th></th>\n",
       "      <th>W</th>\n",
       "      <th>X</th>\n",
       "      <th>Y</th>\n",
       "      <th>Z</th>\n",
       "    </tr>\n",
       "  </thead>\n",
       "  <tbody>\n",
       "    <tr>\n",
       "      <th>A</th>\n",
       "      <td>2.706850</td>\n",
       "      <td>0.628133</td>\n",
       "      <td>0.907969</td>\n",
       "      <td>0.503826</td>\n",
       "    </tr>\n",
       "    <tr>\n",
       "      <th>B</th>\n",
       "      <td>0.651118</td>\n",
       "      <td>-0.319318</td>\n",
       "      <td>-0.848077</td>\n",
       "      <td>0.605965</td>\n",
       "    </tr>\n",
       "    <tr>\n",
       "      <th>C</th>\n",
       "      <td>-2.018168</td>\n",
       "      <td>0.740122</td>\n",
       "      <td>0.528813</td>\n",
       "      <td>-0.589001</td>\n",
       "    </tr>\n",
       "    <tr>\n",
       "      <th>D</th>\n",
       "      <td>0.188695</td>\n",
       "      <td>-0.758872</td>\n",
       "      <td>-0.933237</td>\n",
       "      <td>0.955057</td>\n",
       "    </tr>\n",
       "    <tr>\n",
       "      <th>E</th>\n",
       "      <td>0.190794</td>\n",
       "      <td>1.978757</td>\n",
       "      <td>2.605967</td>\n",
       "      <td>0.683509</td>\n",
       "    </tr>\n",
       "  </tbody>\n",
       "</table>\n",
       "</div>"
      ],
      "text/plain": [
       "          W         X         Y         Z\n",
       "A  2.706850  0.628133  0.907969  0.503826\n",
       "B  0.651118 -0.319318 -0.848077  0.605965\n",
       "C -2.018168  0.740122  0.528813 -0.589001\n",
       "D  0.188695 -0.758872 -0.933237  0.955057\n",
       "E  0.190794  1.978757  2.605967  0.683509"
      ]
     },
     "execution_count": 193,
     "metadata": {},
     "output_type": "execute_result"
    }
   ],
   "source": [
    "df.drop('new',axis=1)"
   ]
  },
  {
   "cell_type": "code",
   "execution_count": 194,
   "metadata": {},
   "outputs": [
    {
     "data": {
      "text/html": [
       "<div>\n",
       "<table border=\"1\" class=\"dataframe\">\n",
       "  <thead>\n",
       "    <tr style=\"text-align: right;\">\n",
       "      <th></th>\n",
       "      <th>W</th>\n",
       "      <th>X</th>\n",
       "      <th>Y</th>\n",
       "      <th>Z</th>\n",
       "      <th>new</th>\n",
       "    </tr>\n",
       "  </thead>\n",
       "  <tbody>\n",
       "    <tr>\n",
       "      <th>A</th>\n",
       "      <td>2.706850</td>\n",
       "      <td>0.628133</td>\n",
       "      <td>0.907969</td>\n",
       "      <td>0.503826</td>\n",
       "      <td>3.614819</td>\n",
       "    </tr>\n",
       "    <tr>\n",
       "      <th>B</th>\n",
       "      <td>0.651118</td>\n",
       "      <td>-0.319318</td>\n",
       "      <td>-0.848077</td>\n",
       "      <td>0.605965</td>\n",
       "      <td>-0.196959</td>\n",
       "    </tr>\n",
       "    <tr>\n",
       "      <th>C</th>\n",
       "      <td>-2.018168</td>\n",
       "      <td>0.740122</td>\n",
       "      <td>0.528813</td>\n",
       "      <td>-0.589001</td>\n",
       "      <td>-1.489355</td>\n",
       "    </tr>\n",
       "    <tr>\n",
       "      <th>D</th>\n",
       "      <td>0.188695</td>\n",
       "      <td>-0.758872</td>\n",
       "      <td>-0.933237</td>\n",
       "      <td>0.955057</td>\n",
       "      <td>-0.744542</td>\n",
       "    </tr>\n",
       "    <tr>\n",
       "      <th>E</th>\n",
       "      <td>0.190794</td>\n",
       "      <td>1.978757</td>\n",
       "      <td>2.605967</td>\n",
       "      <td>0.683509</td>\n",
       "      <td>2.796762</td>\n",
       "    </tr>\n",
       "  </tbody>\n",
       "</table>\n",
       "</div>"
      ],
      "text/plain": [
       "          W         X         Y         Z       new\n",
       "A  2.706850  0.628133  0.907969  0.503826  3.614819\n",
       "B  0.651118 -0.319318 -0.848077  0.605965 -0.196959\n",
       "C -2.018168  0.740122  0.528813 -0.589001 -1.489355\n",
       "D  0.188695 -0.758872 -0.933237  0.955057 -0.744542\n",
       "E  0.190794  1.978757  2.605967  0.683509  2.796762"
      ]
     },
     "execution_count": 194,
     "metadata": {},
     "output_type": "execute_result"
    }
   ],
   "source": [
    "# No es una operacion en el lugar, a menos que lo especifiquemos\n",
    "df"
   ]
  },
  {
   "cell_type": "code",
   "execution_count": 195,
   "metadata": {
    "collapsed": true
   },
   "outputs": [],
   "source": [
    "df.drop('new',axis=1,inplace=True)"
   ]
  },
  {
   "cell_type": "code",
   "execution_count": 196,
   "metadata": {},
   "outputs": [
    {
     "data": {
      "text/html": [
       "<div>\n",
       "<table border=\"1\" class=\"dataframe\">\n",
       "  <thead>\n",
       "    <tr style=\"text-align: right;\">\n",
       "      <th></th>\n",
       "      <th>W</th>\n",
       "      <th>X</th>\n",
       "      <th>Y</th>\n",
       "      <th>Z</th>\n",
       "    </tr>\n",
       "  </thead>\n",
       "  <tbody>\n",
       "    <tr>\n",
       "      <th>A</th>\n",
       "      <td>2.706850</td>\n",
       "      <td>0.628133</td>\n",
       "      <td>0.907969</td>\n",
       "      <td>0.503826</td>\n",
       "    </tr>\n",
       "    <tr>\n",
       "      <th>B</th>\n",
       "      <td>0.651118</td>\n",
       "      <td>-0.319318</td>\n",
       "      <td>-0.848077</td>\n",
       "      <td>0.605965</td>\n",
       "    </tr>\n",
       "    <tr>\n",
       "      <th>C</th>\n",
       "      <td>-2.018168</td>\n",
       "      <td>0.740122</td>\n",
       "      <td>0.528813</td>\n",
       "      <td>-0.589001</td>\n",
       "    </tr>\n",
       "    <tr>\n",
       "      <th>D</th>\n",
       "      <td>0.188695</td>\n",
       "      <td>-0.758872</td>\n",
       "      <td>-0.933237</td>\n",
       "      <td>0.955057</td>\n",
       "    </tr>\n",
       "    <tr>\n",
       "      <th>E</th>\n",
       "      <td>0.190794</td>\n",
       "      <td>1.978757</td>\n",
       "      <td>2.605967</td>\n",
       "      <td>0.683509</td>\n",
       "    </tr>\n",
       "  </tbody>\n",
       "</table>\n",
       "</div>"
      ],
      "text/plain": [
       "          W         X         Y         Z\n",
       "A  2.706850  0.628133  0.907969  0.503826\n",
       "B  0.651118 -0.319318 -0.848077  0.605965\n",
       "C -2.018168  0.740122  0.528813 -0.589001\n",
       "D  0.188695 -0.758872 -0.933237  0.955057\n",
       "E  0.190794  1.978757  2.605967  0.683509"
      ]
     },
     "execution_count": 196,
     "metadata": {},
     "output_type": "execute_result"
    }
   ],
   "source": [
    "df"
   ]
  },
  {
   "cell_type": "markdown",
   "metadata": {},
   "source": [
    "Tambien podemos eliminar filas de esta manera:"
   ]
  },
  {
   "cell_type": "code",
   "execution_count": 33,
   "metadata": {},
   "outputs": [
    {
     "data": {
      "text/html": [
       "<div>\n",
       "<style scoped>\n",
       "    .dataframe tbody tr th:only-of-type {\n",
       "        vertical-align: middle;\n",
       "    }\n",
       "\n",
       "    .dataframe tbody tr th {\n",
       "        vertical-align: top;\n",
       "    }\n",
       "\n",
       "    .dataframe thead th {\n",
       "        text-align: right;\n",
       "    }\n",
       "</style>\n",
       "<table border=\"1\" class=\"dataframe\">\n",
       "  <thead>\n",
       "    <tr style=\"text-align: right;\">\n",
       "      <th></th>\n",
       "      <th>W</th>\n",
       "      <th>X</th>\n",
       "      <th>Y</th>\n",
       "      <th>Z</th>\n",
       "      <th>nueva_columna</th>\n",
       "      <th>new</th>\n",
       "    </tr>\n",
       "  </thead>\n",
       "  <tbody>\n",
       "    <tr>\n",
       "      <th>A</th>\n",
       "      <td>999</td>\n",
       "      <td>0.552667</td>\n",
       "      <td>0.806254</td>\n",
       "      <td>0.146123</td>\n",
       "      <td>valor_nuevo</td>\n",
       "      <td>805.447311</td>\n",
       "    </tr>\n",
       "    <tr>\n",
       "      <th>B</th>\n",
       "      <td>999</td>\n",
       "      <td>0.522985</td>\n",
       "      <td>0.227946</td>\n",
       "      <td>0.720425</td>\n",
       "      <td>valor_nuevo</td>\n",
       "      <td>227.717749</td>\n",
       "    </tr>\n",
       "    <tr>\n",
       "      <th>C</th>\n",
       "      <td>999</td>\n",
       "      <td>0.854806</td>\n",
       "      <td>0.510470</td>\n",
       "      <td>0.323630</td>\n",
       "      <td>valor_nuevo</td>\n",
       "      <td>509.959165</td>\n",
       "    </tr>\n",
       "    <tr>\n",
       "      <th>D</th>\n",
       "      <td>999</td>\n",
       "      <td>0.905686</td>\n",
       "      <td>0.548677</td>\n",
       "      <td>0.226969</td>\n",
       "      <td>valor_nuevo</td>\n",
       "      <td>548.128346</td>\n",
       "    </tr>\n",
       "  </tbody>\n",
       "</table>\n",
       "</div>"
      ],
      "text/plain": [
       "     W         X         Y         Z nueva_columna         new\n",
       "A  999  0.552667  0.806254  0.146123   valor_nuevo  805.447311\n",
       "B  999  0.522985  0.227946  0.720425   valor_nuevo  227.717749\n",
       "C  999  0.854806  0.510470  0.323630   valor_nuevo  509.959165\n",
       "D  999  0.905686  0.548677  0.226969   valor_nuevo  548.128346"
      ]
     },
     "execution_count": 33,
     "metadata": {},
     "output_type": "execute_result"
    }
   ],
   "source": [
    "df.drop('E',axis=0)"
   ]
  },
  {
   "cell_type": "code",
   "execution_count": 34,
   "metadata": {},
   "outputs": [
    {
     "data": {
      "text/html": [
       "<div>\n",
       "<style scoped>\n",
       "    .dataframe tbody tr th:only-of-type {\n",
       "        vertical-align: middle;\n",
       "    }\n",
       "\n",
       "    .dataframe tbody tr th {\n",
       "        vertical-align: top;\n",
       "    }\n",
       "\n",
       "    .dataframe thead th {\n",
       "        text-align: right;\n",
       "    }\n",
       "</style>\n",
       "<table border=\"1\" class=\"dataframe\">\n",
       "  <thead>\n",
       "    <tr style=\"text-align: right;\">\n",
       "      <th></th>\n",
       "      <th>W</th>\n",
       "      <th>X</th>\n",
       "      <th>Y</th>\n",
       "      <th>Z</th>\n",
       "      <th>nueva_columna</th>\n",
       "      <th>new</th>\n",
       "    </tr>\n",
       "  </thead>\n",
       "  <tbody>\n",
       "    <tr>\n",
       "      <th>A</th>\n",
       "      <td>999</td>\n",
       "      <td>0.552667</td>\n",
       "      <td>0.806254</td>\n",
       "      <td>0.146123</td>\n",
       "      <td>valor_nuevo</td>\n",
       "      <td>805.447311</td>\n",
       "    </tr>\n",
       "    <tr>\n",
       "      <th>B</th>\n",
       "      <td>999</td>\n",
       "      <td>0.522985</td>\n",
       "      <td>0.227946</td>\n",
       "      <td>0.720425</td>\n",
       "      <td>valor_nuevo</td>\n",
       "      <td>227.717749</td>\n",
       "    </tr>\n",
       "    <tr>\n",
       "      <th>C</th>\n",
       "      <td>999</td>\n",
       "      <td>0.854806</td>\n",
       "      <td>0.510470</td>\n",
       "      <td>0.323630</td>\n",
       "      <td>valor_nuevo</td>\n",
       "      <td>509.959165</td>\n",
       "    </tr>\n",
       "    <tr>\n",
       "      <th>D</th>\n",
       "      <td>999</td>\n",
       "      <td>0.905686</td>\n",
       "      <td>0.548677</td>\n",
       "      <td>0.226969</td>\n",
       "      <td>valor_nuevo</td>\n",
       "      <td>548.128346</td>\n",
       "    </tr>\n",
       "    <tr>\n",
       "      <th>E</th>\n",
       "      <td>999</td>\n",
       "      <td>0.077334</td>\n",
       "      <td>0.818133</td>\n",
       "      <td>0.950235</td>\n",
       "      <td>valor_nuevo</td>\n",
       "      <td>817.315134</td>\n",
       "    </tr>\n",
       "  </tbody>\n",
       "</table>\n",
       "</div>"
      ],
      "text/plain": [
       "     W         X         Y         Z nueva_columna         new\n",
       "A  999  0.552667  0.806254  0.146123   valor_nuevo  805.447311\n",
       "B  999  0.522985  0.227946  0.720425   valor_nuevo  227.717749\n",
       "C  999  0.854806  0.510470  0.323630   valor_nuevo  509.959165\n",
       "D  999  0.905686  0.548677  0.226969   valor_nuevo  548.128346\n",
       "E  999  0.077334  0.818133  0.950235   valor_nuevo  817.315134"
      ]
     },
     "execution_count": 34,
     "metadata": {},
     "output_type": "execute_result"
    }
   ],
   "source": [
    "df"
   ]
  },
  {
   "cell_type": "code",
   "execution_count": null,
   "metadata": {},
   "outputs": [],
   "source": []
  },
  {
   "cell_type": "markdown",
   "metadata": {},
   "source": [
    "**Seleccionando Filas del DataFrame**\n",
    "\n",
    "Para ello podemos utilizar dos metodos, el .loc o el .iloc\n",
    "\n",
    "`.loc[]` selecciona filas (y columnas) por la etiqueta de las mismas\n",
    "\n",
    "`.iloc[]` seleccionas filas (y columnas) por la posicion de las mismas"
   ]
  },
  {
   "cell_type": "code",
   "execution_count": 36,
   "metadata": {},
   "outputs": [
    {
     "data": {
      "text/plain": [
       "W                        999\n",
       "X                   0.552667\n",
       "Y                   0.806254\n",
       "Z                   0.146123\n",
       "nueva_columna    valor_nuevo\n",
       "new                  805.447\n",
       "Name: A, dtype: object"
      ]
     },
     "execution_count": 36,
     "metadata": {},
     "output_type": "execute_result"
    }
   ],
   "source": [
    "# con loc\n",
    "df.loc['A']"
   ]
  },
  {
   "cell_type": "code",
   "execution_count": 37,
   "metadata": {},
   "outputs": [
    {
     "data": {
      "text/plain": [
       "W                        999\n",
       "X                   0.854806\n",
       "Y                    0.51047\n",
       "Z                    0.32363\n",
       "nueva_columna    valor_nuevo\n",
       "new                  509.959\n",
       "Name: C, dtype: object"
      ]
     },
     "execution_count": 37,
     "metadata": {},
     "output_type": "execute_result"
    }
   ],
   "source": [
    "# con iloc\n",
    "df.iloc[2]"
   ]
  },
  {
   "cell_type": "code",
   "execution_count": 38,
   "metadata": {},
   "outputs": [
    {
     "data": {
      "text/html": [
       "<div>\n",
       "<style scoped>\n",
       "    .dataframe tbody tr th:only-of-type {\n",
       "        vertical-align: middle;\n",
       "    }\n",
       "\n",
       "    .dataframe tbody tr th {\n",
       "        vertical-align: top;\n",
       "    }\n",
       "\n",
       "    .dataframe thead th {\n",
       "        text-align: right;\n",
       "    }\n",
       "</style>\n",
       "<table border=\"1\" class=\"dataframe\">\n",
       "  <thead>\n",
       "    <tr style=\"text-align: right;\">\n",
       "      <th></th>\n",
       "      <th>W</th>\n",
       "      <th>X</th>\n",
       "      <th>Y</th>\n",
       "      <th>Z</th>\n",
       "      <th>nueva_columna</th>\n",
       "      <th>new</th>\n",
       "    </tr>\n",
       "  </thead>\n",
       "  <tbody>\n",
       "    <tr>\n",
       "      <th>A</th>\n",
       "      <td>999</td>\n",
       "      <td>0.552667</td>\n",
       "      <td>0.806254</td>\n",
       "      <td>0.146123</td>\n",
       "      <td>valor_nuevo</td>\n",
       "      <td>805.447311</td>\n",
       "    </tr>\n",
       "    <tr>\n",
       "      <th>D</th>\n",
       "      <td>999</td>\n",
       "      <td>0.905686</td>\n",
       "      <td>0.548677</td>\n",
       "      <td>0.226969</td>\n",
       "      <td>valor_nuevo</td>\n",
       "      <td>548.128346</td>\n",
       "    </tr>\n",
       "  </tbody>\n",
       "</table>\n",
       "</div>"
      ],
      "text/plain": [
       "     W         X         Y         Z nueva_columna         new\n",
       "A  999  0.552667  0.806254  0.146123   valor_nuevo  805.447311\n",
       "D  999  0.905686  0.548677  0.226969   valor_nuevo  548.128346"
      ]
     },
     "execution_count": 38,
     "metadata": {},
     "output_type": "execute_result"
    }
   ],
   "source": [
    "# si quiero seleccionar mas de una fila puedo usar el fancy indexing de numpy\n",
    "\n",
    "df.loc[[\"A\",\"D\"]]"
   ]
  },
  {
   "cell_type": "code",
   "execution_count": 39,
   "metadata": {},
   "outputs": [
    {
     "data": {
      "text/html": [
       "<div>\n",
       "<style scoped>\n",
       "    .dataframe tbody tr th:only-of-type {\n",
       "        vertical-align: middle;\n",
       "    }\n",
       "\n",
       "    .dataframe tbody tr th {\n",
       "        vertical-align: top;\n",
       "    }\n",
       "\n",
       "    .dataframe thead th {\n",
       "        text-align: right;\n",
       "    }\n",
       "</style>\n",
       "<table border=\"1\" class=\"dataframe\">\n",
       "  <thead>\n",
       "    <tr style=\"text-align: right;\">\n",
       "      <th></th>\n",
       "      <th>W</th>\n",
       "      <th>X</th>\n",
       "      <th>Y</th>\n",
       "      <th>Z</th>\n",
       "      <th>nueva_columna</th>\n",
       "      <th>new</th>\n",
       "    </tr>\n",
       "  </thead>\n",
       "  <tbody>\n",
       "    <tr>\n",
       "      <th>A</th>\n",
       "      <td>999</td>\n",
       "      <td>0.552667</td>\n",
       "      <td>0.806254</td>\n",
       "      <td>0.146123</td>\n",
       "      <td>valor_nuevo</td>\n",
       "      <td>805.447311</td>\n",
       "    </tr>\n",
       "    <tr>\n",
       "      <th>D</th>\n",
       "      <td>999</td>\n",
       "      <td>0.905686</td>\n",
       "      <td>0.548677</td>\n",
       "      <td>0.226969</td>\n",
       "      <td>valor_nuevo</td>\n",
       "      <td>548.128346</td>\n",
       "    </tr>\n",
       "  </tbody>\n",
       "</table>\n",
       "</div>"
      ],
      "text/plain": [
       "     W         X         Y         Z nueva_columna         new\n",
       "A  999  0.552667  0.806254  0.146123   valor_nuevo  805.447311\n",
       "D  999  0.905686  0.548677  0.226969   valor_nuevo  548.128346"
      ]
     },
     "execution_count": 39,
     "metadata": {},
     "output_type": "execute_result"
    }
   ],
   "source": [
    "df.iloc[[0,3]]"
   ]
  },
  {
   "cell_type": "markdown",
   "metadata": {},
   "source": [
    "**Igual que en Numpy, puedo seleccionar filas y columnas**"
   ]
  },
  {
   "cell_type": "code",
   "execution_count": 40,
   "metadata": {},
   "outputs": [
    {
     "data": {
      "text/plain": [
       "0.2279456942479382"
      ]
     },
     "execution_count": 40,
     "metadata": {},
     "output_type": "execute_result"
    }
   ],
   "source": [
    "df.loc['B','Y']"
   ]
  },
  {
   "cell_type": "code",
   "execution_count": 41,
   "metadata": {},
   "outputs": [
    {
     "data": {
      "text/html": [
       "<div>\n",
       "<style scoped>\n",
       "    .dataframe tbody tr th:only-of-type {\n",
       "        vertical-align: middle;\n",
       "    }\n",
       "\n",
       "    .dataframe tbody tr th {\n",
       "        vertical-align: top;\n",
       "    }\n",
       "\n",
       "    .dataframe thead th {\n",
       "        text-align: right;\n",
       "    }\n",
       "</style>\n",
       "<table border=\"1\" class=\"dataframe\">\n",
       "  <thead>\n",
       "    <tr style=\"text-align: right;\">\n",
       "      <th></th>\n",
       "      <th>W</th>\n",
       "      <th>Y</th>\n",
       "    </tr>\n",
       "  </thead>\n",
       "  <tbody>\n",
       "    <tr>\n",
       "      <th>A</th>\n",
       "      <td>999</td>\n",
       "      <td>0.806254</td>\n",
       "    </tr>\n",
       "    <tr>\n",
       "      <th>B</th>\n",
       "      <td>999</td>\n",
       "      <td>0.227946</td>\n",
       "    </tr>\n",
       "  </tbody>\n",
       "</table>\n",
       "</div>"
      ],
      "text/plain": [
       "     W         Y\n",
       "A  999  0.806254\n",
       "B  999  0.227946"
      ]
     },
     "execution_count": 41,
     "metadata": {},
     "output_type": "execute_result"
    }
   ],
   "source": [
    "df.loc[['A','B'],['W','Y']]"
   ]
  },
  {
   "cell_type": "markdown",
   "metadata": {},
   "source": [
    "### Seleccion por condiciones (filtrado)\n",
    "\n",
    "Al igual que en Numpy, podemos hacer una seleccion con condiciones, creando la mascara.\n",
    "\n",
    "Dicha seleccion puede ser a nivel del dataframe o a nivel de alguna columna.\n"
   ]
  },
  {
   "cell_type": "code",
   "execution_count": 48,
   "metadata": {},
   "outputs": [
    {
     "data": {
      "text/html": [
       "<div>\n",
       "<style scoped>\n",
       "    .dataframe tbody tr th:only-of-type {\n",
       "        vertical-align: middle;\n",
       "    }\n",
       "\n",
       "    .dataframe tbody tr th {\n",
       "        vertical-align: top;\n",
       "    }\n",
       "\n",
       "    .dataframe thead th {\n",
       "        text-align: right;\n",
       "    }\n",
       "</style>\n",
       "<table border=\"1\" class=\"dataframe\">\n",
       "  <thead>\n",
       "    <tr style=\"text-align: right;\">\n",
       "      <th></th>\n",
       "      <th>W</th>\n",
       "      <th>X</th>\n",
       "      <th>Y</th>\n",
       "      <th>Z</th>\n",
       "      <th>nueva_columna</th>\n",
       "      <th>new</th>\n",
       "    </tr>\n",
       "  </thead>\n",
       "  <tbody>\n",
       "    <tr>\n",
       "      <th>A</th>\n",
       "      <td>999</td>\n",
       "      <td>0.552667</td>\n",
       "      <td>0.806254</td>\n",
       "      <td>0.146123</td>\n",
       "      <td>valor_nuevo</td>\n",
       "      <td>805.447311</td>\n",
       "    </tr>\n",
       "    <tr>\n",
       "      <th>B</th>\n",
       "      <td>999</td>\n",
       "      <td>0.522985</td>\n",
       "      <td>0.227946</td>\n",
       "      <td>0.720425</td>\n",
       "      <td>valor_nuevo</td>\n",
       "      <td>227.717749</td>\n",
       "    </tr>\n",
       "    <tr>\n",
       "      <th>C</th>\n",
       "      <td>999</td>\n",
       "      <td>0.854806</td>\n",
       "      <td>0.510470</td>\n",
       "      <td>0.323630</td>\n",
       "      <td>valor_nuevo</td>\n",
       "      <td>509.959165</td>\n",
       "    </tr>\n",
       "    <tr>\n",
       "      <th>D</th>\n",
       "      <td>999</td>\n",
       "      <td>0.905686</td>\n",
       "      <td>0.548677</td>\n",
       "      <td>0.226969</td>\n",
       "      <td>valor_nuevo</td>\n",
       "      <td>548.128346</td>\n",
       "    </tr>\n",
       "    <tr>\n",
       "      <th>E</th>\n",
       "      <td>999</td>\n",
       "      <td>0.077334</td>\n",
       "      <td>0.818133</td>\n",
       "      <td>0.950235</td>\n",
       "      <td>valor_nuevo</td>\n",
       "      <td>817.315134</td>\n",
       "    </tr>\n",
       "  </tbody>\n",
       "</table>\n",
       "</div>"
      ],
      "text/plain": [
       "     W         X         Y         Z nueva_columna         new\n",
       "A  999  0.552667  0.806254  0.146123   valor_nuevo  805.447311\n",
       "B  999  0.522985  0.227946  0.720425   valor_nuevo  227.717749\n",
       "C  999  0.854806  0.510470  0.323630   valor_nuevo  509.959165\n",
       "D  999  0.905686  0.548677  0.226969   valor_nuevo  548.128346\n",
       "E  999  0.077334  0.818133  0.950235   valor_nuevo  817.315134"
      ]
     },
     "execution_count": 48,
     "metadata": {},
     "output_type": "execute_result"
    }
   ],
   "source": [
    "df"
   ]
  },
  {
   "cell_type": "code",
   "execution_count": 52,
   "metadata": {},
   "outputs": [
    {
     "data": {
      "text/html": [
       "<div>\n",
       "<style scoped>\n",
       "    .dataframe tbody tr th:only-of-type {\n",
       "        vertical-align: middle;\n",
       "    }\n",
       "\n",
       "    .dataframe tbody tr th {\n",
       "        vertical-align: top;\n",
       "    }\n",
       "\n",
       "    .dataframe thead th {\n",
       "        text-align: right;\n",
       "    }\n",
       "</style>\n",
       "<table border=\"1\" class=\"dataframe\">\n",
       "  <thead>\n",
       "    <tr style=\"text-align: right;\">\n",
       "      <th></th>\n",
       "      <th>W</th>\n",
       "      <th>X</th>\n",
       "      <th>Y</th>\n",
       "      <th>Z</th>\n",
       "      <th>nueva_columna</th>\n",
       "      <th>new</th>\n",
       "    </tr>\n",
       "  </thead>\n",
       "  <tbody>\n",
       "    <tr>\n",
       "      <th>A</th>\n",
       "      <td>True</td>\n",
       "      <td>True</td>\n",
       "      <td>True</td>\n",
       "      <td>False</td>\n",
       "      <td>True</td>\n",
       "      <td>True</td>\n",
       "    </tr>\n",
       "    <tr>\n",
       "      <th>B</th>\n",
       "      <td>True</td>\n",
       "      <td>True</td>\n",
       "      <td>False</td>\n",
       "      <td>True</td>\n",
       "      <td>True</td>\n",
       "      <td>True</td>\n",
       "    </tr>\n",
       "    <tr>\n",
       "      <th>C</th>\n",
       "      <td>True</td>\n",
       "      <td>True</td>\n",
       "      <td>True</td>\n",
       "      <td>False</td>\n",
       "      <td>True</td>\n",
       "      <td>True</td>\n",
       "    </tr>\n",
       "    <tr>\n",
       "      <th>D</th>\n",
       "      <td>True</td>\n",
       "      <td>True</td>\n",
       "      <td>True</td>\n",
       "      <td>False</td>\n",
       "      <td>True</td>\n",
       "      <td>True</td>\n",
       "    </tr>\n",
       "    <tr>\n",
       "      <th>E</th>\n",
       "      <td>True</td>\n",
       "      <td>False</td>\n",
       "      <td>True</td>\n",
       "      <td>True</td>\n",
       "      <td>True</td>\n",
       "      <td>True</td>\n",
       "    </tr>\n",
       "  </tbody>\n",
       "</table>\n",
       "</div>"
      ],
      "text/plain": [
       "      W      X      Y      Z  nueva_columna   new\n",
       "A  True   True   True  False           True  True\n",
       "B  True   True  False   True           True  True\n",
       "C  True   True   True  False           True  True\n",
       "D  True   True   True  False           True  True\n",
       "E  True  False   True   True           True  True"
      ]
     },
     "execution_count": 52,
     "metadata": {},
     "output_type": "execute_result"
    }
   ],
   "source": [
    "df>0.5"
   ]
  },
  {
   "cell_type": "code",
   "execution_count": 53,
   "metadata": {},
   "outputs": [
    {
     "data": {
      "text/html": [
       "<div>\n",
       "<style scoped>\n",
       "    .dataframe tbody tr th:only-of-type {\n",
       "        vertical-align: middle;\n",
       "    }\n",
       "\n",
       "    .dataframe tbody tr th {\n",
       "        vertical-align: top;\n",
       "    }\n",
       "\n",
       "    .dataframe thead th {\n",
       "        text-align: right;\n",
       "    }\n",
       "</style>\n",
       "<table border=\"1\" class=\"dataframe\">\n",
       "  <thead>\n",
       "    <tr style=\"text-align: right;\">\n",
       "      <th></th>\n",
       "      <th>W</th>\n",
       "      <th>X</th>\n",
       "      <th>Y</th>\n",
       "      <th>Z</th>\n",
       "      <th>nueva_columna</th>\n",
       "      <th>new</th>\n",
       "    </tr>\n",
       "  </thead>\n",
       "  <tbody>\n",
       "    <tr>\n",
       "      <th>A</th>\n",
       "      <td>999</td>\n",
       "      <td>0.552667</td>\n",
       "      <td>0.806254</td>\n",
       "      <td>NaN</td>\n",
       "      <td>5</td>\n",
       "      <td>805.447311</td>\n",
       "    </tr>\n",
       "    <tr>\n",
       "      <th>B</th>\n",
       "      <td>999</td>\n",
       "      <td>0.522985</td>\n",
       "      <td>NaN</td>\n",
       "      <td>0.720425</td>\n",
       "      <td>5</td>\n",
       "      <td>227.717749</td>\n",
       "    </tr>\n",
       "    <tr>\n",
       "      <th>C</th>\n",
       "      <td>999</td>\n",
       "      <td>0.854806</td>\n",
       "      <td>0.510470</td>\n",
       "      <td>NaN</td>\n",
       "      <td>5</td>\n",
       "      <td>509.959165</td>\n",
       "    </tr>\n",
       "    <tr>\n",
       "      <th>D</th>\n",
       "      <td>999</td>\n",
       "      <td>0.905686</td>\n",
       "      <td>0.548677</td>\n",
       "      <td>NaN</td>\n",
       "      <td>5</td>\n",
       "      <td>548.128346</td>\n",
       "    </tr>\n",
       "    <tr>\n",
       "      <th>E</th>\n",
       "      <td>999</td>\n",
       "      <td>NaN</td>\n",
       "      <td>0.818133</td>\n",
       "      <td>0.950235</td>\n",
       "      <td>5</td>\n",
       "      <td>817.315134</td>\n",
       "    </tr>\n",
       "  </tbody>\n",
       "</table>\n",
       "</div>"
      ],
      "text/plain": [
       "     W         X         Y         Z  nueva_columna         new\n",
       "A  999  0.552667  0.806254       NaN              5  805.447311\n",
       "B  999  0.522985       NaN  0.720425              5  227.717749\n",
       "C  999  0.854806  0.510470       NaN              5  509.959165\n",
       "D  999  0.905686  0.548677       NaN              5  548.128346\n",
       "E  999       NaN  0.818133  0.950235              5  817.315134"
      ]
     },
     "execution_count": 53,
     "metadata": {},
     "output_type": "execute_result"
    }
   ],
   "source": [
    "df[df>0.5]"
   ]
  },
  {
   "cell_type": "code",
   "execution_count": 54,
   "metadata": {},
   "outputs": [
    {
     "data": {
      "text/plain": [
       "A    False\n",
       "B     True\n",
       "C    False\n",
       "D    False\n",
       "E     True\n",
       "Name: Z, dtype: bool"
      ]
     },
     "execution_count": 54,
     "metadata": {},
     "output_type": "execute_result"
    }
   ],
   "source": [
    "df['Z']>0.5"
   ]
  },
  {
   "cell_type": "code",
   "execution_count": 47,
   "metadata": {
    "scrolled": true
   },
   "outputs": [
    {
     "data": {
      "text/html": [
       "<div>\n",
       "<style scoped>\n",
       "    .dataframe tbody tr th:only-of-type {\n",
       "        vertical-align: middle;\n",
       "    }\n",
       "\n",
       "    .dataframe tbody tr th {\n",
       "        vertical-align: top;\n",
       "    }\n",
       "\n",
       "    .dataframe thead th {\n",
       "        text-align: right;\n",
       "    }\n",
       "</style>\n",
       "<table border=\"1\" class=\"dataframe\">\n",
       "  <thead>\n",
       "    <tr style=\"text-align: right;\">\n",
       "      <th></th>\n",
       "      <th>W</th>\n",
       "      <th>X</th>\n",
       "      <th>Y</th>\n",
       "      <th>Z</th>\n",
       "      <th>nueva_columna</th>\n",
       "      <th>new</th>\n",
       "    </tr>\n",
       "  </thead>\n",
       "  <tbody>\n",
       "    <tr>\n",
       "      <th>B</th>\n",
       "      <td>999</td>\n",
       "      <td>0.522985</td>\n",
       "      <td>0.227946</td>\n",
       "      <td>0.720425</td>\n",
       "      <td>valor_nuevo</td>\n",
       "      <td>227.717749</td>\n",
       "    </tr>\n",
       "    <tr>\n",
       "      <th>E</th>\n",
       "      <td>999</td>\n",
       "      <td>0.077334</td>\n",
       "      <td>0.818133</td>\n",
       "      <td>0.950235</td>\n",
       "      <td>valor_nuevo</td>\n",
       "      <td>817.315134</td>\n",
       "    </tr>\n",
       "  </tbody>\n",
       "</table>\n",
       "</div>"
      ],
      "text/plain": [
       "     W         X         Y         Z nueva_columna         new\n",
       "B  999  0.522985  0.227946  0.720425   valor_nuevo  227.717749\n",
       "E  999  0.077334  0.818133  0.950235   valor_nuevo  817.315134"
      ]
     },
     "execution_count": 47,
     "metadata": {},
     "output_type": "execute_result"
    }
   ],
   "source": [
    "df[df['Z']>0.5]"
   ]
  },
  {
   "cell_type": "code",
   "execution_count": 55,
   "metadata": {},
   "outputs": [
    {
     "data": {
      "text/plain": [
       "B    0.227946\n",
       "E    0.818133\n",
       "Name: Y, dtype: float64"
      ]
     },
     "execution_count": 55,
     "metadata": {},
     "output_type": "execute_result"
    }
   ],
   "source": [
    "df[df['Z']>0.5]['Y']"
   ]
  },
  {
   "cell_type": "code",
   "execution_count": 56,
   "metadata": {},
   "outputs": [
    {
     "data": {
      "text/html": [
       "<div>\n",
       "<style scoped>\n",
       "    .dataframe tbody tr th:only-of-type {\n",
       "        vertical-align: middle;\n",
       "    }\n",
       "\n",
       "    .dataframe tbody tr th {\n",
       "        vertical-align: top;\n",
       "    }\n",
       "\n",
       "    .dataframe thead th {\n",
       "        text-align: right;\n",
       "    }\n",
       "</style>\n",
       "<table border=\"1\" class=\"dataframe\">\n",
       "  <thead>\n",
       "    <tr style=\"text-align: right;\">\n",
       "      <th></th>\n",
       "      <th>Y</th>\n",
       "      <th>X</th>\n",
       "    </tr>\n",
       "  </thead>\n",
       "  <tbody>\n",
       "    <tr>\n",
       "      <th>A</th>\n",
       "      <td>0.806254</td>\n",
       "      <td>0.552667</td>\n",
       "    </tr>\n",
       "    <tr>\n",
       "      <th>B</th>\n",
       "      <td>0.227946</td>\n",
       "      <td>0.522985</td>\n",
       "    </tr>\n",
       "    <tr>\n",
       "      <th>C</th>\n",
       "      <td>0.510470</td>\n",
       "      <td>0.854806</td>\n",
       "    </tr>\n",
       "    <tr>\n",
       "      <th>D</th>\n",
       "      <td>0.548677</td>\n",
       "      <td>0.905686</td>\n",
       "    </tr>\n",
       "    <tr>\n",
       "      <th>E</th>\n",
       "      <td>0.818133</td>\n",
       "      <td>0.077334</td>\n",
       "    </tr>\n",
       "  </tbody>\n",
       "</table>\n",
       "</div>"
      ],
      "text/plain": [
       "          Y         X\n",
       "A  0.806254  0.552667\n",
       "B  0.227946  0.522985\n",
       "C  0.510470  0.854806\n",
       "D  0.548677  0.905686\n",
       "E  0.818133  0.077334"
      ]
     },
     "execution_count": 56,
     "metadata": {},
     "output_type": "execute_result"
    }
   ],
   "source": [
    "df[df['W']>0][['Y','X']]"
   ]
  },
  {
   "cell_type": "markdown",
   "metadata": {},
   "source": [
    "**Que pasa si queremos establecer dos o mas condiciones**\n",
    "\n",
    "En Python usabamos las sentencias `and` `or` y `not`, pero en Pandas cambia la sintaxis de la forma:\n",
    "\n",
    "& (and)\n",
    "\n",
    "| (or)\n",
    "\n",
    "~ (not)\n"
   ]
  },
  {
   "cell_type": "code",
   "execution_count": 60,
   "metadata": {},
   "outputs": [
    {
     "data": {
      "text/html": [
       "<div>\n",
       "<style scoped>\n",
       "    .dataframe tbody tr th:only-of-type {\n",
       "        vertical-align: middle;\n",
       "    }\n",
       "\n",
       "    .dataframe tbody tr th {\n",
       "        vertical-align: top;\n",
       "    }\n",
       "\n",
       "    .dataframe thead th {\n",
       "        text-align: right;\n",
       "    }\n",
       "</style>\n",
       "<table border=\"1\" class=\"dataframe\">\n",
       "  <thead>\n",
       "    <tr style=\"text-align: right;\">\n",
       "      <th></th>\n",
       "      <th>W</th>\n",
       "      <th>X</th>\n",
       "      <th>Y</th>\n",
       "      <th>Z</th>\n",
       "      <th>nueva_columna</th>\n",
       "      <th>new</th>\n",
       "    </tr>\n",
       "  </thead>\n",
       "  <tbody>\n",
       "    <tr>\n",
       "      <th>A</th>\n",
       "      <td>999</td>\n",
       "      <td>0.552667</td>\n",
       "      <td>0.806254</td>\n",
       "      <td>0.146123</td>\n",
       "      <td>5</td>\n",
       "      <td>805.447311</td>\n",
       "    </tr>\n",
       "    <tr>\n",
       "      <th>E</th>\n",
       "      <td>999</td>\n",
       "      <td>0.077334</td>\n",
       "      <td>0.818133</td>\n",
       "      <td>0.950235</td>\n",
       "      <td>5</td>\n",
       "      <td>817.315134</td>\n",
       "    </tr>\n",
       "  </tbody>\n",
       "</table>\n",
       "</div>"
      ],
      "text/plain": [
       "     W         X         Y         Z  nueva_columna         new\n",
       "A  999  0.552667  0.806254  0.146123              5  805.447311\n",
       "E  999  0.077334  0.818133  0.950235              5  817.315134"
      ]
     },
     "execution_count": 60,
     "metadata": {},
     "output_type": "execute_result"
    }
   ],
   "source": [
    "df[(df['W']>0.5) & (df['Y'] > 0.7)]"
   ]
  },
  {
   "cell_type": "code",
   "execution_count": null,
   "metadata": {},
   "outputs": [],
   "source": []
  },
  {
   "cell_type": "markdown",
   "metadata": {},
   "source": [
    "**Otras formas de filtrado**"
   ]
  },
  {
   "cell_type": "code",
   "execution_count": 77,
   "metadata": {},
   "outputs": [
    {
     "data": {
      "text/plain": [
       "nuevo_indice\n",
       "10    False\n",
       "20    False\n",
       "30    False\n",
       "40    False\n",
       "50    False\n",
       "Name: Z, dtype: bool"
      ]
     },
     "execution_count": 77,
     "metadata": {},
     "output_type": "execute_result"
    }
   ],
   "source": [
    "# isin()\n",
    "# devuelve True si el elemento esta dentro de la coleccion, False en caso contrario\n",
    "\n",
    "lista_numeros = [1,2,3]\n",
    "df['Z'].isin(lista_numeros)"
   ]
  },
  {
   "cell_type": "code",
   "execution_count": 74,
   "metadata": {},
   "outputs": [
    {
     "data": {
      "text/plain": [
       "True"
      ]
     },
     "execution_count": 74,
     "metadata": {},
     "output_type": "execute_result"
    }
   ],
   "source": [
    "# between()\n",
    "# devuelve True si el elemento se encuentra dentro del rango comprendido entre los limites, Falso en caso contrario\n",
    "\n",
    "df['Z'].between(0,1)"
   ]
  },
  {
   "cell_type": "markdown",
   "metadata": {},
   "source": [
    "## Mas detalles sobre indices\n",
    "\n",
    "Veamos como resetear y cambiar los indices"
   ]
  },
  {
   "cell_type": "code",
   "execution_count": 61,
   "metadata": {},
   "outputs": [
    {
     "data": {
      "text/html": [
       "<div>\n",
       "<style scoped>\n",
       "    .dataframe tbody tr th:only-of-type {\n",
       "        vertical-align: middle;\n",
       "    }\n",
       "\n",
       "    .dataframe tbody tr th {\n",
       "        vertical-align: top;\n",
       "    }\n",
       "\n",
       "    .dataframe thead th {\n",
       "        text-align: right;\n",
       "    }\n",
       "</style>\n",
       "<table border=\"1\" class=\"dataframe\">\n",
       "  <thead>\n",
       "    <tr style=\"text-align: right;\">\n",
       "      <th></th>\n",
       "      <th>W</th>\n",
       "      <th>X</th>\n",
       "      <th>Y</th>\n",
       "      <th>Z</th>\n",
       "      <th>nueva_columna</th>\n",
       "      <th>new</th>\n",
       "    </tr>\n",
       "  </thead>\n",
       "  <tbody>\n",
       "    <tr>\n",
       "      <th>A</th>\n",
       "      <td>999</td>\n",
       "      <td>0.552667</td>\n",
       "      <td>0.806254</td>\n",
       "      <td>0.146123</td>\n",
       "      <td>5</td>\n",
       "      <td>805.447311</td>\n",
       "    </tr>\n",
       "    <tr>\n",
       "      <th>B</th>\n",
       "      <td>999</td>\n",
       "      <td>0.522985</td>\n",
       "      <td>0.227946</td>\n",
       "      <td>0.720425</td>\n",
       "      <td>5</td>\n",
       "      <td>227.717749</td>\n",
       "    </tr>\n",
       "    <tr>\n",
       "      <th>C</th>\n",
       "      <td>999</td>\n",
       "      <td>0.854806</td>\n",
       "      <td>0.510470</td>\n",
       "      <td>0.323630</td>\n",
       "      <td>5</td>\n",
       "      <td>509.959165</td>\n",
       "    </tr>\n",
       "    <tr>\n",
       "      <th>D</th>\n",
       "      <td>999</td>\n",
       "      <td>0.905686</td>\n",
       "      <td>0.548677</td>\n",
       "      <td>0.226969</td>\n",
       "      <td>5</td>\n",
       "      <td>548.128346</td>\n",
       "    </tr>\n",
       "    <tr>\n",
       "      <th>E</th>\n",
       "      <td>999</td>\n",
       "      <td>0.077334</td>\n",
       "      <td>0.818133</td>\n",
       "      <td>0.950235</td>\n",
       "      <td>5</td>\n",
       "      <td>817.315134</td>\n",
       "    </tr>\n",
       "  </tbody>\n",
       "</table>\n",
       "</div>"
      ],
      "text/plain": [
       "     W         X         Y         Z  nueva_columna         new\n",
       "A  999  0.552667  0.806254  0.146123              5  805.447311\n",
       "B  999  0.522985  0.227946  0.720425              5  227.717749\n",
       "C  999  0.854806  0.510470  0.323630              5  509.959165\n",
       "D  999  0.905686  0.548677  0.226969              5  548.128346\n",
       "E  999  0.077334  0.818133  0.950235              5  817.315134"
      ]
     },
     "execution_count": 61,
     "metadata": {},
     "output_type": "execute_result"
    }
   ],
   "source": [
    "df"
   ]
  },
  {
   "cell_type": "code",
   "execution_count": 62,
   "metadata": {},
   "outputs": [
    {
     "data": {
      "text/html": [
       "<div>\n",
       "<style scoped>\n",
       "    .dataframe tbody tr th:only-of-type {\n",
       "        vertical-align: middle;\n",
       "    }\n",
       "\n",
       "    .dataframe tbody tr th {\n",
       "        vertical-align: top;\n",
       "    }\n",
       "\n",
       "    .dataframe thead th {\n",
       "        text-align: right;\n",
       "    }\n",
       "</style>\n",
       "<table border=\"1\" class=\"dataframe\">\n",
       "  <thead>\n",
       "    <tr style=\"text-align: right;\">\n",
       "      <th></th>\n",
       "      <th>index</th>\n",
       "      <th>W</th>\n",
       "      <th>X</th>\n",
       "      <th>Y</th>\n",
       "      <th>Z</th>\n",
       "      <th>nueva_columna</th>\n",
       "      <th>new</th>\n",
       "    </tr>\n",
       "  </thead>\n",
       "  <tbody>\n",
       "    <tr>\n",
       "      <th>0</th>\n",
       "      <td>A</td>\n",
       "      <td>999</td>\n",
       "      <td>0.552667</td>\n",
       "      <td>0.806254</td>\n",
       "      <td>0.146123</td>\n",
       "      <td>5</td>\n",
       "      <td>805.447311</td>\n",
       "    </tr>\n",
       "    <tr>\n",
       "      <th>1</th>\n",
       "      <td>B</td>\n",
       "      <td>999</td>\n",
       "      <td>0.522985</td>\n",
       "      <td>0.227946</td>\n",
       "      <td>0.720425</td>\n",
       "      <td>5</td>\n",
       "      <td>227.717749</td>\n",
       "    </tr>\n",
       "    <tr>\n",
       "      <th>2</th>\n",
       "      <td>C</td>\n",
       "      <td>999</td>\n",
       "      <td>0.854806</td>\n",
       "      <td>0.510470</td>\n",
       "      <td>0.323630</td>\n",
       "      <td>5</td>\n",
       "      <td>509.959165</td>\n",
       "    </tr>\n",
       "    <tr>\n",
       "      <th>3</th>\n",
       "      <td>D</td>\n",
       "      <td>999</td>\n",
       "      <td>0.905686</td>\n",
       "      <td>0.548677</td>\n",
       "      <td>0.226969</td>\n",
       "      <td>5</td>\n",
       "      <td>548.128346</td>\n",
       "    </tr>\n",
       "    <tr>\n",
       "      <th>4</th>\n",
       "      <td>E</td>\n",
       "      <td>999</td>\n",
       "      <td>0.077334</td>\n",
       "      <td>0.818133</td>\n",
       "      <td>0.950235</td>\n",
       "      <td>5</td>\n",
       "      <td>817.315134</td>\n",
       "    </tr>\n",
       "  </tbody>\n",
       "</table>\n",
       "</div>"
      ],
      "text/plain": [
       "  index    W         X         Y         Z  nueva_columna         new\n",
       "0     A  999  0.552667  0.806254  0.146123              5  805.447311\n",
       "1     B  999  0.522985  0.227946  0.720425              5  227.717749\n",
       "2     C  999  0.854806  0.510470  0.323630              5  509.959165\n",
       "3     D  999  0.905686  0.548677  0.226969              5  548.128346\n",
       "4     E  999  0.077334  0.818133  0.950235              5  817.315134"
      ]
     },
     "execution_count": 62,
     "metadata": {},
     "output_type": "execute_result"
    }
   ],
   "source": [
    "# Reseteamos al index por default (0 1 ... n)\n",
    "df.reset_index()"
   ]
  },
  {
   "cell_type": "code",
   "execution_count": 63,
   "metadata": {},
   "outputs": [
    {
     "data": {
      "text/html": [
       "<div>\n",
       "<style scoped>\n",
       "    .dataframe tbody tr th:only-of-type {\n",
       "        vertical-align: middle;\n",
       "    }\n",
       "\n",
       "    .dataframe tbody tr th {\n",
       "        vertical-align: top;\n",
       "    }\n",
       "\n",
       "    .dataframe thead th {\n",
       "        text-align: right;\n",
       "    }\n",
       "</style>\n",
       "<table border=\"1\" class=\"dataframe\">\n",
       "  <thead>\n",
       "    <tr style=\"text-align: right;\">\n",
       "      <th></th>\n",
       "      <th>W</th>\n",
       "      <th>X</th>\n",
       "      <th>Y</th>\n",
       "      <th>Z</th>\n",
       "      <th>nueva_columna</th>\n",
       "      <th>new</th>\n",
       "    </tr>\n",
       "  </thead>\n",
       "  <tbody>\n",
       "    <tr>\n",
       "      <th>A</th>\n",
       "      <td>999</td>\n",
       "      <td>0.552667</td>\n",
       "      <td>0.806254</td>\n",
       "      <td>0.146123</td>\n",
       "      <td>5</td>\n",
       "      <td>805.447311</td>\n",
       "    </tr>\n",
       "    <tr>\n",
       "      <th>B</th>\n",
       "      <td>999</td>\n",
       "      <td>0.522985</td>\n",
       "      <td>0.227946</td>\n",
       "      <td>0.720425</td>\n",
       "      <td>5</td>\n",
       "      <td>227.717749</td>\n",
       "    </tr>\n",
       "    <tr>\n",
       "      <th>C</th>\n",
       "      <td>999</td>\n",
       "      <td>0.854806</td>\n",
       "      <td>0.510470</td>\n",
       "      <td>0.323630</td>\n",
       "      <td>5</td>\n",
       "      <td>509.959165</td>\n",
       "    </tr>\n",
       "    <tr>\n",
       "      <th>D</th>\n",
       "      <td>999</td>\n",
       "      <td>0.905686</td>\n",
       "      <td>0.548677</td>\n",
       "      <td>0.226969</td>\n",
       "      <td>5</td>\n",
       "      <td>548.128346</td>\n",
       "    </tr>\n",
       "    <tr>\n",
       "      <th>E</th>\n",
       "      <td>999</td>\n",
       "      <td>0.077334</td>\n",
       "      <td>0.818133</td>\n",
       "      <td>0.950235</td>\n",
       "      <td>5</td>\n",
       "      <td>817.315134</td>\n",
       "    </tr>\n",
       "  </tbody>\n",
       "</table>\n",
       "</div>"
      ],
      "text/plain": [
       "     W         X         Y         Z  nueva_columna         new\n",
       "A  999  0.552667  0.806254  0.146123              5  805.447311\n",
       "B  999  0.522985  0.227946  0.720425              5  227.717749\n",
       "C  999  0.854806  0.510470  0.323630              5  509.959165\n",
       "D  999  0.905686  0.548677  0.226969              5  548.128346\n",
       "E  999  0.077334  0.818133  0.950235              5  817.315134"
      ]
     },
     "execution_count": 63,
     "metadata": {},
     "output_type": "execute_result"
    }
   ],
   "source": [
    "df"
   ]
  },
  {
   "cell_type": "code",
   "execution_count": 64,
   "metadata": {},
   "outputs": [],
   "source": [
    "newind = '10 20 30 40 50'.split()"
   ]
  },
  {
   "cell_type": "code",
   "execution_count": 65,
   "metadata": {},
   "outputs": [],
   "source": [
    "df['nuevo_indice'] = newind"
   ]
  },
  {
   "cell_type": "code",
   "execution_count": 66,
   "metadata": {},
   "outputs": [
    {
     "data": {
      "text/html": [
       "<div>\n",
       "<style scoped>\n",
       "    .dataframe tbody tr th:only-of-type {\n",
       "        vertical-align: middle;\n",
       "    }\n",
       "\n",
       "    .dataframe tbody tr th {\n",
       "        vertical-align: top;\n",
       "    }\n",
       "\n",
       "    .dataframe thead th {\n",
       "        text-align: right;\n",
       "    }\n",
       "</style>\n",
       "<table border=\"1\" class=\"dataframe\">\n",
       "  <thead>\n",
       "    <tr style=\"text-align: right;\">\n",
       "      <th></th>\n",
       "      <th>W</th>\n",
       "      <th>X</th>\n",
       "      <th>Y</th>\n",
       "      <th>Z</th>\n",
       "      <th>nueva_columna</th>\n",
       "      <th>new</th>\n",
       "      <th>nuevo_indice</th>\n",
       "    </tr>\n",
       "  </thead>\n",
       "  <tbody>\n",
       "    <tr>\n",
       "      <th>A</th>\n",
       "      <td>999</td>\n",
       "      <td>0.552667</td>\n",
       "      <td>0.806254</td>\n",
       "      <td>0.146123</td>\n",
       "      <td>5</td>\n",
       "      <td>805.447311</td>\n",
       "      <td>10</td>\n",
       "    </tr>\n",
       "    <tr>\n",
       "      <th>B</th>\n",
       "      <td>999</td>\n",
       "      <td>0.522985</td>\n",
       "      <td>0.227946</td>\n",
       "      <td>0.720425</td>\n",
       "      <td>5</td>\n",
       "      <td>227.717749</td>\n",
       "      <td>20</td>\n",
       "    </tr>\n",
       "    <tr>\n",
       "      <th>C</th>\n",
       "      <td>999</td>\n",
       "      <td>0.854806</td>\n",
       "      <td>0.510470</td>\n",
       "      <td>0.323630</td>\n",
       "      <td>5</td>\n",
       "      <td>509.959165</td>\n",
       "      <td>30</td>\n",
       "    </tr>\n",
       "    <tr>\n",
       "      <th>D</th>\n",
       "      <td>999</td>\n",
       "      <td>0.905686</td>\n",
       "      <td>0.548677</td>\n",
       "      <td>0.226969</td>\n",
       "      <td>5</td>\n",
       "      <td>548.128346</td>\n",
       "      <td>40</td>\n",
       "    </tr>\n",
       "    <tr>\n",
       "      <th>E</th>\n",
       "      <td>999</td>\n",
       "      <td>0.077334</td>\n",
       "      <td>0.818133</td>\n",
       "      <td>0.950235</td>\n",
       "      <td>5</td>\n",
       "      <td>817.315134</td>\n",
       "      <td>50</td>\n",
       "    </tr>\n",
       "  </tbody>\n",
       "</table>\n",
       "</div>"
      ],
      "text/plain": [
       "     W         X         Y         Z  nueva_columna         new nuevo_indice\n",
       "A  999  0.552667  0.806254  0.146123              5  805.447311           10\n",
       "B  999  0.522985  0.227946  0.720425              5  227.717749           20\n",
       "C  999  0.854806  0.510470  0.323630              5  509.959165           30\n",
       "D  999  0.905686  0.548677  0.226969              5  548.128346           40\n",
       "E  999  0.077334  0.818133  0.950235              5  817.315134           50"
      ]
     },
     "execution_count": 66,
     "metadata": {},
     "output_type": "execute_result"
    }
   ],
   "source": [
    "df"
   ]
  },
  {
   "cell_type": "code",
   "execution_count": 67,
   "metadata": {},
   "outputs": [
    {
     "data": {
      "text/html": [
       "<div>\n",
       "<style scoped>\n",
       "    .dataframe tbody tr th:only-of-type {\n",
       "        vertical-align: middle;\n",
       "    }\n",
       "\n",
       "    .dataframe tbody tr th {\n",
       "        vertical-align: top;\n",
       "    }\n",
       "\n",
       "    .dataframe thead th {\n",
       "        text-align: right;\n",
       "    }\n",
       "</style>\n",
       "<table border=\"1\" class=\"dataframe\">\n",
       "  <thead>\n",
       "    <tr style=\"text-align: right;\">\n",
       "      <th></th>\n",
       "      <th>W</th>\n",
       "      <th>X</th>\n",
       "      <th>Y</th>\n",
       "      <th>Z</th>\n",
       "      <th>nueva_columna</th>\n",
       "      <th>new</th>\n",
       "    </tr>\n",
       "    <tr>\n",
       "      <th>nuevo_indice</th>\n",
       "      <th></th>\n",
       "      <th></th>\n",
       "      <th></th>\n",
       "      <th></th>\n",
       "      <th></th>\n",
       "      <th></th>\n",
       "    </tr>\n",
       "  </thead>\n",
       "  <tbody>\n",
       "    <tr>\n",
       "      <th>10</th>\n",
       "      <td>999</td>\n",
       "      <td>0.552667</td>\n",
       "      <td>0.806254</td>\n",
       "      <td>0.146123</td>\n",
       "      <td>5</td>\n",
       "      <td>805.447311</td>\n",
       "    </tr>\n",
       "    <tr>\n",
       "      <th>20</th>\n",
       "      <td>999</td>\n",
       "      <td>0.522985</td>\n",
       "      <td>0.227946</td>\n",
       "      <td>0.720425</td>\n",
       "      <td>5</td>\n",
       "      <td>227.717749</td>\n",
       "    </tr>\n",
       "    <tr>\n",
       "      <th>30</th>\n",
       "      <td>999</td>\n",
       "      <td>0.854806</td>\n",
       "      <td>0.510470</td>\n",
       "      <td>0.323630</td>\n",
       "      <td>5</td>\n",
       "      <td>509.959165</td>\n",
       "    </tr>\n",
       "    <tr>\n",
       "      <th>40</th>\n",
       "      <td>999</td>\n",
       "      <td>0.905686</td>\n",
       "      <td>0.548677</td>\n",
       "      <td>0.226969</td>\n",
       "      <td>5</td>\n",
       "      <td>548.128346</td>\n",
       "    </tr>\n",
       "    <tr>\n",
       "      <th>50</th>\n",
       "      <td>999</td>\n",
       "      <td>0.077334</td>\n",
       "      <td>0.818133</td>\n",
       "      <td>0.950235</td>\n",
       "      <td>5</td>\n",
       "      <td>817.315134</td>\n",
       "    </tr>\n",
       "  </tbody>\n",
       "</table>\n",
       "</div>"
      ],
      "text/plain": [
       "                W         X         Y         Z  nueva_columna         new\n",
       "nuevo_indice                                                              \n",
       "10            999  0.552667  0.806254  0.146123              5  805.447311\n",
       "20            999  0.522985  0.227946  0.720425              5  227.717749\n",
       "30            999  0.854806  0.510470  0.323630              5  509.959165\n",
       "40            999  0.905686  0.548677  0.226969              5  548.128346\n",
       "50            999  0.077334  0.818133  0.950235              5  817.315134"
      ]
     },
     "execution_count": 67,
     "metadata": {},
     "output_type": "execute_result"
    }
   ],
   "source": [
    "df.set_index('nuevo_indice')"
   ]
  },
  {
   "cell_type": "code",
   "execution_count": 68,
   "metadata": {},
   "outputs": [
    {
     "data": {
      "text/html": [
       "<div>\n",
       "<style scoped>\n",
       "    .dataframe tbody tr th:only-of-type {\n",
       "        vertical-align: middle;\n",
       "    }\n",
       "\n",
       "    .dataframe tbody tr th {\n",
       "        vertical-align: top;\n",
       "    }\n",
       "\n",
       "    .dataframe thead th {\n",
       "        text-align: right;\n",
       "    }\n",
       "</style>\n",
       "<table border=\"1\" class=\"dataframe\">\n",
       "  <thead>\n",
       "    <tr style=\"text-align: right;\">\n",
       "      <th></th>\n",
       "      <th>W</th>\n",
       "      <th>X</th>\n",
       "      <th>Y</th>\n",
       "      <th>Z</th>\n",
       "      <th>nueva_columna</th>\n",
       "      <th>new</th>\n",
       "      <th>nuevo_indice</th>\n",
       "    </tr>\n",
       "  </thead>\n",
       "  <tbody>\n",
       "    <tr>\n",
       "      <th>A</th>\n",
       "      <td>999</td>\n",
       "      <td>0.552667</td>\n",
       "      <td>0.806254</td>\n",
       "      <td>0.146123</td>\n",
       "      <td>5</td>\n",
       "      <td>805.447311</td>\n",
       "      <td>10</td>\n",
       "    </tr>\n",
       "    <tr>\n",
       "      <th>B</th>\n",
       "      <td>999</td>\n",
       "      <td>0.522985</td>\n",
       "      <td>0.227946</td>\n",
       "      <td>0.720425</td>\n",
       "      <td>5</td>\n",
       "      <td>227.717749</td>\n",
       "      <td>20</td>\n",
       "    </tr>\n",
       "    <tr>\n",
       "      <th>C</th>\n",
       "      <td>999</td>\n",
       "      <td>0.854806</td>\n",
       "      <td>0.510470</td>\n",
       "      <td>0.323630</td>\n",
       "      <td>5</td>\n",
       "      <td>509.959165</td>\n",
       "      <td>30</td>\n",
       "    </tr>\n",
       "    <tr>\n",
       "      <th>D</th>\n",
       "      <td>999</td>\n",
       "      <td>0.905686</td>\n",
       "      <td>0.548677</td>\n",
       "      <td>0.226969</td>\n",
       "      <td>5</td>\n",
       "      <td>548.128346</td>\n",
       "      <td>40</td>\n",
       "    </tr>\n",
       "    <tr>\n",
       "      <th>E</th>\n",
       "      <td>999</td>\n",
       "      <td>0.077334</td>\n",
       "      <td>0.818133</td>\n",
       "      <td>0.950235</td>\n",
       "      <td>5</td>\n",
       "      <td>817.315134</td>\n",
       "      <td>50</td>\n",
       "    </tr>\n",
       "  </tbody>\n",
       "</table>\n",
       "</div>"
      ],
      "text/plain": [
       "     W         X         Y         Z  nueva_columna         new nuevo_indice\n",
       "A  999  0.552667  0.806254  0.146123              5  805.447311           10\n",
       "B  999  0.522985  0.227946  0.720425              5  227.717749           20\n",
       "C  999  0.854806  0.510470  0.323630              5  509.959165           30\n",
       "D  999  0.905686  0.548677  0.226969              5  548.128346           40\n",
       "E  999  0.077334  0.818133  0.950235              5  817.315134           50"
      ]
     },
     "execution_count": 68,
     "metadata": {},
     "output_type": "execute_result"
    }
   ],
   "source": [
    "df"
   ]
  },
  {
   "cell_type": "code",
   "execution_count": 69,
   "metadata": {},
   "outputs": [],
   "source": [
    "df.set_index('nuevo_indice',inplace=True)"
   ]
  },
  {
   "cell_type": "code",
   "execution_count": 70,
   "metadata": {},
   "outputs": [
    {
     "data": {
      "text/html": [
       "<div>\n",
       "<style scoped>\n",
       "    .dataframe tbody tr th:only-of-type {\n",
       "        vertical-align: middle;\n",
       "    }\n",
       "\n",
       "    .dataframe tbody tr th {\n",
       "        vertical-align: top;\n",
       "    }\n",
       "\n",
       "    .dataframe thead th {\n",
       "        text-align: right;\n",
       "    }\n",
       "</style>\n",
       "<table border=\"1\" class=\"dataframe\">\n",
       "  <thead>\n",
       "    <tr style=\"text-align: right;\">\n",
       "      <th></th>\n",
       "      <th>W</th>\n",
       "      <th>X</th>\n",
       "      <th>Y</th>\n",
       "      <th>Z</th>\n",
       "      <th>nueva_columna</th>\n",
       "      <th>new</th>\n",
       "    </tr>\n",
       "    <tr>\n",
       "      <th>nuevo_indice</th>\n",
       "      <th></th>\n",
       "      <th></th>\n",
       "      <th></th>\n",
       "      <th></th>\n",
       "      <th></th>\n",
       "      <th></th>\n",
       "    </tr>\n",
       "  </thead>\n",
       "  <tbody>\n",
       "    <tr>\n",
       "      <th>10</th>\n",
       "      <td>999</td>\n",
       "      <td>0.552667</td>\n",
       "      <td>0.806254</td>\n",
       "      <td>0.146123</td>\n",
       "      <td>5</td>\n",
       "      <td>805.447311</td>\n",
       "    </tr>\n",
       "    <tr>\n",
       "      <th>20</th>\n",
       "      <td>999</td>\n",
       "      <td>0.522985</td>\n",
       "      <td>0.227946</td>\n",
       "      <td>0.720425</td>\n",
       "      <td>5</td>\n",
       "      <td>227.717749</td>\n",
       "    </tr>\n",
       "    <tr>\n",
       "      <th>30</th>\n",
       "      <td>999</td>\n",
       "      <td>0.854806</td>\n",
       "      <td>0.510470</td>\n",
       "      <td>0.323630</td>\n",
       "      <td>5</td>\n",
       "      <td>509.959165</td>\n",
       "    </tr>\n",
       "    <tr>\n",
       "      <th>40</th>\n",
       "      <td>999</td>\n",
       "      <td>0.905686</td>\n",
       "      <td>0.548677</td>\n",
       "      <td>0.226969</td>\n",
       "      <td>5</td>\n",
       "      <td>548.128346</td>\n",
       "    </tr>\n",
       "    <tr>\n",
       "      <th>50</th>\n",
       "      <td>999</td>\n",
       "      <td>0.077334</td>\n",
       "      <td>0.818133</td>\n",
       "      <td>0.950235</td>\n",
       "      <td>5</td>\n",
       "      <td>817.315134</td>\n",
       "    </tr>\n",
       "  </tbody>\n",
       "</table>\n",
       "</div>"
      ],
      "text/plain": [
       "                W         X         Y         Z  nueva_columna         new\n",
       "nuevo_indice                                                              \n",
       "10            999  0.552667  0.806254  0.146123              5  805.447311\n",
       "20            999  0.522985  0.227946  0.720425              5  227.717749\n",
       "30            999  0.854806  0.510470  0.323630              5  509.959165\n",
       "40            999  0.905686  0.548677  0.226969              5  548.128346\n",
       "50            999  0.077334  0.818133  0.950235              5  817.315134"
      ]
     },
     "execution_count": 70,
     "metadata": {},
     "output_type": "execute_result"
    }
   ],
   "source": [
    "df"
   ]
  }
 ],
 "metadata": {
  "kernelspec": {
   "display_name": "Python 3",
   "language": "python",
   "name": "python3"
  },
  "language_info": {
   "codemirror_mode": {
    "name": "ipython",
    "version": 3
   },
   "file_extension": ".py",
   "mimetype": "text/x-python",
   "name": "python",
   "nbconvert_exporter": "python",
   "pygments_lexer": "ipython3",
   "version": "3.7.0"
  }
 },
 "nbformat": 4,
 "nbformat_minor": 1
}
