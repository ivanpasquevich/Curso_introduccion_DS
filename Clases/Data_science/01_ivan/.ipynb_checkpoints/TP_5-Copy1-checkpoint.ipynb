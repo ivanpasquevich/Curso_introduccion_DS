{
 "cells": [
  {
   "cell_type": "markdown",
   "metadata": {},
   "source": [
    "# Ejercicios sobre lo aprendido"
   ]
  },
  {
   "cell_type": "markdown",
   "metadata": {},
   "source": [
    "## Suban este notebook resuelto al drive con la nomenclatura nombre_apellido_TP_5"
   ]
  },
  {
   "cell_type": "markdown",
   "metadata": {},
   "source": [
    "Debes utilizar numpy\n",
    "1. ingresa por teclado la cantidad filas\n",
    "2. ingresa por teclado la cantidad columnas\n",
    "3. crea un arreglo de numpy de dimension filas columnas con elementos de tipo float.\n",
    "4. rellena el array con 10.5\n",
    "5. imprime shape, tipo y el arreglo"
   ]
  },
  {
   "cell_type": "code",
   "execution_count": null,
   "metadata": {},
   "outputs": [],
   "source": [
    "import numpy as np\n",
    "filas = int(input())\n",
    "col = int(input())\n",
    "arreglo = np.ones((filas,col))*5.1\n",
    "print(arreglo.ndim, arreglo.dtype)\n",
    "print(arreglo)"
   ]
  },
  {
   "cell_type": "code",
   "execution_count": null,
   "metadata": {},
   "outputs": [],
   "source": []
  },
  {
   "cell_type": "markdown",
   "metadata": {},
   "source": [
    "Ingrese al programa un numero entero 'n'. \n",
    "\n",
    "Crea un array de n elementos enteros consecutivos (de 0 a n).\n",
    "\n",
    "Reformatea el array a un array cuadrado (reshape)\n",
    "\n",
    "Imprima las dimensiones (ndim) , el tipo del array y el array "
   ]
  },
  {
   "cell_type": "code",
   "execution_count": 4,
   "metadata": {},
   "outputs": [
    {
     "name": "stdout",
     "output_type": "stream",
     "text": [
      "16\n",
      "(4, 4) int32\n",
      "[[ 0  1  2  3]\n",
      " [ 4  5  6  7]\n",
      " [ 8  9 10 11]\n",
      " [12 13 14 15]]\n"
     ]
    }
   ],
   "source": [
    "from math import sqrt\n",
    "import numpy as np\n",
    "\n",
    "n = int(input())\n",
    "\n",
    "arreglo = np.arange(0,n)\n",
    "n = int(sqrt(n))\n",
    "arreglo = arreglo.reshape(n,n)\n",
    "print(arreglo.shape, arreglo.dtype)\n",
    "print(arreglo)"
   ]
  },
  {
   "cell_type": "code",
   "execution_count": null,
   "metadata": {},
   "outputs": [],
   "source": []
  },
  {
   "cell_type": "code",
   "execution_count": null,
   "metadata": {},
   "outputs": [],
   "source": []
  },
  {
   "cell_type": "code",
   "execution_count": null,
   "metadata": {},
   "outputs": [],
   "source": []
  },
  {
   "cell_type": "markdown",
   "metadata": {},
   "source": [
    "Debes utilizar numpy \n",
    "1. crear una matriz de 3x3 con numeros enteros aleatorios (entre 1 y 50)\n",
    "2. almacena en B la transpuesta de A\n",
    "3. almacena en C el producto de A*B y en D la suma de A+B\n",
    "4. imprime size de C y D\n",
    "5. imprime shape de C y D\n",
    "5. imprime C y D"
   ]
  },
  {
   "cell_type": "code",
   "execution_count": 4,
   "metadata": {},
   "outputs": [
    {
     "name": "stdout",
     "output_type": "stream",
     "text": [
      "9 9\n",
      "\n",
      "(3, 3) (3, 3)\n",
      "\n",
      "[[  49 2256   48]\n",
      " [2256  900   70]\n",
      " [  48   70 1849]]\n",
      "\n",
      "[[14 95 16]\n",
      " [95 60 17]\n",
      " [16 17 86]]\n"
     ]
    }
   ],
   "source": [
    "import numpy as np\n",
    "\n",
    "A = np.random.randint(1,50,(3,3))\n",
    "\n",
    "B = np.transpose(A)\n",
    "\n",
    "C = A*B\n",
    "\n",
    "D = A+B\n",
    "\n",
    "print(C.size, D.size)\n",
    "print(\"\")\n",
    "print(C.shape, D.shape)\n",
    "print(\"\")\n",
    "print(C)\n",
    "print(\"\")\n",
    "print(D)"
   ]
  },
  {
   "cell_type": "code",
   "execution_count": null,
   "metadata": {},
   "outputs": [],
   "source": []
  },
  {
   "cell_type": "markdown",
   "metadata": {},
   "source": [
    "Debes utilizar numpy \n",
    "1. crear una matriz A de 5x5 con numeros igualmente espaciados (entre 1 y 2.5 ) e imprimirla\n",
    "2. imprime la suma de todos los elementos de A\n",
    "3. imprime la suma de todos los elementos de cada fila de A\n",
    "4. imprime la suma de todos los elementos de cada columna de A\n",
    "5. imprime la suma acumulada de todo A\n",
    "\n"
   ]
  },
  {
   "cell_type": "code",
   "execution_count": 11,
   "metadata": {
    "scrolled": true
   },
   "outputs": [
    {
     "name": "stdout",
     "output_type": "stream",
     "text": [
      "43.75\n",
      "[8.125  8.4375 8.75   9.0625 9.375 ]\n",
      "[ 5.625   7.1875  8.75   10.3125 11.875 ]\n",
      "[ 1.      2.0625  3.1875  4.375   5.625   6.9375  8.3125  9.75   11.25\n",
      " 12.8125 14.4375 16.125  17.875  19.6875 21.5625 23.5    25.5    27.5625\n",
      " 29.6875 31.875  34.125  36.4375 38.8125 41.25   43.75  ]\n"
     ]
    }
   ],
   "source": [
    "import numpy as np\n",
    "\n",
    "A = np.linspace(1,2.5,25)\n",
    "A = A.reshape((5,5))      \n",
    "\n",
    "print(A.sum())\n",
    "\n",
    "print(A.sum(axis=0))\n",
    "\n",
    "print(A.sum(axis=1))\n",
    "\n",
    "print(np.cumsum(A))\n"
   ]
  },
  {
   "cell_type": "markdown",
   "metadata": {},
   "source": [
    "## Suban este notebook resuelto al drive con la nomenclatura nombre_apellido_TP_5"
   ]
  },
  {
   "cell_type": "code",
   "execution_count": null,
   "metadata": {},
   "outputs": [],
   "source": []
  }
 ],
 "metadata": {
  "kernelspec": {
   "display_name": "Python 3",
   "language": "python",
   "name": "python3"
  },
  "language_info": {
   "codemirror_mode": {
    "name": "ipython",
    "version": 3
   },
   "file_extension": ".py",
   "mimetype": "text/x-python",
   "name": "python",
   "nbconvert_exporter": "python",
   "pygments_lexer": "ipython3",
   "version": "3.7.0"
  }
 },
 "nbformat": 4,
 "nbformat_minor": 4
}
