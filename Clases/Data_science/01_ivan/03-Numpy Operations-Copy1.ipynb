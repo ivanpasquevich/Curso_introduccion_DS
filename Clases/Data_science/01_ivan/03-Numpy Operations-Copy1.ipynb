{
 "cells": [
  {
   "cell_type": "markdown",
   "metadata": {
    "collapsed": true
   },
   "source": [
    "#  Operaciones con NumPy"
   ]
  },
  {
   "cell_type": "markdown",
   "metadata": {},
   "source": [
    "## Aritmetica\n",
    "Podemos realizar operaciones aritmeticas entre arrays o entre arrays y escalares (numeros)\n",
    "\n"
   ]
  },
  {
   "cell_type": "code",
   "execution_count": 1,
   "metadata": {},
   "outputs": [],
   "source": [
    "import numpy as np\n",
    "arr = np.arange(0,10)"
   ]
  },
  {
   "cell_type": "code",
   "execution_count": 2,
   "metadata": {},
   "outputs": [
    {
     "data": {
      "text/plain": [
       "array([0, 1, 2, 3, 4, 5, 6, 7, 8, 9])"
      ]
     },
     "execution_count": 2,
     "metadata": {},
     "output_type": "execute_result"
    }
   ],
   "source": [
    "arr"
   ]
  },
  {
   "cell_type": "code",
   "execution_count": 3,
   "metadata": {},
   "outputs": [
    {
     "data": {
      "text/plain": [
       "array([ 0,  2,  4,  6,  8, 10, 12, 14, 16, 18])"
      ]
     },
     "execution_count": 3,
     "metadata": {},
     "output_type": "execute_result"
    }
   ],
   "source": [
    "arr + arr"
   ]
  },
  {
   "cell_type": "code",
   "execution_count": 4,
   "metadata": {},
   "outputs": [
    {
     "data": {
      "text/plain": [
       "array([ 0,  1,  4,  9, 16, 25, 36, 49, 64, 81])"
      ]
     },
     "execution_count": 4,
     "metadata": {},
     "output_type": "execute_result"
    }
   ],
   "source": [
    "arr * arr"
   ]
  },
  {
   "cell_type": "code",
   "execution_count": 5,
   "metadata": {},
   "outputs": [
    {
     "data": {
      "text/plain": [
       "array([0, 0, 0, 0, 0, 0, 0, 0, 0, 0])"
      ]
     },
     "execution_count": 5,
     "metadata": {},
     "output_type": "execute_result"
    }
   ],
   "source": [
    "arr - arr"
   ]
  },
  {
   "cell_type": "code",
   "execution_count": 6,
   "metadata": {},
   "outputs": [
    {
     "name": "stderr",
     "output_type": "stream",
     "text": [
      "c:\\program files\\python37\\lib\\site-packages\\ipykernel_launcher.py:3: RuntimeWarning: invalid value encountered in true_divide\n",
      "  This is separate from the ipykernel package so we can avoid doing imports until\n"
     ]
    },
    {
     "data": {
      "text/plain": [
       "array([nan,  1.,  1.,  1.,  1.,  1.,  1.,  1.,  1.,  1.])"
      ]
     },
     "execution_count": 6,
     "metadata": {},
     "output_type": "execute_result"
    }
   ],
   "source": [
    "# Cuidado con la division de cero por cero !! no nos da eroor !!\n",
    "# Sino que se reemplaza el resultado por nan\n",
    "arr/arr"
   ]
  },
  {
   "cell_type": "code",
   "execution_count": 7,
   "metadata": {},
   "outputs": [
    {
     "name": "stderr",
     "output_type": "stream",
     "text": [
      "c:\\program files\\python37\\lib\\site-packages\\ipykernel_launcher.py:2: RuntimeWarning: divide by zero encountered in true_divide\n",
      "  \n"
     ]
    },
    {
     "data": {
      "text/plain": [
       "array([       inf, 1.        , 0.5       , 0.33333333, 0.25      ,\n",
       "       0.2       , 0.16666667, 0.14285714, 0.125     , 0.11111111])"
      ]
     },
     "execution_count": 7,
     "metadata": {},
     "output_type": "execute_result"
    }
   ],
   "source": [
    "# Ojo tambien si queremos dividir por cero a numero, no nos da error sino infinito\n",
    "1/arr"
   ]
  },
  {
   "cell_type": "code",
   "execution_count": 8,
   "metadata": {},
   "outputs": [
    {
     "data": {
      "text/plain": [
       "array([  0,   1,   8,  27,  64, 125, 216, 343, 512, 729], dtype=int32)"
      ]
     },
     "execution_count": 8,
     "metadata": {},
     "output_type": "execute_result"
    }
   ],
   "source": [
    "# podemos calcular potencias\n",
    "arr**3"
   ]
  },
  {
   "cell_type": "code",
   "execution_count": null,
   "metadata": {},
   "outputs": [],
   "source": []
  },
  {
   "cell_type": "markdown",
   "metadata": {},
   "source": [
    "## Funciones universales sobre arreglos\n",
    "\n",
    "Numpy viene con varias [funciones universales](http://docs.scipy.org/doc/numpy/reference/ufuncs.html), que son basicamente operaciones matematicas que uno puede usar para aplicarlas al arreglo.\n",
    "\n",
    "Veamos las mas comunes\n"
   ]
  },
  {
   "cell_type": "code",
   "execution_count": 12,
   "metadata": {},
   "outputs": [
    {
     "data": {
      "text/plain": [
       "array([ 0.        ,  1.        ,  1.41421356,  1.73205081,  2.        ,\n",
       "        2.23606798,  2.44948974,  2.64575131,  2.82842712,  3.        ])"
      ]
     },
     "execution_count": 12,
     "metadata": {},
     "output_type": "execute_result"
    }
   ],
   "source": [
    "#Raices cuadradas\n",
    "np.sqrt(arr)"
   ]
  },
  {
   "cell_type": "code",
   "execution_count": 14,
   "metadata": {},
   "outputs": [
    {
     "data": {
      "text/plain": [
       "9"
      ]
     },
     "execution_count": 14,
     "metadata": {},
     "output_type": "execute_result"
    }
   ],
   "source": [
    "np.max(arr)"
   ]
  },
  {
   "cell_type": "code",
   "execution_count": 15,
   "metadata": {},
   "outputs": [
    {
     "data": {
      "text/plain": [
       "array([ 0.        ,  0.84147098,  0.90929743,  0.14112001, -0.7568025 ,\n",
       "       -0.95892427, -0.2794155 ,  0.6569866 ,  0.98935825,  0.41211849])"
      ]
     },
     "execution_count": 15,
     "metadata": {},
     "output_type": "execute_result"
    }
   ],
   "source": [
    "np.sin(arr)"
   ]
  },
  {
   "cell_type": "code",
   "execution_count": 16,
   "metadata": {},
   "outputs": [
    {
     "name": "stderr",
     "output_type": "stream",
     "text": [
      "/Users/marci/anaconda/lib/python3.5/site-packages/ipykernel/__main__.py:1: RuntimeWarning: divide by zero encountered in log\n",
      "  if __name__ == '__main__':\n"
     ]
    },
    {
     "data": {
      "text/plain": [
       "array([       -inf,  0.        ,  0.69314718,  1.09861229,  1.38629436,\n",
       "        1.60943791,  1.79175947,  1.94591015,  2.07944154,  2.19722458])"
      ]
     },
     "execution_count": 16,
     "metadata": {},
     "output_type": "execute_result"
    }
   ],
   "source": [
    "np.log(arr)"
   ]
  },
  {
   "cell_type": "code",
   "execution_count": null,
   "metadata": {},
   "outputs": [],
   "source": []
  },
  {
   "attachments": {
    "image.png": {
     "image/png": "[encoded data removed]"
    }
   },
   "cell_type": "markdown",
   "metadata": {},
   "source": [
    "## AXIS\n",
    "\n",
    "Son los ejes sobre los cuales Numpy hace sus operaciones, es un tema complicado porque cada funcion va a actuar sobre los ejes de una manera determinada.\n",
    "\n",
    "Lo importante que tengamos en claro la siguiente imagen, en un arreglo bidimensional, estos son los ejes que tendremos\n",
    "\n",
    "![image.png](attachment:image.png)\n",
    "\n",
    "Es decir, si axis es cero vamos a recorrer el arreglo filas, y si axis es uno lo vamos a recorrer por columnas. **Tomen esto entre comillas porque va a depender de la funcion que apliquemos**"
   ]
  },
  {
   "cell_type": "markdown",
   "metadata": {},
   "source": [
    "****"
   ]
  },
  {
   "cell_type": "markdown",
   "metadata": {},
   "source": [
    "### concatenate\n",
    "\n",
    "Nos va a permitir concatenar o unir dos (o mas) arreglos para formar uno solo."
   ]
  },
  {
   "cell_type": "code",
   "execution_count": 7,
   "metadata": {},
   "outputs": [],
   "source": [
    "# creamos dos arreglos de 3x3\n",
    "\n",
    "arr_0 = np.zeros((3,3),dtype=int)\n",
    "arr_1 = np.ones((3,3),dtype=int)"
   ]
  },
  {
   "cell_type": "code",
   "execution_count": 8,
   "metadata": {},
   "outputs": [
    {
     "name": "stdout",
     "output_type": "stream",
     "text": [
      "[[0 0 0]\n",
      " [0 0 0]\n",
      " [0 0 0]]\n"
     ]
    }
   ],
   "source": [
    "print(arr_0)"
   ]
  },
  {
   "cell_type": "code",
   "execution_count": 9,
   "metadata": {},
   "outputs": [
    {
     "name": "stdout",
     "output_type": "stream",
     "text": [
      "[[1 1 1]\n",
      " [1 1 1]\n",
      " [1 1 1]]\n"
     ]
    }
   ],
   "source": [
    "print(arr_1)"
   ]
  },
  {
   "cell_type": "code",
   "execution_count": 11,
   "metadata": {},
   "outputs": [
    {
     "name": "stdout",
     "output_type": "stream",
     "text": [
      "[[0 0 0]\n",
      " [0 0 0]\n",
      " [0 0 0]\n",
      " [1 1 1]\n",
      " [1 1 1]\n",
      " [1 1 1]]\n"
     ]
    }
   ],
   "source": [
    "# ahora vamos a unirlos usando la funcion concatenate\n",
    "\n",
    "np.concatenate((arr_0,arr_1),axis=0)\n"
   ]
  },
  {
   "cell_type": "code",
   "execution_count": null,
   "metadata": {},
   "outputs": [],
   "source": [
    "print(np.concatenate((arr_0,arr_1),axis=0))"
   ]
  },
  {
   "cell_type": "code",
   "execution_count": null,
   "metadata": {},
   "outputs": [],
   "source": []
  },
  {
   "cell_type": "code",
   "execution_count": 12,
   "metadata": {},
   "outputs": [
    {
     "data": {
      "text/plain": [
       "array([[0, 0, 0, 1, 1, 1],\n",
       "       [0, 0, 0, 1, 1, 1],\n",
       "       [0, 0, 0, 1, 1, 1]])"
      ]
     },
     "execution_count": 12,
     "metadata": {},
     "output_type": "execute_result"
    }
   ],
   "source": [
    "np.concatenate((arr_0,arr_1),axis=1)"
   ]
  },
  {
   "cell_type": "code",
   "execution_count": 13,
   "metadata": {},
   "outputs": [
    {
     "name": "stdout",
     "output_type": "stream",
     "text": [
      "[[0 0 0 1 1 1]\n",
      " [0 0 0 1 1 1]\n",
      " [0 0 0 1 1 1]]\n"
     ]
    }
   ],
   "source": [
    "print(np.concatenate((arr_0,arr_1),axis=1))"
   ]
  },
  {
   "cell_type": "code",
   "execution_count": null,
   "metadata": {},
   "outputs": [],
   "source": []
  },
  {
   "cell_type": "code",
   "execution_count": 20,
   "metadata": {},
   "outputs": [
    {
     "name": "stdout",
     "output_type": "stream",
     "text": [
      "(1, 3)\n",
      "(5, 3)\n"
     ]
    }
   ],
   "source": [
    "# Los arreglos tienen que tener la misma forma (shape), excepto en la dimension correspondiente al 'axis' \n",
    "# para la concatenacion\n",
    "\n",
    "# Que quiere decir esto?\n",
    "\n",
    "arr_0 = np.zeros((1,3),dtype=int)\n",
    "arr_1 = np.ones((5,3),dtype=int)\n",
    "\n",
    "print(arr_0.shape)\n",
    "print(arr_1.shape)"
   ]
  },
  {
   "cell_type": "code",
   "execution_count": 22,
   "metadata": {},
   "outputs": [
    {
     "data": {
      "text/plain": [
       "array([[0, 0, 0],\n",
       "       [1, 1, 1],\n",
       "       [1, 1, 1],\n",
       "       [1, 1, 1],\n",
       "       [1, 1, 1],\n",
       "       [1, 1, 1]])"
      ]
     },
     "execution_count": 22,
     "metadata": {},
     "output_type": "execute_result"
    }
   ],
   "source": [
    "np.concatenate((arr_0,arr_1),axis=0)"
   ]
  },
  {
   "cell_type": "code",
   "execution_count": 23,
   "metadata": {},
   "outputs": [
    {
     "ename": "ValueError",
     "evalue": "all the input array dimensions for the concatenation axis must match exactly, but along dimension 0, the array at index 0 has size 1 and the array at index 1 has size 5",
     "output_type": "error",
     "traceback": [
      "\u001b[1;31m---------------------------------------------------------------------------\u001b[0m",
      "\u001b[1;31mValueError\u001b[0m                                Traceback (most recent call last)",
      "\u001b[1;32m<ipython-input-23-00ed33838c61>\u001b[0m in \u001b[0;36m<module>\u001b[1;34m\u001b[0m\n\u001b[1;32m----> 1\u001b[1;33m \u001b[0mnp\u001b[0m\u001b[1;33m.\u001b[0m\u001b[0mconcatenate\u001b[0m\u001b[1;33m(\u001b[0m\u001b[1;33m(\u001b[0m\u001b[0marr_0\u001b[0m\u001b[1;33m,\u001b[0m\u001b[0marr_1\u001b[0m\u001b[1;33m)\u001b[0m\u001b[1;33m,\u001b[0m\u001b[0maxis\u001b[0m\u001b[1;33m=\u001b[0m\u001b[1;36m1\u001b[0m\u001b[1;33m)\u001b[0m\u001b[1;33m\u001b[0m\u001b[0m\n\u001b[0m",
      "\u001b[1;32m<__array_function__ internals>\u001b[0m in \u001b[0;36mconcatenate\u001b[1;34m(*args, **kwargs)\u001b[0m\n",
      "\u001b[1;31mValueError\u001b[0m: all the input array dimensions for the concatenation axis must match exactly, but along dimension 0, the array at index 0 has size 1 and the array at index 1 has size 5"
     ]
    }
   ],
   "source": [
    "np.concatenate((arr_0,arr_1),axis=1)"
   ]
  },
  {
   "cell_type": "code",
   "execution_count": null,
   "metadata": {},
   "outputs": [],
   "source": []
  },
  {
   "cell_type": "markdown",
   "metadata": {},
   "source": [
    "### sum y prod\n",
    "\n",
    "Nos permiten calcular la suma y el producto de todos los elementos de un arreglo"
   ]
  },
  {
   "cell_type": "code",
   "execution_count": 40,
   "metadata": {},
   "outputs": [
    {
     "data": {
      "text/plain": [
       "array([[  1,   2,   3,   4,   5,   6,   7,   8,   9,  10],\n",
       "       [ 11,  12,  13,  14,  15,  16,  17,  18,  19,  20],\n",
       "       [ 21,  22,  23,  24,  25,  26,  27,  28,  29,  30],\n",
       "       [ 31,  32,  33,  34,  35,  36,  37,  38,  39,  40],\n",
       "       [ 41,  42,  43,  44,  45,  46,  47,  48,  49,  50],\n",
       "       [ 51,  52,  53,  54,  55,  56,  57,  58,  59,  60],\n",
       "       [ 61,  62,  63,  64,  65,  66,  67,  68,  69,  70],\n",
       "       [ 71,  72,  73,  74,  75,  76,  77,  78,  79,  80],\n",
       "       [ 81,  82,  83,  84,  85,  86,  87,  88,  89,  90],\n",
       "       [ 91,  92,  93,  94,  95,  96,  97,  98,  99, 100]])"
      ]
     },
     "execution_count": 40,
     "metadata": {},
     "output_type": "execute_result"
    }
   ],
   "source": [
    "# creamos el arreglo con todos los numero enteros del 1 al 100\n",
    "\n",
    "arr_suma = np.arange(1,101)\n",
    "arr_suma = arr_suma.reshape((10,10))\n",
    "\n",
    "arr_suma"
   ]
  },
  {
   "cell_type": "code",
   "execution_count": 33,
   "metadata": {
    "scrolled": true
   },
   "outputs": [
    {
     "data": {
      "text/plain": [
       "5050"
      ]
     },
     "execution_count": 33,
     "metadata": {},
     "output_type": "execute_result"
    }
   ],
   "source": [
    "# suma de todos los elementos\n",
    "arr.sum()"
   ]
  },
  {
   "cell_type": "code",
   "execution_count": 34,
   "metadata": {},
   "outputs": [
    {
     "data": {
      "text/plain": [
       "array([460, 470, 480, 490, 500, 510, 520, 530, 540, 550])"
      ]
     },
     "execution_count": 34,
     "metadata": {},
     "output_type": "execute_result"
    }
   ],
   "source": [
    "# suma de todos los elementos por columna\n",
    "arr.sum(axis=0)"
   ]
  },
  {
   "cell_type": "code",
   "execution_count": 35,
   "metadata": {},
   "outputs": [
    {
     "data": {
      "text/plain": [
       "array([ 55, 155, 255, 355, 455, 555, 655, 755, 855, 955])"
      ]
     },
     "execution_count": 35,
     "metadata": {},
     "output_type": "execute_result"
    }
   ],
   "source": [
    "# suma de todos los elementos por fila\n",
    "arr.sum(axis=1)"
   ]
  },
  {
   "cell_type": "code",
   "execution_count": null,
   "metadata": {},
   "outputs": [],
   "source": []
  },
  {
   "cell_type": "code",
   "execution_count": null,
   "metadata": {},
   "outputs": [],
   "source": []
  },
  {
   "cell_type": "code",
   "execution_count": 41,
   "metadata": {},
   "outputs": [
    {
     "data": {
      "text/plain": [
       "array([[ 1.        ,  1.09090909,  1.18181818,  1.27272727,  1.36363636,\n",
       "         1.45454545,  1.54545455,  1.63636364,  1.72727273,  1.81818182],\n",
       "       [ 1.90909091,  2.        ,  2.09090909,  2.18181818,  2.27272727,\n",
       "         2.36363636,  2.45454545,  2.54545455,  2.63636364,  2.72727273],\n",
       "       [ 2.81818182,  2.90909091,  3.        ,  3.09090909,  3.18181818,\n",
       "         3.27272727,  3.36363636,  3.45454545,  3.54545455,  3.63636364],\n",
       "       [ 3.72727273,  3.81818182,  3.90909091,  4.        ,  4.09090909,\n",
       "         4.18181818,  4.27272727,  4.36363636,  4.45454545,  4.54545455],\n",
       "       [ 4.63636364,  4.72727273,  4.81818182,  4.90909091,  5.        ,\n",
       "         5.09090909,  5.18181818,  5.27272727,  5.36363636,  5.45454545],\n",
       "       [ 5.54545455,  5.63636364,  5.72727273,  5.81818182,  5.90909091,\n",
       "         6.        ,  6.09090909,  6.18181818,  6.27272727,  6.36363636],\n",
       "       [ 6.45454545,  6.54545455,  6.63636364,  6.72727273,  6.81818182,\n",
       "         6.90909091,  7.        ,  7.09090909,  7.18181818,  7.27272727],\n",
       "       [ 7.36363636,  7.45454545,  7.54545455,  7.63636364,  7.72727273,\n",
       "         7.81818182,  7.90909091,  8.        ,  8.09090909,  8.18181818],\n",
       "       [ 8.27272727,  8.36363636,  8.45454545,  8.54545455,  8.63636364,\n",
       "         8.72727273,  8.81818182,  8.90909091,  9.        ,  9.09090909],\n",
       "       [ 9.18181818,  9.27272727,  9.36363636,  9.45454545,  9.54545455,\n",
       "         9.63636364,  9.72727273,  9.81818182,  9.90909091, 10.        ]])"
      ]
     },
     "execution_count": 41,
     "metadata": {},
     "output_type": "execute_result"
    }
   ],
   "source": [
    "# creamos el arreglo con todos los numero enteros del 1 al 100\n",
    "\n",
    "arr_prod = np.linspace(1,10,100)\n",
    "arr_prod = arr_prod.reshape((10,10))\n",
    "\n",
    "arr_prod"
   ]
  },
  {
   "cell_type": "code",
   "execution_count": 42,
   "metadata": {},
   "outputs": [
    {
     "data": {
      "text/plain": [
       "3.1760409707874524e+67"
      ]
     },
     "execution_count": 42,
     "metadata": {},
     "output_type": "execute_result"
    }
   ],
   "source": [
    "arr_prod.prod()"
   ]
  },
  {
   "cell_type": "code",
   "execution_count": 43,
   "metadata": {},
   "outputs": [
    {
     "data": {
      "text/plain": [
       "0"
      ]
     },
     "execution_count": 43,
     "metadata": {},
     "output_type": "execute_result"
    }
   ],
   "source": [
    "arr_suma.prod()"
   ]
  },
  {
   "cell_type": "code",
   "execution_count": 44,
   "metadata": {
    "scrolled": true
   },
   "outputs": [
    {
     "data": {
      "text/plain": [
       "9.33262154439441e+157"
      ]
     },
     "execution_count": 44,
     "metadata": {},
     "output_type": "execute_result"
    }
   ],
   "source": [
    "arr_suma.prod(dtype=float)"
   ]
  },
  {
   "cell_type": "markdown",
   "metadata": {},
   "source": [
    "### cumprod y cumsum"
   ]
  },
  {
   "cell_type": "markdown",
   "metadata": {},
   "source": [
    "**cumsum** nos devuelve la suma acumulada de los elementos del arreglo, incluso puede discriminarse sobre que eje hacer la operacion\n",
    "\n",
    "**cumprod** nos devuelve el producto acumulado de los elementos del arreglo, incluso puede discriminarse sobre que eje hacer la operacion"
   ]
  },
  {
   "cell_type": "code",
   "execution_count": 45,
   "metadata": {},
   "outputs": [
    {
     "data": {
      "text/plain": [
       "array([[  1,   2,   3,   4,   5,   6,   7,   8,   9,  10],\n",
       "       [ 11,  12,  13,  14,  15,  16,  17,  18,  19,  20],\n",
       "       [ 21,  22,  23,  24,  25,  26,  27,  28,  29,  30],\n",
       "       [ 31,  32,  33,  34,  35,  36,  37,  38,  39,  40],\n",
       "       [ 41,  42,  43,  44,  45,  46,  47,  48,  49,  50],\n",
       "       [ 51,  52,  53,  54,  55,  56,  57,  58,  59,  60],\n",
       "       [ 61,  62,  63,  64,  65,  66,  67,  68,  69,  70],\n",
       "       [ 71,  72,  73,  74,  75,  76,  77,  78,  79,  80],\n",
       "       [ 81,  82,  83,  84,  85,  86,  87,  88,  89,  90],\n",
       "       [ 91,  92,  93,  94,  95,  96,  97,  98,  99, 100]])"
      ]
     },
     "execution_count": 45,
     "metadata": {},
     "output_type": "execute_result"
    }
   ],
   "source": [
    "# creemos un arreglo con todos los numero enteros del 1 al 100\n",
    "\n",
    "arr = np.arange(1,101)\n",
    "arr = arr.reshape((10,10))\n",
    "\n",
    "arr"
   ]
  },
  {
   "cell_type": "code",
   "execution_count": 46,
   "metadata": {},
   "outputs": [
    {
     "data": {
      "text/plain": [
       "array([   1,    3,    6,   10,   15,   21,   28,   36,   45,   55,   66,\n",
       "         78,   91,  105,  120,  136,  153,  171,  190,  210,  231,  253,\n",
       "        276,  300,  325,  351,  378,  406,  435,  465,  496,  528,  561,\n",
       "        595,  630,  666,  703,  741,  780,  820,  861,  903,  946,  990,\n",
       "       1035, 1081, 1128, 1176, 1225, 1275, 1326, 1378, 1431, 1485, 1540,\n",
       "       1596, 1653, 1711, 1770, 1830, 1891, 1953, 2016, 2080, 2145, 2211,\n",
       "       2278, 2346, 2415, 2485, 2556, 2628, 2701, 2775, 2850, 2926, 3003,\n",
       "       3081, 3160, 3240, 3321, 3403, 3486, 3570, 3655, 3741, 3828, 3916,\n",
       "       4005, 4095, 4186, 4278, 4371, 4465, 4560, 4656, 4753, 4851, 4950,\n",
       "       5050], dtype=int32)"
      ]
     },
     "execution_count": 46,
     "metadata": {},
     "output_type": "execute_result"
    }
   ],
   "source": [
    "# suma acumulada de todos los elementos\n",
    "\n",
    "np.cumsum(arr)"
   ]
  },
  {
   "cell_type": "code",
   "execution_count": 47,
   "metadata": {},
   "outputs": [
    {
     "data": {
      "text/plain": [
       "array([[  1,   2,   3,   4,   5,   6,   7,   8,   9,  10],\n",
       "       [ 12,  14,  16,  18,  20,  22,  24,  26,  28,  30],\n",
       "       [ 33,  36,  39,  42,  45,  48,  51,  54,  57,  60],\n",
       "       [ 64,  68,  72,  76,  80,  84,  88,  92,  96, 100],\n",
       "       [105, 110, 115, 120, 125, 130, 135, 140, 145, 150],\n",
       "       [156, 162, 168, 174, 180, 186, 192, 198, 204, 210],\n",
       "       [217, 224, 231, 238, 245, 252, 259, 266, 273, 280],\n",
       "       [288, 296, 304, 312, 320, 328, 336, 344, 352, 360],\n",
       "       [369, 378, 387, 396, 405, 414, 423, 432, 441, 450],\n",
       "       [460, 470, 480, 490, 500, 510, 520, 530, 540, 550]], dtype=int32)"
      ]
     },
     "execution_count": 47,
     "metadata": {},
     "output_type": "execute_result"
    }
   ],
   "source": [
    "# suma acumulada de los elementos por columna\n",
    "np.cumsum(arr,axis=0)"
   ]
  },
  {
   "cell_type": "code",
   "execution_count": 48,
   "metadata": {},
   "outputs": [
    {
     "data": {
      "text/plain": [
       "array([[  1,   3,   6,  10,  15,  21,  28,  36,  45,  55],\n",
       "       [ 11,  23,  36,  50,  65,  81,  98, 116, 135, 155],\n",
       "       [ 21,  43,  66,  90, 115, 141, 168, 196, 225, 255],\n",
       "       [ 31,  63,  96, 130, 165, 201, 238, 276, 315, 355],\n",
       "       [ 41,  83, 126, 170, 215, 261, 308, 356, 405, 455],\n",
       "       [ 51, 103, 156, 210, 265, 321, 378, 436, 495, 555],\n",
       "       [ 61, 123, 186, 250, 315, 381, 448, 516, 585, 655],\n",
       "       [ 71, 143, 216, 290, 365, 441, 518, 596, 675, 755],\n",
       "       [ 81, 163, 246, 330, 415, 501, 588, 676, 765, 855],\n",
       "       [ 91, 183, 276, 370, 465, 561, 658, 756, 855, 955]], dtype=int32)"
      ]
     },
     "execution_count": 48,
     "metadata": {},
     "output_type": "execute_result"
    }
   ],
   "source": [
    "# suma acumulada de los elementos por fila\n",
    "np.cumsum(arr,axis=1)"
   ]
  },
  {
   "cell_type": "markdown",
   "metadata": {},
   "source": [
    "De nuevo, este tema de los axis lo vamos a ver mas en detalle cuando veamos el modulo de pandas, asique por el momento confien en mi y no se detengan tanto en ello."
   ]
  },
  {
   "cell_type": "code",
   "execution_count": null,
   "metadata": {},
   "outputs": [],
   "source": []
  },
  {
   "cell_type": "markdown",
   "metadata": {},
   "source": [
    "# MANOS A LA OBRA"
   ]
  },
  {
   "cell_type": "markdown",
   "metadata": {},
   "source": [
    "EJERCICIO 1: Debes utilizar numpy\n",
    "1. ingresa por teclado la cantidad filas\n",
    "2. ingresa por teclado la cantidad columnas\n",
    "3. crea un arreglo de numpy de dimension filas columnas con elementos de tipo float.\n",
    "4. rellena el array con 5.1\n",
    "5. imprime shape,dimension, tipo y el arreglo"
   ]
  },
  {
   "cell_type": "code",
   "execution_count": null,
   "metadata": {},
   "outputs": [],
   "source": [
    "import numpy as np\n",
    "filas = int(input())\n",
    "col = int(input())\n",
    "arreglo = np.ones((filas,col),dtype=float)*5.1\n",
    "print(arreglo.shape)\n",
    "print(arreglo.ndim, arreglo.dtype)\n",
    "print(arreglo)"
   ]
  },
  {
   "cell_type": "code",
   "execution_count": null,
   "metadata": {},
   "outputs": [],
   "source": []
  },
  {
   "cell_type": "markdown",
   "metadata": {},
   "source": [
    "EJERCICIO 2\n",
    "\n",
    "Ingrese al programa un numero entero 'n'. \n",
    "\n",
    "Crea un array de n elementos enteros consecutivos (de 0 a n).\n",
    "\n",
    "Reformatea el array a un array cuadrado (reshape)\n",
    "\n",
    "Imprima las dimensiones (ndim) , el tipo del array y el array "
   ]
  },
  {
   "cell_type": "code",
   "execution_count": null,
   "metadata": {},
   "outputs": [],
   "source": [
    "from math import sqrt\n",
    "import numpy as np\n",
    "\n",
    "n = int(input())\n",
    "\n",
    "arreglo = np.arange(0,n)\n",
    "n = int(sqrt(n))\n",
    "arreglo = arreglo.reshape(n,n)\n",
    "print(arreglo.shape, arreglo.dtype)\n",
    "print(arreglo)"
   ]
  }
 ],
 "metadata": {
  "kernelspec": {
   "display_name": "Python 3",
   "language": "python",
   "name": "python3"
  },
  "language_info": {
   "codemirror_mode": {
    "name": "ipython",
    "version": 3
   },
   "file_extension": ".py",
   "mimetype": "text/x-python",
   "name": "python",
   "nbconvert_exporter": "python",
   "pygments_lexer": "ipython3",
   "version": "3.7.0"
  }
 },
 "nbformat": 4,
 "nbformat_minor": 1
}
