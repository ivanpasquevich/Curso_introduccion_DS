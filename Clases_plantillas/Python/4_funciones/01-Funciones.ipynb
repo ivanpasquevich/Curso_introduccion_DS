{
 "cells": [
  {
   "cell_type": "markdown",
   "metadata": {},
   "source": [
    "# Funciones\n",
    "\n",
    "**Que es una funcion?**\n",
    "\n",
    "Una funcion, se presenta como un subalgoritmo que forma parte del algoritmo principal, el cual permite resolver una tarea específica.\n",
    "\n",
    "Una funcion es un objeto que agrupa un conjunto de instrucciones para resolver una tarea especifica, y al usarla (llamarla) vamos a ejecutar ese conjunto de instrucciones que la conforman.\n",
    "\n",
    "Cuando hablamos de funciones es importante diferenciar los terminos de **definir** una funcion y **llamar** a una funcion."
   ]
  },
  {
   "cell_type": "markdown",
   "metadata": {},
   "source": [
    "**Por que es tan importante su uso?**\n",
    "\n",
    "Las funciones nos van a permitir que no repitamos un conjunto de instrucciones una y otra vez dentro del codigo, sino que definimos estas intrucciones en la creacion de la funcion y luego las reutilizamos con solo llamar a la funcion."
   ]
  },
  {
   "cell_type": "markdown",
   "metadata": {},
   "source": [
    "## Sentencia def \n",
    "\n",
    "Veamos como **definir** (crear) una funcion en Python, a continuacion su sintaxis"
   ]
  },
  {
   "cell_type": "code",
   "execution_count": null,
   "metadata": {},
   "outputs": [],
   "source": [
    "def nombre_funcion(arg1,arg2):\n",
    "    '''\n",
    "    Aca va la documentacion de la funcion (docstring), explica lo que hace la funcion.\n",
    "    '''\n",
    "    # Hacer cosas\n",
    "    # Devolver algo (o no)"
   ]
  },
  {
   "cell_type": "markdown",
   "metadata": {},
   "source": [
    "- Comenzamos con la sentencia <code>def</code> un espacio y luego el nombre de la funcion (reglas nombres variables). Es importante que los nombres de las funciones sean representativos de las tareas que realizan.\n",
    "\n",
    "- Luego viene un par de parentesis con una cantidad  x de argumentos separados por comas. Estos argumentos van a ser las entradas de la funcion, uno puede usar estas entradas dentro de la funcion para hacer distintas operaciones, comparaciones, etc. \n",
    "\n",
    "- Luego vienen los famosos `:` que nos van a dar lugar a la indentacion. **Es indispensable que a partir de aca todo lo que se escriba en la funcion este indentado**\n",
    "\n",
    "- Luego vamos a ver el docstring, esto es opcional pero es buena practica incluirlo, sirve para dar un entendimiento basico de lo que hace la funcion a personas que no la crearon pero quieren usarla. Nosotros venimos consultando por esto bastantes seguido cuando usamos la funcion `help()`.\n",
    "\n",
    "- Despues de todo esto recien empezamos a escribir el codigo que queramos que se ejecute cuando llamemos a nuestra funcion.\n",
    "\n",
    "- Por ultimo las funciones suelen devolvernos algo, el resultado de alguna cuenta, un estado de condicion o cualquier objeto incluso otra funcion. De todos modos existen funciones que no devuelven nada, solo realizan instrucciones."
   ]
  },
  {
   "cell_type": "markdown",
   "metadata": {},
   "source": [
    "Ahora veamos como **llamar** a la funcion que acabamos de definir"
   ]
  },
  {
   "cell_type": "code",
   "execution_count": null,
   "metadata": {},
   "outputs": [],
   "source": []
  },
  {
   "cell_type": "markdown",
   "metadata": {},
   "source": [
    "### Ahora entendamos con ejemplos"
   ]
  },
  {
   "cell_type": "markdown",
   "metadata": {},
   "source": [
    "#### Ej 1"
   ]
  },
  {
   "cell_type": "markdown",
   "metadata": {},
   "source": [
    "Definimos"
   ]
  },
  {
   "cell_type": "code",
   "execution_count": null,
   "metadata": {},
   "outputs": [],
   "source": []
  },
  {
   "cell_type": "markdown",
   "metadata": {},
   "source": [
    "Llamamos"
   ]
  },
  {
   "cell_type": "code",
   "execution_count": null,
   "metadata": {},
   "outputs": [],
   "source": []
  },
  {
   "cell_type": "markdown",
   "metadata": {},
   "source": [
    "##### Ej 2\n"
   ]
  },
  {
   "cell_type": "code",
   "execution_count": null,
   "metadata": {},
   "outputs": [],
   "source": []
  },
  {
   "cell_type": "code",
   "execution_count": null,
   "metadata": {},
   "outputs": [],
   "source": []
  },
  {
   "cell_type": "code",
   "execution_count": null,
   "metadata": {},
   "outputs": [],
   "source": []
  },
  {
   "cell_type": "markdown",
   "metadata": {},
   "source": [
    "#### Ej 3"
   ]
  },
  {
   "cell_type": "code",
   "execution_count": null,
   "metadata": {},
   "outputs": [],
   "source": []
  },
  {
   "cell_type": "code",
   "execution_count": null,
   "metadata": {},
   "outputs": [],
   "source": []
  },
  {
   "cell_type": "code",
   "execution_count": null,
   "metadata": {},
   "outputs": [],
   "source": []
  },
  {
   "cell_type": "code",
   "execution_count": null,
   "metadata": {},
   "outputs": [],
   "source": []
  },
  {
   "cell_type": "code",
   "execution_count": null,
   "metadata": {},
   "outputs": [],
   "source": []
  },
  {
   "cell_type": "markdown",
   "metadata": {},
   "source": [
    "## Usando return\n",
    "\n",
    "Hasta ahora estas funciones solo imprimen cosas, pero no nos devuelven nada.\n",
    "\n",
    "Para que una funcion nos devuelva un objeto necesitamos usar la sentencia <code>return</code>, este objeto devuelto podra ser asignado a una variable o usado de la manera que se desee.\n",
    "\n",
    "#### Ej 4"
   ]
  },
  {
   "cell_type": "code",
   "execution_count": null,
   "metadata": {},
   "outputs": [],
   "source": []
  },
  {
   "cell_type": "code",
   "execution_count": null,
   "metadata": {},
   "outputs": [],
   "source": []
  },
  {
   "cell_type": "code",
   "execution_count": null,
   "metadata": {},
   "outputs": [],
   "source": [
    "# Podemos guardar lo que devuelve la funcion en una variable\n"
   ]
  },
  {
   "cell_type": "code",
   "execution_count": null,
   "metadata": {},
   "outputs": [],
   "source": []
  },
  {
   "cell_type": "markdown",
   "metadata": {},
   "source": [
    "Que pasa si ponemos dos strings como entrada?"
   ]
  },
  {
   "cell_type": "code",
   "execution_count": null,
   "metadata": {},
   "outputs": [],
   "source": []
  },
  {
   "cell_type": "markdown",
   "metadata": {},
   "source": [
    "Como en Python no es necesario que declaremos el tipo de variables podemos sumar strings o incluso listas.\n",
    "\n",
    "Incluso podemos usar las sentencias  <code>break</code>, <code>continue</code>, and <code>pass</code> que vimos en los ciclos while."
   ]
  },
  {
   "cell_type": "markdown",
   "metadata": {
    "collapsed": true
   },
   "source": [
    "#### Ej 5\n",
    "\n",
    "Creamos una funcion para decir si cierto numero es primo o no"
   ]
  },
  {
   "cell_type": "code",
   "execution_count": null,
   "metadata": {},
   "outputs": [],
   "source": []
  },
  {
   "cell_type": "code",
   "execution_count": null,
   "metadata": {},
   "outputs": [],
   "source": []
  },
  {
   "cell_type": "code",
   "execution_count": null,
   "metadata": {},
   "outputs": [],
   "source": []
  },
  {
   "cell_type": "markdown",
   "metadata": {},
   "source": [
    "**Que pasa si reemplazamos el <code>break</code> por el <code>return</code> ?**"
   ]
  },
  {
   "cell_type": "code",
   "execution_count": null,
   "metadata": {},
   "outputs": [],
   "source": []
  },
  {
   "cell_type": "code",
   "execution_count": null,
   "metadata": {},
   "outputs": [],
   "source": []
  },
  {
   "cell_type": "markdown",
   "metadata": {},
   "source": [
    "## Parametros"
   ]
  },
  {
   "cell_type": "markdown",
   "metadata": {},
   "source": [
    "\n",
    "#### Posicionales\n",
    "\n",
    "Son los que venimos viendo hasta ahora, se identifican por la posicion que ocupan dentro de los argumentos.\n",
    "\n",
    "#### Con asignacion\n",
    "\n",
    "Podemos usar asignacion de variables dentro del parentesis a la hora de definir la funcion para crear parametros por defecto.\n",
    "\n",
    "Esto es sumamente utilizado en la mayoria de las funciones."
   ]
  },
  {
   "cell_type": "code",
   "execution_count": null,
   "metadata": {},
   "outputs": [],
   "source": []
  },
  {
   "cell_type": "code",
   "execution_count": null,
   "metadata": {},
   "outputs": [],
   "source": []
  },
  {
   "cell_type": "code",
   "execution_count": null,
   "metadata": {},
   "outputs": [],
   "source": []
  },
  {
   "cell_type": "code",
   "execution_count": null,
   "metadata": {},
   "outputs": [],
   "source": []
  },
  {
   "cell_type": "markdown",
   "metadata": {},
   "source": [
    "Veamos ahora que pasa cuando tenemos mas de un parametro."
   ]
  },
  {
   "cell_type": "code",
   "execution_count": null,
   "metadata": {},
   "outputs": [],
   "source": [
    "def presentacion_formal(nombre='Joaquin', apellido=\"Perez\", ciudad='Alta Gracia'):\n",
    "    print(f'Hola mi nombre es {nombre} y mi apellido {apellido} y vivo en {ciudad}')"
   ]
  },
  {
   "cell_type": "code",
   "execution_count": null,
   "metadata": {},
   "outputs": [],
   "source": []
  },
  {
   "cell_type": "code",
   "execution_count": null,
   "metadata": {},
   "outputs": [],
   "source": []
  },
  {
   "cell_type": "code",
   "execution_count": null,
   "metadata": {},
   "outputs": [],
   "source": []
  },
  {
   "cell_type": "markdown",
   "metadata": {},
   "source": [
    "**Importante**\n",
    "\n",
    "Hay que respetar el orden de los parametros, podemos combinar parametros posicionales y con asignacion, pero **el orden es siempre los parametros posicionales y luego los demas**"
   ]
  },
  {
   "cell_type": "code",
   "execution_count": null,
   "metadata": {},
   "outputs": [],
   "source": [
    "presentacion_formal(ciudad = \"lopez\",\"ivan\")"
   ]
  },
  {
   "cell_type": "markdown",
   "metadata": {},
   "source": [
    "**Para quienes quieran profundizar un poco**\n",
    "\n",
    "[args y kwargs](https://recursospython.com/guias-y-manuales/argumentos-args-kwargs/)"
   ]
  },
  {
   "cell_type": "code",
   "execution_count": null,
   "metadata": {},
   "outputs": [],
   "source": []
  },
  {
   "cell_type": "markdown",
   "metadata": {},
   "source": [
    "# MANOS A LA OBRA"
   ]
  },
  {
   "cell_type": "markdown",
   "metadata": {},
   "source": [
    " Crear una funcion llamada encontrar_palabra a la que se le pasaran 2 parametros:\n",
    " \n",
    " una lista con distintos strings como elementos y una palabra a encontrar ('algo' por defecto).\n",
    " \n",
    " La funcion debe procesar dichos datos y quedarnos con todas las frases que contengan la palabra\n",
    " 'algo' por lo menos una vez.\n",
    " \n",
    " Devolver una lista tuplas (frase,posicion en la lista).\n",
    "\n"
   ]
  },
  {
   "cell_type": "code",
   "execution_count": null,
   "metadata": {},
   "outputs": [],
   "source": [
    "lista_palabras = ['Un dia como hoy', 'La manzana es roja', 'Oraciones sin sentido como estas',\n",
    "                 'Medialunas con jamon y queso', 'Como hacer una torta?', 'Como decir que no']"
   ]
  },
  {
   "cell_type": "code",
   "execution_count": null,
   "metadata": {},
   "outputs": [],
   "source": []
  },
  {
   "cell_type": "code",
   "execution_count": null,
   "metadata": {},
   "outputs": [],
   "source": []
  },
  {
   "cell_type": "code",
   "execution_count": null,
   "metadata": {},
   "outputs": [],
   "source": []
  },
  {
   "cell_type": "code",
   "execution_count": null,
   "metadata": {},
   "outputs": [],
   "source": []
  },
  {
   "cell_type": "code",
   "execution_count": null,
   "metadata": {},
   "outputs": [],
   "source": [
    "# pero que pasa en el siguiente ejemplo\n",
    "\n",
    "lista_palabras = ['Un dia como hoy', 'La manzana es roja por comodidad', 'Oraciones sin sentido como estas']"
   ]
  },
  {
   "cell_type": "code",
   "execution_count": null,
   "metadata": {
    "scrolled": true
   },
   "outputs": [],
   "source": [
    "encontrar_palabra(lista_palabras,'como')"
   ]
  }
 ],
 "metadata": {
  "kernelspec": {
   "display_name": "Python 3",
   "language": "python",
   "name": "python3"
  },
  "language_info": {
   "codemirror_mode": {
    "name": "ipython",
    "version": 3
   },
   "file_extension": ".py",
   "mimetype": "text/x-python",
   "name": "python",
   "nbconvert_exporter": "python",
   "pygments_lexer": "ipython3",
   "version": "3.7.0"
  }
 },
 "nbformat": 4,
 "nbformat_minor": 1
}
