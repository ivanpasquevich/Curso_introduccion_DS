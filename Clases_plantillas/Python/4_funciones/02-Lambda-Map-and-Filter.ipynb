{
 "cells": [
  {
   "cell_type": "markdown",
   "metadata": {},
   "source": [
    "# Expresiones Lambda , Map y Filter\n",
    "\n",
    "Lo que vamos a aprender ahora es sobre dos funciones propias de Python `map` y `filter`.\n",
    "\n",
    "Luego vamos a aprender acerda de las expresiones `lambda`, que son utiles y muy usadas cuando queremos hacer alguna operacion sin necesidad de crear una funcion.\n"
   ]
  },
  {
   "cell_type": "markdown",
   "metadata": {},
   "source": [
    "## Funcion map\n",
    "\n",
    "La funcion **`map`** nos va a permitir justamente mapear una funcion sobre un objeto iterable. Es decir vamos a poder llamar a la funcion con cada elemento de nuestro iterable.\n"
   ]
  },
  {
   "cell_type": "code",
   "execution_count": null,
   "metadata": {},
   "outputs": [],
   "source": [
    "def cuadrado(num):\n",
    "    return num**2"
   ]
  },
  {
   "cell_type": "code",
   "execution_count": null,
   "metadata": {},
   "outputs": [],
   "source": [
    "my_nums = [1,2,3,4,5]"
   ]
  },
  {
   "cell_type": "code",
   "execution_count": null,
   "metadata": {},
   "outputs": [],
   "source": []
  },
  {
   "cell_type": "code",
   "execution_count": null,
   "metadata": {},
   "outputs": [],
   "source": []
  },
  {
   "cell_type": "code",
   "execution_count": null,
   "metadata": {},
   "outputs": [],
   "source": []
  },
  {
   "cell_type": "code",
   "execution_count": null,
   "metadata": {},
   "outputs": [],
   "source": []
  },
  {
   "cell_type": "code",
   "execution_count": null,
   "metadata": {},
   "outputs": [],
   "source": []
  },
  {
   "cell_type": "markdown",
   "metadata": {},
   "source": [
    "Incluso podemos hacer uso de una funcion mas compleja"
   ]
  },
  {
   "cell_type": "code",
   "execution_count": null,
   "metadata": {},
   "outputs": [],
   "source": []
  },
  {
   "cell_type": "code",
   "execution_count": null,
   "metadata": {},
   "outputs": [],
   "source": []
  },
  {
   "cell_type": "code",
   "execution_count": null,
   "metadata": {},
   "outputs": [],
   "source": [
    "nombres = ['Juan','Cintia','Sara','Carla','Miguel']"
   ]
  },
  {
   "cell_type": "code",
   "execution_count": null,
   "metadata": {},
   "outputs": [],
   "source": [
    "list(map(nombre_par,nombres))"
   ]
  },
  {
   "cell_type": "markdown",
   "metadata": {},
   "source": [
    "___\n",
    "\n",
    "Podemos ver el tiempo de ejecucion de las celdas con **comandos magicos del jupyter notebook**.\n",
    "Para aquellos curiosos que quieren indagar en performance les dejo este sencillo articulo.\n",
    "\n",
    "[calcular el tiempo de ejecucion](https://www.analyticslane.com/2019/04/12/seis-comandos-magicos-de-jupyter-notebooks/)\n",
    "\n",
    "Y si aun quieren ir mas alla ...\n",
    "\n",
    "[lista de todos los comandos magicos del jupyter notebook](https://ipython.readthedocs.io/en/stable/interactive/magics.html)\n",
    "\n",
    "***"
   ]
  },
  {
   "cell_type": "markdown",
   "metadata": {},
   "source": [
    "## Funcion filter\n",
    "\n",
    "Al igual que la funcion map, esta funcion nos devuelve un generador. Dicho generador va a ir produciendo aquellos item del iterable que cumplan con la condicion `f(item)==True`.\n",
    "\n",
    "Es decir que vamos a quedarnos solo con aquellos items que cumplan con la (o las) condiciones aplicadas en la funcion f.\n",
    "\n",
    "Esto quiere decir que tenemos que usar `filter` con una funcion (f) que nos devuelva `True` or `False`.\n"
   ]
  },
  {
   "cell_type": "code",
   "execution_count": null,
   "metadata": {},
   "outputs": [],
   "source": []
  },
  {
   "cell_type": "code",
   "execution_count": null,
   "metadata": {},
   "outputs": [],
   "source": []
  },
  {
   "cell_type": "code",
   "execution_count": null,
   "metadata": {},
   "outputs": [],
   "source": []
  },
  {
   "cell_type": "code",
   "execution_count": null,
   "metadata": {},
   "outputs": [],
   "source": []
  },
  {
   "cell_type": "markdown",
   "metadata": {},
   "source": [
    "___\n"
   ]
  },
  {
   "cell_type": "markdown",
   "metadata": {
    "collapsed": true
   },
   "source": [
    "## Expresion lambda\n",
    "\n",
    "Una de las herramientas mas poderosas de Python (y un poco confusa para principiantes) son las expresiones lambda.\n",
    "\n",
    "Dichas expresiones nos permiten crear funciones 'anonimas', esto quiere decir que podemos crear funciones rapidamente para su uso sin tener que usar la sentencia `def`\n",
    "\n",
    "Los objetos devueltos por una funcion lambda funcionan exactamente como en una funcion creada con `def`, hay una diferencia marcada en lo que es la sintaxis entre estas funciones:\n",
    "\n",
    "**El cuerpo de la lambda es una sola expresion, no un bloque de codigo**\n",
    "\n",
    "* Es por esto que las funciones lambda van a usarse para funciones simples y las funciones def van a permitirnos realizar tareas mas largas y complejas\n"
   ]
  },
  {
   "cell_type": "markdown",
   "metadata": {},
   "source": [
    "---\n",
    "Veamos entonces como contruir una funcion lambda\n"
   ]
  },
  {
   "cell_type": "code",
   "execution_count": null,
   "metadata": {},
   "outputs": [],
   "source": []
  },
  {
   "cell_type": "code",
   "execution_count": null,
   "metadata": {},
   "outputs": [],
   "source": []
  },
  {
   "cell_type": "markdown",
   "metadata": {},
   "source": [
    "Simplificando"
   ]
  },
  {
   "cell_type": "code",
   "execution_count": null,
   "metadata": {},
   "outputs": [],
   "source": []
  },
  {
   "cell_type": "code",
   "execution_count": null,
   "metadata": {},
   "outputs": [],
   "source": []
  },
  {
   "cell_type": "markdown",
   "metadata": {},
   "source": [
    "Incluso podemos ponerlo todo en una linea"
   ]
  },
  {
   "cell_type": "code",
   "execution_count": null,
   "metadata": {},
   "outputs": [],
   "source": []
  },
  {
   "cell_type": "code",
   "execution_count": null,
   "metadata": {},
   "outputs": [],
   "source": []
  },
  {
   "cell_type": "markdown",
   "metadata": {},
   "source": [
    "Esta es la forma de la expresion que la lambda intenta replicar, entonces transformemosla.\n",
    "\n",
    "Para ello debemos eliminar `def`, el nombre de la funcion y el return.\n"
   ]
  },
  {
   "cell_type": "code",
   "execution_count": null,
   "metadata": {},
   "outputs": [],
   "source": []
  },
  {
   "cell_type": "code",
   "execution_count": null,
   "metadata": {},
   "outputs": [],
   "source": []
  },
  {
   "cell_type": "code",
   "execution_count": null,
   "metadata": {},
   "outputs": [],
   "source": []
  },
  {
   "cell_type": "markdown",
   "metadata": {},
   "source": [
    "**Y ENTONCES DE QUE NOS SIRVE ?**\n",
    "\n",
    "Muchas llamadas a funciones necesitan como parametro otras funciones, por ejemplo las funciones `map` Y `filter` que acabamos de ver.\n",
    "\n",
    "Hay veces que solo vamos a usar funciones una sola vez, entonces en vez de definirlas y despues pasarlas como parametro, podemos crearla con la expresion lambda.\n",
    "\n",
    "Veamos algunos ejemplos para que se entienda mejor.\n"
   ]
  },
  {
   "cell_type": "code",
   "execution_count": null,
   "metadata": {},
   "outputs": [],
   "source": []
  },
  {
   "cell_type": "code",
   "execution_count": null,
   "metadata": {},
   "outputs": [],
   "source": []
  },
  {
   "cell_type": "code",
   "execution_count": null,
   "metadata": {},
   "outputs": [],
   "source": []
  },
  {
   "cell_type": "markdown",
   "metadata": {},
   "source": [
    "** Lambda expression para agarrar el primer caracter de un string **"
   ]
  },
  {
   "cell_type": "code",
   "execution_count": null,
   "metadata": {},
   "outputs": [],
   "source": []
  },
  {
   "cell_type": "markdown",
   "metadata": {},
   "source": [
    "** Lambda expression para revertir un string **"
   ]
  },
  {
   "cell_type": "code",
   "execution_count": null,
   "metadata": {},
   "outputs": [],
   "source": []
  },
  {
   "cell_type": "markdown",
   "metadata": {},
   "source": [
    "Incluso podemos pasar multiples argumentos a una funcion lambda, pero recuerden **no todas las funciones van a poder realizarse con expresiones lambda**\n"
   ]
  },
  {
   "cell_type": "code",
   "execution_count": null,
   "metadata": {},
   "outputs": [],
   "source": []
  },
  {
   "cell_type": "code",
   "execution_count": null,
   "metadata": {},
   "outputs": [],
   "source": []
  },
  {
   "cell_type": "markdown",
   "metadata": {},
   "source": [
    "La libreria Pandas funciona muy bien en conjunto con las expresiones lambda, asique estaria bueno que practiquemos este tema !!"
   ]
  }
 ],
 "metadata": {
  "kernelspec": {
   "display_name": "Python 3",
   "language": "python",
   "name": "python3"
  },
  "language_info": {
   "codemirror_mode": {
    "name": "ipython",
    "version": 3
   },
   "file_extension": ".py",
   "mimetype": "text/x-python",
   "name": "python",
   "nbconvert_exporter": "python",
   "pygments_lexer": "ipython3",
   "version": "3.7.0"
  }
 },
 "nbformat": 4,
 "nbformat_minor": 2
}
