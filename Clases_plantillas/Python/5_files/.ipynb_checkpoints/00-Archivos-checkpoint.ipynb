{
 "cells": [
  {
   "cell_type": "markdown",
   "metadata": {},
   "source": [
    "# Trabajemos con archivos (files)\n",
    "\n",
    "Python usa el objeto de tipo `file` para interactuar con archivos de la computadora.\n",
    "\n",
    "Estos objetos pueden hacer referencia a practicamente cualquier tipo de archivo que tengamos en el computador, ya sea un archivo de audio, video, texto, excel, etc.\n",
    "\n",
    "Para trabajar con estos archivos vamos a necesitar el uso de modulos (librerias) especializadas para cada caso, pero ya vamos a ver como podemos descargarlas y ademas son gratuitas !!\n",
    "\n",
    "Python tiene una funcion incorporada para interactuar con archivos de texto basicos, por lo que vamos a cubrir su uso en este notebook."
   ]
  },
  {
   "cell_type": "markdown",
   "metadata": {},
   "source": [
    "****"
   ]
  },
  {
   "cell_type": "markdown",
   "metadata": {},
   "source": [
    "### Escribir un archivo desde el notebook\n",
    "###### Esta funcion es propia de jupyter notebook. Ustedes pueden crear un archivo del modo convencional.\n"
   ]
  },
  {
   "cell_type": "code",
   "execution_count": null,
   "metadata": {},
   "outputs": [],
   "source": [
    "%%writefile prueba.txt\n",
    "Hola, vamos a escribir en nuestro block de notas"
   ]
  },
  {
   "cell_type": "markdown",
   "metadata": {},
   "source": [
    "******"
   ]
  },
  {
   "cell_type": "code",
   "execution_count": null,
   "metadata": {},
   "outputs": [],
   "source": []
  },
  {
   "cell_type": "markdown",
   "metadata": {},
   "source": [
    "## Abrindo un archivo\n",
    "\n",
    "Empecemos abriendo el archivo prueba.txt que acabamos de crear y que esta **en la misma direccion que este notebook**.\n",
    "\n",
    "Veamos que pasa si nos confundimos de nombre (o de ruta) del archivo"
   ]
  },
  {
   "cell_type": "code",
   "execution_count": null,
   "metadata": {},
   "outputs": [],
   "source": []
  },
  {
   "cell_type": "markdown",
   "metadata": {},
   "source": [
    "Para evitar este error hay que asegurarse que nuestro archivo .txt este guardado en la misma direccion (en la misma carpeta) que en la que esta nuestro notebook.\n",
    "\n",
    "Para ver donde estamos parados podemos tipear **pwd**\n"
   ]
  },
  {
   "cell_type": "code",
   "execution_count": null,
   "metadata": {},
   "outputs": [],
   "source": []
  },
  {
   "cell_type": "markdown",
   "metadata": {},
   "source": [
    "**"
   ]
  },
  {
   "cell_type": "markdown",
   "metadata": {},
   "source": [
    "**IMPORTANTE, para agarrar archivos ubicados en otra direccion, simplemente pasar la ruta al archivo**\n",
    "\n",
    "Para quienes tengan Windows hay que usar doble `\\` para que Python no trate a la `\\` como un caracter de escape, entonces la linea queda de la forma:\n",
    "\n",
    "    myfile = open(\"C:\\\\Users\\\\TuUsuario\\\\Carpeta\\\\myfile.txt\")\n",
    "\n",
    "Para quienes usen MacOS o Linux se usa la barra en la otra direccion `/`\n",
    "\n",
    "    myfile = open(\"/Users/TuUsuario/Carpeta/myfile.txt\")"
   ]
  },
  {
   "cell_type": "markdown",
   "metadata": {},
   "source": [
    "**"
   ]
  },
  {
   "cell_type": "markdown",
   "metadata": {},
   "source": [
    "A los fines practicos vamos a trabajar con un archivo ubicado en la misma direccion del notebook."
   ]
  },
  {
   "cell_type": "code",
   "execution_count": null,
   "metadata": {},
   "outputs": [],
   "source": [
    "# Abrimos el archivo que creamos en un principio\n"
   ]
  },
  {
   "cell_type": "code",
   "execution_count": null,
   "metadata": {},
   "outputs": [],
   "source": [
    "# Tipo de dato\n"
   ]
  },
  {
   "cell_type": "code",
   "execution_count": null,
   "metadata": {},
   "outputs": [],
   "source": [
    "# Ahora podemos leer nuestro archivo con el metodo .read()\n"
   ]
  },
  {
   "cell_type": "code",
   "execution_count": null,
   "metadata": {},
   "outputs": [],
   "source": [
    "# Pero que pasa si lo volvemos a leer?\n"
   ]
  },
  {
   "cell_type": "markdown",
   "metadata": {},
   "source": [
    "Imaginemos que una vez que leemos el archivo, nuestro 'cursor' esta ubicado al final del archivo, entonces si volvemos a leerlo, no vamos a leer nada, porque no cambiamos el cursor de lugar.\n",
    "\n",
    "Entonces simplemente hay que resetear el cursor a la posicion inicial.\n"
   ]
  },
  {
   "cell_type": "code",
   "execution_count": null,
   "metadata": {},
   "outputs": [],
   "source": [
    "# Seteamos el cursor al inicio del archivo (index 0)\n"
   ]
  },
  {
   "cell_type": "code",
   "execution_count": null,
   "metadata": {},
   "outputs": [],
   "source": [
    "# Ahora volvemos a leer\n"
   ]
  },
  {
   "cell_type": "markdown",
   "metadata": {},
   "source": [
    "Podemos leer linea por linea usando el metodo `.readlines()`. Hay que tener cuidado con archivos muy grandes porque estos metodos guardan toda la info en memoria.\n",
    "\n",
    "Ya vamos a ver como iterar linea por linea para solucionar este tema de performance.\n"
   ]
  },
  {
   "cell_type": "code",
   "execution_count": null,
   "metadata": {},
   "outputs": [],
   "source": [
    "# Readlines nos devuelve una lista con todas las lineas del  archivo\n",
    "\n"
   ]
  },
  {
   "cell_type": "markdown",
   "metadata": {},
   "source": [
    "Cuando terminamos de trabajar con un archivo, es muy buena practica cerrarlo.\n"
   ]
  },
  {
   "cell_type": "code",
   "execution_count": null,
   "metadata": {},
   "outputs": [],
   "source": []
  },
  {
   "cell_type": "code",
   "execution_count": null,
   "metadata": {},
   "outputs": [],
   "source": [
    "# que pasa si el archivo esta cerrado?\n"
   ]
  },
  {
   "cell_type": "markdown",
   "metadata": {},
   "source": [
    "### Para no olvidarnos de cerrar el archivo"
   ]
  },
  {
   "cell_type": "code",
   "execution_count": null,
   "metadata": {},
   "outputs": [],
   "source": []
  },
  {
   "cell_type": "code",
   "execution_count": null,
   "metadata": {},
   "outputs": [],
   "source": [
    "print(texto)"
   ]
  },
  {
   "cell_type": "code",
   "execution_count": null,
   "metadata": {},
   "outputs": [],
   "source": [
    "archivo.read()"
   ]
  },
  {
   "cell_type": "markdown",
   "metadata": {},
   "source": [
    "## Escribiendo archivos\n",
    "\n",
    "La funcion `open()` por defecto nos permite solo leer el archivo. Si nosotros necesitamos escribir sobre el mismo tenemos que pasar el argumento mode=\"w\"\n"
   ]
  },
  {
   "cell_type": "code",
   "execution_count": null,
   "metadata": {},
   "outputs": [],
   "source": []
  },
  {
   "cell_type": "code",
   "execution_count": null,
   "metadata": {},
   "outputs": [],
   "source": []
  },
  {
   "cell_type": "code",
   "execution_count": null,
   "metadata": {},
   "outputs": [],
   "source": []
  },
  {
   "cell_type": "code",
   "execution_count": null,
   "metadata": {},
   "outputs": [],
   "source": []
  },
  {
   "cell_type": "code",
   "execution_count": null,
   "metadata": {},
   "outputs": [],
   "source": []
  },
  {
   "cell_type": "code",
   "execution_count": null,
   "metadata": {},
   "outputs": [],
   "source": []
  },
  {
   "cell_type": "markdown",
   "metadata": {},
   "source": [
    "### <strong><font color='red'>Cuidado!</font></strong> \n",
    "\n",
    "Cuando abrimos un archivo con el modo `'w'` o `'w+'` **va a eliminar todo el contenido** del mismo para poder escribir sobre el."
   ]
  },
  {
   "cell_type": "code",
   "execution_count": null,
   "metadata": {},
   "outputs": [],
   "source": [
    "with open('prueba.txt',\"w+\") as archivo:\n",
    "    pass"
   ]
  },
  {
   "cell_type": "code",
   "execution_count": null,
   "metadata": {},
   "outputs": [],
   "source": [
    "my_file.close()  "
   ]
  },
  {
   "cell_type": "code",
   "execution_count": null,
   "metadata": {},
   "outputs": [],
   "source": []
  },
  {
   "cell_type": "code",
   "execution_count": null,
   "metadata": {},
   "outputs": [],
   "source": []
  },
  {
   "cell_type": "markdown",
   "metadata": {},
   "source": [
    "## Agregando texto a un archivo\n",
    "\n",
    "El argumento mode=`'a'` abre el archivo y pone el cursor al final del mismo, entonces todo lo que escribamos va a agregarse al final sin sobrescribir el contenido.\n",
    "\n",
    "Al igual que `'w+'`, `'a+'` nos permite leer el archivo.\n",
    "\n",
    "Tambien comparten de que si el archivo no existe, se crea.\n"
   ]
  },
  {
   "cell_type": "code",
   "execution_count": null,
   "metadata": {},
   "outputs": [],
   "source": [
    "my_file = open()\n",
    "my_file.write('\\nVamos a agregar esta linea de texto al archivo')\n",
    "my_file.write('\\nY por aca otra linea.')"
   ]
  },
  {
   "cell_type": "code",
   "execution_count": null,
   "metadata": {},
   "outputs": [],
   "source": []
  },
  {
   "cell_type": "code",
   "execution_count": null,
   "metadata": {},
   "outputs": [],
   "source": []
  },
  {
   "cell_type": "code",
   "execution_count": null,
   "metadata": {},
   "outputs": [],
   "source": [
    "my_file.close()"
   ]
  },
  {
   "cell_type": "markdown",
   "metadata": {},
   "source": [
    "## Iterando a traves de un archivo\n",
    "\n",
    "Podemos iterar a traves de un archivo para ir leyendo linea por linea.\n"
   ]
  },
  {
   "cell_type": "markdown",
   "metadata": {},
   "source": [
    "Now we can use a little bit of flow to tell the program to for through every line of the file and do something:"
   ]
  },
  {
   "cell_type": "code",
   "execution_count": null,
   "metadata": {},
   "outputs": [],
   "source": []
  },
  {
   "cell_type": "markdown",
   "metadata": {},
   "source": [
    "# MANOS A LA OBRA"
   ]
  },
  {
   "cell_type": "markdown",
   "metadata": {},
   "source": [
    "#### Ejercicio 1\n",
    "Leer un archivo llamado ejercicio.txt bajo las siguientes condiciones:\n",
    "1. Leerlo linea por linea (iterar sobre el archivo).\n",
    "2. Agregar a otro archivo llamado ejercicio1_resuelto.txt aquella lineas que contengan la palabra \"python\",\"Python\",\"PYTHON\" (y cualquiera de sus variaciones) o que tengan una cantidad par de palabras."
   ]
  },
  {
   "cell_type": "code",
   "execution_count": null,
   "metadata": {},
   "outputs": [],
   "source": []
  },
  {
   "cell_type": "markdown",
   "metadata": {},
   "source": [
    "#### Ejercicio 2\n",
    "Leer un archivo llamado ejercicio.txt bajo las siguientes condiciones:\n",
    "1. Leerlo linea por linea (iterar sobre el archivo).\n",
    "2. Agregar a otro archivo llamado ejercicio2_resuelto.txt aquella lineas que contengan una cantidad par de caracteres (sin contar espacios en blanco)"
   ]
  },
  {
   "cell_type": "code",
   "execution_count": null,
   "metadata": {},
   "outputs": [],
   "source": []
  },
  {
   "cell_type": "code",
   "execution_count": null,
   "metadata": {},
   "outputs": [],
   "source": []
  },
  {
   "cell_type": "markdown",
   "metadata": {},
   "source": [
    "Aca les dejo uno articulos mas detallados sobre el trabajo con archivos\n",
    "\n",
    "[trabajando con archivos](https://uniwebsidad.com/libros/python/capitulo-9)"
   ]
  },
  {
   "cell_type": "code",
   "execution_count": null,
   "metadata": {},
   "outputs": [],
   "source": []
  }
 ],
 "metadata": {
  "kernelspec": {
   "display_name": "Python 3",
   "language": "python",
   "name": "python3"
  },
  "language_info": {
   "codemirror_mode": {
    "name": "ipython",
    "version": 3
   },
   "file_extension": ".py",
   "mimetype": "text/x-python",
   "name": "python",
   "nbconvert_exporter": "python",
   "pygments_lexer": "ipython3",
   "version": "3.7.0"
  }
 },
 "nbformat": 4,
 "nbformat_minor": 1
}
