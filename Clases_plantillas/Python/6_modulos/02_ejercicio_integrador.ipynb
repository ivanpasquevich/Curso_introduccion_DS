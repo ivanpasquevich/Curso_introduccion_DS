{
 "cells": [
  {
   "cell_type": "markdown",
   "metadata": {},
   "source": [
    "# Ejercicio integrador sobre lo aprendido"
   ]
  },
  {
   "cell_type": "markdown",
   "metadata": {},
   "source": [
    "---"
   ]
  },
  {
   "cell_type": "markdown",
   "metadata": {},
   "source": [
    "## El ahorcado"
   ]
  },
  {
   "cell_type": "markdown",
   "metadata": {},
   "source": [
    "En esta ocasion vamos a generar un juego muy sencillo, el ahorcado, la idea es comenzar a pensar como podemos ir combinando las herramientas vistas hasta el momento.\n",
    "\n",
    "Vamos a usar manejo de archivos, modulo random, ciclos for y while, funciones, entre otros..\n",
    "\n",
    "Manos a la obra !!"
   ]
  },
  {
   "cell_type": "markdown",
   "metadata": {},
   "source": [
    "##### vista previa"
   ]
  },
  {
   "cell_type": "code",
   "execution_count": 1,
   "metadata": {},
   "outputs": [
    {
     "name": "stdout",
     "output_type": "stream",
     "text": [
      " Hora de jugar, esta es su palabra:\n",
      "_ _ _ _\n",
      "ingrese una letra: a\n",
      "_ _ _ _\n",
      "ingrese una letra: e\n",
      "_ _ _ _\n",
      "ingrese una letra: i\n",
      "_ _ _ _\n",
      "ingrese una letra: o\n",
      "_ o _ o\n",
      "ingrese una letra: p\n",
      "_ o _ o\n",
      "ingrese una letra: l\n",
      "_ o _ o\n",
      "ingrese una letra: r\n",
      "_ o _ o\n",
      "ingrese una letra: m\n",
      "_ o _ o\n",
      "ingrese una letra: n\n",
      "_ o _ o\n",
      "ingrese una letra: t\n",
      "_ o _ o\n",
      "ingrese una letra: r\n",
      "_ o _ o\n",
      "ingrese una letra: w\n",
      "_ o _ o\n",
      "ingrese una letra: s\n",
      "_ o _ o\n",
      "ingrese una letra: c\n",
      "_ o _ o\n",
      "ingrese una letra: v\n",
      "_ o _ o\n",
      "ingrese una letra: b\n",
      "_ o _ o\n",
      "ingrese una letra: n\n",
      "_ o _ o\n",
      "ingrese una letra: m\n",
      "_ o _ o\n",
      "ingrese una letra: h\n",
      "_ o _ o\n",
      "ingrese una letra: u\n",
      "_ o _ o\n",
      "ingrese una letra: p\n",
      "_ o _ o\n",
      "ingrese una letra: l\n",
      "_ o _ o\n",
      "ingrese una letra: k\n",
      "_ o _ o\n",
      "ingrese una letra: j\n",
      "_ o _ o\n",
      "ingrese una letra: h\n",
      "_ o _ o\n",
      "ingrese una letra: g\n",
      "_ o _ o\n",
      "ingrese una letra: f\n",
      "_ o _ o\n",
      "ingrese una letra: d\n",
      "d o d o\n",
      "Felicidades ha ganado la palabra es dodo\n"
     ]
    }
   ],
   "source": [
    "%run ahorcado.py"
   ]
  },
  {
   "cell_type": "markdown",
   "metadata": {},
   "source": [
    "--"
   ]
  },
  {
   "cell_type": "markdown",
   "metadata": {},
   "source": [
    "#### Paso 1\n",
    "Primero lo primero, necesitamos las palabras, las mismas estan en el archivo \"palabras_ahorcado.txt\", a los fines practicos se han eliminado los simbolos de acentuacion de todas las palabras.\n",
    "\n",
    "Para ello debemos:\n",
    "1. Leer el archivo\n",
    "2. Incluir en una lista llamada `lista_palabras` todas las palabras que hay en este archivo (en el archivo las palabras estan separadas por ,)"
   ]
  },
  {
   "cell_type": "code",
   "execution_count": null,
   "metadata": {},
   "outputs": [],
   "source": []
  },
  {
   "cell_type": "markdown",
   "metadata": {},
   "source": [
    "#### Paso 2"
   ]
  },
  {
   "cell_type": "markdown",
   "metadata": {},
   "source": [
    "Crear una funcion llamada **eleccion** que recibe como argumento la lista_palabras, y utilizando el modulo random va a elegir y devolver una palabra aleatoria de la lista.\n"
   ]
  },
  {
   "cell_type": "code",
   "execution_count": null,
   "metadata": {},
   "outputs": [],
   "source": [
    "import random\n",
    "\n",
    "def eleccion(lista):\n",
    "    return random.choice(lista)\n",
    "\n",
    "#eleccion(lista_palabras)"
   ]
  },
  {
   "cell_type": "markdown",
   "metadata": {},
   "source": [
    "#### Paso 3\n",
    "\n",
    "Crear una funcion llamada **espacios** que que recibe como argumento la palabra a adivinar y devuelve una lista con tantos elementos como caracteres tenga la palabra. Dichos elementos van a ser \"_\""
   ]
  },
  {
   "cell_type": "code",
   "execution_count": null,
   "metadata": {},
   "outputs": [],
   "source": [
    "#Ejemplo:\n",
    "\n",
    "#palabra = \"casa\"  entonces lista = [\"_\",\"_\",\"_\",\"_\"]\n",
    "\n",
    "#palabra = \"oso\"  entonces lista = [\"_\",\"_\",\"_\"]"
   ]
  },
  {
   "cell_type": "code",
   "execution_count": null,
   "metadata": {},
   "outputs": [],
   "source": []
  },
  {
   "cell_type": "markdown",
   "metadata": {},
   "source": [
    "#### Paso 4\n",
    "\n",
    "Crear una funcion llamada **mostrar** que que reciba como argumento una lista (lista de \"_\") y nos imprima un string con los elementos de esta lista separados por un espacio en blanco.\n"
   ]
  },
  {
   "cell_type": "code",
   "execution_count": null,
   "metadata": {},
   "outputs": [],
   "source": []
  },
  {
   "cell_type": "code",
   "execution_count": null,
   "metadata": {},
   "outputs": [],
   "source": []
  },
  {
   "cell_type": "markdown",
   "metadata": {},
   "source": [
    "#### Paso 5\n",
    "\n",
    "Crear una funcion llamada **adivinar** que va a tener 2 argumentos:\n",
    "1. La palabra a adivinar\n",
    "2. La lista de \"_\"\n",
    "\n",
    "En dicha funcion se le pedira al usuario que ingrese una letra, luego se convierte esta letra a minuscula y se verifica si la letra esta en la palabra a adivinar. De ser esto verdadero reemplazar en la lista el \"_\" por la letra, obviamente en las/la posicion que ocupa esa letra en la palabra."
   ]
  },
  {
   "cell_type": "code",
   "execution_count": null,
   "metadata": {},
   "outputs": [],
   "source": []
  },
  {
   "cell_type": "code",
   "execution_count": null,
   "metadata": {},
   "outputs": [],
   "source": []
  },
  {
   "cell_type": "markdown",
   "metadata": {},
   "source": [
    "#### Paso 6\n",
    "\n",
    "Crear una funcion llamada **verificar_continuidad** que va a tener como argumento la lista de \"_\" y va a verificar si la palabra fue adivinada o no (fijarse si existe algun _ dentro de la lista).\n",
    "\n",
    "En caso de que la palabra este completa debe devolver False, caso contrario True."
   ]
  },
  {
   "cell_type": "code",
   "execution_count": null,
   "metadata": {},
   "outputs": [],
   "source": []
  },
  {
   "cell_type": "code",
   "execution_count": null,
   "metadata": {},
   "outputs": [],
   "source": []
  },
  {
   "cell_type": "markdown",
   "metadata": {},
   "source": [
    "#### Paso 7 \n",
    "\n",
    "Ya tenemos las funciones necesarias para el desarrollo del programa ahora hay que armar el esqueleto para ir llamando a las funciones.\n",
    "\n",
    "Les dejo el esquema semiarmado, donde esten los comentarios tienen que completar con el llamado a las funciones\n",
    "\n"
   ]
  },
  {
   "cell_type": "code",
   "execution_count": null,
   "metadata": {},
   "outputs": [],
   "source": [
    "\n",
    "# Paso 2, guardar la palabra en alguna variable !\n",
    "\n",
    "# Paso 3, guardar la lista en alguna variable !\n",
    "\n",
    "print (\" Hora de jugar, esta es su palabra:\")\n",
    "# Paso 4\n",
    "\n",
    "while #Paso 6:\n",
    "    #Paso 5\n",
    "    # Paso 4\n",
    "        \n",
    "print(f\"Felicidades ha ganado la palabra es {palabra}\")\n",
    "\n",
    "\n"
   ]
  },
  {
   "cell_type": "markdown",
   "metadata": {},
   "source": [
    "#### Paso 8\n",
    "\n",
    "Incluir todo el codigo en una sola celda, asi corremos solo esta cada vez que querramos jugar al ahorcado."
   ]
  },
  {
   "cell_type": "code",
   "execution_count": null,
   "metadata": {},
   "outputs": [],
   "source": []
  },
  {
   "cell_type": "code",
   "execution_count": null,
   "metadata": {},
   "outputs": [],
   "source": []
  },
  {
   "cell_type": "markdown",
   "metadata": {},
   "source": [
    "### Hay mucho para mejorar\n",
    "\n",
    "Para quienes quieran jugar un rato mas pueden hacerle mejoras al juego como las siguientes:\n",
    "1. Mostrar en cuantos turnos se adivino la palabra.\n",
    "2. Agregar una cantidad finita de intentos.\n",
    "3. Dar la opcion de insertar una letra o la palabra completa.\n",
    "4. Hacer el juego de dos jugadores con dos palabras distintas y el que adivina primero gana.\n",
    "5. Las que a ustedes se les ocurra, es prueba y error !!"
   ]
  }
 ],
 "metadata": {
  "kernelspec": {
   "display_name": "Python 3",
   "language": "python",
   "name": "python3"
  },
  "language_info": {
   "codemirror_mode": {
    "name": "ipython",
    "version": 3
   },
   "file_extension": ".py",
   "mimetype": "text/x-python",
   "name": "python",
   "nbconvert_exporter": "python",
   "pygments_lexer": "ipython3",
   "version": "3.7.0"
  }
 },
 "nbformat": 4,
 "nbformat_minor": 4
}
