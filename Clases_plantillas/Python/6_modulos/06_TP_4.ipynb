{
 "cells": [
  {
   "cell_type": "markdown",
   "metadata": {},
   "source": [
    "# Ejercicios sobre lo aprendido"
   ]
  },
  {
   "cell_type": "markdown",
   "metadata": {},
   "source": [
    "## Suban este notebook resuelto al drive con la nomenclatura nombre_apellido_TP_4"
   ]
  },
  {
   "cell_type": "code",
   "execution_count": null,
   "metadata": {},
   "outputs": [],
   "source": []
  },
  {
   "cell_type": "markdown",
   "metadata": {},
   "source": [
    "#### Trabajaremos con el archivo 'covid19casos_limpio.csv'\n",
    "\n",
    "Para ello vamos a abrirlo usando el modulo csv y comenzaremos a explorar otros datos"
   ]
  },
  {
   "cell_type": "markdown",
   "metadata": {},
   "source": [
    "Siguiendo la modalidad vista en clases, realizar las siguientes tareas:\n",
    "\n",
    "1. DADA LA COLUMNA 'provincia_residencia' = indicar cuales son las 5 provincias con mas casos y la cantidad de casos que tienen\n",
    "\n",
    "2. DADA LA COLUMNA 'edad' = indicar cantidad de personas mayores a 60 anos\n",
    "\n",
    "3. DADA LA COLUMNA 'origen_financiamiento' = estandarizar para tener datos consistentes y obtener cantidad de repeticiones\n",
    "\n",
    "4. DADA LA COLUMNA 'cuidado_intensivo' = obtener cantidad de repeticiones de cada opcion"
   ]
  },
  {
   "cell_type": "markdown",
   "metadata": {},
   "source": [
    "## Suban este notebook resuelto al drive con la nomenclatura nombre_apellido_TP_4"
   ]
  },
  {
   "cell_type": "code",
   "execution_count": null,
   "metadata": {},
   "outputs": [],
   "source": []
  }
 ],
 "metadata": {
  "kernelspec": {
   "display_name": "Python 3",
   "language": "python",
   "name": "python3"
  },
  "language_info": {
   "codemirror_mode": {
    "name": "ipython",
    "version": 3
   },
   "file_extension": ".py",
   "mimetype": "text/x-python",
   "name": "python",
   "nbconvert_exporter": "python",
   "pygments_lexer": "ipython3",
   "version": "3.7.0"
  }
 },
 "nbformat": 4,
 "nbformat_minor": 4
}
