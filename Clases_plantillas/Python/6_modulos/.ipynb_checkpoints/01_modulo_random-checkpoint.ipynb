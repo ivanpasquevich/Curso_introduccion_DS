{
 "cells": [
  {
   "cell_type": "markdown",
   "metadata": {},
   "source": [
    "# MODULO RANDOM"
   ]
  },
  {
   "cell_type": "markdown",
   "metadata": {},
   "source": [
    "El módulo random de la librería estándar de Python incluye un conjunto de funciones que permiten obtener de distintos modos números aleatorios"
   ]
  },
  {
   "cell_type": "code",
   "execution_count": null,
   "metadata": {},
   "outputs": [],
   "source": [
    "import random"
   ]
  },
  {
   "cell_type": "code",
   "execution_count": null,
   "metadata": {},
   "outputs": [],
   "source": [
    "# genera un numero flotante aleatorio entre 0 y 1\n"
   ]
  },
  {
   "cell_type": "code",
   "execution_count": null,
   "metadata": {},
   "outputs": [],
   "source": [
    "# genera un numero entero aleatorio entre un start y un stop (no incluye el stop)\n",
    "# ademas podemos poner step\n"
   ]
  },
  {
   "cell_type": "code",
   "execution_count": null,
   "metadata": {},
   "outputs": [],
   "source": [
    "# genera un numero entero aleatorio entre un start y un stop (incluye el stop)\n"
   ]
  },
  {
   "cell_type": "code",
   "execution_count": null,
   "metadata": {},
   "outputs": [],
   "source": [
    "# agarra un elemento aleatorio del iterable\n"
   ]
  },
  {
   "cell_type": "code",
   "execution_count": null,
   "metadata": {},
   "outputs": [],
   "source": [
    "# agarra un elemento aleatorio del iterable (con reposicion)\n"
   ]
  },
  {
   "cell_type": "code",
   "execution_count": null,
   "metadata": {},
   "outputs": [],
   "source": [
    "# agarra un elemento aleatorio del iterable (con reposicion)\n"
   ]
  },
  {
   "cell_type": "code",
   "execution_count": null,
   "metadata": {},
   "outputs": [],
   "source": [
    "# mezclar una lista en el lugar\n"
   ]
  },
  {
   "cell_type": "code",
   "execution_count": null,
   "metadata": {},
   "outputs": [],
   "source": []
  },
  {
   "cell_type": "markdown",
   "metadata": {},
   "source": [
    "## Usemos lo recien aprendido en algo que aprendimos antes\n",
    "\n",
    "Vamos a mejorar nuestro juego de tateti con funciones, ciclo while y el modulo random"
   ]
  },
  {
   "cell_type": "code",
   "execution_count": null,
   "metadata": {},
   "outputs": [],
   "source": [
    "\n",
    "if jugador1==jugador2:\n",
    "    print(\"Empate\")\n",
    "elif jugador1=='tijera':\n",
    "    if jugador2=='piedra':\n",
    "        print('gana jugador 2')\n",
    "    else:\n",
    "        print('gana jugador 1')\n",
    "elif jugador1=='piedra':\n",
    "    if jugador2=='papel':\n",
    "        print('gana jugador 2')\n",
    "    else:\n",
    "        print('gana jugador 1')\n",
    "elif jugador1=='papel':\n",
    "    if jugador2=='tijera':\n",
    "        print('gana jugador 2')\n",
    "    else:\n",
    "        print('gana jugador 1')\n",
    "else:\n",
    "    print(\"el jugador 1 hizo trampa\")\n",
    "\n"
   ]
  },
  {
   "cell_type": "code",
   "execution_count": null,
   "metadata": {},
   "outputs": [],
   "source": []
  }
 ],
 "metadata": {
  "kernelspec": {
   "display_name": "Python 3",
   "language": "python",
   "name": "python3"
  },
  "language_info": {
   "codemirror_mode": {
    "name": "ipython",
    "version": 3
   },
   "file_extension": ".py",
   "mimetype": "text/x-python",
   "name": "python",
   "nbconvert_exporter": "python",
   "pygments_lexer": "ipython3",
   "version": "3.7.0"
  }
 },
 "nbformat": 4,
 "nbformat_minor": 4
}
