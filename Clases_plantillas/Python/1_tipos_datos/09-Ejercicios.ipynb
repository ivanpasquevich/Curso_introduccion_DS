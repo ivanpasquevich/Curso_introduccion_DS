{
 "cells": [
  {
   "cell_type": "markdown",
   "metadata": {},
   "source": [
    "# Ejercicios de lo visto hasta el momento"
   ]
  },
  {
   "cell_type": "markdown",
   "metadata": {},
   "source": [
    "1- A partir el string `Es hora de que actuemos con lo aprendido` obtener la palabra 'Oraculo' utilizando indexacion, operador de corte, concatenacion y metodos de strings."
   ]
  },
  {
   "cell_type": "code",
   "execution_count": null,
   "metadata": {},
   "outputs": [],
   "source": []
  },
  {
   "cell_type": "markdown",
   "metadata": {},
   "source": [
    "2 - Dada la lista de listas `[[18, 0, 2],[3, 48, 5],[68, 7, 8]]`\n",
    "* Reemplazar el numero `8` por `480`\n",
    "* Reemplazar la lista `[18, 0, 2]` por `[0, 2, 18]`\n",
    "* Imprimir la lista resultante"
   ]
  },
  {
   "cell_type": "code",
   "execution_count": null,
   "metadata": {},
   "outputs": [],
   "source": []
  },
  {
   "cell_type": "markdown",
   "metadata": {},
   "source": [
    "3 - Dado el diccionario `{'k1':{'k2':[1,2,3], 'k3':[[4,5,88],[6]]}}` extraer y concatenar los elementos necesarios para obtener la lista  `[1,2,3,4,5,6]`"
   ]
  },
  {
   "cell_type": "code",
   "execution_count": null,
   "metadata": {},
   "outputs": [],
   "source": []
  },
  {
   "cell_type": "markdown",
   "metadata": {},
   "source": [
    "4 - **Antes de correr las celdas piensen** cual va a ser el resultado de estas comparaciones  y luego vean si aciertan, vayan resolviendolo por partes como los vimos en clases para ver porque python llega a ese resultado."
   ]
  },
  {
   "cell_type": "code",
   "execution_count": null,
   "metadata": {},
   "outputs": [],
   "source": [
    "# True o False ?\n",
    "print( 5-2>3 and 2==2 or 5==1 and 5!=5 )"
   ]
  },
  {
   "cell_type": "code",
   "execution_count": null,
   "metadata": {},
   "outputs": [],
   "source": [
    "var1 = 5\n",
    "var2 = 2\n",
    "var3 = (var2 * var1) - var1\n",
    "\n",
    "# True o False ?\n",
    "print( var3==var1 and var1*var3!=var2*var3 or var2>var1)\n"
   ]
  },
  {
   "cell_type": "code",
   "execution_count": null,
   "metadata": {},
   "outputs": [],
   "source": [
    "# True o False ?\n",
    "print( not var3==var1 or not var2>var1)"
   ]
  },
  {
   "cell_type": "code",
   "execution_count": null,
   "metadata": {},
   "outputs": [],
   "source": []
  }
 ],
 "metadata": {
  "anaconda-cloud": {},
  "kernelspec": {
   "display_name": "Python 3",
   "language": "python",
   "name": "python3"
  },
  "language_info": {
   "codemirror_mode": {
    "name": "ipython",
    "version": 3
   },
   "file_extension": ".py",
   "mimetype": "text/x-python",
   "name": "python",
   "nbconvert_exporter": "python",
   "pygments_lexer": "ipython3",
   "version": "3.7.0"
  }
 },
 "nbformat": 4,
 "nbformat_minor": 1
}
