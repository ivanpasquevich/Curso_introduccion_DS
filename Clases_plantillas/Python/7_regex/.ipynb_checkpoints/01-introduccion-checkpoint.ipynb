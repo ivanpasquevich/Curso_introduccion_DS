{
 "cells": [
  {
   "cell_type": "markdown",
   "metadata": {},
   "source": [
    "# Expresiones regulares (regex)\n",
    "\n",
    "Una de las tareas más utilizadas en la programación es la búsqueda de subcadenas o patrones dentro de otras cadenas de texto.\n",
    "\n",
    "Las **expresiones regulares** son un potente lenguaje de descripción de texto, son patrones de búsqueda definidos con una sintaxis formal.\n",
    "\n",
    "No existe un lenguaje moderno que no permita usarlas. Las reglas con las que se forman son bastante simples. Pero aprender a combinarlas correctamente **requiere de práctica**.\n",
    "\n",
    "[regex 101](https://regex101.com/)\n",
    "\n",
    "[regexr](https://regexr.com/)"
   ]
  },
  {
   "cell_type": "markdown",
   "metadata": {},
   "source": [
    "<br>"
   ]
  },
  {
   "cell_type": "markdown",
   "metadata": {},
   "source": [
    "Supongamos el siguiente escenario:\n",
    "\n",
    "Quiero determinar si dentro de una cadena puedo encontrar el numero 123.\n",
    "    "
   ]
  },
  {
   "cell_type": "code",
   "execution_count": null,
   "metadata": {},
   "outputs": [],
   "source": [
    "string = 'hola123chau'"
   ]
  },
  {
   "cell_type": "code",
   "execution_count": null,
   "metadata": {},
   "outputs": [],
   "source": []
  },
  {
   "cell_type": "code",
   "execution_count": null,
   "metadata": {},
   "outputs": [],
   "source": []
  },
  {
   "cell_type": "code",
   "execution_count": null,
   "metadata": {
    "scrolled": true
   },
   "outputs": [],
   "source": []
  },
  {
   "cell_type": "markdown",
   "metadata": {},
   "source": [
    "Pero que pasa si ahora lo que queremos saber es si nuestro string contiene una secuencia de 3 numeros, sin importar cuales sean.. Aqui es donde se vuelven utiles las **expresiones regulares**"
   ]
  },
  {
   "cell_type": "code",
   "execution_count": null,
   "metadata": {},
   "outputs": [],
   "source": []
  },
  {
   "cell_type": "markdown",
   "metadata": {},
   "source": [
    "# Regex en Python\n",
    "\n",
    "### El modulo `re`\n",
    "\n",
    "Las regex en Python residen en la funcionalidad del modulo `re` , el cual es una libreria que contiene funciones y metodos muy utiles para el uso de expresiones regulares.\n",
    "\n",
    "Para trabajar con el debemos importarlo:\n",
    "\n",
    "    import re"
   ]
  },
  {
   "cell_type": "code",
   "execution_count": null,
   "metadata": {},
   "outputs": [],
   "source": [
    "import re"
   ]
  },
  {
   "cell_type": "markdown",
   "metadata": {},
   "source": [
    "En esta primera parte del notebook nos vamos a centrar en explicar aspectos de la sintaxis de las regex, y para ello nos vamos a basar en dos funciones del modulo re:\n",
    "\n",
    "1. **re.search(patron,string)** : va a escanear el string buscando la primer ocurrencia del patron especificado. Si hay concordancia, nos devuelve un objeto `match`, sino devuelve `None`\n",
    "<br>\n",
    "2. **re.findall(*patron,string*)** : va a escanear el string buscando todas las ocurrencias del patron especificado. Nos devuelve una lista con todas las ocurrencias (lista vacia si no se encuentra el patron)"
   ]
  },
  {
   "cell_type": "code",
   "execution_count": null,
   "metadata": {},
   "outputs": [],
   "source": [
    "# volvamos al caso de antes"
   ]
  },
  {
   "cell_type": "code",
   "execution_count": null,
   "metadata": {},
   "outputs": [],
   "source": [
    "string = \"hola123chau\""
   ]
  },
  {
   "cell_type": "code",
   "execution_count": null,
   "metadata": {},
   "outputs": [],
   "source": []
  },
  {
   "cell_type": "code",
   "execution_count": null,
   "metadata": {},
   "outputs": [],
   "source": []
  },
  {
   "cell_type": "code",
   "execution_count": null,
   "metadata": {
    "scrolled": true
   },
   "outputs": [],
   "source": []
  },
  {
   "cell_type": "code",
   "execution_count": null,
   "metadata": {},
   "outputs": [],
   "source": [
    "# pero esto no es mas poderoso de lo que ya veniamos viendo"
   ]
  },
  {
   "cell_type": "markdown",
   "metadata": {},
   "source": [
    "### METACARACTERES\n",
    "\n",
    "El verdadero poder de las regex es cuando usamos **metacaracteres** en el patron, estos son caracteres que tienen un significado especial dentro de las regex e incrementan enormemente la capacidad de busqueda."
   ]
  },
  {
   "cell_type": "markdown",
   "metadata": {},
   "source": [
    "Veamos un ejemplo, el metacaracter `[]` indica la creacion de una **clase de caracteres** (conjunto de caracteres) de los cuales si el string posee alguno de ellos, va a haber un match.\n",
    "\n",
    "Es importante remarcar, que este conjunto de caracteres creado, **funciona como si fuese un solo caracter** pero que puede valer cualquier valor del conjunto."
   ]
  },
  {
   "cell_type": "code",
   "execution_count": null,
   "metadata": {},
   "outputs": [],
   "source": []
  },
  {
   "cell_type": "code",
   "execution_count": null,
   "metadata": {},
   "outputs": [],
   "source": []
  },
  {
   "cell_type": "code",
   "execution_count": null,
   "metadata": {
    "scrolled": true
   },
   "outputs": [],
   "source": []
  },
  {
   "cell_type": "code",
   "execution_count": null,
   "metadata": {},
   "outputs": [],
   "source": []
  },
  {
   "cell_type": "markdown",
   "metadata": {},
   "source": [
    "Y si ahora queremos que sea mas de un caracter ?"
   ]
  },
  {
   "cell_type": "code",
   "execution_count": null,
   "metadata": {
    "scrolled": false
   },
   "outputs": [],
   "source": []
  },
  {
   "cell_type": "code",
   "execution_count": null,
   "metadata": {},
   "outputs": [],
   "source": []
  },
  {
   "cell_type": "code",
   "execution_count": null,
   "metadata": {},
   "outputs": [],
   "source": []
  },
  {
   "cell_type": "code",
   "execution_count": null,
   "metadata": {},
   "outputs": [],
   "source": []
  },
  {
   "cell_type": "code",
   "execution_count": null,
   "metadata": {},
   "outputs": [],
   "source": [
    "# veamos otro ejemplo\n",
    "\n"
   ]
  },
  {
   "cell_type": "code",
   "execution_count": null,
   "metadata": {},
   "outputs": [],
   "source": [
    "string2 = \"Hola3a la95\"\n",
    "re.search('[a-z][0-9][abc456]',string2)"
   ]
  },
  {
   "cell_type": "code",
   "execution_count": null,
   "metadata": {},
   "outputs": [],
   "source": [
    "re.findall('[a-z][0-9][abc456]',string2)"
   ]
  },
  {
   "cell_type": "code",
   "execution_count": null,
   "metadata": {},
   "outputs": [],
   "source": []
  },
  {
   "cell_type": "markdown",
   "metadata": {},
   "source": [
    "### Tabla de metacaracteres\n",
    "\n",
    "A continuacion una tabla **resumida** de los metacaracteres de las expresiones regulares \n",
    "\n",
    "<table >\n",
    "<tr>\n",
    "    <th style=\"width:20%\"> Metacarater</th>\n",
    "    <th>Descripcion</th> \n",
    "</tr>\n",
    "\n",
    "<tr>\n",
    "    <td>.</td> \n",
    "    <td>Coincide con cualquier caracter, excepto el salto de linea</td>\n",
    "</tr>\n",
    "\n",
    "<tr>\n",
    "    <td>*</td> \n",
    "    <td>Coincide con el elemento anterior cero o más veces.</td>\n",
    "</tr>\n",
    "    \n",
    "<tr>\n",
    "    <td>+</td> \n",
    "    <td>Coincide con el elemento anterior una o más veces.</td>\n",
    "</tr>\n",
    "  \n",
    "<tr>\n",
    "    <td>[ ]</td> \n",
    "    <td>Especifica una clase de caracteres</td>\n",
    "</tr>  \n",
    "    \n",
    "<tr>\n",
    "    <td>^</td> \n",
    "    <td>Coincidencia del patron al principio de la cadena. <br>\n",
    "    Complementa el uso de la clase de caracteres</td>\n",
    "</tr>\n",
    "    \n",
    "<tr>\n",
    "    <td>$</td> \n",
    "    <td>Coincidencia del patron al final de la cadena</td>\n",
    "</tr>\n",
    "    \n",
    "    \n",
    "<tr>\n",
    "    <td>?</td> \n",
    "    <td>Coincide con el elemento anterior cero o una vez.\n",
    "    <br>Especifica una coincidencia no ambiciosa.</td>\n",
    "</tr>\n",
    "    \n",
    "<tr>\n",
    "    <td>( )</td> \n",
    "    <td>Crea un grupo</td>\n",
    "</tr>\n",
    "    \n",
    "<tr>\n",
    "    <td>\\</td> \n",
    "    <td>Anula el significado de un metacaracter\n",
    "    <br>Induce a otros metacaracteres</td>\n",
    "</tr>\n",
    "\n",
    "<tr>\n",
    "    <td>\\s</td> \n",
    "    <td>Coincide con cualquier carácter que sea un espacio en blanco.</td>\n",
    "</tr>\n",
    "    \n",
    "<tr>\n",
    "    <td>\\S</td> \n",
    "    <td>Coincide con cualquier carácter que NO sea un espacio en blanco.</td>\n",
    "</tr>\n",
    "    \n",
    "<tr>\n",
    "    <td>\\w</td> \n",
    "    <td>Coincide con cualquier carácter alfanumerico.</td>\n",
    "</tr>\n",
    "    \n",
    "<tr>\n",
    "    <td>\\W</td> \n",
    "    <td>Coincide con cualquier carácter NO alfanumerico.</td>\n",
    "</tr>\n",
    "    \n",
    " </table>\n"
   ]
  },
  {
   "cell_type": "markdown",
   "metadata": {},
   "source": [
    "Vamos a analizar algunos de ellos\n",
    "\n",
    "-----\n",
    "\n",
    "**Pero antes hagamos un parentesis**\n",
    "\n",
    "El uso de `r' '` en Python (aconsejable al 100%)"
   ]
  },
  {
   "cell_type": "code",
   "execution_count": null,
   "metadata": {},
   "outputs": [],
   "source": []
  },
  {
   "cell_type": "code",
   "execution_count": null,
   "metadata": {},
   "outputs": [],
   "source": []
  },
  {
   "cell_type": "code",
   "execution_count": null,
   "metadata": {},
   "outputs": [],
   "source": []
  },
  {
   "cell_type": "code",
   "execution_count": null,
   "metadata": {},
   "outputs": [],
   "source": []
  },
  {
   "cell_type": "markdown",
   "metadata": {},
   "source": [
    "**Recuerden**\n",
    "\n",
    "**El uso de `r''` es propio de Python**, no corresponde a las expresiones regulares, por lo que si estan programando en otro lenguaje no deben utilizarlo.\n",
    "\n",
    "-----"
   ]
  },
  {
   "cell_type": "markdown",
   "metadata": {},
   "source": [
    "### [ ]"
   ]
  },
  {
   "cell_type": "code",
   "execution_count": null,
   "metadata": {},
   "outputs": [],
   "source": [
    "# sigamos con los ejemplos anteriores, como vemos al crear una clase de caracteres, buscamos la coincidencia de un solo \n",
    "# caracter\n",
    "\n",
    "string = ''\n",
    "\n",
    "re.search(r'[0-9]',string)"
   ]
  },
  {
   "cell_type": "code",
   "execution_count": null,
   "metadata": {},
   "outputs": [],
   "source": [
    "re.findall(r'[0-9]',string)"
   ]
  },
  {
   "cell_type": "code",
   "execution_count": null,
   "metadata": {},
   "outputs": [],
   "source": [
    "# pero que pasa si queremos que coincida con 3 caracteres numericos\n",
    "# como vimos recien tenemos que utilizar el siguiente patron\n",
    "\n"
   ]
  },
  {
   "cell_type": "code",
   "execution_count": null,
   "metadata": {},
   "outputs": [],
   "source": []
  },
  {
   "cell_type": "markdown",
   "metadata": {},
   "source": [
    "**Pero que sucede si nosotros queremos que el patron nos coincida con un numero entero, no importa de cuantas cifras sea, pero queremos todo el numero.**\n",
    "\n",
    "##  + \n",
    "## * \n",
    "\n",
    "Match para repeticiones"
   ]
  },
  {
   "cell_type": "code",
   "execution_count": null,
   "metadata": {},
   "outputs": [],
   "source": [
    "string = ''\n",
    "\n"
   ]
  },
  {
   "cell_type": "code",
   "execution_count": null,
   "metadata": {},
   "outputs": [],
   "source": []
  },
  {
   "cell_type": "code",
   "execution_count": null,
   "metadata": {},
   "outputs": [],
   "source": []
  },
  {
   "cell_type": "code",
   "execution_count": null,
   "metadata": {
    "scrolled": true
   },
   "outputs": [],
   "source": [
    "string = ''\n",
    "\n",
    "re.search(r'[0-9]+',string)"
   ]
  },
  {
   "cell_type": "code",
   "execution_count": null,
   "metadata": {},
   "outputs": [],
   "source": [
    "re.findall(r'[0-9]+',string)"
   ]
  },
  {
   "cell_type": "code",
   "execution_count": null,
   "metadata": {},
   "outputs": [],
   "source": []
  },
  {
   "cell_type": "code",
   "execution_count": null,
   "metadata": {},
   "outputs": [],
   "source": [
    "# la diferencia entre + y *\n",
    "\n",
    "string = 'el numero'\n",
    "\n"
   ]
  },
  {
   "cell_type": "code",
   "execution_count": null,
   "metadata": {},
   "outputs": [],
   "source": []
  },
  {
   "cell_type": "code",
   "execution_count": null,
   "metadata": {},
   "outputs": [],
   "source": []
  },
  {
   "cell_type": "markdown",
   "metadata": {},
   "source": [
    "## .\n",
    "\n",
    "Match con cualquier caracter menos el de nueva linea"
   ]
  },
  {
   "cell_type": "code",
   "execution_count": null,
   "metadata": {},
   "outputs": [],
   "source": []
  },
  {
   "cell_type": "code",
   "execution_count": null,
   "metadata": {},
   "outputs": [],
   "source": []
  },
  {
   "cell_type": "code",
   "execution_count": null,
   "metadata": {},
   "outputs": [],
   "source": []
  },
  {
   "cell_type": "code",
   "execution_count": null,
   "metadata": {},
   "outputs": [],
   "source": []
  },
  {
   "cell_type": "code",
   "execution_count": null,
   "metadata": {},
   "outputs": [],
   "source": [
    "# veamos como podemor ir combinando metacaracteres para ir armando nuestro patron"
   ]
  },
  {
   "cell_type": "code",
   "execution_count": null,
   "metadata": {},
   "outputs": [],
   "source": [
    "# queremos obtener el numero encerrado en el caracter inmediato anteriot y el caracter inmediato posterior\n",
    "\n",
    "string = \"hola345chau\"\n"
   ]
  },
  {
   "cell_type": "code",
   "execution_count": null,
   "metadata": {},
   "outputs": [],
   "source": [
    "# que pasa si hacemos lo siguiente?\n",
    "string = \"hola345chau\"\n"
   ]
  },
  {
   "cell_type": "code",
   "execution_count": null,
   "metadata": {},
   "outputs": [],
   "source": [
    "# y esto?\n",
    "\n",
    "string = \"hola345chau\"\n",
    "patron = r\"\"\n",
    "re.search(patron,string)"
   ]
  },
  {
   "cell_type": "code",
   "execution_count": null,
   "metadata": {},
   "outputs": [],
   "source": []
  },
  {
   "cell_type": "code",
   "execution_count": null,
   "metadata": {},
   "outputs": [],
   "source": []
  },
  {
   "cell_type": "markdown",
   "metadata": {},
   "source": [
    "****"
   ]
  },
  {
   "cell_type": "markdown",
   "metadata": {},
   "source": [
    "Hagamos una pausa, creamos una funcion para ir mostrando los resultados de los metodos `.search()` y `.findall()`"
   ]
  },
  {
   "cell_type": "code",
   "execution_count": null,
   "metadata": {},
   "outputs": [],
   "source": [
    "def mostrar(patron,string):\n",
    "    print('Usando re.search() : ', re.search(patron,string))\n",
    "    print('Usando re.findall() : ', re.findall(patron,string))"
   ]
  },
  {
   "cell_type": "code",
   "execution_count": null,
   "metadata": {},
   "outputs": [],
   "source": [
    "string = \"hola345chau\"\n",
    "patron = r\".[0-9].+\"\n",
    "mostrar(patron,string)"
   ]
  },
  {
   "cell_type": "markdown",
   "metadata": {},
   "source": [
    "***"
   ]
  },
  {
   "cell_type": "code",
   "execution_count": null,
   "metadata": {},
   "outputs": [],
   "source": []
  },
  {
   "cell_type": "code",
   "execution_count": null,
   "metadata": {},
   "outputs": [],
   "source": []
  },
  {
   "cell_type": "markdown",
   "metadata": {},
   "source": [
    "## ^\n",
    "Veamos sus dos usos"
   ]
  },
  {
   "cell_type": "code",
   "execution_count": null,
   "metadata": {},
   "outputs": [],
   "source": [
    "# podemos usarlos para una coincidencia al inicio del string\n",
    "\n",
    "string = ''\n",
    "patron = \n",
    "mostrar(patron,string)"
   ]
  },
  {
   "cell_type": "code",
   "execution_count": null,
   "metadata": {},
   "outputs": [],
   "source": [
    "string = ''\n",
    "patron = \n",
    "mostrar(patron,string)"
   ]
  },
  {
   "cell_type": "code",
   "execution_count": null,
   "metadata": {},
   "outputs": [],
   "source": []
  },
  {
   "cell_type": "code",
   "execution_count": null,
   "metadata": {},
   "outputs": [],
   "source": [
    "# podemos usarlos en conjunto con una clase de caracteres para indicar NO inclusion\n",
    "\n",
    "string = ''\n",
    "patron = \n",
    "mostrar(patron,string)\n"
   ]
  },
  {
   "cell_type": "code",
   "execution_count": null,
   "metadata": {},
   "outputs": [],
   "source": [
    "string = 'clase a, clase b, clase c'\n",
    "patron = \n",
    "mostrar(patron,string)"
   ]
  },
  {
   "cell_type": "code",
   "execution_count": null,
   "metadata": {},
   "outputs": [],
   "source": [
    "# veamos el siguiente string, solo quiero contar cuantas veces encontramos las palabras java o Java\n",
    "\n",
    "string = 'Cuando decimos Java nos referimos a un lenguaje de programacion, javascript y java son cosas distintas'\n",
    "patron = \n",
    "mostrar(patron,string)"
   ]
  },
  {
   "cell_type": "code",
   "execution_count": null,
   "metadata": {},
   "outputs": [],
   "source": [
    "patron = \n",
    "mostrar(patron,string)"
   ]
  },
  {
   "cell_type": "code",
   "execution_count": null,
   "metadata": {},
   "outputs": [],
   "source": []
  },
  {
   "cell_type": "markdown",
   "metadata": {},
   "source": [
    "## \\\n",
    "\n",
    "Como metacaracter de escape"
   ]
  },
  {
   "cell_type": "code",
   "execution_count": null,
   "metadata": {},
   "outputs": [],
   "source": [
    "# queremos hacer match con el punto en el medio del string\n",
    "\n",
    "string = ''\n",
    "patron = \n",
    "mostrar(patron,string)"
   ]
  },
  {
   "cell_type": "code",
   "execution_count": null,
   "metadata": {},
   "outputs": [],
   "source": [
    "string = ''\n",
    "patron = \n",
    "mostrar(patron,string)"
   ]
  },
  {
   "cell_type": "code",
   "execution_count": null,
   "metadata": {},
   "outputs": [],
   "source": []
  },
  {
   "cell_type": "code",
   "execution_count": null,
   "metadata": {},
   "outputs": [],
   "source": [
    "# encontrando la suma\n",
    "\n",
    "string = \"\"\n",
    "patron = \n",
    "mostrar(patron,string)"
   ]
  },
  {
   "cell_type": "code",
   "execution_count": null,
   "metadata": {},
   "outputs": [],
   "source": [
    "string = \"\"\n",
    "patron = \n",
    "mostrar(patron,string)"
   ]
  },
  {
   "cell_type": "code",
   "execution_count": null,
   "metadata": {},
   "outputs": [],
   "source": [
    "string = \"\"\n",
    "patron = \n",
    "mostrar(patron,string)"
   ]
  },
  {
   "cell_type": "code",
   "execution_count": null,
   "metadata": {},
   "outputs": [],
   "source": []
  },
  {
   "cell_type": "code",
   "execution_count": null,
   "metadata": {},
   "outputs": [],
   "source": [
    "# que pasa si tenemos la cuenta muy separada?\n",
    "\n",
    "string = \"\"\n",
    "mostrar(patron,string)"
   ]
  },
  {
   "cell_type": "code",
   "execution_count": null,
   "metadata": {},
   "outputs": [],
   "source": [
    "# ahora volvemos a este ejercicio, vamos a introducir otro metacaracter"
   ]
  },
  {
   "cell_type": "code",
   "execution_count": null,
   "metadata": {},
   "outputs": [],
   "source": [
    "string = \"123+15 es 27\"\n",
    "patron = r\"[0-9]+\\s*\\+\\s*[0-9]+\"\n",
    "mostrar(patron,string)"
   ]
  },
  {
   "cell_type": "code",
   "execution_count": null,
   "metadata": {},
   "outputs": [],
   "source": []
  },
  {
   "cell_type": "markdown",
   "metadata": {},
   "source": [
    "## \\s\n",
    "\n",
    "Espacios ( ,\\n,\\t)"
   ]
  },
  {
   "cell_type": "code",
   "execution_count": null,
   "metadata": {},
   "outputs": [],
   "source": [
    "string = \"\"\n",
    "patron = \n",
    "mostrar(patron,string)"
   ]
  },
  {
   "cell_type": "code",
   "execution_count": null,
   "metadata": {},
   "outputs": [],
   "source": [
    "string = \"\"\n",
    "patron = \n",
    "mostrar(patron,string)"
   ]
  },
  {
   "cell_type": "code",
   "execution_count": null,
   "metadata": {},
   "outputs": [],
   "source": [
    "# supongamos que queremos extraer dos palabras consecutivas que comiencen con mayuscula, pero no sabemos cuantos espacios\n",
    "# de separacion hay entre ellas\n",
    "\n",
    "string = ''\n",
    "patron = \n",
    "mostrar(patron,string)"
   ]
  },
  {
   "cell_type": "code",
   "execution_count": null,
   "metadata": {},
   "outputs": [],
   "source": [
    "string = ''\n",
    "patron =\n",
    "mostrar(patron,string)"
   ]
  },
  {
   "cell_type": "code",
   "execution_count": null,
   "metadata": {},
   "outputs": [],
   "source": [
    "print(string)"
   ]
  },
  {
   "cell_type": "code",
   "execution_count": null,
   "metadata": {},
   "outputs": [],
   "source": []
  },
  {
   "cell_type": "code",
   "execution_count": null,
   "metadata": {},
   "outputs": [],
   "source": [
    "# volvemos al ejercicio de las sumas separadas"
   ]
  },
  {
   "cell_type": "code",
   "execution_count": null,
   "metadata": {},
   "outputs": [],
   "source": [
    "string = \"\"\n",
    "patron = \n",
    "mostrar(patron,string)"
   ]
  },
  {
   "cell_type": "code",
   "execution_count": null,
   "metadata": {},
   "outputs": [],
   "source": [
    "# y si no tenemos ningun espacio?\n",
    "\n",
    "string = \"\"\n",
    "patron = \n",
    "mostrar(patron,string)"
   ]
  },
  {
   "cell_type": "code",
   "execution_count": null,
   "metadata": {},
   "outputs": [],
   "source": [
    "# y si tenemos operaciones distintas a la suma?\n",
    "string = \"\"\n",
    "patron = \n",
    "mostrar(patron,string)"
   ]
  },
  {
   "cell_type": "code",
   "execution_count": null,
   "metadata": {},
   "outputs": [],
   "source": []
  },
  {
   "cell_type": "markdown",
   "metadata": {},
   "source": [
    "## \\w\n",
    "\n",
    "Incluye todos aquellos caracteres que forme parte de una palabra [a-zA-Z0-9_]"
   ]
  },
  {
   "cell_type": "code",
   "execution_count": null,
   "metadata": {},
   "outputs": [],
   "source": [
    "string = \"\"\n",
    "patron = \n",
    "mostrar(patron,string)"
   ]
  },
  {
   "cell_type": "code",
   "execution_count": null,
   "metadata": {},
   "outputs": [],
   "source": [
    "string = \"\"\n",
    "patron = \n",
    "mostrar(patron,string)"
   ]
  },
  {
   "cell_type": "code",
   "execution_count": null,
   "metadata": {},
   "outputs": [],
   "source": [
    "# supongamos que queremos agarrar todas las palabras que esten entre comillas simple en este string\n",
    "\n",
    "string = \" Las palabras 'entre' las 'comillas' 'simples' son lo que 'necesitamos'\"\n",
    "patron = \n",
    "mostrar(patron,string)"
   ]
  },
  {
   "cell_type": "code",
   "execution_count": null,
   "metadata": {},
   "outputs": [],
   "source": []
  },
  {
   "cell_type": "code",
   "execution_count": null,
   "metadata": {},
   "outputs": [],
   "source": [
    "mostrar(r'\\w+\\s\\w+', 'que   me   traera este   patron ?')"
   ]
  },
  {
   "cell_type": "code",
   "execution_count": null,
   "metadata": {},
   "outputs": [],
   "source": []
  },
  {
   "cell_type": "code",
   "execution_count": null,
   "metadata": {
    "scrolled": true
   },
   "outputs": [],
   "source": [
    "mostrar(r'\\w+\\s+\\w+', 'que   me   traera este   patron ?')"
   ]
  },
  {
   "cell_type": "code",
   "execution_count": null,
   "metadata": {},
   "outputs": [],
   "source": []
  },
  {
   "cell_type": "markdown",
   "metadata": {},
   "source": [
    "## ?\n",
    "\n",
    "**Coincidencia Ambiciosa**\n",
    "\n",
    "A menos que se indique lo contrario la libreria re nos va a dar la version mas larga de la coincidencia frente al patron especificado.\n",
    "\n",
    "Veamos a que nos referimos con esto"
   ]
  },
  {
   "cell_type": "code",
   "execution_count": null,
   "metadata": {},
   "outputs": [],
   "source": [
    "string = \"\"\n",
    "patron = \n",
    "mostrar(patron,string)"
   ]
  },
  {
   "cell_type": "markdown",
   "metadata": {},
   "source": [
    "Los metacaracteres `+` y `*` van a llegar con la coincidencia lo mas lejos que puedan dentro del string, son ambiciosos... Pero podemos solucionarlo con un simple caracter, el **`?`**"
   ]
  },
  {
   "cell_type": "code",
   "execution_count": null,
   "metadata": {},
   "outputs": [],
   "source": [
    "string = \"\"\n",
    "patron = \n",
    "mostrar(patron,string)"
   ]
  },
  {
   "cell_type": "code",
   "execution_count": null,
   "metadata": {},
   "outputs": [],
   "source": []
  },
  {
   "cell_type": "code",
   "execution_count": null,
   "metadata": {},
   "outputs": [],
   "source": []
  },
  {
   "cell_type": "markdown",
   "metadata": {},
   "source": [
    "## ( )\n",
    "\n",
    "##### Extraccion\n",
    "\n",
    "Estos metacaracteres **crean grupos**, es decir, crean subcadenas dentro de la cadena matcheada.\n",
    "\n",
    "Utilizando la funcion `findall()`, podemos definir el patron para hacer el matcheo y ademas determinar que porcion del match queremos extraer utilizando lo metacarateres `( )`\n"
   ]
  },
  {
   "cell_type": "code",
   "execution_count": null,
   "metadata": {},
   "outputs": [],
   "source": [
    "# supongamos que queremos extraer todos los datos de un individuo x\n",
    "\n",
    "string = ( ' peso individuo x: 76 kg, peso individuo y: 90 kg, altura individuo x: 1.76 m, altura individuo y: 1.70 m,'\n",
    "          'edad individuo x: 26 años, edad individuo y: 34 años , sexo individuo x: masculino,'\n",
    "          ' sexo individuo y: femenino' )"
   ]
  },
  {
   "cell_type": "code",
   "execution_count": null,
   "metadata": {},
   "outputs": [],
   "source": [
    "patron = \n",
    "re.findall(patron,string)"
   ]
  },
  {
   "cell_type": "code",
   "execution_count": null,
   "metadata": {},
   "outputs": [],
   "source": [
    "patron = \n",
    "re.findall(patron,string)"
   ]
  },
  {
   "cell_type": "code",
   "execution_count": null,
   "metadata": {},
   "outputs": [],
   "source": []
  },
  {
   "cell_type": "code",
   "execution_count": null,
   "metadata": {},
   "outputs": [],
   "source": [
    "# no mostrar esto a la clase\n",
    "# que sucede con la funcion search\n",
    "\n",
    "# ver lo de los grupos"
   ]
  },
  {
   "cell_type": "code",
   "execution_count": null,
   "metadata": {},
   "outputs": [],
   "source": []
  },
  {
   "cell_type": "markdown",
   "metadata": {},
   "source": [
    "## \\b\n",
    "\n",
    "### boundaries\n",
    "\n",
    "Los boundaries (limites) son aquellas posiciones entre \\w y \\W, o al inicio o final del string si es que el string empieza o termina con un caracter de palabra (\\w)\n",
    "\n",
    "Veamos cuando son de utilidad:"
   ]
  },
  {
   "cell_type": "code",
   "execution_count": null,
   "metadata": {},
   "outputs": [],
   "source": [
    "# obtener solo las ocurrencias de la palabra 'java' por si sola\n",
    "# ir viendolo en paralelo en regex101\n",
    "\n",
    "string = \"java obtener las palabras que digan java javascript superjava java\"\n",
    "patron = \n",
    "mostrar(patron,string)"
   ]
  },
  {
   "cell_type": "code",
   "execution_count": null,
   "metadata": {},
   "outputs": [],
   "source": [
    "string = \"java obtener las palabras que digan java javascript superjava java\"\n",
    "patron = \n",
    "mostrar(patron,string)"
   ]
  },
  {
   "cell_type": "code",
   "execution_count": null,
   "metadata": {},
   "outputs": [],
   "source": [
    "string = \"java obtener las palabras que digan java javascript superjava java\"\n",
    "patron = \n",
    "mostrar(patron,string)"
   ]
  },
  {
   "cell_type": "code",
   "execution_count": null,
   "metadata": {},
   "outputs": [],
   "source": [
    "string = \"java obtener las palabras que digan java javascript superjava java\"\n",
    "patron = \n",
    "mostrar(patron,string)"
   ]
  },
  {
   "cell_type": "code",
   "execution_count": null,
   "metadata": {},
   "outputs": [],
   "source": [
    "string = \"java obtener las palabras que digan java javascript superjava java\"\n",
    "patron = \n",
    "mostrar(patron,string)"
   ]
  },
  {
   "cell_type": "code",
   "execution_count": null,
   "metadata": {
    "scrolled": true
   },
   "outputs": [],
   "source": [
    "print('java\\b')"
   ]
  },
  {
   "cell_type": "code",
   "execution_count": null,
   "metadata": {},
   "outputs": [],
   "source": [
    "print(r'java\\b')"
   ]
  },
  {
   "cell_type": "markdown",
   "metadata": {},
   "source": [
    "****"
   ]
  },
  {
   "cell_type": "markdown",
   "metadata": {},
   "source": [
    "## Funciones del modulo re"
   ]
  },
  {
   "cell_type": "markdown",
   "metadata": {},
   "source": [
    "### re.search()\n",
    "\n",
    "Veamos un poquito mas del objeto que nos devuelve esta funcion"
   ]
  },
  {
   "cell_type": "code",
   "execution_count": null,
   "metadata": {},
   "outputs": [],
   "source": [
    "string = \"\"\n",
    "patron = \n",
    "ma = "
   ]
  },
  {
   "cell_type": "code",
   "execution_count": null,
   "metadata": {
    "scrolled": false
   },
   "outputs": [],
   "source": []
  },
  {
   "cell_type": "code",
   "execution_count": null,
   "metadata": {},
   "outputs": [],
   "source": []
  },
  {
   "cell_type": "code",
   "execution_count": null,
   "metadata": {},
   "outputs": [],
   "source": [
    "# es un objeto considerado verdadero, por lo que lo podemos usar con condicionales\n",
    "\n"
   ]
  },
  {
   "cell_type": "code",
   "execution_count": null,
   "metadata": {
    "scrolled": true
   },
   "outputs": [],
   "source": [
    "# ademas es un objeto que como todos en Python, tiene sus atributos y metodos\n"
   ]
  },
  {
   "cell_type": "code",
   "execution_count": null,
   "metadata": {},
   "outputs": [],
   "source": []
  },
  {
   "cell_type": "code",
   "execution_count": null,
   "metadata": {
    "scrolled": true
   },
   "outputs": [],
   "source": []
  },
  {
   "cell_type": "code",
   "execution_count": null,
   "metadata": {},
   "outputs": [],
   "source": []
  },
  {
   "cell_type": "code",
   "execution_count": null,
   "metadata": {},
   "outputs": [],
   "source": []
  },
  {
   "cell_type": "code",
   "execution_count": null,
   "metadata": {},
   "outputs": [],
   "source": [
    "# supongamos que ahora queremos obtener el nombre de la persona y el mail completo en distintos grupos\n",
    "\n",
    "# recordemos que el uso de () en el patron, crean grupos, podemos hacer uso de ello para este ejercicio"
   ]
  },
  {
   "cell_type": "code",
   "execution_count": null,
   "metadata": {},
   "outputs": [],
   "source": [
    "string = \"el mail es juancito@gmail.com\"\n",
    "patron = \n",
    "ma = re.search(patron,string)"
   ]
  },
  {
   "cell_type": "code",
   "execution_count": null,
   "metadata": {
    "scrolled": true
   },
   "outputs": [],
   "source": []
  },
  {
   "cell_type": "code",
   "execution_count": null,
   "metadata": {},
   "outputs": [],
   "source": []
  },
  {
   "cell_type": "code",
   "execution_count": null,
   "metadata": {
    "scrolled": true
   },
   "outputs": [],
   "source": []
  },
  {
   "cell_type": "code",
   "execution_count": null,
   "metadata": {},
   "outputs": [],
   "source": []
  },
  {
   "cell_type": "markdown",
   "metadata": {},
   "source": [
    "### Flags\n",
    "\n",
    "La mayoria de las funciones del modulo re tienen como argumento `flags = 0`.\n",
    "\n",
    "Las flags (banderas) modifican la expresion regular, permitiendonos refinar aun mas las condiciones de matcheo.\n",
    "\n",
    "La mas comun es **IGNORECASE** (`re.I` o `re.IGNORECASE`)"
   ]
  },
  {
   "cell_type": "code",
   "execution_count": null,
   "metadata": {},
   "outputs": [],
   "source": [
    "# veamos el siguiente ejemplo, queremos marchear con todas las ocurrencias de la palabra Python,\n",
    "# no importa como este escrita\n",
    "\n",
    "string = 'python en minusculas, PYTHON es con mayusculas, pero tambien puede ser pyTHon, PYthon o pythoN'"
   ]
  },
  {
   "cell_type": "code",
   "execution_count": null,
   "metadata": {},
   "outputs": [],
   "source": []
  },
  {
   "cell_type": "code",
   "execution_count": null,
   "metadata": {},
   "outputs": [],
   "source": []
  },
  {
   "cell_type": "code",
   "execution_count": null,
   "metadata": {},
   "outputs": [],
   "source": []
  },
  {
   "cell_type": "markdown",
   "metadata": {},
   "source": [
    "### re.split()\n",
    "\n",
    "Divide un string en substrings usando la expresion regular (patron) como delimitador."
   ]
  },
  {
   "cell_type": "code",
   "execution_count": null,
   "metadata": {},
   "outputs": [],
   "source": [
    "# queremos separar el string por los numeros que encontremos\n",
    "string = 'hay 40cuarenta ovejas 12doce liebres y 50cincuenta vacas'\n",
    "patron = \n",
    "\n",
    "re.split(patron,string)"
   ]
  },
  {
   "cell_type": "code",
   "execution_count": null,
   "metadata": {},
   "outputs": [],
   "source": []
  },
  {
   "cell_type": "markdown",
   "metadata": {},
   "source": [
    "### re.sub()\n",
    "\n",
    "Escanea el string en busca de coincidencias y reemplaza los substrings coincidentes con el string de reemplazo, y devuelve el string con los valores reemplazados.\n",
    "\n",
    "Es importante remarcar que el strig devuelto es un string nuevo. El string original se mantiene sin cambios."
   ]
  },
  {
   "cell_type": "code",
   "execution_count": null,
   "metadata": {},
   "outputs": [],
   "source": [
    "re.sub()"
   ]
  },
  {
   "cell_type": "code",
   "execution_count": null,
   "metadata": {},
   "outputs": [],
   "source": [
    "# supongamos que queremos reemplazar todos los numeros de cualquier cifra por ###\n",
    "\n",
    "string = 'el codigo 1234 es de verificacion, 343445 y 55 son para operaciones'\n",
    "patron = \n",
    "remp = \n",
    "\n",
    "re.sub(patron,remp,string)"
   ]
  },
  {
   "cell_type": "code",
   "execution_count": null,
   "metadata": {},
   "outputs": [],
   "source": []
  },
  {
   "cell_type": "code",
   "execution_count": null,
   "metadata": {},
   "outputs": [],
   "source": [
    "# supongamos que queremos reemplazar todos los nombres propios con la palabra 'nombre'\n",
    "\n",
    "string = ''\n",
    "patron = \n",
    "remp = \n",
    "\n",
    "re.sub(patron,remp,string)"
   ]
  },
  {
   "cell_type": "code",
   "execution_count": null,
   "metadata": {},
   "outputs": [],
   "source": []
  },
  {
   "cell_type": "code",
   "execution_count": null,
   "metadata": {},
   "outputs": [],
   "source": []
  },
  {
   "cell_type": "markdown",
   "metadata": {},
   "source": [
    "## MANOS A LA OBRA\n",
    "\n",
    "1- Matchear todas las palabras de la lista con una expresion regular (podemos usar la funcion filter)\n"
   ]
  },
  {
   "cell_type": "code",
   "execution_count": null,
   "metadata": {},
   "outputs": [],
   "source": [
    "lista_palabras = ['email', 'Email', 'e Mail', 'e mail', 'E-mail',\n",
    "                'e-mail', 'eMail', 'E-Mail', 'EMAIL', 'emails', 'Emails',\n",
    "                'E-Mails']\n",
    "\n"
   ]
  },
  {
   "cell_type": "code",
   "execution_count": null,
   "metadata": {},
   "outputs": [],
   "source": []
  },
  {
   "cell_type": "code",
   "execution_count": null,
   "metadata": {},
   "outputs": [],
   "source": []
  },
  {
   "cell_type": "code",
   "execution_count": null,
   "metadata": {},
   "outputs": [],
   "source": []
  },
  {
   "cell_type": "markdown",
   "metadata": {},
   "source": [
    "2- Obtener todos los mails del siguiente texto\n"
   ]
  },
  {
   "cell_type": "code",
   "execution_count": null,
   "metadata": {},
   "outputs": [],
   "source": [
    "\n",
    "texto = \"\"\"dowdy@yahoo.ca el mail de cierta persona es: phyruxus@att.net el mail de cierta persona es: tlinden@msn.com el mail de cierta persona es: jhardin@me.com el mail de cierta persona es: lushe@comcast.net el mail de cierta persona es: netsfr@hotmail.com el mail de cierta persona es: wildixon@att.net el mail de cierta persona es: scottzed@optonline.net el mail de cierta persona es: cantu@msn.com el mail\n",
    "de cierta persona es: rhavyn@gmail.com el mail de cierta persona es: redingtn@hotmail.com el mail de cierta persona \n",
    "es: houle@icloud.com el mail de cierta persona es: bflong@hotmail.com el mail de cierta persona es: kenja@hotmail.com \n",
    "el mail de cierta persona es: openldap@gmail.com el mail de cierta persona es: bryanw@me.com el mail de cierta persona \n",
    "es: tromey@comcast.net el mail de cierta persona es: esasaki@gmail.com el mail de cierta persona es: fhirsch@att.net \n",
    "el mail de cierta persona es: hermanab@sbcglobal.net el mail de cierta persona es: rupak@msn.com el mail de cierta \n",
    "persona es: gravyface@yahoo.com el mail de cierta persona es: yfreund@mac.com el mail de cierta persona \n",
    "es: ryanshaw@gmail.com el mail de cierta persona es: chaikin@yahoo.ca\n",
    "\"\"\"\n"
   ]
  },
  {
   "cell_type": "code",
   "execution_count": null,
   "metadata": {},
   "outputs": [],
   "source": []
  },
  {
   "cell_type": "markdown",
   "metadata": {},
   "source": [
    "3- Dentro del siguiente archivo se encuentra un chat de wpp donde hay muuchos enlaces a articulos de distintas categorias (mayormente tecnologicas) que se fueron recopilando con el pasar de los dias.\n",
    "\n",
    "Leer el archivo y obtener todos los enlaces disponibles (https://) en una lista\n",
    "\n",
    "Luego recorrer esa lista y Obtener todos los enlaces que hagan referencia a Python\n",
    "\n"
   ]
  },
  {
   "cell_type": "code",
   "execution_count": null,
   "metadata": {},
   "outputs": [],
   "source": []
  },
  {
   "cell_type": "code",
   "execution_count": null,
   "metadata": {},
   "outputs": [],
   "source": []
  },
  {
   "cell_type": "code",
   "execution_count": null,
   "metadata": {},
   "outputs": [],
   "source": []
  },
  {
   "cell_type": "code",
   "execution_count": null,
   "metadata": {
    "scrolled": true
   },
   "outputs": [],
   "source": []
  },
  {
   "cell_type": "code",
   "execution_count": null,
   "metadata": {},
   "outputs": [],
   "source": []
  },
  {
   "cell_type": "code",
   "execution_count": null,
   "metadata": {},
   "outputs": [],
   "source": []
  },
  {
   "cell_type": "code",
   "execution_count": null,
   "metadata": {},
   "outputs": [],
   "source": []
  },
  {
   "cell_type": "code",
   "execution_count": null,
   "metadata": {},
   "outputs": [],
   "source": [
    "# nos interesan los articulos de python\n",
    "\n"
   ]
  },
  {
   "cell_type": "code",
   "execution_count": null,
   "metadata": {},
   "outputs": [],
   "source": [
    "# les comparto el archivo con todos estos url, hay mucho material, investiguenlo usando regex, sets y lo que quieran hacer,\n",
    "# ya tenemos los conocimientos necesarios para hacer freestyle"
   ]
  },
  {
   "cell_type": "markdown",
   "metadata": {},
   "source": [
    "## Conclusion\n",
    "\n",
    "Hay mucho, muuuucho mas por ver de expresiones regulares, pueden chequear las siguientes paginas para tutoriales mas completos y en detalle:\n",
    "\n",
    "[Documentacion oficial](https://docs.python.org/3/library/re.html)\n",
    "\n",
    "[Mas metacaracteres](https://docs.microsoft.com/es-es/dotnet/standard/base-types/regular-expression-language-quick-reference)\n",
    "\n",
    "[Tutorial completo parte 1](https://realpython.com/regex-python/)\n",
    "\n",
    "[Tutorial completo parte 2](https://realpython.com/regex-python-part-2/)\n",
    "\n",
    "[Excelente para practicar - regex 101](https://regex101.com/)\n",
    "\n",
    "[Excelente para practicar - regexr](https://regexr.com/)\n",
    "\n",
    "[Juego con regex](https://regexcrossword.com/)\n",
    "\n",
    "<br>\n",
    "\n",
    "Como vimos, el uso de regex nos da un poder de extraccion de subcadenas impresionante, pero ...\n",
    "<br>\n",
    "\n",
    "Antes de utilizarlas hay que estar seguros de lo que hacemos, de ahí aquella famosa frase de Jamie Zawinski, programador y hacker:\n",
    "\n",
    "**`Hay gente que, cuando se enfrenta a un problema, piensa \"Ya sé, usaré expresiones regulares\". Ahora tienen dos problemas.`**"
   ]
  },
  {
   "cell_type": "code",
   "execution_count": null,
   "metadata": {},
   "outputs": [],
   "source": []
  }
 ],
 "metadata": {
  "kernelspec": {
   "display_name": "Python 3",
   "language": "python",
   "name": "python3"
  },
  "language_info": {
   "codemirror_mode": {
    "name": "ipython",
    "version": 3
   },
   "file_extension": ".py",
   "mimetype": "text/x-python",
   "name": "python",
   "nbconvert_exporter": "python",
   "pygments_lexer": "ipython3",
   "version": "3.7.0"
  }
 },
 "nbformat": 4,
 "nbformat_minor": 4
}
