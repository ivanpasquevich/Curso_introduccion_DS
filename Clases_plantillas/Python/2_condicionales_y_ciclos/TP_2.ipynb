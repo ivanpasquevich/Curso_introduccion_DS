{
 "cells": [
  {
   "cell_type": "markdown",
   "metadata": {
    "collapsed": true
   },
   "source": [
    "# Ejercicios sobre lo aprendido"
   ]
  },
  {
   "cell_type": "markdown",
   "metadata": {},
   "source": [
    "## Suban este notebook resuelto al drive con la nomenclatura nombre_apellido_TP_2"
   ]
  },
  {
   "cell_type": "markdown",
   "metadata": {},
   "source": [
    "_____\n",
    "**Usar <code>for</code>, .split(), e <code>if</code> para imprimir todas las palabras que empiecen con 's':**"
   ]
  },
  {
   "cell_type": "code",
   "execution_count": 1,
   "metadata": {},
   "outputs": [],
   "source": [
    "st = 'Solo vas a imprimir la palabras que simplemente empiecen con s'"
   ]
  },
  {
   "cell_type": "code",
   "execution_count": null,
   "metadata": {},
   "outputs": [],
   "source": []
  },
  {
   "cell_type": "markdown",
   "metadata": {},
   "source": [
    "____\n",
    "**Recorrer el string e imprimir las palabras que tengan una cantidad par de caracteres**"
   ]
  },
  {
   "cell_type": "code",
   "execution_count": 1,
   "metadata": {},
   "outputs": [],
   "source": [
    "st = 'Vamos a imprimir solo aquellas palabras con cant de letras pares'"
   ]
  },
  {
   "cell_type": "code",
   "execution_count": null,
   "metadata": {},
   "outputs": [],
   "source": []
  },
  {
   "cell_type": "markdown",
   "metadata": {},
   "source": [
    "\n",
    "**Escribir un programa que imprima los enteros del 1 al 100, pero para los multiplos de 3 va a imprimir \"Fizz\" en lugar del numero y para los multiplos de 5 va a imprimir \"Buzz\". Para aquellos numeros que son multiplos de 3 y 5 simultaneamente, vamos a imprimir \"FizzBuzz\".**"
   ]
  },
  {
   "cell_type": "code",
   "execution_count": null,
   "metadata": {},
   "outputs": [],
   "source": []
  },
  {
   "cell_type": "code",
   "execution_count": null,
   "metadata": {},
   "outputs": [],
   "source": []
  },
  {
   "cell_type": "markdown",
   "metadata": {},
   "source": [
    "____"
   ]
  },
  {
   "cell_type": "markdown",
   "metadata": {},
   "source": [
    "**Supongamos que tenemos una lista con distintos datos de distintas personas, vamos a tener el nombre, apellido, provincia de origen y fecha de nacimiento.**\n",
    "\n",
    " 1. Visualizar los datos de la lista de manera ordenada.\n",
    " 2. Estandarizar los nombres, apellidos y provincias para que empiecen con mayuscula.\n",
    " 3. Calcular la edad de cada persona al dia de hoy y agregar esa edad a nuestro conjunto de datos.\n",
    " 4. Mostrar los datos de todas aquellas personas mayores a 55 años.\n",
    " 5. Mostrar los datos de todas aquellas personas que tienen un nombre que empieza con 'J'."
   ]
  },
  {
   "cell_type": "code",
   "execution_count": 2,
   "metadata": {},
   "outputs": [],
   "source": [
    "personas = [['NOMBRE', 'APELLIDO', 'PROVINCIA', \"NACIMIENTO\"],\n",
    " ['Joaquin', 'Gorina', 'Chubut', '1967'],\n",
    " ['jose', 'Olmedo', 'misiones', '1988'],\n",
    " ['Julian', 'sosa', 'misiones', '2005'],\n",
    " ['florencia', 'lopez', 'neuquen', '2000'],\n",
    " ['sol', 'sanchez', 'salta', '1997'],\n",
    " ['xiMena', 'asturiAS', 'chubut', '1999'],\n",
    " ['sol', 'sanchez', 'chubut', '1993'],\n",
    " ['manuel', 'Olmedo', 'chaco', '1980'],\n",
    " ['jaVIer', 'montoya', 'tucuman', '1969'],\n",
    " ['rosa', 'montoya', 'tucuman', '1927'],\n",
    " ['miguel', 'montoya', 'tucuman', '1934'],\n",
    " ['jose', 'olmos', 'salta', '1977']] "
   ]
  },
  {
   "cell_type": "code",
   "execution_count": null,
   "metadata": {},
   "outputs": [],
   "source": []
  },
  {
   "cell_type": "code",
   "execution_count": null,
   "metadata": {},
   "outputs": [],
   "source": []
  }
 ],
 "metadata": {
  "kernelspec": {
   "display_name": "Python 3",
   "language": "python",
   "name": "python3"
  },
  "language_info": {
   "codemirror_mode": {
    "name": "ipython",
    "version": 3
   },
   "file_extension": ".py",
   "mimetype": "text/x-python",
   "name": "python",
   "nbconvert_exporter": "python",
   "pygments_lexer": "ipython3",
   "version": "3.7.0"
  }
 },
 "nbformat": 4,
 "nbformat_minor": 1
}
