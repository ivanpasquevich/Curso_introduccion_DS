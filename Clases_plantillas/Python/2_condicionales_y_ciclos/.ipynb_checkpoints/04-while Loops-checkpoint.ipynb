{
 "cells": [
  {
   "cell_type": "markdown",
   "metadata": {
    "collapsed": true
   },
   "source": [
    "# Ciclos while\n",
    "\n",
    "Los ciclos <code>while</code> describen otra forma de hacer iteraciones, pero a diferencia del `for` se usa mas que nada en los casos en los que no tenemos un numero definido de iteraciones, sino que vamos a iterar hasta que se deje de cumplir la condicion del while.\n",
    "\n",
    "Es decir el bloque de codigo se va a ejecutar una y otra vez hasta que la condicion ya no sea verdadera.\n",
    "\n",
    "**Sintaxis**\n",
    "\n",
    "    while condicion:\n",
    "        acciones a realizar\n",
    "    else:\n",
    "        accion al salir del while\n",
    "\n",
    "\n",
    "Veamos a que nos referimos con esto "
   ]
  },
  {
   "cell_type": "code",
   "execution_count": null,
   "metadata": {},
   "outputs": [],
   "source": []
  },
  {
   "cell_type": "markdown",
   "metadata": {},
   "source": [
    "Veamos como se ejecuto el bloque hasta que x dejo de ser menor a 10, y salimos del ciclo while.\n",
    "\n",
    "Si agregamos una sentencia `else` esta va a ejecutarse una vez que el programa abandone el ciclo while debido a que la condicion ya no es mas verdadera.\n",
    "\n"
   ]
  },
  {
   "cell_type": "code",
   "execution_count": null,
   "metadata": {},
   "outputs": [],
   "source": []
  },
  {
   "cell_type": "markdown",
   "metadata": {},
   "source": [
    "# break, continue, pass\n",
    "\n",
    "Podemos usar las sentencias <code>break</code>, <code>continue</code>, y <code>pass</code> para darle una funcionalidad extra a nuestros ciclos `while` (tambien aplica a ciclos `for`)\n",
    "\n",
    "Definamos estas sentencias:\n",
    "\n",
    "We can use <code>break</code>, <code>continue</code>, and <code>pass</code> statements in our loops to add additional functionality for various cases. The three statements are defined by:\n",
    "\n",
    "    break: Sale o interrumpe el ciclo mas cercano al cual pertenece.\n",
    "    continue: Vuelve al principio del ciclo mas cercano al cual pertenece (va a la condicion).\n",
    "    pass: Does nothing at all.\n",
    "    \n",
    "    "
   ]
  },
  {
   "cell_type": "markdown",
   "metadata": {},
   "source": [
    " "
   ]
  },
  {
   "cell_type": "markdown",
   "metadata": {},
   "source": [
    "**Sintaxis generalizada**\n",
    "\n",
    "    while condicion: \n",
    "        acciones a realizar\n",
    "        if test: \n",
    "            break\n",
    "        if test: \n",
    "            continue \n",
    "    else:\n",
    "        otras acciones\n",
    "\n",
    "\n",
    "<code>break</code> y <code>continue</code>  pueden ir en cualquier lugar dentro del ciclo, pero generalmente se usan junto con un condicional <code>if</code>.\n",
    "\n",
    "Veamos algunos ejemplos"
   ]
  },
  {
   "cell_type": "code",
   "execution_count": null,
   "metadata": {},
   "outputs": [],
   "source": []
  },
  {
   "cell_type": "markdown",
   "metadata": {},
   "source": [
    "Ahora agreguemos la sentencia `break`"
   ]
  },
  {
   "cell_type": "code",
   "execution_count": null,
   "metadata": {},
   "outputs": [],
   "source": []
  },
  {
   "cell_type": "markdown",
   "metadata": {},
   "source": [
    "Fijense como el `break` incluso impide que se ejecute el `else` correspondiente al `while`, esto se debe a que ese `else` pertenece al ciclo.\n",
    "\n",
    "\n",
    "**A tener en cuenta! Es MUY posible que nos equivoquemos y corramos un ciclo <code>while</code> de manera infinita. Por ejemplo**"
   ]
  },
  {
   "cell_type": "code",
   "execution_count": null,
   "metadata": {},
   "outputs": [],
   "source": []
  },
  {
   "cell_type": "markdown",
   "metadata": {
    "collapsed": true
   },
   "source": [
    "Restart el Kernel en caso de que esto ocurra."
   ]
  },
  {
   "cell_type": "code",
   "execution_count": null,
   "metadata": {},
   "outputs": [],
   "source": []
  }
 ],
 "metadata": {
  "kernelspec": {
   "display_name": "Python 3",
   "language": "python",
   "name": "python3"
  },
  "language_info": {
   "codemirror_mode": {
    "name": "ipython",
    "version": 3
   },
   "file_extension": ".py",
   "mimetype": "text/x-python",
   "name": "python",
   "nbconvert_exporter": "python",
   "pygments_lexer": "ipython3",
   "version": "3.7.0"
  }
 },
 "nbformat": 4,
 "nbformat_minor": 1
}
