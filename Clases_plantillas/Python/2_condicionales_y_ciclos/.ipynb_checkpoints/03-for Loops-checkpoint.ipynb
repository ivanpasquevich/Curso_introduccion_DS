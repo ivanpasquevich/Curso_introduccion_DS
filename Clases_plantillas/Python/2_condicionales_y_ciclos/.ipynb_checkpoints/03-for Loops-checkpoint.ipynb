{
 "cells": [
  {
   "cell_type": "markdown",
   "metadata": {},
   "source": [
    "# Ciclos en Python\n",
    "\n",
    "Hasta el momento nosotros corriamos los bloques de codigo una y otra vez si queriamos repetir esa operacion, afortunadamente en programacion existe la definicion de ciclos o loops, lo que nos permitira ejecutar una accion una y otra vez de manera automatica.\n",
    "\n",
    "Para ello es que se utilizan las sentencias **`for`** y **`while`**\n",
    "\n"
   ]
  },
  {
   "cell_type": "code",
   "execution_count": null,
   "metadata": {},
   "outputs": [],
   "source": [
    "# de manera convencional, HASTA AHORA\n",
    "\n"
   ]
  },
  {
   "cell_type": "code",
   "execution_count": null,
   "metadata": {},
   "outputs": [],
   "source": [
    "# COMO DEBE SER\n",
    "\n"
   ]
  },
  {
   "cell_type": "markdown",
   "metadata": {},
   "source": [
    "Empecemos viendo los ciclos for."
   ]
  },
  {
   "cell_type": "markdown",
   "metadata": {},
   "source": [
    "************"
   ]
  },
  {
   "cell_type": "markdown",
   "metadata": {},
   "source": [
    "*************"
   ]
  },
  {
   "cell_type": "markdown",
   "metadata": {},
   "source": [
    "# Ciclos FOR\n",
    "\n",
    "Un ciclo <code>for</code> actua como un iterador en Python; va a recorrer elemento por elemento a aquellos objetos que sean una secuencia o en que permitan la iteracion.\n",
    "\n",
    "Dentro de los objetos que conocemos podemos iterar sobre strings, listas, tuplas e incluso diccionarios.\n",
    "\n"
   ]
  },
  {
   "cell_type": "markdown",
   "metadata": {},
   "source": [
    "\n",
    "Aqui la sintaxis convencional de un ciclo <code>for</code> en Python:\n",
    "\n",
    "    for item in objeto:\n",
    "        acciones a realizar\n",
    "    "
   ]
  },
  {
   "cell_type": "markdown",
   "metadata": {},
   "source": [
    "Las palabras `for` e `in` son por defecto\n",
    "\n",
    "El nombre de la variable usada para determinar el `item` es elegida por el programador, por lo que lo ideal es usar un nombre que haga sentido sobre lo que esta haciendo referencia esa variable.\n",
    "\n",
    "Esta variable puede ser referenciada dentro del bloque del ciclo for para poder hacer operaciones, comparaciones, etc.\n",
    "\n",
    "El `objeto` es aquel sobre el cual vamos a realizar las iteraciones, sobre el cual vamos a recorrer los elementos."
   ]
  },
  {
   "cell_type": "markdown",
   "metadata": {},
   "source": [
    "###  Ejemplo 1\n",
    "Iteremos sobre listas"
   ]
  },
  {
   "cell_type": "code",
   "execution_count": null,
   "metadata": {},
   "outputs": [],
   "source": []
  },
  {
   "cell_type": "code",
   "execution_count": null,
   "metadata": {},
   "outputs": [],
   "source": []
  },
  {
   "cell_type": "markdown",
   "metadata": {},
   "source": [
    "### Ejemplo 2\n",
    "Imprimamos solamente los numeros pares de la lista"
   ]
  },
  {
   "cell_type": "code",
   "execution_count": null,
   "metadata": {},
   "outputs": [],
   "source": []
  },
  {
   "cell_type": "markdown",
   "metadata": {},
   "source": [
    "Podemos usar la sentencia <code>else</code>:"
   ]
  },
  {
   "cell_type": "code",
   "execution_count": null,
   "metadata": {},
   "outputs": [],
   "source": []
  },
  {
   "cell_type": "markdown",
   "metadata": {},
   "source": [
    "### Ejemplo 3\n",
    "\n",
    "Otra aplicacion de los ciclos <code>for</code> es la de llevar registro de algun tipo de acumulador en cada iteracion, por ejemplo, supongamos que queremos sumar todos los elementos de la lista.\n"
   ]
  },
  {
   "cell_type": "code",
   "execution_count": null,
   "metadata": {},
   "outputs": [],
   "source": []
  },
  {
   "cell_type": "markdown",
   "metadata": {},
   "source": [
    "### Ejemplo 4\n",
    "\n",
    "Hasta ahora usamos los ciclos <code>for</code> con listas, ahora veamos con strings.\n",
    "\n",
    "Acuerdense que los strings son una **secuencia de caracteres** de modo que cuando iteremos sobre ellos cada `item` va a ser un caracter del string.\n"
   ]
  },
  {
   "cell_type": "code",
   "execution_count": null,
   "metadata": {},
   "outputs": [],
   "source": []
  },
  {
   "cell_type": "markdown",
   "metadata": {},
   "source": [
    "### Ejemplo 5\n",
    "Tambien podemos usar el ciclo <code>for</code> sobre una tupla."
   ]
  },
  {
   "cell_type": "code",
   "execution_count": null,
   "metadata": {},
   "outputs": [],
   "source": []
  },
  {
   "cell_type": "markdown",
   "metadata": {},
   "source": [
    "### Ejemplo 6\n",
    "\n",
    "Las tuplas tienen una cualidad especial, esto es que permiten una operacion conocida como \"desenpaquetado\" (unpacking), en donde podemos asignar los distintos elementos de la tupla a distintas variables.\n",
    "\n",
    "Si estamos iterando sobre una secuencia que contiene tuplas, cada item va a ser una tupla, pero mediante el unpacking vamos a poder obtener cada elemento de la tupla.\n"
   ]
  },
  {
   "cell_type": "code",
   "execution_count": null,
   "metadata": {},
   "outputs": [],
   "source": []
  },
  {
   "cell_type": "code",
   "execution_count": null,
   "metadata": {},
   "outputs": [],
   "source": []
  },
  {
   "cell_type": "code",
   "execution_count": null,
   "metadata": {},
   "outputs": [],
   "source": []
  },
  {
   "cell_type": "code",
   "execution_count": null,
   "metadata": {},
   "outputs": [],
   "source": [
    "# Ahora con unpacking"
   ]
  },
  {
   "cell_type": "code",
   "execution_count": null,
   "metadata": {},
   "outputs": [],
   "source": [
    "# Otro ejemplo con unpacking "
   ]
  },
  {
   "cell_type": "markdown",
   "metadata": {},
   "source": [
    "Este tema es importante porque hay varios objetos que nos van a suministrar sus elementos a traves de iterables con tuplas dentro, un ejemplo claro de esto son los diccionarios.\n"
   ]
  },
  {
   "cell_type": "markdown",
   "metadata": {},
   "source": [
    "### Ejemplo 7\n",
    "\n",
    "Exploremos los diccionarios"
   ]
  },
  {
   "cell_type": "code",
   "execution_count": null,
   "metadata": {},
   "outputs": [],
   "source": [
    "d = {'k1':1,'k2':2,'k3':3}"
   ]
  },
  {
   "cell_type": "code",
   "execution_count": null,
   "metadata": {},
   "outputs": [],
   "source": []
  },
  {
   "cell_type": "markdown",
   "metadata": {},
   "source": [
    "Veamos que iterando asi sobre el diccionario solo obtenemos las claves, pero como conseguimos los valores? O los pares clave:valor ?\n",
    "\n",
    "Recuerdan los metodos del diccionario: **.keys()**, **.values()** and **.items()**\n",
    "\n",
    "En Python cada uno de estos metodos nos devuelve un objeto *dictionary view object*, el cual soporta operaciones como iteracion.\n",
    "\n",
    "Veamos a lo que nos referimos\n"
   ]
  },
  {
   "cell_type": "code",
   "execution_count": null,
   "metadata": {},
   "outputs": [],
   "source": []
  },
  {
   "cell_type": "code",
   "execution_count": null,
   "metadata": {},
   "outputs": [],
   "source": []
  },
  {
   "cell_type": "markdown",
   "metadata": {},
   "source": [
    "Este objeto devuelto por el metodo no nos es familiar, por lo que podemos transformarlo en una lista y aplicar las operaciones y metodos que ya conocemos."
   ]
  },
  {
   "cell_type": "code",
   "execution_count": null,
   "metadata": {},
   "outputs": [],
   "source": []
  },
  {
   "cell_type": "markdown",
   "metadata": {},
   "source": [
    "Recuerden que los diccionarios no estan ordenados, las claves y valores vienen en un orden arbitrario.\n",
    "\n",
    "Sin embargo, podemos obtener una lista ordenada usando la funcion `sorted()`\n",
    "\n"
   ]
  },
  {
   "cell_type": "code",
   "execution_count": null,
   "metadata": {},
   "outputs": [],
   "source": []
  },
  {
   "cell_type": "code",
   "execution_count": null,
   "metadata": {},
   "outputs": [],
   "source": []
  },
  {
   "cell_type": "markdown",
   "metadata": {},
   "source": [
    "## For + range\n",
    "\n",
    "Es una de las formas mas comunes de usar el ciclo `for`, pudiendo determinar exactamente cuantas veces queremos que se realice una tarea (que se ejecute un bloque de codigo).\n",
    "\n",
    "Para esto primero debemos introducir a la funcion `range()`"
   ]
  },
  {
   "cell_type": "markdown",
   "metadata": {},
   "source": [
    "La funcion `range()` nos permite generar de manera rapida una lista de enteros, esto es muy util, asique **presten atencion a como se usa**.\n",
    "\n",
    "La funcion permite el paso de tres paramentros, `start`, `stop` y `step` (los mismos parametros que vimos para el slicing)\n"
   ]
  },
  {
   "cell_type": "code",
   "execution_count": null,
   "metadata": {},
   "outputs": [],
   "source": [
    "range(0,11)"
   ]
  },
  {
   "cell_type": "markdown",
   "metadata": {},
   "source": [
    "Veamos que la funcion `range()` por si sola nos devuelve un generador, que adivinen, es otro objeto de Python.\n",
    "\n",
    "Un generador es un tipo especial de funcion que va a ir generando informacion cuando se la solicite, sin guardarla en la memoria.\n",
    "**Lo importante** de esto es que nosotros podemos convertirlo en una lista, para obtener los valores que genera."
   ]
  },
  {
   "cell_type": "code",
   "execution_count": null,
   "metadata": {},
   "outputs": [],
   "source": []
  },
  {
   "cell_type": "code",
   "execution_count": null,
   "metadata": {},
   "outputs": [],
   "source": []
  },
  {
   "cell_type": "markdown",
   "metadata": {},
   "source": [
    "##### Y ahora la posta: for + range\n",
    "Esta combinacion es indispensable para hacer un ciclo que se repita una **cantidad de veces definida**, veamos de que estamos hablando.\n"
   ]
  },
  {
   "cell_type": "code",
   "execution_count": null,
   "metadata": {},
   "outputs": [],
   "source": []
  },
  {
   "cell_type": "code",
   "execution_count": null,
   "metadata": {},
   "outputs": [],
   "source": []
  },
  {
   "cell_type": "markdown",
   "metadata": {},
   "source": [
    "## Recorriendo una secuencia, ATENCION A ESTE TEMA !!\n",
    "\n",
    "Ya vimos como recorrer una lista elemento a elemento y como funciona la funcion `range()`, dependiendo del problema vamos a tener que usar una aproximacion u otra a la hora de recorrer una lista.\n",
    "\n",
    "Es de suma importancia poder diferenciar en cada caso que sucede y que enfoque debemos optar para resolver el problema.\n",
    "\n",
    "Veamos a que nos referimos con este enfoque."
   ]
  },
  {
   "cell_type": "code",
   "execution_count": null,
   "metadata": {},
   "outputs": [],
   "source": [
    " # supongamos que tenemos la lista de numeros \n",
    "lista = [20,11,15,12,13,15,20,50]\n",
    "\n"
   ]
  },
  {
   "cell_type": "code",
   "execution_count": null,
   "metadata": {},
   "outputs": [],
   "source": [
    "# recorrer la lista e imprimir aquellos numero que sean pares\n"
   ]
  },
  {
   "cell_type": "code",
   "execution_count": null,
   "metadata": {},
   "outputs": [],
   "source": [
    "# recorrer la lista e imprimir aquellos numero que TENGAN UN INDICE PAR, es decir, que ocupen una posicion\n",
    "# par, independientemente de su valor.\n",
    "\n"
   ]
  },
  {
   "cell_type": "code",
   "execution_count": null,
   "metadata": {},
   "outputs": [],
   "source": []
  },
  {
   "cell_type": "code",
   "execution_count": null,
   "metadata": {},
   "outputs": [],
   "source": [
    "# Este segundo caso es de suma utilidad cuando querramos hacer una reasignacion de ciertos elementos de una lista\n",
    "# Supongamos que queremos dada la lista, queremos reemplazar a todos los multiplos de 5 por el numero 99"
   ]
  },
  {
   "cell_type": "code",
   "execution_count": null,
   "metadata": {},
   "outputs": [],
   "source": []
  },
  {
   "cell_type": "markdown",
   "metadata": {},
   "source": [
    "### Ciclos for anidados\n",
    "\n",
    "En ocasiones queremos recorrer elementos que se encuentran dentro de elementos (listas dentro de listas por ejemplo), para ello necesitamos de un ciclo dentro de otro.\n",
    "\n",
    "Veamos a que nos referimos:"
   ]
  },
  {
   "cell_type": "code",
   "execution_count": 2,
   "metadata": {},
   "outputs": [],
   "source": [
    "# supongamos la siguiente lista de listas\n",
    "matriz = [[10,222,3],[4,59,6],[70,809,999]]\n",
    "\n",
    "# queremos recorrer todos los elementos de la matriz e imprimir aquellos numeros pares"
   ]
  },
  {
   "cell_type": "code",
   "execution_count": null,
   "metadata": {},
   "outputs": [],
   "source": []
  },
  {
   "cell_type": "code",
   "execution_count": null,
   "metadata": {},
   "outputs": [],
   "source": []
  },
  {
   "cell_type": "code",
   "execution_count": null,
   "metadata": {},
   "outputs": [],
   "source": []
  },
  {
   "cell_type": "code",
   "execution_count": null,
   "metadata": {},
   "outputs": [],
   "source": []
  },
  {
   "cell_type": "markdown",
   "metadata": {},
   "source": [
    "# MANOS A LA OBRA"
   ]
  },
  {
   "cell_type": "markdown",
   "metadata": {},
   "source": [
    "1- Dado el string `'Buenas tardes Sr. Gonzales'` imprimir la cantidad de veces que se repite la letra 's' (mayuscula y minuscula)"
   ]
  },
  {
   "cell_type": "code",
   "execution_count": null,
   "metadata": {},
   "outputs": [],
   "source": []
  },
  {
   "cell_type": "markdown",
   "metadata": {},
   "source": [
    "2- Dado el string `'bhieecnh oh ebciheon'` imprimir un nuevo string formado por la concatenacion de los caracteres que ocupan una posicion par (indice par)."
   ]
  },
  {
   "cell_type": "code",
   "execution_count": null,
   "metadata": {},
   "outputs": [],
   "source": []
  },
  {
   "cell_type": "code",
   "execution_count": null,
   "metadata": {},
   "outputs": [],
   "source": []
  }
 ],
 "metadata": {
  "kernelspec": {
   "display_name": "Python 3",
   "language": "python",
   "name": "python3"
  },
  "language_info": {
   "codemirror_mode": {
    "name": "ipython",
    "version": 3
   },
   "file_extension": ".py",
   "mimetype": "text/x-python",
   "name": "python",
   "nbconvert_exporter": "python",
   "pygments_lexer": "ipython3",
   "version": "3.7.0"
  }
 },
 "nbformat": 4,
 "nbformat_minor": 1
}
