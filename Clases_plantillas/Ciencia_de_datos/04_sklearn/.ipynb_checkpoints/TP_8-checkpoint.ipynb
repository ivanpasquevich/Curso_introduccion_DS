{
 "cells": [
  {
   "cell_type": "markdown",
   "metadata": {},
   "source": [
    "# TRABAJO PRACTICO INTEGRADOR"
   ]
  },
  {
   "cell_type": "markdown",
   "metadata": {},
   "source": [
    "## Suban este notebook resuelto al drive con la nomenclatura nombre_apellido_TP_8"
   ]
  },
  {
   "cell_type": "markdown",
   "metadata": {},
   "source": [
    "****"
   ]
  },
  {
   "cell_type": "markdown",
   "metadata": {},
   "source": [
    "### CONSIGNA\n",
    "\n",
    "En base al dataset seguro_medico.csv, vamos a tener que limpiar los datos, hacer algunos ploteos y entrenar un modelo de regresion lineal para poder predecir el costo del seguro medico en base a los datos disponibles en nuestro dataframe."
   ]
  },
  {
   "cell_type": "markdown",
   "metadata": {},
   "source": [
    "#### Descripcion del dataset\n",
    "\n",
    "* age = Edad del asegurado\n",
    "\n",
    "* sex = Genero\n",
    "\n",
    "* bmi = Indice de masa corporal\n",
    "\n",
    "* children = Cantidad de hijos\n",
    "\n",
    "* smoker = Indicador si fuma o no\n",
    "\n",
    "* region = region donde vive el asegurado\n",
    "\n",
    "* lives = si esta vivo o no \n",
    "\n",
    "* charges = precio del seguro"
   ]
  },
  {
   "cell_type": "markdown",
   "metadata": {},
   "source": [
    "#### Importamos las librerias"
   ]
  },
  {
   "cell_type": "code",
   "execution_count": null,
   "metadata": {},
   "outputs": [],
   "source": []
  },
  {
   "cell_type": "code",
   "execution_count": null,
   "metadata": {},
   "outputs": [],
   "source": []
  },
  {
   "cell_type": "markdown",
   "metadata": {},
   "source": [
    "#### Cargamos el dataframe\n",
    "\n",
    "Cargamos el df, observamos la info que tiene, las columnas, etc."
   ]
  },
  {
   "cell_type": "code",
   "execution_count": null,
   "metadata": {},
   "outputs": [],
   "source": []
  },
  {
   "cell_type": "code",
   "execution_count": null,
   "metadata": {},
   "outputs": [],
   "source": []
  },
  {
   "cell_type": "markdown",
   "metadata": {},
   "source": [
    "#### Limpiamos el dataframe\n",
    "\n",
    "* El dataframe contiene valores nulos?, que hacemos con ellos?\n",
    "Obviamente si toda una fila tiene valores nulos vamos a tener que eliminarla completamente\n",
    "\n",
    "* En la columna edades hubo errores de tipeo y se multiplicaron por 10 algunas edades, hacer un grafico de cajas para ver lo mencionado. *Luego vamos a modificar estos datos, por el momento solo visualizar*.\n",
    "\n",
    "* Veamos si los valores de las distintas columnas tienen sentido, podemos hacer alguna modificacion?\n",
    "**Pista**: usar value_counts en las columnas sex y smoker\n",
    "\n",
    "* Una vez limpios los datos y eliminadas las filas reseteamos el indice (df.reset_index(drop=True))\n",
    "\n"
   ]
  },
  {
   "cell_type": "code",
   "execution_count": null,
   "metadata": {},
   "outputs": [],
   "source": []
  },
  {
   "cell_type": "code",
   "execution_count": null,
   "metadata": {},
   "outputs": [],
   "source": []
  },
  {
   "cell_type": "code",
   "execution_count": null,
   "metadata": {},
   "outputs": [],
   "source": []
  },
  {
   "cell_type": "code",
   "execution_count": null,
   "metadata": {},
   "outputs": [],
   "source": []
  },
  {
   "cell_type": "markdown",
   "metadata": {},
   "source": [
    "#### Presencia de outliers\n",
    "\n",
    "Veamos el caso de la columna age, hay valores que no tienen sentido (son muy grandes para una persona), a esos valores vamos a dividirlos por 10.\n",
    "\n",
    "Hacer nuevamente un acer un grafico de cajas para si quedaron outliers en esta columna. "
   ]
  },
  {
   "cell_type": "code",
   "execution_count": null,
   "metadata": {},
   "outputs": [],
   "source": []
  },
  {
   "cell_type": "code",
   "execution_count": null,
   "metadata": {},
   "outputs": [],
   "source": []
  },
  {
   "cell_type": "code",
   "execution_count": null,
   "metadata": {},
   "outputs": [],
   "source": []
  },
  {
   "cell_type": "code",
   "execution_count": null,
   "metadata": {},
   "outputs": [],
   "source": []
  },
  {
   "cell_type": "markdown",
   "metadata": {},
   "source": [
    "#### Varianza de las features\n",
    "\n",
    "Veamos la columna 'lives', cuanto valores distintos tiene?\n",
    "\n",
    "En base a este analisis, tiene sentido que este incluida para hace la prediccion?"
   ]
  },
  {
   "cell_type": "code",
   "execution_count": null,
   "metadata": {},
   "outputs": [],
   "source": []
  },
  {
   "cell_type": "code",
   "execution_count": null,
   "metadata": {},
   "outputs": [],
   "source": []
  },
  {
   "cell_type": "code",
   "execution_count": null,
   "metadata": {},
   "outputs": [],
   "source": []
  },
  {
   "cell_type": "markdown",
   "metadata": {},
   "source": [
    "#### Ingenieria de features\n",
    "\n",
    "Vamos a convertir las variables categoricas a numericas.\n",
    "\n",
    "Veamos cuantos valores distintos hay en las columnas y en base a eso tomaremos la decision de que columnas transformar (ej: si una columna tiene 100 valores distintos, no haremos un get_dummies sobre ella)\n",
    "\n",
    "Determinar si son variables nominales u ordinales y en base a eso usar el metodo get_dummies o LabelEncoder\n",
    "\n",
    "**No olvidarse de eliminar las columnas originales luego de la transformacion**"
   ]
  },
  {
   "cell_type": "code",
   "execution_count": null,
   "metadata": {},
   "outputs": [],
   "source": []
  },
  {
   "cell_type": "code",
   "execution_count": null,
   "metadata": {},
   "outputs": [],
   "source": []
  },
  {
   "cell_type": "code",
   "execution_count": null,
   "metadata": {},
   "outputs": [],
   "source": []
  },
  {
   "cell_type": "code",
   "execution_count": null,
   "metadata": {},
   "outputs": [],
   "source": []
  },
  {
   "cell_type": "markdown",
   "metadata": {},
   "source": [
    "#### Seleccionamos las features que van a usarse para entrenar el modelo\n",
    "\n",
    "Vamos a eliminar todas aquellas columnas que por los analisis previos consideremos que no influyen en la prediccion."
   ]
  },
  {
   "cell_type": "code",
   "execution_count": null,
   "metadata": {},
   "outputs": [],
   "source": []
  },
  {
   "cell_type": "code",
   "execution_count": null,
   "metadata": {},
   "outputs": [],
   "source": []
  },
  {
   "cell_type": "markdown",
   "metadata": {},
   "source": [
    "#### Dividimos el dataframe\n",
    "\n",
    "Vamos a dividirlo en un 80% train y 20% test"
   ]
  },
  {
   "cell_type": "code",
   "execution_count": null,
   "metadata": {},
   "outputs": [],
   "source": []
  },
  {
   "cell_type": "code",
   "execution_count": null,
   "metadata": {},
   "outputs": [],
   "source": []
  },
  {
   "cell_type": "code",
   "execution_count": null,
   "metadata": {},
   "outputs": [],
   "source": []
  },
  {
   "cell_type": "markdown",
   "metadata": {},
   "source": [
    "#### Entrenamos el modelo"
   ]
  },
  {
   "cell_type": "code",
   "execution_count": null,
   "metadata": {},
   "outputs": [],
   "source": []
  },
  {
   "cell_type": "code",
   "execution_count": null,
   "metadata": {},
   "outputs": [],
   "source": []
  },
  {
   "cell_type": "code",
   "execution_count": null,
   "metadata": {},
   "outputs": [],
   "source": []
  },
  {
   "cell_type": "code",
   "execution_count": null,
   "metadata": {},
   "outputs": [],
   "source": []
  },
  {
   "cell_type": "markdown",
   "metadata": {},
   "source": [
    "#### Evaluamos el modelo"
   ]
  },
  {
   "cell_type": "code",
   "execution_count": null,
   "metadata": {},
   "outputs": [],
   "source": [
    "# hagamos la evaluacion tanto para el train como para el test dataset\n"
   ]
  },
  {
   "cell_type": "code",
   "execution_count": null,
   "metadata": {},
   "outputs": [],
   "source": []
  },
  {
   "cell_type": "code",
   "execution_count": null,
   "metadata": {},
   "outputs": [],
   "source": []
  },
  {
   "cell_type": "code",
   "execution_count": null,
   "metadata": {},
   "outputs": [],
   "source": []
  },
  {
   "cell_type": "markdown",
   "metadata": {},
   "source": [
    "#### Compactamos el modelo\n",
    "\n",
    "Creamos las funciones que creamos correspondientes para realizar las operaciones desde que se carga el df hasta que se entrena el modelo (pueden basarse en la estructura vista en clases)\n",
    "\n",
    "Luego correrlas en la misma celda y verificar los resultados.\n"
   ]
  },
  {
   "cell_type": "code",
   "execution_count": null,
   "metadata": {},
   "outputs": [],
   "source": []
  },
  {
   "cell_type": "code",
   "execution_count": null,
   "metadata": {},
   "outputs": [],
   "source": []
  },
  {
   "cell_type": "code",
   "execution_count": null,
   "metadata": {},
   "outputs": [],
   "source": []
  },
  {
   "cell_type": "code",
   "execution_count": null,
   "metadata": {},
   "outputs": [],
   "source": []
  },
  {
   "cell_type": "markdown",
   "metadata": {},
   "source": [
    "## A PRACTICAR y leer..\n",
    "\n",
    "Este simple ejercicio es solo para aprobar el curso, hay muchas muchas cosas mas sobre regresion lineal muy utiles en problemas reales.\n",
    "\n",
    "Estos son algunos ejemplos de temas utiles sobre regresion lineal  y ML en gral:\n",
    "\n",
    "    linear regression assumptions\n",
    "\n",
    "    overfitting y underfitting\n",
    "    \n",
    "    bias y variance\n",
    "    \n",
    "    metrics: MAE, R squared\n",
    "    \n",
    "    scaling the data, normalization, standarization\n",
    "    "
   ]
  },
  {
   "cell_type": "markdown",
   "metadata": {},
   "source": [
    "## Suban este notebook resuelto al drive con la nomenclatura nombre_apellido_TP_8"
   ]
  }
 ],
 "metadata": {
  "kernelspec": {
   "display_name": "Python 3",
   "language": "python",
   "name": "python3"
  },
  "language_info": {
   "codemirror_mode": {
    "name": "ipython",
    "version": 3
   },
   "file_extension": ".py",
   "mimetype": "text/x-python",
   "name": "python",
   "nbconvert_exporter": "python",
   "pygments_lexer": "ipython3",
   "version": "3.7.0"
  }
 },
 "nbformat": 4,
 "nbformat_minor": 4
}
