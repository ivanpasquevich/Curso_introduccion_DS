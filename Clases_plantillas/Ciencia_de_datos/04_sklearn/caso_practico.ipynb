{
 "cells": [
  {
   "cell_type": "markdown",
   "metadata": {},
   "source": [
    "## Caso Practico - Prediccion de precio de casas\n",
    "\n",
    "En este dataset cada fila expresa las propiedades de una casa y el precio de la misma. La idea es generar un modelo que nos prediga el precio de las casas en base a ciertas caracteristicas de la misma."
   ]
  },
  {
   "cell_type": "code",
   "execution_count": null,
   "metadata": {},
   "outputs": [],
   "source": [
    "# importamos las librerias\n",
    "\n",
    "import numpy as np\n",
    "import pandas as pd\n",
    "import seaborn as sns\n",
    "import matplotlib.pyplot as plt\n",
    "\n",
    "%matplotlib inline"
   ]
  },
  {
   "cell_type": "code",
   "execution_count": null,
   "metadata": {},
   "outputs": [],
   "source": [
    "# vamos a crear una funcion para que entrene el modelo y nos devuelva el valor de RMSE\n",
    "\n",
    "from sklearn.linear_model import LinearRegression\n",
    "from sklearn.metrics import mean_squared_error\n",
    "from sklearn.model_selection import train_test_split\n",
    "from math import sqrt"
   ]
  },
  {
   "cell_type": "code",
   "execution_count": null,
   "metadata": {},
   "outputs": [],
   "source": [
    "# cargamos el dataframe\n",
    "\n",
    "data = pd.read_csv('AmesHousing.txt', delimiter=\"\\t\")\n",
    "data_orig = data.copy()"
   ]
  },
  {
   "cell_type": "code",
   "execution_count": null,
   "metadata": {},
   "outputs": [],
   "source": []
  },
  {
   "cell_type": "markdown",
   "metadata": {},
   "source": [
    "#### Los Datos\n",
    "\n",
    "Para simplificar el entendimiento voy a dejar un breve diccionario de que significa cada uno de los campos que vamos\n",
    "a usar para el analisis:\n",
    "\n",
    "* Diccionario_columnas\n",
    "\n",
    "Si queremos un entendimiento mas profundo sobre cada una de las columnas dirigirse a la documentacion oficial:\n",
    "\n",
    "[link a doc oficial](https://s3.amazonaws.com/dq-content/307/data_description.txt)"
   ]
  },
  {
   "cell_type": "code",
   "execution_count": null,
   "metadata": {},
   "outputs": [],
   "source": [
    "data.info()"
   ]
  },
  {
   "cell_type": "markdown",
   "metadata": {},
   "source": [
    "### Hagamos una exploracion muy rapida"
   ]
  },
  {
   "cell_type": "code",
   "execution_count": null,
   "metadata": {},
   "outputs": [],
   "source": [
    "# veamos la cantidad de valores nulos que tenemos por columnas\n",
    "pd.options.display.max_rows = 85\n"
   ]
  },
  {
   "cell_type": "code",
   "execution_count": null,
   "metadata": {},
   "outputs": [],
   "source": [
    "# podemos establecer una definicion propia, decimos que si los datos tienen mas del 80% de valores nulos entonces no nos\n",
    "# sirve\n",
    "\n"
   ]
  },
  {
   "cell_type": "code",
   "execution_count": null,
   "metadata": {},
   "outputs": [],
   "source": []
  },
  {
   "cell_type": "code",
   "execution_count": null,
   "metadata": {},
   "outputs": [],
   "source": []
  },
  {
   "cell_type": "code",
   "execution_count": null,
   "metadata": {},
   "outputs": [],
   "source": [
    "# veamos si hay valores duplicados, nos basamos en la columna PID, que es Property ID\n",
    "# y debe ser unico para cada casa, sino estaremos ante casas repetidas\n",
    "\n"
   ]
  },
  {
   "cell_type": "code",
   "execution_count": null,
   "metadata": {},
   "outputs": [],
   "source": []
  },
  {
   "cell_type": "code",
   "execution_count": null,
   "metadata": {},
   "outputs": [],
   "source": []
  },
  {
   "cell_type": "markdown",
   "metadata": {},
   "source": [
    "## Organizacion del codigo\n",
    "\n",
    "Trabajar con Jupyter notebook es muy dinamico pero a la vez muy desorganizado, por lo que vamos a dividir nuestro codigo en \n",
    "3 funciones para simplificar.\n",
    "\n",
    "\n",
    "* Transformacion\n",
    "\n",
    "* Seleccion\n",
    "\n",
    "* Entrenamiento y testeo"
   ]
  },
  {
   "cell_type": "code",
   "execution_count": null,
   "metadata": {},
   "outputs": [],
   "source": [
    "    \n",
    "def transformacion(df):\n",
    "    '''\n",
    "    Operaciones que afecten los valores del df, como relleno de nulos, eliminar filas, mapeos, reemplazo de valores, etc\n",
    "    NO INCLUIMOS LA ELIMINACION DE COLUMNAS ENTERAS\n",
    "    '''\n",
    "    return df\n",
    "\n",
    "def seleccion(df):\n",
    "    '''\n",
    "    Seleccion de aquellas features o columnas que se van a utilizar para el entrenamiento del modelo\n",
    "    '''\n",
    "    return \n",
    "\n",
    "def entrenar_testear(df):\n",
    "    '''\n",
    "    Instanciar el modelo, entrenarlo y luego evaluarlo\n",
    "    '''\n",
    "    "
   ]
  },
  {
   "cell_type": "code",
   "execution_count": null,
   "metadata": {},
   "outputs": [],
   "source": []
  },
  {
   "cell_type": "code",
   "execution_count": null,
   "metadata": {},
   "outputs": [],
   "source": []
  },
  {
   "cell_type": "markdown",
   "metadata": {},
   "source": [
    "### Variables numericas"
   ]
  },
  {
   "cell_type": "code",
   "execution_count": null,
   "metadata": {},
   "outputs": [],
   "source": [
    "# veamos cuales son las columnas numericas, vamos a basarnos en ellas para el modelado\n",
    "pd.options.display.max_columns = 85\n"
   ]
  },
  {
   "cell_type": "code",
   "execution_count": null,
   "metadata": {},
   "outputs": [],
   "source": []
  },
  {
   "cell_type": "code",
   "execution_count": null,
   "metadata": {},
   "outputs": [],
   "source": [
    "# vemos que de entrada hay varias variables numericas que podemos usar para el modelo, pero tenemos que elegir cuales\n",
    "# para hacer un mejor analisis\n",
    "\n",
    "# podriamos pasar todo como viene? si podriamos, rellenando o eliminando los valores nulos, pero a continuacion vamos\n",
    "# a tratar de ver que nos sirve y que no"
   ]
  },
  {
   "cell_type": "code",
   "execution_count": null,
   "metadata": {},
   "outputs": [],
   "source": []
  },
  {
   "cell_type": "code",
   "execution_count": null,
   "metadata": {},
   "outputs": [],
   "source": [
    "# veamos las correlaciones con el target para ver que variables o features describen de mejor manera el comportamiento\n",
    "# de nuestro target"
   ]
  },
  {
   "cell_type": "code",
   "execution_count": null,
   "metadata": {},
   "outputs": [],
   "source": []
  },
  {
   "cell_type": "code",
   "execution_count": null,
   "metadata": {},
   "outputs": [],
   "source": [
    "# como regla general podemos tomar como umbral una correlacion superior a 0.3, es buena practica ir ajustando\n",
    "# este numero y probando la performance del modelo\n",
    "\n"
   ]
  },
  {
   "cell_type": "code",
   "execution_count": null,
   "metadata": {},
   "outputs": [],
   "source": []
  },
  {
   "cell_type": "code",
   "execution_count": null,
   "metadata": {},
   "outputs": [],
   "source": []
  },
  {
   "cell_type": "code",
   "execution_count": null,
   "metadata": {},
   "outputs": [],
   "source": []
  },
  {
   "cell_type": "markdown",
   "metadata": {},
   "source": [
    "### Tratamiento de valores nulos"
   ]
  },
  {
   "cell_type": "code",
   "execution_count": null,
   "metadata": {
    "scrolled": true
   },
   "outputs": [],
   "source": []
  },
  {
   "cell_type": "code",
   "execution_count": null,
   "metadata": {},
   "outputs": [],
   "source": [
    "# analicemos estas 3 variables para ver que hacer con los nulos\n",
    "# veamos que porcentaje de nulos es 490\n",
    "\n"
   ]
  },
  {
   "cell_type": "code",
   "execution_count": null,
   "metadata": {},
   "outputs": [],
   "source": [
    "# su correlacion con el target?\n",
    "\n"
   ]
  },
  {
   "cell_type": "code",
   "execution_count": null,
   "metadata": {},
   "outputs": [],
   "source": []
  },
  {
   "cell_type": "code",
   "execution_count": null,
   "metadata": {},
   "outputs": [],
   "source": []
  },
  {
   "cell_type": "code",
   "execution_count": null,
   "metadata": {
    "scrolled": true
   },
   "outputs": [],
   "source": [
    "# volvemos a chequear por las otras variables con valores nulos\n"
   ]
  },
  {
   "cell_type": "code",
   "execution_count": null,
   "metadata": {},
   "outputs": [],
   "source": []
  },
  {
   "cell_type": "code",
   "execution_count": null,
   "metadata": {},
   "outputs": [],
   "source": [
    "# vamos a dejar el analisis del Garage Yr Blt para mas adelante y nos vamos a entrar en las otras columnas con valores\n",
    "# nulos\n",
    "\n"
   ]
  },
  {
   "cell_type": "code",
   "execution_count": null,
   "metadata": {},
   "outputs": [],
   "source": []
  },
  {
   "cell_type": "code",
   "execution_count": null,
   "metadata": {},
   "outputs": [],
   "source": []
  },
  {
   "cell_type": "code",
   "execution_count": null,
   "metadata": {},
   "outputs": [],
   "source": [
    "# OJO ACA ENTONCES, VAMOS A HACER UNA TRANSFORMACION, Y NO SOBRE NUESTRO DF ORIGINAL\n",
    "# TENEMOS QUE LLEVAR REGISTRO DE ESTAS COSAS PORQUE VAN A TENER QUE HACERSE SIEMPRE QUE QUERRAMOS ENTRENAR EL MODELO\n",
    "# YA QUE AL SER REGRESION LINEAL NO PODEMOS CONTAR CON VALORES NULOS\n",
    "\n",
    "\n"
   ]
  },
  {
   "cell_type": "code",
   "execution_count": null,
   "metadata": {},
   "outputs": [],
   "source": []
  },
  {
   "cell_type": "code",
   "execution_count": null,
   "metadata": {},
   "outputs": [],
   "source": []
  },
  {
   "cell_type": "code",
   "execution_count": null,
   "metadata": {},
   "outputs": [],
   "source": [
    "# para los otros casos vamos a tirar las filas que contengan nulo en estos campos\n",
    "\n"
   ]
  },
  {
   "cell_type": "code",
   "execution_count": null,
   "metadata": {
    "scrolled": true
   },
   "outputs": [],
   "source": []
  },
  {
   "cell_type": "code",
   "execution_count": null,
   "metadata": {},
   "outputs": [],
   "source": []
  },
  {
   "cell_type": "markdown",
   "metadata": {},
   "source": [
    "### Colinearidad"
   ]
  },
  {
   "cell_type": "code",
   "execution_count": null,
   "metadata": {},
   "outputs": [],
   "source": [
    "#data_numerica[['Garage Yr Blt','Year Built','Year Remod/Add']]\n",
    "\n",
    "# y aca vemos que estas variables nos dan informacion muy similar, lo que nos lleva a otro analisis. El de correlacion\n",
    "# entre variables, para evitar COLINEARIDAD"
   ]
  },
  {
   "cell_type": "code",
   "execution_count": null,
   "metadata": {},
   "outputs": [],
   "source": []
  },
  {
   "cell_type": "code",
   "execution_count": null,
   "metadata": {},
   "outputs": [],
   "source": [
    "# vemos que hay  pares de variables que estan muy correlacionadas entre si, de ellas tenemos que elegir solo 1\n"
   ]
  },
  {
   "cell_type": "code",
   "execution_count": null,
   "metadata": {},
   "outputs": [],
   "source": [
    "# hagamos uno con anotaciones de las variables mas correlacionadas para ver cual tiene mas correlacion con el target\n",
    "#(es decir cual describe mejor al target)\n",
    "\n",
    "lista = ['Year Built','Garage Yr Blt','Garage Cars','Garage Area','Total Bsmt SF','1st Flr SF','TotRms AbvGrd'\n",
    "        ,'Gr Liv Area','SalePrice']\n"
   ]
  },
  {
   "cell_type": "code",
   "execution_count": null,
   "metadata": {},
   "outputs": [],
   "source": []
  },
  {
   "cell_type": "code",
   "execution_count": null,
   "metadata": {},
   "outputs": [],
   "source": []
  },
  {
   "cell_type": "code",
   "execution_count": null,
   "metadata": {},
   "outputs": [],
   "source": []
  },
  {
   "cell_type": "code",
   "execution_count": null,
   "metadata": {},
   "outputs": [],
   "source": [
    "# volvamos a entrenar el modelo con estos cambios, para ello tenemos que modificar las funciones de transformacion y\n",
    "# seleccion respectivamente"
   ]
  },
  {
   "cell_type": "code",
   "execution_count": null,
   "metadata": {},
   "outputs": [],
   "source": [
    "def transformacion(df):\n",
    "    '''\n",
    "    Operaciones que afecten los valores del df, como relleno de nulos, eliminar filas, mapeos, reemplazo de valores, etc\n",
    "    '''\n",
    "    \n",
    "    return df\n",
    "\n",
    "def seleccion(df):\n",
    "    '''\n",
    "    Seleccion de aquellas features o columnas que se van a utilizar para el entrenamiento del modelo\n",
    "    '''\n",
    "    return \n",
    "\n",
    "def entrenar_testear(df):\n",
    "    '''\n",
    "    Instanciar el modelo, entrenarlo y luego evaluarlo\n",
    "    '''\n",
    "    lr = LinearRegression()\n",
    "    \n",
    "#   X_train, X_test, y_train, y_test = train_test_split(X, y, test_size=0.33, random_state=42)\n",
    "    \n",
    "    X_train, X_test, y_train, y_test = train_test_split(df.drop(\"SalePrice\",axis=1), df['SalePrice'],\n",
    "                                                        test_size=0.30, random_state=38)\n",
    "    lr.fit(X_train,y_train)\n",
    "    \n",
    "    train_predictions = lr.predict(X_train)\n",
    "    test_predictions = lr.predict(X_test)\n",
    "    \n",
    "    train_rmse_2 = np.sqrt(mean_squared_error(train_predictions, y_train))\n",
    "    test_rmse_2 = np.sqrt(mean_squared_error(test_predictions, y_test))\n",
    "    \n",
    "    print(f\"El error de train es {train_rmse_2}\")\n",
    "    print(f\"El error de test es {test_rmse_2}\")"
   ]
  },
  {
   "cell_type": "code",
   "execution_count": null,
   "metadata": {},
   "outputs": [],
   "source": [
    "\n",
    "data_transformada = transformacion(data_orig)\n",
    "data_filtrada = seleccion(data_transformada)\n",
    "entrenar_testear(data_filtrada)"
   ]
  },
  {
   "cell_type": "code",
   "execution_count": null,
   "metadata": {},
   "outputs": [],
   "source": []
  },
  {
   "cell_type": "markdown",
   "metadata": {},
   "source": [
    "### Varianza de las features\n"
   ]
  },
  {
   "cell_type": "markdown",
   "metadata": {},
   "source": [
    "Ahora veamos lo de varianza\n",
    "\n",
    "Cuando una feature tiene una varianza muy baja, quiere decir que su valor no cambia mucho entre filas, lo cual indica\n",
    "que esta columna va a tener siempre el mismo valor y eso no va a tener poder predictivo y debemos eliminarla "
   ]
  },
  {
   "cell_type": "markdown",
   "metadata": {},
   "source": [
    "Para comparar las varianzas entre las distintas columnas necesitamos reescalar los datos para que sus valores varien entre\n",
    "0 y 1, de esta manera podemos hacer la comparacion."
   ]
  },
  {
   "cell_type": "markdown",
   "metadata": {},
   "source": [
    "Para ello usamos la formula conocida como min-max scaling"
   ]
  },
  {
   "attachments": {
    "image.png": {
     "image/png": "[encoded data removed]"
    }
   },
   "cell_type": "markdown",
   "metadata": {},
   "source": [
    "![image.png](attachment:image.png)"
   ]
  },
  {
   "cell_type": "markdown",
   "metadata": {},
   "source": [
    "* x es un valor individual\n",
    "* min(x) es el valor minimo de la columna a la cual pertenece x\n",
    "* max(x) es el valor maximo de la columna a la cual pertenece x"
   ]
  },
  {
   "cell_type": "code",
   "execution_count": null,
   "metadata": {},
   "outputs": [],
   "source": [
    "# vamos a hacer esto para cada una de las columnas que nos queda en nuestro dataframe\n"
   ]
  },
  {
   "cell_type": "code",
   "execution_count": null,
   "metadata": {
    "scrolled": true
   },
   "outputs": [],
   "source": []
  },
  {
   "cell_type": "code",
   "execution_count": null,
   "metadata": {},
   "outputs": [],
   "source": []
  },
  {
   "cell_type": "code",
   "execution_count": null,
   "metadata": {},
   "outputs": [],
   "source": [
    "# ahora vamos a calcular la varianza y veamos que tenemos\n",
    "\n"
   ]
  },
  {
   "cell_type": "code",
   "execution_count": null,
   "metadata": {},
   "outputs": [],
   "source": [
    "# en este caso no vamos a remover ninguna, pero es cuestion de ir probando que funciona mejor"
   ]
  },
  {
   "cell_type": "code",
   "execution_count": null,
   "metadata": {},
   "outputs": [],
   "source": []
  },
  {
   "cell_type": "markdown",
   "metadata": {},
   "source": [
    "### Variables numericas que requieren modificacion\n",
    "\n"
   ]
  },
  {
   "cell_type": "code",
   "execution_count": null,
   "metadata": {},
   "outputs": [],
   "source": [
    "# que pasa con las variables de los anios, por si solas son numeros que no indican mucho, que pasa si podemos hacer\n",
    "# que estos numeros sean mas significativos\n",
    "\n",
    "# lo que pasa es que estos valores no son realmente representativos de la antiguedad de una casa, por ejemplo, si una casa\n",
    "# se construyo en 1960 y se vende en 1980, y otra se vende en el 2000 , la segunda es el doble de antigua, y esto no se\n",
    "# ve reflejado en estos numeros.\n",
    "\n",
    "# entonces en vez de los años en los que los eventos sucedieron, nosotros queremos la diferencia entre esos años\n",
    "\n",
    "# por ejemplo la antiguedad de la casa en años al momento de venderla"
   ]
  },
  {
   "cell_type": "code",
   "execution_count": null,
   "metadata": {},
   "outputs": [],
   "source": []
  },
  {
   "cell_type": "code",
   "execution_count": null,
   "metadata": {},
   "outputs": [],
   "source": []
  },
  {
   "cell_type": "code",
   "execution_count": null,
   "metadata": {},
   "outputs": [],
   "source": []
  },
  {
   "cell_type": "code",
   "execution_count": null,
   "metadata": {},
   "outputs": [],
   "source": []
  },
  {
   "cell_type": "code",
   "execution_count": null,
   "metadata": {},
   "outputs": [],
   "source": []
  },
  {
   "cell_type": "code",
   "execution_count": null,
   "metadata": {},
   "outputs": [],
   "source": [
    "# modificamos las funciones para estos cambios"
   ]
  },
  {
   "cell_type": "code",
   "execution_count": null,
   "metadata": {},
   "outputs": [],
   "source": [
    "def transformacion(df):\n",
    "    '''\n",
    "    Operaciones que afecten los valores del df, como relleno de nulos, eliminar filas, mapeos, reemplazo de valores, etc\n",
    "    '''\n",
    "    mediana = df.loc[:,'Mas Vnr Area'].median()\n",
    "    df.loc[:,'Mas Vnr Area'] =  df.loc[:,'Mas Vnr Area'].fillna(mediana)\n",
    "    \n",
    "    df.dropna(axis=0,subset=['Garage Area','Garage Cars','BsmtFin SF 1','Total Bsmt SF'],inplace=True)\n",
    "\n",
    "    \n",
    "    return df\n",
    "\n",
    "def seleccion(df):\n",
    "    '''\n",
    "    Seleccion de aquellas features o columnas que se van a utilizar para el entrenamiento del modelo\n",
    "    '''\n",
    "    return df[['Overall Qual','Mas Vnr Area','Years Since Remod','Years Before Sale','BsmtFin SF 1','Total Bsmt SF',\n",
    "               'Full Bath','TotRms AbvGrd','Fireplaces','Garage Cars','Wood Deck SF','Open Porch SF','SalePrice']]\n",
    "\n",
    "def entrenar_testear(df):\n",
    "    '''\n",
    "    Instanciar el modelo, entrenarlo y luego evaluarlo\n",
    "    '''\n",
    "    lr = LinearRegression()\n",
    "    \n",
    "#   X_train, X_test, y_train, y_test = train_test_split(X, y, test_size=0.33, random_state=42)\n",
    "    \n",
    "    X_train, X_test, y_train, y_test = train_test_split(df.drop(\"SalePrice\",axis=1), df['SalePrice'],\n",
    "                                                        test_size=0.30, random_state=38)\n",
    "    lr.fit(X_train,y_train)\n",
    "    \n",
    "    train_predictions = lr.predict(X_train)\n",
    "    test_predictions = lr.predict(X_test)\n",
    "    \n",
    "    train_rmse_2 = np.sqrt(mean_squared_error(train_predictions, y_train))\n",
    "    test_rmse_2 = np.sqrt(mean_squared_error(test_predictions, y_test))\n",
    "    \n",
    "    print(f\"El error de train es {train_rmse_2}\")\n",
    "    print(f\"El error de test es {test_rmse_2}\")"
   ]
  },
  {
   "cell_type": "code",
   "execution_count": null,
   "metadata": {},
   "outputs": [],
   "source": [
    "\n"
   ]
  },
  {
   "cell_type": "code",
   "execution_count": null,
   "metadata": {},
   "outputs": [],
   "source": []
  },
  {
   "cell_type": "code",
   "execution_count": null,
   "metadata": {},
   "outputs": [],
   "source": []
  },
  {
   "cell_type": "markdown",
   "metadata": {},
   "source": [
    "### Variables innecesarias y leakage\n",
    "\n",
    "Hay que eliminar las variables que:\n",
    "- no sirven para el algoritmo, porque no tienen que ver con el problema\n",
    "- variables leakage, que son aquellas que filtran datos sobre la venta (son spoilers)\n",
    "\n",
    " Las **variables leakage** son variables que no vamos a tener a la hora de hacer la prediccion, por lo que no tenemos que tenerlas en cuenta\n",
    "a la hora de entrenar el modelo, por mas interesantes que sean !!!"
   ]
  },
  {
   "cell_type": "code",
   "execution_count": null,
   "metadata": {},
   "outputs": [],
   "source": [
    "# variables leakage\n",
    "# son variables que no vamos a tener a la hora de hacer la prediccion, por lo que no tenemos que tenerlas en cuenta\n",
    "# a la hora de entrenar el modelo, por mas interesantes que sean !!!"
   ]
  },
  {
   "cell_type": "code",
   "execution_count": null,
   "metadata": {},
   "outputs": [],
   "source": []
  },
  {
   "cell_type": "code",
   "execution_count": null,
   "metadata": {},
   "outputs": [],
   "source": []
  },
  {
   "cell_type": "markdown",
   "metadata": {},
   "source": [
    "### Outliers\n",
    "\n",
    "El manejo de outliers es importante debido a que dichos valores afectan la precision de nuestro modelo, hay distintas formas de tratarlos y dependen mucho del problema a abordar (pueden ser ouliers por error de tipografia o por datos reales pero atipicos)"
   ]
  },
  {
   "cell_type": "code",
   "execution_count": null,
   "metadata": {},
   "outputs": [],
   "source": [
    "# solo para ejemplificar vamos a tomar como ourlier a los valores que se encuentren por encima del percentil 98 y\n",
    "# los vamos a reemplazar por el valor en el percentil 98"
   ]
  },
  {
   "cell_type": "code",
   "execution_count": null,
   "metadata": {},
   "outputs": [],
   "source": []
  },
  {
   "cell_type": "code",
   "execution_count": null,
   "metadata": {},
   "outputs": [],
   "source": []
  },
  {
   "cell_type": "code",
   "execution_count": null,
   "metadata": {},
   "outputs": [],
   "source": []
  },
  {
   "cell_type": "code",
   "execution_count": null,
   "metadata": {},
   "outputs": [],
   "source": []
  },
  {
   "cell_type": "code",
   "execution_count": null,
   "metadata": {},
   "outputs": [],
   "source": []
  },
  {
   "cell_type": "code",
   "execution_count": null,
   "metadata": {},
   "outputs": [],
   "source": []
  },
  {
   "cell_type": "code",
   "execution_count": null,
   "metadata": {},
   "outputs": [],
   "source": []
  },
  {
   "cell_type": "code",
   "execution_count": null,
   "metadata": {},
   "outputs": [],
   "source": [
    "# supongamos que seguimos haciendo este analisis y\n",
    "# decidimos hacer esta transformacion sobre las features BsmtFin SF 1', 'Total Bsmt SF', 'Full Bath', 'TotRms AbvGrd', 'Open Porch SF',"
   ]
  },
  {
   "cell_type": "code",
   "execution_count": null,
   "metadata": {},
   "outputs": [],
   "source": []
  },
  {
   "cell_type": "code",
   "execution_count": null,
   "metadata": {},
   "outputs": [],
   "source": []
  },
  {
   "cell_type": "code",
   "execution_count": null,
   "metadata": {},
   "outputs": [],
   "source": [
    "# veamos si esto implica sonbre la performance del modelo"
   ]
  },
  {
   "cell_type": "code",
   "execution_count": null,
   "metadata": {},
   "outputs": [],
   "source": [
    "def transformacion(df):\n",
    "    '''\n",
    "    Operaciones que afecten los valores del df, como relleno de nulos, eliminar filas, mapeos, reemplazo de valores, etc\n",
    "    '''\n",
    "    mediana = df.loc[:,'Mas Vnr Area'].median()\n",
    "    df.loc[:,'Mas Vnr Area'] =  df.loc[:,'Mas Vnr Area'].fillna(mediana)\n",
    "    \n",
    "    df.dropna(axis=0,subset=['Garage Area','Garage Cars','BsmtFin SF 1','Total Bsmt SF'],inplace=True)\n",
    "    \n",
    "    df['Years Before Sale'] = df['Yr Sold'] - df['Year Built']\n",
    "    \n",
    "    years_since_remod = df['Yr Sold'] - df['Year Remod/Add']\n",
    "    df['Years Since Remod'] = years_since_remod\n",
    "    \n",
    "    df = df.drop([1702, 2180, 2181], axis=0)\n",
    "    \n",
    "    \n",
    "    return df\n",
    "\n",
    "def seleccion(df):\n",
    "    '''\n",
    "    Seleccion de aquellas features o columnas que se van a utilizar para el entrenamiento del modelo\n",
    "    '''\n",
    "    return df[['Overall Qual','Mas Vnr Area','Years Since Remod','Years Before Sale','BsmtFin SF 1','Total Bsmt SF',\n",
    "               'Full Bath','TotRms AbvGrd','Fireplaces','Garage Cars','Wood Deck SF','Open Porch SF','SalePrice']]\n",
    "\n",
    "def entrenar_testear(df):\n",
    "    '''\n",
    "    Instanciar el modelo, entrenarlo y luego evaluarlo\n",
    "    '''\n",
    "    lr = LinearRegression()\n",
    "    \n",
    "#   X_train, X_test, y_train, y_test = train_test_split(X, y, test_size=0.33, random_state=42)\n",
    "    \n",
    "    X_train, X_test, y_train, y_test = train_test_split(df.drop(\"SalePrice\",axis=1), df['SalePrice'],\n",
    "                                                        test_size=0.30, random_state=38)\n",
    "    lr.fit(X_train,y_train)\n",
    "    \n",
    "    train_predictions = lr.predict(X_train)\n",
    "    test_predictions = lr.predict(X_test)\n",
    "    \n",
    "    train_rmse_2 = np.sqrt(mean_squared_error(train_predictions, y_train))\n",
    "    test_rmse_2 = np.sqrt(mean_squared_error(test_predictions, y_test))\n",
    "    \n",
    "    print(f\"El error de train es {train_rmse_2}\")\n",
    "    print(f\"El error de test es {test_rmse_2}\")"
   ]
  },
  {
   "cell_type": "code",
   "execution_count": null,
   "metadata": {},
   "outputs": [],
   "source": [
    "\n",
    "data_transformada = transformacion(data_orig)\n",
    "data_filtrada = seleccion(data_transformada)\n",
    "entrenar_testear(data_filtrada)"
   ]
  },
  {
   "cell_type": "code",
   "execution_count": null,
   "metadata": {},
   "outputs": [],
   "source": []
  },
  {
   "cell_type": "code",
   "execution_count": null,
   "metadata": {},
   "outputs": [],
   "source": []
  },
  {
   "cell_type": "code",
   "execution_count": null,
   "metadata": {},
   "outputs": [],
   "source": []
  },
  {
   "cell_type": "markdown",
   "metadata": {},
   "source": [
    "### Variables categoricas\n",
    "\n",
    "    Tenemos que incluirlas en el modelo, puede que traiga buenos resultados, pero cuales incluimos? Que criterio tomamos?"
   ]
  },
  {
   "cell_type": "code",
   "execution_count": null,
   "metadata": {},
   "outputs": [],
   "source": [
    "# primero veamos cuales son las variables categoricas que tenemos \n"
   ]
  },
  {
   "cell_type": "code",
   "execution_count": null,
   "metadata": {},
   "outputs": [],
   "source": []
  },
  {
   "cell_type": "code",
   "execution_count": null,
   "metadata": {},
   "outputs": [],
   "source": []
  },
  {
   "cell_type": "code",
   "execution_count": null,
   "metadata": {},
   "outputs": [],
   "source": []
  },
  {
   "cell_type": "code",
   "execution_count": null,
   "metadata": {},
   "outputs": [],
   "source": [
    "## Veamos que variables categoricas todavia permancen en nuestro dataframe\n"
   ]
  },
  {
   "cell_type": "code",
   "execution_count": null,
   "metadata": {},
   "outputs": [],
   "source": []
  },
  {
   "cell_type": "code",
   "execution_count": null,
   "metadata": {},
   "outputs": [],
   "source": []
  },
  {
   "cell_type": "code",
   "execution_count": null,
   "metadata": {},
   "outputs": [],
   "source": []
  },
  {
   "cell_type": "code",
   "execution_count": null,
   "metadata": {},
   "outputs": [],
   "source": []
  },
  {
   "cell_type": "code",
   "execution_count": null,
   "metadata": {},
   "outputs": [],
   "source": []
  },
  {
   "cell_type": "code",
   "execution_count": null,
   "metadata": {},
   "outputs": [],
   "source": []
  },
  {
   "cell_type": "code",
   "execution_count": null,
   "metadata": {},
   "outputs": [],
   "source": []
  },
  {
   "cell_type": "code",
   "execution_count": null,
   "metadata": {},
   "outputs": [],
   "source": []
  },
  {
   "cell_type": "code",
   "execution_count": null,
   "metadata": {},
   "outputs": [],
   "source": []
  },
  {
   "cell_type": "code",
   "execution_count": null,
   "metadata": {},
   "outputs": [],
   "source": []
  },
  {
   "cell_type": "code",
   "execution_count": null,
   "metadata": {},
   "outputs": [],
   "source": [
    "# ahora tenemos que pasar esto a la funcion"
   ]
  },
  {
   "cell_type": "code",
   "execution_count": null,
   "metadata": {},
   "outputs": [],
   "source": [
    "def transformacion(df):\n",
    "    '''\n",
    "    Operaciones que afecten los valores del df, como relleno de nulos, eliminar filas, mapeos, reemplazo de valores, etc\n",
    "    '''\n",
    "    mediana = df.loc[:,'Mas Vnr Area'].median()\n",
    "    df.loc[:,'Mas Vnr Area'] =  df.loc[:,'Mas Vnr Area'].fillna(mediana)\n",
    "    \n",
    "    df.dropna(axis=0,subset=['Garage Area','Garage Cars','BsmtFin SF 1','Total Bsmt SF'],inplace=True)\n",
    "    \n",
    "    df['Years Before Sale'] = df['Yr Sold'] - df['Year Built']\n",
    "    \n",
    "    years_since_remod = df['Yr Sold'] - df['Year Remod/Add']\n",
    "    df['Years Since Remod'] = years_since_remod\n",
    "    \n",
    "    df = df.drop([1702, 2180, 2181], axis=0)\n",
    "    \n",
    "    features = ['BsmtFin SF 1', 'Total Bsmt SF', 'Full Bath', 'TotRms AbvGrd', 'Open Porch SF']\n",
    "    for col in features:\n",
    "        limite = df[col].quantile(0.98)\n",
    "        mask = df[col]>limite\n",
    "        df.loc[mask,col] = limite\n",
    "    \n",
    "    return df\n",
    "\n",
    "def seleccion(df):\n",
    "    '''\n",
    "    Seleccion de aquellas features o columnas que se van a utilizar para el entrenamiento del modelo\n",
    "    '''\n",
    "    \n",
    "    return df\n",
    "\n",
    "def entrenar_testear(df):\n",
    "    '''\n",
    "    Instanciar el modelo, entrenarlo y luego evaluarlo\n",
    "    '''\n",
    "    lr = LinearRegression()\n",
    "    \n",
    "#   X_train, X_test, y_train, y_test = train_test_split(X, y, test_size=0.33, random_state=42)\n",
    "    \n",
    "    X_train, X_test, y_train, y_test = train_test_split(df.drop(\"SalePrice\",axis=1), df['SalePrice'],\n",
    "                                                        test_size=0.30, random_state=38)\n",
    "    lr.fit(X_train,y_train)\n",
    "    \n",
    "    train_predictions = lr.predict(X_train)\n",
    "    test_predictions = lr.predict(X_test)\n",
    "    \n",
    "    train_rmse_2 = np.sqrt(mean_squared_error(train_predictions, y_train))\n",
    "    test_rmse_2 = np.sqrt(mean_squared_error(test_predictions, y_test))\n",
    "    \n",
    "    print(f\"El error de train es {train_rmse_2}\")\n",
    "    print(f\"El error de test es {test_rmse_2}\")"
   ]
  },
  {
   "cell_type": "code",
   "execution_count": null,
   "metadata": {},
   "outputs": [],
   "source": [
    "data_transformada = transformacion(data_orig)\n",
    "data_filtrada = seleccion(data_transformada)\n",
    "entrenar_testear(data_filtrada)"
   ]
  },
  {
   "cell_type": "code",
   "execution_count": null,
   "metadata": {},
   "outputs": [],
   "source": []
  },
  {
   "cell_type": "code",
   "execution_count": null,
   "metadata": {},
   "outputs": [],
   "source": []
  },
  {
   "cell_type": "markdown",
   "metadata": {},
   "source": [
    "## Y SE PUEDE SEGUIR !!!"
   ]
  }
 ],
 "metadata": {
  "kernelspec": {
   "display_name": "Python 3",
   "language": "python",
   "name": "python3"
  },
  "language_info": {
   "codemirror_mode": {
    "name": "ipython",
    "version": 3
   },
   "file_extension": ".py",
   "mimetype": "text/x-python",
   "name": "python",
   "nbconvert_exporter": "python",
   "pygments_lexer": "ipython3",
   "version": "3.7.0"
  }
 },
 "nbformat": 4,
 "nbformat_minor": 4
}
