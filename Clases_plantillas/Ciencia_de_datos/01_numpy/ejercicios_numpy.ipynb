{
 "cells": [
  {
   "cell_type": "code",
   "execution_count": 7,
   "metadata": {},
   "outputs": [],
   "source": [
    "import numpy as np"
   ]
  },
  {
   "cell_type": "code",
   "execution_count": null,
   "metadata": {},
   "outputs": [],
   "source": []
  },
  {
   "cell_type": "markdown",
   "metadata": {},
   "source": [
    "Debes utilizar numpy\n",
    "1. ingresa por teclado la cantidad filas\n",
    "2. ingresa por teclado la cantidad columnas\n",
    "3. crea un arreglo de numpy de dimension filas columnas con elementos de tipo float.\n",
    "4. rellena el array con 5.1\n",
    "5. imprime shape, tipo y el arreglo"
   ]
  },
  {
   "cell_type": "code",
   "execution_count": null,
   "metadata": {},
   "outputs": [],
   "source": [
    "import numpy as np\n",
    "filas = int(input())\n",
    "col = int(input())\n",
    "arreglo = np.ones((filas,col))*5.1\n",
    "print(arreglo.ndim, arreglo.dtype)\n",
    "print(arreglo)"
   ]
  },
  {
   "cell_type": "code",
   "execution_count": null,
   "metadata": {},
   "outputs": [],
   "source": []
  },
  {
   "cell_type": "markdown",
   "metadata": {},
   "source": [
    "Debes utilizar numpy\n",
    "1. ingresa por teclado la cantidad n de elementos\n",
    "2. crea un arreglo de numpy de una dimension con una cantidad n de elementos rellena de ceros de tipo int.\n",
    "3. imprime shape, tipo y el arreglo"
   ]
  },
  {
   "cell_type": "code",
   "execution_count": 17,
   "metadata": {},
   "outputs": [
    {
     "name": "stdout",
     "output_type": "stream",
     "text": [
      "5\n",
      "(5,) int32\n",
      "[0 0 0 0 0]\n"
     ]
    }
   ],
   "source": [
    "n = int(input())\n",
    "arreglo = np.zeros(n,int)\n",
    "print(arreglo.shape, arreglo.dtype)\n",
    "print(arreglo)"
   ]
  },
  {
   "cell_type": "code",
   "execution_count": null,
   "metadata": {},
   "outputs": [],
   "source": []
  },
  {
   "cell_type": "markdown",
   "metadata": {},
   "source": [
    "Ingrese al programa un numero entero 'n'. \n",
    "\n",
    "Crea un array de n elementos enteros consecutivos (de 0 a n).\n",
    "\n",
    "Reformatea el array a un array cuadrado (reshape)\n",
    "\n",
    "Imprima las dimensiones (ndim) , el tipo del array y el array "
   ]
  },
  {
   "cell_type": "code",
   "execution_count": 4,
   "metadata": {},
   "outputs": [
    {
     "name": "stdout",
     "output_type": "stream",
     "text": [
      "16\n",
      "(4, 4) int32\n",
      "[[ 0  1  2  3]\n",
      " [ 4  5  6  7]\n",
      " [ 8  9 10 11]\n",
      " [12 13 14 15]]\n"
     ]
    }
   ],
   "source": [
    "from math import sqrt\n",
    "import numpy as np\n",
    "\n",
    "n = int(input())\n",
    "\n",
    "arreglo = np.arange(0,n)\n",
    "n = int(sqrt(n))\n",
    "arreglo = arreglo.reshape(n,n)\n",
    "print(arreglo.shape, arreglo.dtype)\n",
    "print(arreglo)"
   ]
  },
  {
   "cell_type": "code",
   "execution_count": null,
   "metadata": {},
   "outputs": [],
   "source": []
  },
  {
   "cell_type": "code",
   "execution_count": null,
   "metadata": {},
   "outputs": [],
   "source": []
  },
  {
   "cell_type": "markdown",
   "metadata": {},
   "source": [
    "Debes utilizar numpy (empty)\n",
    "1. ingresa por teclado la cantidad filas\n",
    "2. ingresa por teclado la cantidad columnas\n",
    "\n",
    "3. crea un arreglo de numpy de dimension filas columnas con elementos de tipo float.\n",
    "4. rellena el array con -.5\n",
    "5. imprime shape, tipo y el arreglo"
   ]
  },
  {
   "cell_type": "code",
   "execution_count": null,
   "metadata": {},
   "outputs": [],
   "source": [
    "filas = int(input())\n",
    "col = int(input())\n",
    "\n",
    "arreglo = np.ones((filas,col),float)*-.5\n",
    "print(arreglo.shape, arreglo.dtype)\n",
    "print(arreglo)"
   ]
  },
  {
   "cell_type": "code",
   "execution_count": null,
   "metadata": {},
   "outputs": [],
   "source": []
  },
  {
   "cell_type": "markdown",
   "metadata": {},
   "source": [
    "Debes utilizar numpy (transpose)\n",
    "1. recibes un arreglo A con la rutina precargada\n",
    "2. almacena en B la transpuesta de A\n",
    "3. almacena en C el producto de A.B\n",
    "4. imprime size de C\n",
    "5. imprime C"
   ]
  },
  {
   "cell_type": "code",
   "execution_count": null,
   "metadata": {},
   "outputs": [],
   "source": [
    "import numpy as np\n",
    "\n",
    "fi=int(input())\n",
    "co=int(input())\n",
    "A=np.ones((fi,co))\n",
    "for i in range(fi):\n",
    "    for j in range(co):\n",
    "        A[i,j]=float(input())\n",
    "        \n",
    "B = np.transpose(A)\n",
    "C = A.dot(B)\n",
    "\n",
    "print(C.size)\n",
    "print(C)"
   ]
  },
  {
   "cell_type": "code",
   "execution_count": null,
   "metadata": {},
   "outputs": [],
   "source": []
  },
  {
   "cell_type": "markdown",
   "metadata": {},
   "source": [
    "Debes utilizar numpy (cumprod)\n",
    "1. recibes un arreglo A con la rutina precargada\n",
    "2. imprime cumprod valor de A\n",
    "5. imprime los cumprod por fila de A\n",
    "4. imprime los cumprod por columna de A\n",
    "\n",
    "\n",
    "https://numpy.org/doc/stable/reference/generated/numpy.cumprod.html"
   ]
  },
  {
   "cell_type": "code",
   "execution_count": null,
   "metadata": {},
   "outputs": [],
   "source": [
    "# boludear un poco con este tema para entenderlo"
   ]
  },
  {
   "cell_type": "code",
   "execution_count": null,
   "metadata": {},
   "outputs": [],
   "source": [
    "import numpy as np\n",
    "\n",
    "fi=int(input())\n",
    "co=int(input())\n",
    "A=np.zeros((fi,co))\n",
    "for i in range(fi):\n",
    "    for j in range(co):\n",
    "        A[i,j]=float(input())\n",
    "        \n",
    "print(np.cumprod(A))\n",
    "#por filas\n",
    "print(np.cumprod(A,axis=0))\n",
    "# por columnas\n",
    "print(np.cumprod(A,axis=1))\n"
   ]
  },
  {
   "cell_type": "code",
   "execution_count": null,
   "metadata": {},
   "outputs": [],
   "source": []
  },
  {
   "cell_type": "markdown",
   "metadata": {},
   "source": [
    "Debes utilizar numpy (full)\n",
    "1 - ingresa por teclado la cantidad filas\n",
    "2 - ingresa por teclado la cantidad columnas\n",
    "\n",
    "3 - crea un arreglo de numpy de dimension filas columnas con elementos de tipo float.\n",
    "4 - rellena el array con -3.2\n",
    "5 - imprime ndim, tipo y el arreglo"
   ]
  },
  {
   "cell_type": "code",
   "execution_count": null,
   "metadata": {},
   "outputs": [],
   "source": [
    "import numpy as np\n",
    "\n",
    "fi = int(input())\n",
    "co = int(input())\n",
    "\n",
    "arreglo = np.full((fi,co),-3.2, dtype=float)\n",
    "print(arreglo.ndim,arreglo.dtype)\n",
    "print(arreglo)"
   ]
  },
  {
   "cell_type": "code",
   "execution_count": null,
   "metadata": {},
   "outputs": [],
   "source": []
  },
  {
   "cell_type": "markdown",
   "metadata": {},
   "source": [
    "Debes utilizar numpy (eye)\n",
    "1 - ingresa por teclado la cantidad filas\n",
    "2 - ingresa por teclado la cantidad columnas\n",
    "\n",
    "3 - crea un arreglo m de numpy de dimension filas columnas con elementos de tipo i2.\n",
    "4 - opera el array m - con -3.2\n",
    "5 - imprime ndim, tipo y el arreglo"
   ]
  },
  {
   "cell_type": "code",
   "execution_count": null,
   "metadata": {},
   "outputs": [],
   "source": [
    "import numpy as np\n",
    "\n",
    "fi = int(input())\n",
    "co = int(input())\n",
    "\n",
    "a = np.eye(fi,co,dtype=np.float64) - (-3.2)\n",
    "\n",
    "print(a.ndim,a.dtype)\n",
    "print(a)"
   ]
  },
  {
   "cell_type": "code",
   "execution_count": null,
   "metadata": {},
   "outputs": [],
   "source": []
  },
  {
   "cell_type": "code",
   "execution_count": null,
   "metadata": {},
   "outputs": [],
   "source": []
  },
  {
   "cell_type": "markdown",
   "metadata": {},
   "source": [
    "Debes utilizar numpy (cumsum)\n",
    "1 - recibes un arreglo A con la rutina precargada\n",
    "2 - imprime cumsum valor de A\n",
    "5 - imprime los cumsum por fila de A\n",
    "4 - imprime los cumsum por columna de A"
   ]
  },
  {
   "cell_type": "code",
   "execution_count": null,
   "metadata": {},
   "outputs": [],
   "source": [
    "import numpy as np\n",
    "fi=int(input())\n",
    "co=int(input())\n",
    "A=np.empty((fi,co))\n",
    "for i in range(fi):\n",
    "    for j in range(co):\n",
    "        A[i,j]=float(input())\n",
    "        \n",
    "print(np.cumsum(A))\n",
    "#por filas\n",
    "print(np.cumsum(A,axis=0))\n",
    "# por columnas\n",
    "print(np.cumsum(A,axis=1))"
   ]
  },
  {
   "cell_type": "code",
   "execution_count": null,
   "metadata": {},
   "outputs": [],
   "source": []
  },
  {
   "cell_type": "markdown",
   "metadata": {},
   "source": [
    "Debes utilizar numpy (min)\n",
    "1 - recibes un arreglo A con la rutina precargada\n",
    "2 - imprime min valor de A\n",
    "5 - imprime los min por fila de A\n",
    "4 - imprime los min por columna de A"
   ]
  },
  {
   "cell_type": "code",
   "execution_count": null,
   "metadata": {},
   "outputs": [],
   "source": [
    "import numpy as np\n",
    "fi=int(input())\n",
    "co=int(input())\n",
    "A=np.empty((fi,co))\n",
    "for i in range(fi):\n",
    "    for j in range(co):\n",
    "        A[i,j]=float(input())\n",
    "        \n",
    "        \n",
    "print(np.min(A))\n",
    "#por filas\n",
    "print(np.min(A,axis=0))\n",
    "# por columnas\n",
    "print(np.min(A,axis=1))"
   ]
  },
  {
   "cell_type": "code",
   "execution_count": null,
   "metadata": {},
   "outputs": [],
   "source": []
  },
  {
   "cell_type": "markdown",
   "metadata": {},
   "source": [
    "Debes utilizar numpy (arange y tan)\n",
    "1 - ingresa por teclado la cantidad filas\n",
    "2 - ingresa por teclado la cantidad columnas\n",
    "\n",
    "3 - crea un arreglo m de numpy de dimension filas columnas con elementos de tipo i2.\n",
    "4 - aplica al array m la funcion tan y multiplica por 5.9\n",
    "5 - imprime shape y el arreglo"
   ]
  },
  {
   "cell_type": "code",
   "execution_count": null,
   "metadata": {},
   "outputs": [],
   "source": [
    "import numpy as np\n",
    "\n",
    "fi = int(input())\n",
    "co = int(input())\n",
    "\n",
    "a = np.arange(fi,co,dtype=np.int16)\n",
    "a = np.tan(a) * 5.9\n",
    "\n",
    "print(a.ndim,a.dtype)\n",
    "print(a)"
   ]
  },
  {
   "cell_type": "code",
   "execution_count": null,
   "metadata": {},
   "outputs": [],
   "source": []
  }
 ],
 "metadata": {
  "kernelspec": {
   "display_name": "Python 3",
   "language": "python",
   "name": "python3"
  },
  "language_info": {
   "codemirror_mode": {
    "name": "ipython",
    "version": 3
   },
   "file_extension": ".py",
   "mimetype": "text/x-python",
   "name": "python",
   "nbconvert_exporter": "python",
   "pygments_lexer": "ipython3",
   "version": "3.7.0"
  }
 },
 "nbformat": 4,
 "nbformat_minor": 4
}
